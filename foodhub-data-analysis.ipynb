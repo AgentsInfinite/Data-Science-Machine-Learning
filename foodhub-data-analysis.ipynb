{
  "cells": [
    {
      "cell_type": "markdown",
      "metadata": {
        "id": "view-in-github",
        "colab_type": "text"
      },
      "source": [
        "<a href=\"https://colab.research.google.com/github/VamK2/Data-Science-Machine-Learning/blob/main/VamsiK2_Exploratory_Data_Analysis_FoodHub.ipynb\" target=\"_parent\"><img src=\"https://colab.research.google.com/assets/colab-badge.svg\" alt=\"Open In Colab\"/></a>"
      ]
    },
    {
      "cell_type": "markdown",
      "metadata": {
        "id": "HnAlaR5Y2rc8"
      },
      "source": [
        "# **Python Exploratory Data Analysis - FoodHub**\n"
      ]
    },
    {
      "cell_type": "markdown",
      "metadata": {
        "id": "N0e9ilAx2rc_"
      },
      "source": [
        "## **Context**\n",
        "\n",
        "The number of restaurants in New York is increasing day by day. Lots of students and busy professionals rely on those restaurants due to their hectic lifestyles. Online food delivery service is a great option for them. It provides them with good food from their favorite restaurants. A food aggregator company FoodHub offers access to multiple restaurants through a single smartphone app.\n",
        "\n",
        "The app allows the restaurants to receive a direct online order from a customer. The app assigns a delivery person from the company to pick up the order after it is confirmed by the restaurant. The delivery person then uses the map to reach the restaurant and waits for the food package. Once the food package is handed over to the delivery person, he/she confirms the pick-up in the app and travels to the customer's location to deliver the food. The delivery person confirms the drop-off in the app after delivering the food package to the customer. The customer can rate the order in the app. The food aggregator earns money by collecting a fixed margin of the delivery order from the restaurants.\n",
        "\n",
        "## **Objective**\n",
        "\n",
        "The food aggregator company has stored the data of the different orders made by the registered customers in their online portal. They want to analyze the data to get a fair idea about the demand of different restaurants which will help them in enhancing their customer experience. Suppose you are a Data Scientist at Foodhub and the Data Science team has shared some of the key questions that need to be answered. Perform the data analysis to find answers to these questions that will help the company to improve the business.\n",
        "\n",
        "## **Data Description**\n",
        "\n",
        "The data contains the different data related to a food order. The detailed data dictionary is given below.\n",
        "\n",
        "## **Data Dictionary**\n",
        "\n",
        "* order_id: Unique ID of the order\n",
        "* customer_id: ID of the customer who ordered the food\n",
        "* restaurant_name: Name of the restaurant\n",
        "* cuisine_type: Cuisine ordered by the customer\n",
        "* cost_of_the_order: Cost of the order\n",
        "* day_of_the_week: Indicates whether the order is placed on a weekday or weekend (The weekday is from Monday to Friday and the weekend is Saturday and Sunday)\n",
        "* rating: Rating given by the customer out of 5\n",
        "* food_preparation_time: Time (in minutes) taken by the restaurant to prepare the food. This is calculated by taking the difference between the timestamps of the restaurant's order confirmation and the delivery person's pick-up confirmation.\n",
        "* delivery_time: Time (in minutes) taken by the delivery person to deliver the food package. This is calculated by taking the difference between the timestamps of the delivery person's pick-up confirmation and drop-off information"
      ]
    },
    {
      "cell_type": "markdown",
      "metadata": {
        "id": "enOodKS42rdB"
      },
      "source": [
        "### Import the required libraries"
      ]
    },
    {
      "cell_type": "code",
      "execution_count": null,
      "metadata": {
        "id": "p7FpluTK2rdC"
      },
      "outputs": [],
      "source": [
        "# Import libraries for data manipulation\n",
        "import numpy as np\n",
        "import pandas as pd\n",
        "\n",
        "# Import libraries for data visualization\n",
        "import matplotlib.pyplot as plt\n",
        "import seaborn as sns\n",
        "\n",
        "#pd.options.display.float_format = '{:.0f}'.format\n",
        "pd.options.mode.chained_assignment = None"
      ]
    },
    {
      "cell_type": "markdown",
      "metadata": {
        "id": "LHxIYWXP2rdD"
      },
      "source": [
        "### Understanding the structure of the data"
      ]
    },
    {
      "cell_type": "code",
      "execution_count": null,
      "metadata": {
        "id": "bTSFV3nfkOqH",
        "colab": {
          "base_uri": "https://localhost:8080/"
        },
        "outputId": "40a153a9-8aeb-4e77-fa45-e61de821e07e"
      },
      "outputs": [
        {
          "output_type": "stream",
          "name": "stdout",
          "text": [
            "Mounted at /content/drive\n"
          ]
        }
      ],
      "source": [
        "# uncomment and run the following lines for Google Colab\n",
        "from google.colab import drive\n",
        "drive.mount('/content/drive')"
      ]
    },
    {
      "cell_type": "code",
      "execution_count": null,
      "metadata": {
        "id": "nwlzFr-_2rdD",
        "scrolled": true,
        "colab": {
          "base_uri": "https://localhost:8080/",
          "height": 206
        },
        "outputId": "29d39865-9f94-4d6c-a480-675b4f68f9e4"
      },
      "outputs": [
        {
          "output_type": "execute_result",
          "data": {
            "text/plain": [
              "    mpg  cylinders  displacement horsepower  weight  acceleration  model year  \\\n",
              "0  18.0          8         307.0        130    3504          12.0          70   \n",
              "1  15.0          8         350.0        165    3693          11.5          70   \n",
              "2  18.0          8         318.0        150    3436          11.0          70   \n",
              "3  16.0          8         304.0        150    3433          12.0          70   \n",
              "4  17.0          8         302.0        140    3449          10.5          70   \n",
              "\n",
              "   origin                   car name  \n",
              "0       1  chevrolet chevelle malibu  \n",
              "1       1          buick skylark 320  \n",
              "2       1         plymouth satellite  \n",
              "3       1              amc rebel sst  \n",
              "4       1                ford torino  "
            ],
            "text/html": [
              "\n",
              "  <div id=\"df-2d6d2a20-d62b-4dcf-90eb-a632e9255f44\" class=\"colab-df-container\">\n",
              "    <div>\n",
              "<style scoped>\n",
              "    .dataframe tbody tr th:only-of-type {\n",
              "        vertical-align: middle;\n",
              "    }\n",
              "\n",
              "    .dataframe tbody tr th {\n",
              "        vertical-align: top;\n",
              "    }\n",
              "\n",
              "    .dataframe thead th {\n",
              "        text-align: right;\n",
              "    }\n",
              "</style>\n",
              "<table border=\"1\" class=\"dataframe\">\n",
              "  <thead>\n",
              "    <tr style=\"text-align: right;\">\n",
              "      <th></th>\n",
              "      <th>mpg</th>\n",
              "      <th>cylinders</th>\n",
              "      <th>displacement</th>\n",
              "      <th>horsepower</th>\n",
              "      <th>weight</th>\n",
              "      <th>acceleration</th>\n",
              "      <th>model year</th>\n",
              "      <th>origin</th>\n",
              "      <th>car name</th>\n",
              "    </tr>\n",
              "  </thead>\n",
              "  <tbody>\n",
              "    <tr>\n",
              "      <th>0</th>\n",
              "      <td>18.0</td>\n",
              "      <td>8</td>\n",
              "      <td>307.0</td>\n",
              "      <td>130</td>\n",
              "      <td>3504</td>\n",
              "      <td>12.0</td>\n",
              "      <td>70</td>\n",
              "      <td>1</td>\n",
              "      <td>chevrolet chevelle malibu</td>\n",
              "    </tr>\n",
              "    <tr>\n",
              "      <th>1</th>\n",
              "      <td>15.0</td>\n",
              "      <td>8</td>\n",
              "      <td>350.0</td>\n",
              "      <td>165</td>\n",
              "      <td>3693</td>\n",
              "      <td>11.5</td>\n",
              "      <td>70</td>\n",
              "      <td>1</td>\n",
              "      <td>buick skylark 320</td>\n",
              "    </tr>\n",
              "    <tr>\n",
              "      <th>2</th>\n",
              "      <td>18.0</td>\n",
              "      <td>8</td>\n",
              "      <td>318.0</td>\n",
              "      <td>150</td>\n",
              "      <td>3436</td>\n",
              "      <td>11.0</td>\n",
              "      <td>70</td>\n",
              "      <td>1</td>\n",
              "      <td>plymouth satellite</td>\n",
              "    </tr>\n",
              "    <tr>\n",
              "      <th>3</th>\n",
              "      <td>16.0</td>\n",
              "      <td>8</td>\n",
              "      <td>304.0</td>\n",
              "      <td>150</td>\n",
              "      <td>3433</td>\n",
              "      <td>12.0</td>\n",
              "      <td>70</td>\n",
              "      <td>1</td>\n",
              "      <td>amc rebel sst</td>\n",
              "    </tr>\n",
              "    <tr>\n",
              "      <th>4</th>\n",
              "      <td>17.0</td>\n",
              "      <td>8</td>\n",
              "      <td>302.0</td>\n",
              "      <td>140</td>\n",
              "      <td>3449</td>\n",
              "      <td>10.5</td>\n",
              "      <td>70</td>\n",
              "      <td>1</td>\n",
              "      <td>ford torino</td>\n",
              "    </tr>\n",
              "  </tbody>\n",
              "</table>\n",
              "</div>\n",
              "    <div class=\"colab-df-buttons\">\n",
              "\n",
              "  <div class=\"colab-df-container\">\n",
              "    <button class=\"colab-df-convert\" onclick=\"convertToInteractive('df-2d6d2a20-d62b-4dcf-90eb-a632e9255f44')\"\n",
              "            title=\"Convert this dataframe to an interactive table.\"\n",
              "            style=\"display:none;\">\n",
              "\n",
              "  <svg xmlns=\"http://www.w3.org/2000/svg\" height=\"24px\" viewBox=\"0 -960 960 960\">\n",
              "    <path d=\"M120-120v-720h720v720H120Zm60-500h600v-160H180v160Zm220 220h160v-160H400v160Zm0 220h160v-160H400v160ZM180-400h160v-160H180v160Zm440 0h160v-160H620v160ZM180-180h160v-160H180v160Zm440 0h160v-160H620v160Z\"/>\n",
              "  </svg>\n",
              "    </button>\n",
              "\n",
              "  <style>\n",
              "    .colab-df-container {\n",
              "      display:flex;\n",
              "      gap: 12px;\n",
              "    }\n",
              "\n",
              "    .colab-df-convert {\n",
              "      background-color: #E8F0FE;\n",
              "      border: none;\n",
              "      border-radius: 50%;\n",
              "      cursor: pointer;\n",
              "      display: none;\n",
              "      fill: #1967D2;\n",
              "      height: 32px;\n",
              "      padding: 0 0 0 0;\n",
              "      width: 32px;\n",
              "    }\n",
              "\n",
              "    .colab-df-convert:hover {\n",
              "      background-color: #E2EBFA;\n",
              "      box-shadow: 0px 1px 2px rgba(60, 64, 67, 0.3), 0px 1px 3px 1px rgba(60, 64, 67, 0.15);\n",
              "      fill: #174EA6;\n",
              "    }\n",
              "\n",
              "    .colab-df-buttons div {\n",
              "      margin-bottom: 4px;\n",
              "    }\n",
              "\n",
              "    [theme=dark] .colab-df-convert {\n",
              "      background-color: #3B4455;\n",
              "      fill: #D2E3FC;\n",
              "    }\n",
              "\n",
              "    [theme=dark] .colab-df-convert:hover {\n",
              "      background-color: #434B5C;\n",
              "      box-shadow: 0px 1px 3px 1px rgba(0, 0, 0, 0.15);\n",
              "      filter: drop-shadow(0px 1px 2px rgba(0, 0, 0, 0.3));\n",
              "      fill: #FFFFFF;\n",
              "    }\n",
              "  </style>\n",
              "\n",
              "    <script>\n",
              "      const buttonEl =\n",
              "        document.querySelector('#df-2d6d2a20-d62b-4dcf-90eb-a632e9255f44 button.colab-df-convert');\n",
              "      buttonEl.style.display =\n",
              "        google.colab.kernel.accessAllowed ? 'block' : 'none';\n",
              "\n",
              "      async function convertToInteractive(key) {\n",
              "        const element = document.querySelector('#df-2d6d2a20-d62b-4dcf-90eb-a632e9255f44');\n",
              "        const dataTable =\n",
              "          await google.colab.kernel.invokeFunction('convertToInteractive',\n",
              "                                                    [key], {});\n",
              "        if (!dataTable) return;\n",
              "\n",
              "        const docLinkHtml = 'Like what you see? Visit the ' +\n",
              "          '<a target=\"_blank\" href=https://colab.research.google.com/notebooks/data_table.ipynb>data table notebook</a>'\n",
              "          + ' to learn more about interactive tables.';\n",
              "        element.innerHTML = '';\n",
              "        dataTable['output_type'] = 'display_data';\n",
              "        await google.colab.output.renderOutput(dataTable, element);\n",
              "        const docLink = document.createElement('div');\n",
              "        docLink.innerHTML = docLinkHtml;\n",
              "        element.appendChild(docLink);\n",
              "      }\n",
              "    </script>\n",
              "  </div>\n",
              "\n",
              "\n",
              "<div id=\"df-744cdf07-b924-4de2-a232-bda7f518b034\">\n",
              "  <button class=\"colab-df-quickchart\" onclick=\"quickchart('df-744cdf07-b924-4de2-a232-bda7f518b034')\"\n",
              "            title=\"Suggest charts.\"\n",
              "            style=\"display:none;\">\n",
              "\n",
              "<svg xmlns=\"http://www.w3.org/2000/svg\" height=\"24px\"viewBox=\"0 0 24 24\"\n",
              "     width=\"24px\">\n",
              "    <g>\n",
              "        <path d=\"M19 3H5c-1.1 0-2 .9-2 2v14c0 1.1.9 2 2 2h14c1.1 0 2-.9 2-2V5c0-1.1-.9-2-2-2zM9 17H7v-7h2v7zm4 0h-2V7h2v10zm4 0h-2v-4h2v4z\"/>\n",
              "    </g>\n",
              "</svg>\n",
              "  </button>\n",
              "\n",
              "<style>\n",
              "  .colab-df-quickchart {\n",
              "      --bg-color: #E8F0FE;\n",
              "      --fill-color: #1967D2;\n",
              "      --hover-bg-color: #E2EBFA;\n",
              "      --hover-fill-color: #174EA6;\n",
              "      --disabled-fill-color: #AAA;\n",
              "      --disabled-bg-color: #DDD;\n",
              "  }\n",
              "\n",
              "  [theme=dark] .colab-df-quickchart {\n",
              "      --bg-color: #3B4455;\n",
              "      --fill-color: #D2E3FC;\n",
              "      --hover-bg-color: #434B5C;\n",
              "      --hover-fill-color: #FFFFFF;\n",
              "      --disabled-bg-color: #3B4455;\n",
              "      --disabled-fill-color: #666;\n",
              "  }\n",
              "\n",
              "  .colab-df-quickchart {\n",
              "    background-color: var(--bg-color);\n",
              "    border: none;\n",
              "    border-radius: 50%;\n",
              "    cursor: pointer;\n",
              "    display: none;\n",
              "    fill: var(--fill-color);\n",
              "    height: 32px;\n",
              "    padding: 0;\n",
              "    width: 32px;\n",
              "  }\n",
              "\n",
              "  .colab-df-quickchart:hover {\n",
              "    background-color: var(--hover-bg-color);\n",
              "    box-shadow: 0 1px 2px rgba(60, 64, 67, 0.3), 0 1px 3px 1px rgba(60, 64, 67, 0.15);\n",
              "    fill: var(--button-hover-fill-color);\n",
              "  }\n",
              "\n",
              "  .colab-df-quickchart-complete:disabled,\n",
              "  .colab-df-quickchart-complete:disabled:hover {\n",
              "    background-color: var(--disabled-bg-color);\n",
              "    fill: var(--disabled-fill-color);\n",
              "    box-shadow: none;\n",
              "  }\n",
              "\n",
              "  .colab-df-spinner {\n",
              "    border: 2px solid var(--fill-color);\n",
              "    border-color: transparent;\n",
              "    border-bottom-color: var(--fill-color);\n",
              "    animation:\n",
              "      spin 1s steps(1) infinite;\n",
              "  }\n",
              "\n",
              "  @keyframes spin {\n",
              "    0% {\n",
              "      border-color: transparent;\n",
              "      border-bottom-color: var(--fill-color);\n",
              "      border-left-color: var(--fill-color);\n",
              "    }\n",
              "    20% {\n",
              "      border-color: transparent;\n",
              "      border-left-color: var(--fill-color);\n",
              "      border-top-color: var(--fill-color);\n",
              "    }\n",
              "    30% {\n",
              "      border-color: transparent;\n",
              "      border-left-color: var(--fill-color);\n",
              "      border-top-color: var(--fill-color);\n",
              "      border-right-color: var(--fill-color);\n",
              "    }\n",
              "    40% {\n",
              "      border-color: transparent;\n",
              "      border-right-color: var(--fill-color);\n",
              "      border-top-color: var(--fill-color);\n",
              "    }\n",
              "    60% {\n",
              "      border-color: transparent;\n",
              "      border-right-color: var(--fill-color);\n",
              "    }\n",
              "    80% {\n",
              "      border-color: transparent;\n",
              "      border-right-color: var(--fill-color);\n",
              "      border-bottom-color: var(--fill-color);\n",
              "    }\n",
              "    90% {\n",
              "      border-color: transparent;\n",
              "      border-bottom-color: var(--fill-color);\n",
              "    }\n",
              "  }\n",
              "</style>\n",
              "\n",
              "  <script>\n",
              "    async function quickchart(key) {\n",
              "      const quickchartButtonEl =\n",
              "        document.querySelector('#' + key + ' button');\n",
              "      quickchartButtonEl.disabled = true;  // To prevent multiple clicks.\n",
              "      quickchartButtonEl.classList.add('colab-df-spinner');\n",
              "      try {\n",
              "        const charts = await google.colab.kernel.invokeFunction(\n",
              "            'suggestCharts', [key], {});\n",
              "      } catch (error) {\n",
              "        console.error('Error during call to suggestCharts:', error);\n",
              "      }\n",
              "      quickchartButtonEl.classList.remove('colab-df-spinner');\n",
              "      quickchartButtonEl.classList.add('colab-df-quickchart-complete');\n",
              "    }\n",
              "    (() => {\n",
              "      let quickchartButtonEl =\n",
              "        document.querySelector('#df-744cdf07-b924-4de2-a232-bda7f518b034 button');\n",
              "      quickchartButtonEl.style.display =\n",
              "        google.colab.kernel.accessAllowed ? 'block' : 'none';\n",
              "    })();\n",
              "  </script>\n",
              "</div>\n",
              "    </div>\n",
              "  </div>\n"
            ]
          },
          "metadata": {},
          "execution_count": 3
        }
      ],
      "source": [
        "# Read the data\n",
        "df = pd.read_csv('/content/drive/Supervised Learning/Linear Regression/auto-mpg.csv') ## Code to read the data\n",
        "# Returns the first 5 rows\n",
        "df.head()"
      ]
    },
    {
      "cell_type": "code",
      "execution_count": null,
      "metadata": {
        "id": "xaLu_bAm2rdE",
        "colab": {
          "base_uri": "https://localhost:8080/"
        },
        "outputId": "9d6c80fe-9873-483f-f632-3f959ce75f63"
      },
      "outputs": [
        {
          "output_type": "execute_result",
          "data": {
            "text/plain": [
              "(1898, 9)"
            ]
          },
          "metadata": {},
          "execution_count": 10
        }
      ],
      "source": [
        "# Check the shape of the dataset\n",
        "df.shape"
      ]
    },
    {
      "cell_type": "code",
      "source": [
        "print('The data file has',df.shape[0],'Rows and',df.shape[1],'Columns')"
      ],
      "metadata": {
        "colab": {
          "base_uri": "https://localhost:8080/"
        },
        "id": "Nb-J3RSPA9cR",
        "outputId": "3d6220d4-a12d-4f74-fa03-23ee8839d91b"
      },
      "execution_count": null,
      "outputs": [
        {
          "output_type": "stream",
          "name": "stdout",
          "text": [
            "The data file has 1898 Rows and 9 Columns\n"
          ]
        }
      ]
    },
    {
      "cell_type": "markdown",
      "source": [
        "#### Observations:\n",
        "1.   The **DataFrame has 1898 Rows and 9 Columns**.\n",
        "2.   One striking item in the above dataframe view is **'rating'** column which does not have ratings, instead those are shown as **'Not given' for the first two records**. We may need to further analyze, to see if we need to apply any kind of data handling approaches, if needed."
      ],
      "metadata": {
        "id": "WkQxnWTeWysn"
      }
    },
    {
      "cell_type": "code",
      "execution_count": null,
      "metadata": {
        "id": "EUXmdNxe2rdF",
        "colab": {
          "base_uri": "https://localhost:8080/"
        },
        "outputId": "ec4a44e0-43ef-40dd-e95b-3eb381c116e8"
      },
      "outputs": [
        {
          "output_type": "stream",
          "name": "stdout",
          "text": [
            "<class 'pandas.core.frame.DataFrame'>\n",
            "RangeIndex: 1898 entries, 0 to 1897\n",
            "Data columns (total 9 columns):\n",
            " #   Column                 Non-Null Count  Dtype  \n",
            "---  ------                 --------------  -----  \n",
            " 0   order_id               1898 non-null   int64  \n",
            " 1   customer_id            1898 non-null   int64  \n",
            " 2   restaurant_name        1898 non-null   object \n",
            " 3   cuisine_type           1898 non-null   object \n",
            " 4   cost_of_the_order      1898 non-null   float64\n",
            " 5   day_of_the_week        1898 non-null   object \n",
            " 6   rating                 1898 non-null   object \n",
            " 7   food_preparation_time  1898 non-null   int64  \n",
            " 8   delivery_time          1898 non-null   int64  \n",
            "dtypes: float64(1), int64(4), object(4)\n",
            "memory usage: 133.6+ KB\n"
          ]
        }
      ],
      "source": [
        "df.info();"
      ]
    },
    {
      "cell_type": "markdown",
      "source": [
        "#### Observations:\n",
        "* There are a **total of 1898 entries with 9 Columns**, out of which, there are **4 integer (int64), 1 float (float64) and 4 object (Objects) type** data items in the file.\n",
        "* The 'rating' column can be converted numeric data type to perform numberical analysis.\n",
        "* Following **2 variables, Order ID, and Customer ID are categorical variables but labelled as numeric variables**.\n",
        "* **All columns are non-null, meaning there are no null values**, so we do not need to treat null values."
      ],
      "metadata": {
        "id": "7V9ZzcSBXP12"
      }
    },
    {
      "cell_type": "code",
      "execution_count": null,
      "metadata": {
        "id": "kZbMrwFC2rdG",
        "colab": {
          "base_uri": "https://localhost:8080/"
        },
        "outputId": "fe879716-4e56-423f-ad59-7e7e80ef574d"
      },
      "outputs": [
        {
          "output_type": "stream",
          "name": "stdout",
          "text": [
            "order_id                 0\n",
            "customer_id              0\n",
            "restaurant_name          0\n",
            "cuisine_type             0\n",
            "cost_of_the_order        0\n",
            "day_of_the_week          0\n",
            "rating                   0\n",
            "food_preparation_time    0\n",
            "delivery_time            0\n",
            "dtype: int64\n"
          ]
        }
      ],
      "source": [
        "# Checking for missing values in the data\n",
        "print(df.isnull().sum()) # Function to print the sum of null values for each column"
      ]
    },
    {
      "cell_type": "markdown",
      "source": [
        "* Observations:\n",
        "* **There are no missing values** in the dataframe. Previous code cell output as well confirms that all columns have non-null values.\n",
        "* Though there are no misisng values, we decided to **Convert following 3 objects to Categories, to improve the processing speed and reduce the storage space**."
      ],
      "metadata": {
        "id": "EAW0I4xkJntA"
      }
    },
    {
      "cell_type": "code",
      "source": [
        "# Though there are no misisng values, we decided to Convert following 3 objects to Categories, to improve the processing speed and reduce the storage space.\n",
        "\n",
        "df.restaurant_name = df.restaurant_name.astype('category') # Convert restaurant name from object to category\n",
        "df.cuisine_type = df.cuisine_type.astype('category') # Convert cuisine type from object to category\n",
        "df.day_of_the_week = df.day_of_the_week.astype('category') # Convert day of the week from object to category\n",
        "\n",
        "# Using the info() method to print a concise summary of the DataFrame\n",
        "df.info();"
      ],
      "metadata": {
        "id": "hKMxNrrQGuj5",
        "colab": {
          "base_uri": "https://localhost:8080/"
        },
        "outputId": "5c5bb45d-76bd-4578-ae66-e7a5de0729a9"
      },
      "execution_count": null,
      "outputs": [
        {
          "output_type": "stream",
          "name": "stdout",
          "text": [
            "<class 'pandas.core.frame.DataFrame'>\n",
            "RangeIndex: 1898 entries, 0 to 1897\n",
            "Data columns (total 9 columns):\n",
            " #   Column                 Non-Null Count  Dtype   \n",
            "---  ------                 --------------  -----   \n",
            " 0   order_id               1898 non-null   int64   \n",
            " 1   customer_id            1898 non-null   int64   \n",
            " 2   restaurant_name        1898 non-null   category\n",
            " 3   cuisine_type           1898 non-null   category\n",
            " 4   cost_of_the_order      1898 non-null   float64 \n",
            " 5   day_of_the_week        1898 non-null   category\n",
            " 6   rating                 1898 non-null   object  \n",
            " 7   food_preparation_time  1898 non-null   int64   \n",
            " 8   delivery_time          1898 non-null   int64   \n",
            "dtypes: category(3), float64(1), int64(4), object(1)\n",
            "memory usage: 102.7+ KB\n"
          ]
        }
      ]
    },
    {
      "cell_type": "markdown",
      "source": [
        "#### Observations:\n",
        "\n",
        "* The output confirms that **all columns have non-null valueThere are no missing values.**\n",
        "* The 'rating' has 'Not given' values, and we should not convert these values to Zeros or, manipulate data by replacing with mean, median or mode in this particular situation as **'Not given' means the customer has not rated the order for any reason for respective orders_Ids**. We should **convert the rating column to int data type, so we can perform numberical operations on this item.**\n",
        "* Following columns have been converted to categories: **restaurant_name , cuisine_type , day_of_the_week converted to categories**, to improve the processing speed and reduce the storage space."
      ],
      "metadata": {
        "id": "RSeIOIf6X30Q"
      }
    },
    {
      "cell_type": "code",
      "execution_count": null,
      "metadata": {
        "id": "MDZkL24f2rdG",
        "colab": {
          "base_uri": "https://localhost:8080/",
          "height": 300
        },
        "outputId": "cee7e128-da2a-4135-a04d-ab1b656ba290"
      },
      "outputs": [
        {
          "output_type": "execute_result",
          "data": {
            "text/plain": [
              "         order_id  customer_id  cost_of_the_order  food_preparation_time  \\\n",
              "count     1898.00      1898.00            1898.00                1898.00   \n",
              "mean   1477495.50    171168.48              16.50                  27.37   \n",
              "std        548.05    113698.14               7.48                   4.63   \n",
              "min    1476547.00      1311.00               4.47                  20.00   \n",
              "25%    1477021.25     77787.75              12.08                  23.00   \n",
              "50%    1477495.50    128600.00              14.14                  27.00   \n",
              "75%    1477969.75    270525.00              22.30                  31.00   \n",
              "max    1478444.00    405334.00              35.41                  35.00   \n",
              "\n",
              "       delivery_time  \n",
              "count        1898.00  \n",
              "mean           24.16  \n",
              "std             4.97  \n",
              "min            15.00  \n",
              "25%            20.00  \n",
              "50%            25.00  \n",
              "75%            28.00  \n",
              "max            33.00  "
            ],
            "text/html": [
              "\n",
              "  <div id=\"df-9a4a3a53-2480-4bcb-9ca6-767336a2e39b\" class=\"colab-df-container\">\n",
              "    <div>\n",
              "<style scoped>\n",
              "    .dataframe tbody tr th:only-of-type {\n",
              "        vertical-align: middle;\n",
              "    }\n",
              "\n",
              "    .dataframe tbody tr th {\n",
              "        vertical-align: top;\n",
              "    }\n",
              "\n",
              "    .dataframe thead th {\n",
              "        text-align: right;\n",
              "    }\n",
              "</style>\n",
              "<table border=\"1\" class=\"dataframe\">\n",
              "  <thead>\n",
              "    <tr style=\"text-align: right;\">\n",
              "      <th></th>\n",
              "      <th>order_id</th>\n",
              "      <th>customer_id</th>\n",
              "      <th>cost_of_the_order</th>\n",
              "      <th>food_preparation_time</th>\n",
              "      <th>delivery_time</th>\n",
              "    </tr>\n",
              "  </thead>\n",
              "  <tbody>\n",
              "    <tr>\n",
              "      <th>count</th>\n",
              "      <td>1898.00</td>\n",
              "      <td>1898.00</td>\n",
              "      <td>1898.00</td>\n",
              "      <td>1898.00</td>\n",
              "      <td>1898.00</td>\n",
              "    </tr>\n",
              "    <tr>\n",
              "      <th>mean</th>\n",
              "      <td>1477495.50</td>\n",
              "      <td>171168.48</td>\n",
              "      <td>16.50</td>\n",
              "      <td>27.37</td>\n",
              "      <td>24.16</td>\n",
              "    </tr>\n",
              "    <tr>\n",
              "      <th>std</th>\n",
              "      <td>548.05</td>\n",
              "      <td>113698.14</td>\n",
              "      <td>7.48</td>\n",
              "      <td>4.63</td>\n",
              "      <td>4.97</td>\n",
              "    </tr>\n",
              "    <tr>\n",
              "      <th>min</th>\n",
              "      <td>1476547.00</td>\n",
              "      <td>1311.00</td>\n",
              "      <td>4.47</td>\n",
              "      <td>20.00</td>\n",
              "      <td>15.00</td>\n",
              "    </tr>\n",
              "    <tr>\n",
              "      <th>25%</th>\n",
              "      <td>1477021.25</td>\n",
              "      <td>77787.75</td>\n",
              "      <td>12.08</td>\n",
              "      <td>23.00</td>\n",
              "      <td>20.00</td>\n",
              "    </tr>\n",
              "    <tr>\n",
              "      <th>50%</th>\n",
              "      <td>1477495.50</td>\n",
              "      <td>128600.00</td>\n",
              "      <td>14.14</td>\n",
              "      <td>27.00</td>\n",
              "      <td>25.00</td>\n",
              "    </tr>\n",
              "    <tr>\n",
              "      <th>75%</th>\n",
              "      <td>1477969.75</td>\n",
              "      <td>270525.00</td>\n",
              "      <td>22.30</td>\n",
              "      <td>31.00</td>\n",
              "      <td>28.00</td>\n",
              "    </tr>\n",
              "    <tr>\n",
              "      <th>max</th>\n",
              "      <td>1478444.00</td>\n",
              "      <td>405334.00</td>\n",
              "      <td>35.41</td>\n",
              "      <td>35.00</td>\n",
              "      <td>33.00</td>\n",
              "    </tr>\n",
              "  </tbody>\n",
              "</table>\n",
              "</div>\n",
              "    <div class=\"colab-df-buttons\">\n",
              "\n",
              "  <div class=\"colab-df-container\">\n",
              "    <button class=\"colab-df-convert\" onclick=\"convertToInteractive('df-9a4a3a53-2480-4bcb-9ca6-767336a2e39b')\"\n",
              "            title=\"Convert this dataframe to an interactive table.\"\n",
              "            style=\"display:none;\">\n",
              "\n",
              "  <svg xmlns=\"http://www.w3.org/2000/svg\" height=\"24px\" viewBox=\"0 -960 960 960\">\n",
              "    <path d=\"M120-120v-720h720v720H120Zm60-500h600v-160H180v160Zm220 220h160v-160H400v160Zm0 220h160v-160H400v160ZM180-400h160v-160H180v160Zm440 0h160v-160H620v160ZM180-180h160v-160H180v160Zm440 0h160v-160H620v160Z\"/>\n",
              "  </svg>\n",
              "    </button>\n",
              "\n",
              "  <style>\n",
              "    .colab-df-container {\n",
              "      display:flex;\n",
              "      gap: 12px;\n",
              "    }\n",
              "\n",
              "    .colab-df-convert {\n",
              "      background-color: #E8F0FE;\n",
              "      border: none;\n",
              "      border-radius: 50%;\n",
              "      cursor: pointer;\n",
              "      display: none;\n",
              "      fill: #1967D2;\n",
              "      height: 32px;\n",
              "      padding: 0 0 0 0;\n",
              "      width: 32px;\n",
              "    }\n",
              "\n",
              "    .colab-df-convert:hover {\n",
              "      background-color: #E2EBFA;\n",
              "      box-shadow: 0px 1px 2px rgba(60, 64, 67, 0.3), 0px 1px 3px 1px rgba(60, 64, 67, 0.15);\n",
              "      fill: #174EA6;\n",
              "    }\n",
              "\n",
              "    .colab-df-buttons div {\n",
              "      margin-bottom: 4px;\n",
              "    }\n",
              "\n",
              "    [theme=dark] .colab-df-convert {\n",
              "      background-color: #3B4455;\n",
              "      fill: #D2E3FC;\n",
              "    }\n",
              "\n",
              "    [theme=dark] .colab-df-convert:hover {\n",
              "      background-color: #434B5C;\n",
              "      box-shadow: 0px 1px 3px 1px rgba(0, 0, 0, 0.15);\n",
              "      filter: drop-shadow(0px 1px 2px rgba(0, 0, 0, 0.3));\n",
              "      fill: #FFFFFF;\n",
              "    }\n",
              "  </style>\n",
              "\n",
              "    <script>\n",
              "      const buttonEl =\n",
              "        document.querySelector('#df-9a4a3a53-2480-4bcb-9ca6-767336a2e39b button.colab-df-convert');\n",
              "      buttonEl.style.display =\n",
              "        google.colab.kernel.accessAllowed ? 'block' : 'none';\n",
              "\n",
              "      async function convertToInteractive(key) {\n",
              "        const element = document.querySelector('#df-9a4a3a53-2480-4bcb-9ca6-767336a2e39b');\n",
              "        const dataTable =\n",
              "          await google.colab.kernel.invokeFunction('convertToInteractive',\n",
              "                                                    [key], {});\n",
              "        if (!dataTable) return;\n",
              "\n",
              "        const docLinkHtml = 'Like what you see? Visit the ' +\n",
              "          '<a target=\"_blank\" href=https://colab.research.google.com/notebooks/data_table.ipynb>data table notebook</a>'\n",
              "          + ' to learn more about interactive tables.';\n",
              "        element.innerHTML = '';\n",
              "        dataTable['output_type'] = 'display_data';\n",
              "        await google.colab.output.renderOutput(dataTable, element);\n",
              "        const docLink = document.createElement('div');\n",
              "        docLink.innerHTML = docLinkHtml;\n",
              "        element.appendChild(docLink);\n",
              "      }\n",
              "    </script>\n",
              "  </div>\n",
              "\n",
              "\n",
              "<div id=\"df-a84d900e-e36d-4ee2-94fe-33e4c15a8253\">\n",
              "  <button class=\"colab-df-quickchart\" onclick=\"quickchart('df-a84d900e-e36d-4ee2-94fe-33e4c15a8253')\"\n",
              "            title=\"Suggest charts.\"\n",
              "            style=\"display:none;\">\n",
              "\n",
              "<svg xmlns=\"http://www.w3.org/2000/svg\" height=\"24px\"viewBox=\"0 0 24 24\"\n",
              "     width=\"24px\">\n",
              "    <g>\n",
              "        <path d=\"M19 3H5c-1.1 0-2 .9-2 2v14c0 1.1.9 2 2 2h14c1.1 0 2-.9 2-2V5c0-1.1-.9-2-2-2zM9 17H7v-7h2v7zm4 0h-2V7h2v10zm4 0h-2v-4h2v4z\"/>\n",
              "    </g>\n",
              "</svg>\n",
              "  </button>\n",
              "\n",
              "<style>\n",
              "  .colab-df-quickchart {\n",
              "      --bg-color: #E8F0FE;\n",
              "      --fill-color: #1967D2;\n",
              "      --hover-bg-color: #E2EBFA;\n",
              "      --hover-fill-color: #174EA6;\n",
              "      --disabled-fill-color: #AAA;\n",
              "      --disabled-bg-color: #DDD;\n",
              "  }\n",
              "\n",
              "  [theme=dark] .colab-df-quickchart {\n",
              "      --bg-color: #3B4455;\n",
              "      --fill-color: #D2E3FC;\n",
              "      --hover-bg-color: #434B5C;\n",
              "      --hover-fill-color: #FFFFFF;\n",
              "      --disabled-bg-color: #3B4455;\n",
              "      --disabled-fill-color: #666;\n",
              "  }\n",
              "\n",
              "  .colab-df-quickchart {\n",
              "    background-color: var(--bg-color);\n",
              "    border: none;\n",
              "    border-radius: 50%;\n",
              "    cursor: pointer;\n",
              "    display: none;\n",
              "    fill: var(--fill-color);\n",
              "    height: 32px;\n",
              "    padding: 0;\n",
              "    width: 32px;\n",
              "  }\n",
              "\n",
              "  .colab-df-quickchart:hover {\n",
              "    background-color: var(--hover-bg-color);\n",
              "    box-shadow: 0 1px 2px rgba(60, 64, 67, 0.3), 0 1px 3px 1px rgba(60, 64, 67, 0.15);\n",
              "    fill: var(--button-hover-fill-color);\n",
              "  }\n",
              "\n",
              "  .colab-df-quickchart-complete:disabled,\n",
              "  .colab-df-quickchart-complete:disabled:hover {\n",
              "    background-color: var(--disabled-bg-color);\n",
              "    fill: var(--disabled-fill-color);\n",
              "    box-shadow: none;\n",
              "  }\n",
              "\n",
              "  .colab-df-spinner {\n",
              "    border: 2px solid var(--fill-color);\n",
              "    border-color: transparent;\n",
              "    border-bottom-color: var(--fill-color);\n",
              "    animation:\n",
              "      spin 1s steps(1) infinite;\n",
              "  }\n",
              "\n",
              "  @keyframes spin {\n",
              "    0% {\n",
              "      border-color: transparent;\n",
              "      border-bottom-color: var(--fill-color);\n",
              "      border-left-color: var(--fill-color);\n",
              "    }\n",
              "    20% {\n",
              "      border-color: transparent;\n",
              "      border-left-color: var(--fill-color);\n",
              "      border-top-color: var(--fill-color);\n",
              "    }\n",
              "    30% {\n",
              "      border-color: transparent;\n",
              "      border-left-color: var(--fill-color);\n",
              "      border-top-color: var(--fill-color);\n",
              "      border-right-color: var(--fill-color);\n",
              "    }\n",
              "    40% {\n",
              "      border-color: transparent;\n",
              "      border-right-color: var(--fill-color);\n",
              "      border-top-color: var(--fill-color);\n",
              "    }\n",
              "    60% {\n",
              "      border-color: transparent;\n",
              "      border-right-color: var(--fill-color);\n",
              "    }\n",
              "    80% {\n",
              "      border-color: transparent;\n",
              "      border-right-color: var(--fill-color);\n",
              "      border-bottom-color: var(--fill-color);\n",
              "    }\n",
              "    90% {\n",
              "      border-color: transparent;\n",
              "      border-bottom-color: var(--fill-color);\n",
              "    }\n",
              "  }\n",
              "</style>\n",
              "\n",
              "  <script>\n",
              "    async function quickchart(key) {\n",
              "      const quickchartButtonEl =\n",
              "        document.querySelector('#' + key + ' button');\n",
              "      quickchartButtonEl.disabled = true;  // To prevent multiple clicks.\n",
              "      quickchartButtonEl.classList.add('colab-df-spinner');\n",
              "      try {\n",
              "        const charts = await google.colab.kernel.invokeFunction(\n",
              "            'suggestCharts', [key], {});\n",
              "      } catch (error) {\n",
              "        console.error('Error during call to suggestCharts:', error);\n",
              "      }\n",
              "      quickchartButtonEl.classList.remove('colab-df-spinner');\n",
              "      quickchartButtonEl.classList.add('colab-df-quickchart-complete');\n",
              "    }\n",
              "    (() => {\n",
              "      let quickchartButtonEl =\n",
              "        document.querySelector('#df-a84d900e-e36d-4ee2-94fe-33e4c15a8253 button');\n",
              "      quickchartButtonEl.style.display =\n",
              "        google.colab.kernel.accessAllowed ? 'block' : 'none';\n",
              "    })();\n",
              "  </script>\n",
              "</div>\n",
              "    </div>\n",
              "  </div>\n"
            ]
          },
          "metadata": {},
          "execution_count": 19
        }
      ],
      "source": [
        "# Get the summary statistics of the numerical data\n",
        "df.describe().round(2) ## Function to print the statitical summary of the data (Hint - you have seen this in the case studies before)\n",
        "\n",
        "# df.describe(include='all').T"
      ]
    },
    {
      "cell_type": "markdown",
      "source": [
        "#### Observations:\n",
        "* **Total count of observations** in the dataframe are **1898**.\n",
        "* Cost Of the Order: **Average cost of the order** is **15 dollars**, **25% of orders** are around **12 dollars**, **50% of the orders cost** is **14.14 dollars**, **75% cost of the orders** are at **22.30 dollars**. The **Standard Deviation** between the cost of orders is **7.48 dollars**.\n",
        "* Food Preparation Time:\n",
        "* The **Average Food preparation time** is approximately **27.37 mintues** and the prep time is **ranging from 20 to 35 minutes**.The **Standard Deviation** of prep time is **4.63 minutes**.\n",
        "* Delivery Time: The **delivery time is ranging** from **15 to 33 minutes** and the **average time to deliver** the food is approximately **24.16 minutes** with a **Standard Deviation** of **4.97 minutes**.\n"
      ],
      "metadata": {
        "id": "RvzVD7joYsRF"
      }
    },
    {
      "cell_type": "code",
      "execution_count": null,
      "metadata": {
        "id": "RUJo1me22rdH",
        "colab": {
          "base_uri": "https://localhost:8080/"
        },
        "outputId": "b9181ee0-9772-41e9-b8a5-744285cfad86"
      },
      "outputs": [
        {
          "output_type": "execute_result",
          "data": {
            "text/plain": [
              "Not given    736\n",
              "5            588\n",
              "4            386\n",
              "3            188\n",
              "Name: rating, dtype: int64"
            ]
          },
          "metadata": {},
          "execution_count": 24
        }
      ],
      "source": [
        "df['rating'].value_counts() ## Code"
      ]
    },
    {
      "cell_type": "markdown",
      "source": [
        "* Observations:\n",
        "* There are **736** orders that are **Not rated** out of total 1898 orders, i.e **38.77%** of the orders were not rated.\n",
        "* *Again, 'Not given' means the customer has not reated the respective order and it is not a missing value. We can imrove customer participation by offering incentives or making the rating option on the UI easy to use or any other UI User Experience improvment to rate the order.*"
      ],
      "metadata": {
        "id": "7CK8amN5Fvbc"
      }
    },
    {
      "cell_type": "markdown",
      "metadata": {
        "id": "LUh8hTiW2rdH"
      },
      "source": [
        "## **Exploratory Data Analysis (EDA)**"
      ]
    },
    {
      "cell_type": "markdown",
      "metadata": {
        "id": "2Dl2aL1W2rdI"
      },
      "source": [
        "## **Univariate Analysis**"
      ]
    },
    {
      "cell_type": "markdown",
      "metadata": {
        "id": "TXEjEAXqbZmQ"
      },
      "source": [
        "#### Order ID"
      ]
    },
    {
      "cell_type": "code",
      "execution_count": null,
      "metadata": {
        "id": "cmmmjUyebZmQ",
        "colab": {
          "base_uri": "https://localhost:8080/"
        },
        "outputId": "7aace934-a3f4-4207-ad62-4c95c958cc2a"
      },
      "outputs": [
        {
          "output_type": "execute_result",
          "data": {
            "text/plain": [
              "1898"
            ]
          },
          "metadata": {},
          "execution_count": 34
        }
      ],
      "source": [
        "# check unique order ID\n",
        "df['order_id'].nunique()"
      ]
    },
    {
      "cell_type": "markdown",
      "source": [
        "* Observations: The **number of unique order_ids** in this dataframe is **1898**"
      ],
      "metadata": {
        "id": "2-lgLDTmRldQ"
      }
    },
    {
      "cell_type": "markdown",
      "metadata": {
        "id": "ts6l2h0abZmQ"
      },
      "source": [
        "#### Customer ID"
      ]
    },
    {
      "cell_type": "code",
      "execution_count": null,
      "metadata": {
        "id": "yZRW2FBSbZmQ",
        "colab": {
          "base_uri": "https://localhost:8080/"
        },
        "outputId": "48787844-9e02-486d-cbe7-c0f7939ebf48"
      },
      "outputs": [
        {
          "output_type": "execute_result",
          "data": {
            "text/plain": [
              "1200"
            ]
          },
          "metadata": {},
          "execution_count": 32
        }
      ],
      "source": [
        "# check unique customer ID\n",
        "df['customer_id'].nunique()  ## Code to find out number of unique Customer ID"
      ]
    },
    {
      "cell_type": "markdown",
      "source": [
        "* Observations: The **number of unique customer_ids** in this dataframe is **1200**"
      ],
      "metadata": {
        "id": "YMUbcFljO8ZZ"
      }
    },
    {
      "cell_type": "markdown",
      "metadata": {
        "id": "mgv5gIIEbZmR"
      },
      "source": [
        "#### Restaurant name"
      ]
    },
    {
      "cell_type": "code",
      "execution_count": null,
      "metadata": {
        "id": "GYGzUuzcbZmR",
        "colab": {
          "base_uri": "https://localhost:8080/"
        },
        "outputId": "053f9f47-aa3b-4de2-83f9-e474cc31c348"
      },
      "outputs": [
        {
          "output_type": "execute_result",
          "data": {
            "text/plain": [
              "178"
            ]
          },
          "metadata": {},
          "execution_count": 90
        }
      ],
      "source": [
        "# check unique Restaurant Name\n",
        "df['restaurant_name'].nunique()  ## Code to find out number of unique Restaurant Name"
      ]
    },
    {
      "cell_type": "markdown",
      "source": [
        "* Observations: The **number of unique restaurant_names** in this dataframe is **178**"
      ],
      "metadata": {
        "id": "w332ikwwRxs8"
      }
    },
    {
      "cell_type": "markdown",
      "metadata": {
        "id": "X7jR8GHN2rdK"
      },
      "source": [
        "#### Cuisine type"
      ]
    },
    {
      "cell_type": "code",
      "execution_count": null,
      "metadata": {
        "id": "uFd2adxc2rdK",
        "colab": {
          "base_uri": "https://localhost:8080/"
        },
        "outputId": "90166050-6dd0-417c-de9a-88f925762b99"
      },
      "outputs": [
        {
          "output_type": "execute_result",
          "data": {
            "text/plain": [
              "14"
            ]
          },
          "metadata": {},
          "execution_count": 91
        }
      ],
      "source": [
        "# Check unique cuisine type\n",
        "df['cuisine_type'].nunique() ## Code to find out  number of  unique cuisine type"
      ]
    },
    {
      "cell_type": "markdown",
      "source": [
        "* Observations: The **number of unique cuisine_type** in this dataframe is **14**"
      ],
      "metadata": {
        "id": "AQov4buGSPaF"
      }
    },
    {
      "cell_type": "code",
      "execution_count": null,
      "metadata": {
        "id": "4JHi590P2rdK",
        "scrolled": true,
        "colab": {
          "base_uri": "https://localhost:8080/",
          "height": 465
        },
        "outputId": "0d38f89a-c611-4fb1-835e-e1d7614ea818"
      },
      "outputs": [
        {
          "output_type": "display_data",
          "data": {
            "text/plain": [
              "<Figure size 1500x500 with 1 Axes>"
            ],
            "image/png": "[encoded data removed]"
          },
          "metadata": {}
        }
      ],
      "source": [
        "plt.figure(figsize = (15,5))\n",
        "sns.countplot(data = df, x = 'cuisine_type'); ## Create a countplot for cuisine type."
      ]
    },
    {
      "cell_type": "markdown",
      "source": [
        "* Observations: The *American cuisine is the most popular, followed by Japenese*.\n",
        "* Among all cuisine types, *American, Japanse, Italian, Chinese are top 4 cusines in the order (top to bottom), and there is a close tie between Mexican and Indian cuisines.*\n"
      ],
      "metadata": {
        "id": "PAQLBOcmTo71"
      }
    },
    {
      "cell_type": "markdown",
      "metadata": {
        "id": "fmWW_qb42rdL"
      },
      "source": [
        "#### Cost of the order"
      ]
    },
    {
      "cell_type": "code",
      "execution_count": null,
      "metadata": {
        "id": "kq1lIbf42rdL",
        "scrolled": false,
        "colab": {
          "base_uri": "https://localhost:8080/",
          "height": 883
        },
        "outputId": "3eabbbde-94f2-4361-cc93-77e186f4e458"
      },
      "outputs": [
        {
          "output_type": "display_data",
          "data": {
            "text/plain": [
              "<Figure size 640x480 with 1 Axes>"
            ],
            "image/png": "[encoded data removed]"
          },
          "metadata": {}
        },
        {
          "output_type": "display_data",
          "data": {
            "text/plain": [
              "<Figure size 640x480 with 1 Axes>"
            ],
            "image/png": "[encoded data removed]"
          },
          "metadata": {}
        }
      ],
      "source": [
        "sns.histplot(data=df,x='cost_of_the_order', kde = True) ## Histogram for the cost of order\n",
        "plt.show();\n",
        "sns.boxplot(data=df,x='cost_of_the_order') ## Boxplot for the cost of order\n",
        "plt.show();"
      ]
    },
    {
      "cell_type": "markdown",
      "source": [
        "* Observations:\n",
        "* The distribution of the cost of the order is skewed towards right.\n",
        "* There are no outliers present in this column.\n",
        "* The boxplot shows the cost of the order ranging from 5 USD to 35 USD."
      ],
      "metadata": {
        "id": "rovYCM_EW6Lv"
      }
    },
    {
      "cell_type": "markdown",
      "metadata": {
        "id": "p34KqEqx2rdL"
      },
      "source": [
        "#### Day of the week"
      ]
    },
    {
      "cell_type": "code",
      "execution_count": null,
      "metadata": {
        "id": "KBMjgXjv2rdL",
        "colab": {
          "base_uri": "https://localhost:8080/"
        },
        "outputId": "6f8b5583-4521-4f32-e738-14e294d200f8"
      },
      "outputs": [
        {
          "output_type": "execute_result",
          "data": {
            "text/plain": [
              "['Weekend', 'Weekday']\n",
              "Categories (2, object): ['Weekday', 'Weekend']"
            ]
          },
          "metadata": {},
          "execution_count": 98
        }
      ],
      "source": [
        "# # Check the unique values\n",
        "df['day_of_the_week'].unique() ## Code to check unique values for the 'day_of_the_week' column"
      ]
    },
    {
      "cell_type": "markdown",
      "source": [
        "* Observations:\n",
        "* The following are the **2 unique values** in this column:  1. **Weekend**. 2. **Weekday**."
      ],
      "metadata": {
        "id": "Adjd0ZN6d2oQ"
      }
    },
    {
      "cell_type": "code",
      "execution_count": null,
      "metadata": {
        "id": "Q5jvwJkZ2rdL",
        "scrolled": false,
        "colab": {
          "base_uri": "https://localhost:8080/",
          "height": 450
        },
        "outputId": "329a7379-36c0-4724-f5bc-cb52f221cdd1"
      },
      "outputs": [
        {
          "output_type": "display_data",
          "data": {
            "text/plain": [
              "<Figure size 640x480 with 1 Axes>"
            ],
            "image/png": "[encoded data removed]"
          },
          "metadata": {}
        }
      ],
      "source": [
        "sns.countplot(data = df, x = 'day_of_the_week'); ## Code to plot a bar graph for 'day_of_the_week' column\n"
      ]
    },
    {
      "cell_type": "markdown",
      "source": [
        "* Observations:\n",
        "* We have given day_of_the_week as X axis and the count is shown on the Y axis.\n",
        "* Distribution is skewed towards the right, indicating the weekend is the busy time and the order counts are high, compared to weekday."
      ],
      "metadata": {
        "id": "GY_SlNFCfi9f"
      }
    },
    {
      "cell_type": "markdown",
      "metadata": {
        "id": "1oOW_lzO2rdL"
      },
      "source": [
        "#### Rating"
      ]
    },
    {
      "cell_type": "code",
      "execution_count": null,
      "metadata": {
        "id": "TNxjskCF2rdL",
        "scrolled": true,
        "colab": {
          "base_uri": "https://localhost:8080/"
        },
        "outputId": "890a29d8-a1b6-4ebf-b8f4-fe0e4065bbc3"
      },
      "outputs": [
        {
          "output_type": "execute_result",
          "data": {
            "text/plain": [
              "['Not given', '5', '3', '4']\n",
              "Categories (4, object): ['3', '4', '5', 'Not given']"
            ]
          },
          "metadata": {},
          "execution_count": 99
        }
      ],
      "source": [
        "# Check the unique values\n",
        "df['rating'].unique() ## Code to check unique values for the 'rating' column"
      ]
    },
    {
      "cell_type": "markdown",
      "source": [
        "* Observations: The **rating column has 4 unique values** as follows: **'Not given', '5', '3', '4**"
      ],
      "metadata": {
        "id": "-fOqFY37jbk8"
      }
    },
    {
      "cell_type": "code",
      "execution_count": null,
      "metadata": {
        "id": "aP_djdHY2rdM",
        "scrolled": true,
        "colab": {
          "base_uri": "https://localhost:8080/",
          "height": 449
        },
        "outputId": "7d70e74d-99a3-457f-d55a-e815cd1bc766"
      },
      "outputs": [
        {
          "output_type": "display_data",
          "data": {
            "text/plain": [
              "<Figure size 640x480 with 1 Axes>"
            ],
            "image/png": "[encoded data removed]"
          },
          "metadata": {}
        }
      ],
      "source": [
        "sns.countplot(data = df, x = 'rating'); ## Code to plot bar graph for 'rating' column\n",
        "plt.show()"
      ]
    },
    {
      "cell_type": "markdown",
      "source": [
        "* Observations: The countplot shows the number of orders not rated, 'Not given' are as high as 730 plus (based on the previous analysis it is 736) and the orders rated 5 are the top rating, followed by 4 and 3."
      ],
      "metadata": {
        "id": "kQIYvKVVhPcY"
      }
    },
    {
      "cell_type": "markdown",
      "metadata": {
        "id": "OP1gYWnR2rdM"
      },
      "source": [
        "#### Food Preparation time"
      ]
    },
    {
      "cell_type": "markdown",
      "source": [
        "**NOTE: Since the Title shows, Food Preparation Time, while asking in the comments to provide code for the 'cost_of_the_order', I have decided to provide both.**"
      ],
      "metadata": {
        "id": "8Zsinm6hoKUT"
      }
    },
    {
      "cell_type": "code",
      "source": [
        "sns.histplot(data=df,x='food_preparation_time') ## Code to plot the histogram for the cost of order\n",
        "plt.show()\n",
        "sns.boxplot(data=df,x='food_preparation_time') ## Code to plot the boxplot for the cost of order\n",
        "plt.show()\n"
      ],
      "metadata": {
        "colab": {
          "base_uri": "https://localhost:8080/",
          "height": 883
        },
        "id": "Jb75sPwlpEpt",
        "outputId": "6fdb9bd9-b7e3-48f2-c3d0-60f691f52030"
      },
      "execution_count": null,
      "outputs": [
        {
          "output_type": "display_data",
          "data": {
            "text/plain": [
              "<Figure size 640x480 with 1 Axes>"
            ],
            "image/png": "[encoded data removed]"
          },
          "metadata": {}
        },
        {
          "output_type": "display_data",
          "data": {
            "text/plain": [
              "<Figure size 640x480 with 1 Axes>"
            ],
            "image/png": "[encoded data removed]"
          },
          "metadata": {}
        }
      ]
    },
    {
      "cell_type": "code",
      "execution_count": null,
      "metadata": {
        "id": "TYiF3h3t2rdM",
        "scrolled": true
      },
      "outputs": [],
      "source": [
        "sns.histplot(data=df,x='cost_of_the_order') ## Code to plot the histogram for the cost of order\n",
        "plt.show()\n",
        "sns.boxplot(data=df,x='cost_of_the_order', showmeans = True, showmode = True) ## Code to plot the boxplot for the cost of order\n",
        "plt.show()"
      ]
    },
    {
      "cell_type": "markdown",
      "source": [
        "* Observations:\n",
        "* **Food Preparation Time**: The food prep time **ranges from 20 to 37 minutes** and the Food preparatin is evenly distributed.\n",
        "*  Cost of the Orders: The **Cost of the orders** is slightly **right skewed**. Boxplot shows the **median / average cost of the orders** is around **14 dollars**, while the **25th percentile cost of the orders** is at around **12 dollars** and the **75th percentile cost of the orde**r is around **22 dollars**."
      ],
      "metadata": {
        "id": "3MyHTgppqLHh"
      }
    },
    {
      "cell_type": "markdown",
      "metadata": {
        "id": "ENW0PF5b2rdM"
      },
      "source": [
        "#### Delivery time"
      ]
    },
    {
      "cell_type": "code",
      "execution_count": null,
      "metadata": {
        "id": "_1ZcT_SM2rdM",
        "scrolled": true,
        "colab": {
          "base_uri": "https://localhost:8080/",
          "height": 883
        },
        "outputId": "7a7220c1-d31c-4c7b-9147-d31340bdc9d0"
      },
      "outputs": [
        {
          "output_type": "display_data",
          "data": {
            "text/plain": [
              "<Figure size 640x480 with 1 Axes>"
            ],
            "image/png": "[encoded data removed]"
          },
          "metadata": {}
        },
        {
          "output_type": "display_data",
          "data": {
            "text/plain": [
              "<Figure size 640x480 with 1 Axes>"
            ],
            "image/png": "[encoded data removed]"
          },
          "metadata": {}
        }
      ],
      "source": [
        "sns.histplot(data=df,x='delivery_time') ## Code to plot the histogram for the delivery time\n",
        "plt.show()\n",
        "sns.boxplot(data=df,x='delivery_time') ## Code to plot the boxplot for the delivery time\n",
        "plt.show()"
      ]
    },
    {
      "cell_type": "markdown",
      "source": [
        "* Observations: Histplot shows that the delivery time ranges from 20 to approximately, 28 minutes and the **median / average time** it take to deliver the food is **25 minutes**."
      ],
      "metadata": {
        "id": "EwKCTrMuvHwO"
      }
    },
    {
      "cell_type": "code",
      "execution_count": null,
      "metadata": {
        "id": "OLQISNlc2rdM",
        "colab": {
          "base_uri": "https://localhost:8080/"
        },
        "outputId": "e2c86bcb-c2a7-4b17-fa68-40176686b307"
      },
      "outputs": [
        {
          "output_type": "execute_result",
          "data": {
            "text/plain": [
              "Shake Shack                  219\n",
              "The Meatball Shop            132\n",
              "Blue Ribbon Sushi            119\n",
              "Blue Ribbon Fried Chicken     96\n",
              "Parm                          68\n",
              "Name: restaurant_name, dtype: int64"
            ]
          },
          "metadata": {},
          "execution_count": 44
        }
      ],
      "source": [
        "# Get top 5 restaurants with highest number of orders\n",
        "df['restaurant_name'].value_counts().head() ## Code"
      ]
    },
    {
      "cell_type": "markdown",
      "source": [
        "* Observations:\n",
        "* We listed **top 5 restaurants** and those are **Shake Shack, The Meatball Shop, Blue Ribbon Sushi, Blue Ribbon Fried Chicken and Parm**\n",
        "* The top number of orders are placed for **Shake Shack** restaurant with **219 orders**, followed by **The Meatball Shop** with **132 orders**, **Blue Ribbon Sushi** with **119 orders**, **Blue Ribbon Fried Chicken** with **96 orders**, and **Parm** with **68 orders**."
      ],
      "metadata": {
        "id": "_h7rA7Q2v7mW"
      }
    },
    {
      "cell_type": "code",
      "execution_count": null,
      "metadata": {
        "id": "BqL62Kuu2rdN",
        "colab": {
          "base_uri": "https://localhost:8080/"
        },
        "outputId": "15d47df0-037e-4179-9977-03f93e23dc8a"
      },
      "outputs": [
        {
          "output_type": "execute_result",
          "data": {
            "text/plain": [
              "American          415\n",
              "Japanese          335\n",
              "Italian           207\n",
              "Chinese           163\n",
              "Mexican            53\n",
              "Indian             49\n",
              "Mediterranean      32\n",
              "Middle Eastern     32\n",
              "Thai               15\n",
              "French             13\n",
              "Korean             11\n",
              "Southern           11\n",
              "Spanish            11\n",
              "Vietnamese          4\n",
              "Name: cuisine_type, dtype: int64"
            ]
          },
          "metadata": {},
          "execution_count": 101
        }
      ],
      "source": [
        "# Get most popular cuisine on weekends\n",
        "df_weekend = df[df['day_of_the_week'] == 'Weekend']\n",
        "df_weekend['cuisine_type'].value_counts() ## Code to check unique values for the cuisine type on weekend"
      ]
    },
    {
      "cell_type": "code",
      "source": [
        "df.most_popular_cuisine = cuisine_counts.idxmax()\n"
      ],
      "metadata": {
        "colab": {
          "base_uri": "https://localhost:8080/",
          "height": 178
        },
        "id": "_QSeACdHYusj",
        "outputId": "9cc309b7-f95d-4c86-805b-42c1398acc60"
      },
      "execution_count": null,
      "outputs": [
        {
          "output_type": "error",
          "ename": "NameError",
          "evalue": "ignored",
          "traceback": [
            "\u001b[0;31m---------------------------------------------------------------------------\u001b[0m",
            "\u001b[0;31mNameError\u001b[0m                                 Traceback (most recent call last)",
            "\u001b[0;32m<ipython-input-10-643a2e190ae8>\u001b[0m in \u001b[0;36m<cell line: 1>\u001b[0;34m()\u001b[0m\n\u001b[0;32m----> 1\u001b[0;31m \u001b[0mdf\u001b[0m\u001b[0;34m.\u001b[0m\u001b[0mmost_popular_cuisine\u001b[0m \u001b[0;34m=\u001b[0m \u001b[0mcuisine_counts\u001b[0m\u001b[0;34m.\u001b[0m\u001b[0midxmax\u001b[0m\u001b[0;34m(\u001b[0m\u001b[0;34m)\u001b[0m\u001b[0;34m\u001b[0m\u001b[0;34m\u001b[0m\u001b[0m\n\u001b[0m",
            "\u001b[0;31mNameError\u001b[0m: name 'cuisine_counts' is not defined"
          ]
        }
      ]
    },
    {
      "cell_type": "markdown",
      "source": [
        "* Observations: The **most popular cuisine** over the **weekends** is **American** with order counts standing at **415 orders**"
      ],
      "metadata": {
        "id": "9dJA-ii9xiB0"
      }
    },
    {
      "cell_type": "code",
      "source": [
        "## Get 5 most popular cuisine on weekends\n",
        "df_weekend['cuisine_type'].value_counts().head()"
      ],
      "metadata": {
        "colab": {
          "base_uri": "https://localhost:8080/"
        },
        "id": "GaNWncL5Ywk1",
        "outputId": "f268c04b-e39f-4e29-9018-5a445e3d61f8"
      },
      "execution_count": null,
      "outputs": [
        {
          "output_type": "execute_result",
          "data": {
            "text/plain": [
              "American    415\n",
              "Japanese    335\n",
              "Italian     207\n",
              "Chinese     163\n",
              "Mexican      53\n",
              "Name: cuisine_type, dtype: int64"
            ]
          },
          "metadata": {},
          "execution_count": 102
        }
      ]
    },
    {
      "cell_type": "markdown",
      "source": [
        "* Observations: **American, Japanese, Italian, Chinese, Mexican are the most poular 5 restaurant cuisines**, while American is at the top and Mexican stands at the 5th in the list."
      ],
      "metadata": {
        "id": "4OFxwyPEyMf3"
      }
    },
    {
      "cell_type": "code",
      "execution_count": null,
      "metadata": {
        "id": "gHlH53rJ2rdN",
        "colab": {
          "base_uri": "https://localhost:8080/"
        },
        "outputId": "cea77a4c-41af-4dbb-e5bc-455989556b06"
      },
      "outputs": [
        {
          "output_type": "stream",
          "name": "stdout",
          "text": [
            "The number of total orders that cost above 20 dollars is: 555\n",
            "Percentage of orders above 20 dollars: 29.24 %\n"
          ]
        }
      ],
      "source": [
        "# Get orders that cost above 20 dollars\n",
        "df_greater_than_20 = df[df['cost_of_the_order']>20] ## Write the appropriate column name to get the orders having cost above $20\n",
        "\n",
        "# Calculate the number of total orders where the cost is above 20 dollars\n",
        "print('The number of total orders that cost above 20 dollars is:', df_greater_than_20.shape[0])\n",
        "\n",
        "# Calculate percentage of such orders in the dataset\n",
        "percentage = (df_greater_than_20.shape[0] / df.shape[0]) * 100\n",
        "\n",
        "print(\"Percentage of orders above 20 dollars:\", round(percentage, 2), '%')"
      ]
    },
    {
      "cell_type": "code",
      "source": [
        "type(df_greater_than_20)"
      ],
      "metadata": {
        "colab": {
          "base_uri": "https://localhost:8080/"
        },
        "id": "wOgXyEwfZUHo",
        "outputId": "6f0c8c3f-5c98-477e-8062-a66ce03c9744"
      },
      "execution_count": null,
      "outputs": [
        {
          "output_type": "execute_result",
          "data": {
            "text/plain": [
              "pandas.core.frame.DataFrame"
            ]
          },
          "metadata": {},
          "execution_count": 13
        }
      ]
    },
    {
      "cell_type": "markdown",
      "source": [
        "* Observations: The number of **Total Orders that cost above 20 dollars is 555**, and **Percentage of the Orders above 20 dollars is 29.24 %**"
      ],
      "metadata": {
        "id": "hKqNhjmIzhkq"
      }
    },
    {
      "cell_type": "code",
      "execution_count": null,
      "metadata": {
        "id": "733fsOoO2rdN",
        "colab": {
          "base_uri": "https://localhost:8080/"
        },
        "outputId": "95fac5cb-2af0-4069-87c5-7feb14437083"
      },
      "outputs": [
        {
          "output_type": "stream",
          "name": "stdout",
          "text": [
            "The mean delivery time for this dataset is 24.16 minutes\n"
          ]
        }
      ],
      "source": [
        "# Get the mean delivery time\n",
        "mean_del_time = df['delivery_time'].mean()  ## Function to obtain the mean delivery time\n",
        "\n",
        "print('The mean delivery time for this dataset is', round(mean_del_time, 2), 'minutes')"
      ]
    },
    {
      "cell_type": "markdown",
      "source": [
        "* Observations: **The mean delivery time** for this dataset **is 24.16 minutes**"
      ],
      "metadata": {
        "id": "1hGaBOcz0BHX"
      }
    },
    {
      "cell_type": "code",
      "execution_count": null,
      "metadata": {
        "id": "U-husHb6F5lY",
        "colab": {
          "base_uri": "https://localhost:8080/"
        },
        "outputId": "59ed8ca7-d089-4bc3-ca67-c0bbae7c033c"
      },
      "outputs": [
        {
          "output_type": "execute_result",
          "data": {
            "text/plain": [
              "52832     13\n",
              "47440     10\n",
              "83287      9\n",
              "250494     8\n",
              "65009      7\n",
              "Name: customer_id, dtype: int64"
            ]
          },
          "metadata": {},
          "execution_count": 105
        }
      ],
      "source": [
        "# Get the counts of  each customer_id\n",
        "df['customer_id'].value_counts().head()  ## Write the appropriate column name to get the top 5 cmost frequent customers"
      ]
    },
    {
      "cell_type": "markdown",
      "source": [
        "* Observations: The **top 5 most frequent customers** with customer_ids, **52832** (placed 13 orders), **47440** (placed 10 orders), **83287** (placed 9 orders), **250494** (placed 8 orders), **65009** (placed 7 orders)."
      ],
      "metadata": {
        "id": "oE-xv5eo-3oS"
      }
    },
    {
      "cell_type": "markdown",
      "metadata": {
        "id": "4ceeYAVy2rdO"
      },
      "source": [
        "### Multivariate Analysis"
      ]
    },
    {
      "cell_type": "markdown",
      "metadata": {
        "id": "sTYfSbdR2rdO"
      },
      "source": [
        "#### Cuisine vs Cost of the order"
      ]
    },
    {
      "cell_type": "code",
      "execution_count": null,
      "metadata": {
        "id": "wzJpBxZQ2rdP",
        "colab": {
          "base_uri": "https://localhost:8080/",
          "height": 608
        },
        "outputId": "8fcab487-f5ea-4de4-8225-58e484e70697"
      },
      "outputs": [
        {
          "output_type": "display_data",
          "data": {
            "text/plain": [
              "<Figure size 1500x700 with 1 Axes>"
            ],
            "image/png": "[encoded data removed]"
          },
          "metadata": {}
        }
      ],
      "source": [
        "# Relationship between cost of the order and cuisine type\n",
        "plt.figure(figsize=(15,7))\n",
        "sns.boxplot(x = \"cost_of_the_order\", y = \"cuisine_type\", data = df, palette = 'PuBu')\n",
        "plt.xticks(rotation = 60)\n",
        "plt.show()"
      ]
    },
    {
      "cell_type": "markdown",
      "source": [
        "* Observations:\n",
        "* **Boxplot shows that the most cuisines are right skewed, except for the Vietnamese and Korean which are slightly left skewed.**\n",
        "* **Korean, Mediterrarean and Vietnamese have varying degree of outliers to the right, with Korean having outliers on both sides.**"
      ],
      "metadata": {
        "id": "lKh26VhNAkgd"
      }
    },
    {
      "cell_type": "markdown",
      "metadata": {
        "id": "cmf4oTiB2rdQ"
      },
      "source": [
        "#### Cuisine vs Food Preparation time"
      ]
    },
    {
      "cell_type": "code",
      "execution_count": null,
      "metadata": {
        "id": "cfeDWTgN2rdQ",
        "scrolled": true,
        "colab": {
          "base_uri": "https://localhost:8080/",
          "height": 608
        },
        "outputId": "1e61f463-3240-4671-b8b3-6e627d6edf35"
      },
      "outputs": [
        {
          "output_type": "display_data",
          "data": {
            "text/plain": [
              "<Figure size 1500x700 with 1 Axes>"
            ],
            "image/png": "[encoded data removed]"
          },
          "metadata": {}
        }
      ],
      "source": [
        "# Relationship between food preparation time and cuisine type\n",
        "plt.figure(figsize=(15,7))\n",
        "sns.boxplot(x = \"food_preparation_time\", y = \"cuisine_type\", data = df, palette = 'PuBu')  ## Code to visualize the relationship between food preparation time and cuisine type\n",
        "# using boxplot\n",
        "plt.xticks(rotation = 60)\n",
        "plt.show()"
      ]
    },
    {
      "cell_type": "code",
      "source": [
        "from google.colab import drive\n",
        "drive.mount('/content/drive')"
      ],
      "metadata": {
        "id": "9mO_ziIF_k2U",
        "outputId": "2fba811b-7a4f-4568-c40a-a2a65f11563c",
        "colab": {
          "base_uri": "https://localhost:8080/"
        }
      },
      "execution_count": null,
      "outputs": [
        {
          "output_type": "stream",
          "name": "stdout",
          "text": [
            "Mounted at /content/drive\n"
          ]
        }
      ]
    },
    {
      "cell_type": "markdown",
      "source": [
        "* Observations:\n",
        "* **Most cuisine types having various ranges of food preparation time, while some cuisines prepare the food faster, while others take little longer.**\n",
        "* **Out of all cuisines, Korean is having some outliers on the rigt side, indicating some orders take more than their usual time for the preparation.**"
      ],
      "metadata": {
        "id": "ChFbL3jjFnl4"
      }
    },
    {
      "cell_type": "markdown",
      "metadata": {
        "id": "28L5vjZw2rdQ"
      },
      "source": [
        "#### Day of the Week vs Delivery time"
      ]
    },
    {
      "cell_type": "code",
      "execution_count": null,
      "metadata": {
        "id": "fG3QyQ452rdQ",
        "scrolled": true,
        "colab": {
          "base_uri": "https://localhost:8080/",
          "height": 619
        },
        "outputId": "7a6dc0d7-0f5c-46ff-e118-d94fb5dddb0a"
      },
      "outputs": [
        {
          "output_type": "display_data",
          "data": {
            "text/plain": [
              "<Figure size 1500x700 with 1 Axes>"
            ],
            "image/png": "[encoded data removed]"
          },
          "metadata": {}
        }
      ],
      "source": [
        "# Relationship between day of the week and delivery time  data=data,x='Distance_bins',y='Price'\n",
        "plt.figure(figsize=(15,7))\n",
        "sns.boxplot(data=df, x='day_of_the_week', y='delivery_time')  ## Code to visualize the relationship between day of the week and delivery time using boxplot\n",
        "plt.show()"
      ]
    },
    {
      "cell_type": "markdown",
      "source": [
        "* Observations:\n",
        "* The above boxplot shows the weekend delivery time takes little longer than on a weekday."
      ],
      "metadata": {
        "id": "fgpUATF1H-u0"
      }
    },
    {
      "cell_type": "markdown",
      "metadata": {
        "id": "UnppMp022rdQ"
      },
      "source": [
        "#### Code and write your observations on the revenue generated by the restaurants."
      ]
    },
    {
      "cell_type": "code",
      "execution_count": null,
      "metadata": {
        "id": "LaDfuzIt2rdR",
        "scrolled": false,
        "colab": {
          "base_uri": "https://localhost:8080/"
        },
        "outputId": "9af78c3e-46b9-4884-c80f-f0b037fb46f3"
      },
      "outputs": [
        {
          "output_type": "execute_result",
          "data": {
            "text/plain": [
              "restaurant_name\n",
              "Shake Shack                      3579.53\n",
              "The Meatball Shop                2145.21\n",
              "Blue Ribbon Sushi                1903.95\n",
              "Blue Ribbon Fried Chicken        1662.29\n",
              "Parm                             1112.76\n",
              "RedFarm Broadway                  965.13\n",
              "RedFarm Hudson                    921.21\n",
              "TAO                               834.50\n",
              "Han Dynasty                       755.29\n",
              "Blue Ribbon Sushi Bar & Grill     666.62\n",
              "Rubirosa                          660.45\n",
              "Sushi of Gari 46                  640.87\n",
              "Nobu Next Door                    623.67\n",
              "Five Guys Burgers and Fries       506.47\n",
              "Name: cost_of_the_order, dtype: float64"
            ]
          },
          "metadata": {},
          "execution_count": 16
        }
      ],
      "source": [
        "df.groupby(['restaurant_name'])['cost_of_the_order'].sum().sort_values(ascending = False).head(14)"
      ]
    },
    {
      "cell_type": "markdown",
      "source": [
        "* Observations:\n",
        "* Top **5 restaurations generating revenues** among the above output are:\n",
        "* **Shake Shack with revenue 3579.53 dollars**\n",
        "* **The Meatball Shop  with revenue  2145.21 dollars**\n",
        "* **Blue Ribbon Sushi  with revenue  1903.95 dollars**\n",
        "* **Blue Ribbon Fried Chicken  with revenue 1662.29 dollars**\n",
        "* **Parm with revenue 1112.76 dollars**"
      ],
      "metadata": {
        "id": "qCSZguu4JI3D"
      }
    },
    {
      "cell_type": "markdown",
      "metadata": {
        "id": "lu0o5GkQ2rdR"
      },
      "source": [
        "#### Rating vs Delivery time"
      ]
    },
    {
      "cell_type": "code",
      "execution_count": null,
      "metadata": {
        "id": "NoBGHlPR2rdR",
        "scrolled": true,
        "colab": {
          "base_uri": "https://localhost:8080/",
          "height": 619
        },
        "outputId": "32e625ce-1508-43b8-d097-25676af36ad6"
      },
      "outputs": [
        {
          "output_type": "display_data",
          "data": {
            "text/plain": [
              "<Figure size 1500x700 with 1 Axes>"
            ],
            "image/png": "[encoded data removed]"
          },
          "metadata": {}
        }
      ],
      "source": [
        "# Relationship between rating and delivery time\n",
        "plt.figure(figsize=(15, 7))\n",
        "sns.pointplot(x = 'rating', y = 'delivery_time', data = df)\n",
        "plt.show();"
      ]
    },
    {
      "cell_type": "code",
      "source": [
        "plt.figure(figsize=(15, 7))\n",
        "sns.boxenplot(x = 'rating', y = 'delivery_time', showmeans =True, data = df)\n",
        "plt.show();"
      ],
      "metadata": {
        "id": "OM-xn68TdSvZ"
      },
      "execution_count": null,
      "outputs": []
    },
    {
      "cell_type": "markdown",
      "source": [
        "* Observations:\n",
        "* The above **pintplot shows orders rated at 3 took longer time to deliver than the the orders rated 5 while it is followed by the orders with 'Not given'.**\n",
        "* **The orders that took shortest time to deliver were rated 4.**"
      ],
      "metadata": {
        "id": "oT37n1K3LJgh"
      }
    },
    {
      "cell_type": "markdown",
      "metadata": {
        "id": "EUW_xUEK2rdR"
      },
      "source": [
        "#### Rating vs Food preparation time"
      ]
    },
    {
      "cell_type": "code",
      "execution_count": null,
      "metadata": {
        "id": "d7qzVLdE2rdR",
        "scrolled": true,
        "colab": {
          "base_uri": "https://localhost:8080/",
          "height": 619
        },
        "outputId": "94232c3f-7e9a-4590-fa64-807a4c26b158"
      },
      "outputs": [
        {
          "output_type": "display_data",
          "data": {
            "text/plain": [
              "<Figure size 1500x700 with 1 Axes>"
            ],
            "image/png": "[encoded data removed]"
          },
          "metadata": {}
        }
      ],
      "source": [
        "# Relationship between rating and food preparation time\n",
        "plt.figure(figsize=(15, 7))\n",
        "sns.pointplot(x = 'rating', y = 'food_preparation_time', data = df)  ## Code to visualize the relationship between rating and food preparation time using pointplot\n",
        "plt.show();"
      ]
    },
    {
      "cell_type": "markdown",
      "source": [
        "* Observations:\n",
        "* **The rating vs food preparation time shows the a little time variation between the orders not rated (Not given), vs orders rated at 3**. However, **the overall time variation betwen not rated vs top time consusming orders that are rated 3 not more than few minutes differnce.**"
      ],
      "metadata": {
        "id": "VAk7PebzTPVD"
      }
    },
    {
      "cell_type": "markdown",
      "metadata": {
        "id": "x1xcxS6h2rdS"
      },
      "source": [
        "#### Rating vs Cost of the order"
      ]
    },
    {
      "cell_type": "code",
      "execution_count": null,
      "metadata": {
        "id": "QV1lg0_72rdS",
        "colab": {
          "base_uri": "https://localhost:8080/",
          "height": 619
        },
        "outputId": "7a05c648-5179-4f83-fbe5-7d462194c801"
      },
      "outputs": [
        {
          "output_type": "display_data",
          "data": {
            "text/plain": [
              "<Figure size 1500x700 with 1 Axes>"
            ],
            "image/png": "[encoded data removed]"
          },
          "metadata": {}
        }
      ],
      "source": [
        "# Relationship between rating and cost of the order\n",
        "plt.figure(figsize=(15, 7))\n",
        "sns.pointplot(x = 'rating', y = 'cost_of_the_order', data = df)   ## Code to visualize the relationship between rating and cost of the order using pointplot\n",
        "plt.show();"
      ]
    },
    {
      "cell_type": "markdown",
      "source": [
        "* Observations: **The above pintpont shows an estimate of central tendency. Cost of the order between Not give vs 3 are variying slightly over few points, while the orders rated 5 are cosliest then the other orders, while orders rated 4 are trailing it in cost.**"
      ],
      "metadata": {
        "id": "PUpqfMGHU8uS"
      }
    },
    {
      "cell_type": "markdown",
      "metadata": {
        "id": "N1ATzdSX2rdS"
      },
      "source": [
        "#### Correlation among variables"
      ]
    },
    {
      "cell_type": "code",
      "execution_count": null,
      "metadata": {
        "id": "I4yA0y032rdS",
        "scrolled": true,
        "colab": {
          "base_uri": "https://localhost:8080/",
          "height": 605
        },
        "outputId": "a5130bb0-f741-4f6e-95b6-a585ec53dc24"
      },
      "outputs": [
        {
          "output_type": "display_data",
          "data": {
            "text/plain": [
              "<Figure size 1500x700 with 2 Axes>"
            ],
            "image/png": "[encoded data removed]"
          },
          "metadata": {}
        }
      ],
      "source": [
        "# Plot the heatmap\n",
        "col_list = ['cost_of_the_order', 'food_preparation_time', 'delivery_time']\n",
        "plt.figure(figsize=(15, 7))\n",
        "sns.heatmap(df[col_list].corr(), annot=True, vmin=-1, vmax=1, fmt=\".2f\", cmap=\"Spectral\")\n",
        "plt.show();"
      ]
    },
    {
      "cell_type": "markdown",
      "source": [
        "* Observations:\n",
        "* We have **3 variables, such as Cost of the Order, food preparation time and deivery time** and we careated a HeatMapt to visualize the correlation between these variables. The color and direction indicates the positive or negative correlation between the variables.\n",
        "* **Food preparation time has positive correlation of 0.004 with cost of the order, though it is not strong correlation to consider.**\n",
        "* **Overall these variables indicates a very weak correlation between them.**"
      ],
      "metadata": {
        "id": "BxHtYrEKaWiP"
      }
    },
    {
      "cell_type": "code",
      "execution_count": null,
      "metadata": {
        "id": "4jQUoQ812rdS",
        "scrolled": true,
        "colab": {
          "base_uri": "https://localhost:8080/",
          "height": 206
        },
        "outputId": "cbe46b77-2296-4c11-80da-336ff8fd4e2e"
      },
      "outputs": [
        {
          "output_type": "execute_result",
          "data": {
            "text/plain": [
              "             restaurant_name  rating\n",
              "0                Shake Shack     133\n",
              "1          The Meatball Shop      84\n",
              "2          Blue Ribbon Sushi      73\n",
              "3  Blue Ribbon Fried Chicken      64\n",
              "4           RedFarm Broadway      41"
            ],
            "text/html": [
              "\n",
              "  <div id=\"df-c1bc1cfe-a21f-4541-92c4-ddb4bf769753\" class=\"colab-df-container\">\n",
              "    <div>\n",
              "<style scoped>\n",
              "    .dataframe tbody tr th:only-of-type {\n",
              "        vertical-align: middle;\n",
              "    }\n",
              "\n",
              "    .dataframe tbody tr th {\n",
              "        vertical-align: top;\n",
              "    }\n",
              "\n",
              "    .dataframe thead th {\n",
              "        text-align: right;\n",
              "    }\n",
              "</style>\n",
              "<table border=\"1\" class=\"dataframe\">\n",
              "  <thead>\n",
              "    <tr style=\"text-align: right;\">\n",
              "      <th></th>\n",
              "      <th>restaurant_name</th>\n",
              "      <th>rating</th>\n",
              "    </tr>\n",
              "  </thead>\n",
              "  <tbody>\n",
              "    <tr>\n",
              "      <th>0</th>\n",
              "      <td>Shake Shack</td>\n",
              "      <td>133</td>\n",
              "    </tr>\n",
              "    <tr>\n",
              "      <th>1</th>\n",
              "      <td>The Meatball Shop</td>\n",
              "      <td>84</td>\n",
              "    </tr>\n",
              "    <tr>\n",
              "      <th>2</th>\n",
              "      <td>Blue Ribbon Sushi</td>\n",
              "      <td>73</td>\n",
              "    </tr>\n",
              "    <tr>\n",
              "      <th>3</th>\n",
              "      <td>Blue Ribbon Fried Chicken</td>\n",
              "      <td>64</td>\n",
              "    </tr>\n",
              "    <tr>\n",
              "      <th>4</th>\n",
              "      <td>RedFarm Broadway</td>\n",
              "      <td>41</td>\n",
              "    </tr>\n",
              "  </tbody>\n",
              "</table>\n",
              "</div>\n",
              "    <div class=\"colab-df-buttons\">\n",
              "\n",
              "  <div class=\"colab-df-container\">\n",
              "    <button class=\"colab-df-convert\" onclick=\"convertToInteractive('df-c1bc1cfe-a21f-4541-92c4-ddb4bf769753')\"\n",
              "            title=\"Convert this dataframe to an interactive table.\"\n",
              "            style=\"display:none;\">\n",
              "\n",
              "  <svg xmlns=\"http://www.w3.org/2000/svg\" height=\"24px\" viewBox=\"0 -960 960 960\">\n",
              "    <path d=\"M120-120v-720h720v720H120Zm60-500h600v-160H180v160Zm220 220h160v-160H400v160Zm0 220h160v-160H400v160ZM180-400h160v-160H180v160Zm440 0h160v-160H620v160ZM180-180h160v-160H180v160Zm440 0h160v-160H620v160Z\"/>\n",
              "  </svg>\n",
              "    </button>\n",
              "\n",
              "  <style>\n",
              "    .colab-df-container {\n",
              "      display:flex;\n",
              "      gap: 12px;\n",
              "    }\n",
              "\n",
              "    .colab-df-convert {\n",
              "      background-color: #E8F0FE;\n",
              "      border: none;\n",
              "      border-radius: 50%;\n",
              "      cursor: pointer;\n",
              "      display: none;\n",
              "      fill: #1967D2;\n",
              "      height: 32px;\n",
              "      padding: 0 0 0 0;\n",
              "      width: 32px;\n",
              "    }\n",
              "\n",
              "    .colab-df-convert:hover {\n",
              "      background-color: #E2EBFA;\n",
              "      box-shadow: 0px 1px 2px rgba(60, 64, 67, 0.3), 0px 1px 3px 1px rgba(60, 64, 67, 0.15);\n",
              "      fill: #174EA6;\n",
              "    }\n",
              "\n",
              "    .colab-df-buttons div {\n",
              "      margin-bottom: 4px;\n",
              "    }\n",
              "\n",
              "    [theme=dark] .colab-df-convert {\n",
              "      background-color: #3B4455;\n",
              "      fill: #D2E3FC;\n",
              "    }\n",
              "\n",
              "    [theme=dark] .colab-df-convert:hover {\n",
              "      background-color: #434B5C;\n",
              "      box-shadow: 0px 1px 3px 1px rgba(0, 0, 0, 0.15);\n",
              "      filter: drop-shadow(0px 1px 2px rgba(0, 0, 0, 0.3));\n",
              "      fill: #FFFFFF;\n",
              "    }\n",
              "  </style>\n",
              "\n",
              "    <script>\n",
              "      const buttonEl =\n",
              "        document.querySelector('#df-c1bc1cfe-a21f-4541-92c4-ddb4bf769753 button.colab-df-convert');\n",
              "      buttonEl.style.display =\n",
              "        google.colab.kernel.accessAllowed ? 'block' : 'none';\n",
              "\n",
              "      async function convertToInteractive(key) {\n",
              "        const element = document.querySelector('#df-c1bc1cfe-a21f-4541-92c4-ddb4bf769753');\n",
              "        const dataTable =\n",
              "          await google.colab.kernel.invokeFunction('convertToInteractive',\n",
              "                                                    [key], {});\n",
              "        if (!dataTable) return;\n",
              "\n",
              "        const docLinkHtml = 'Like what you see? Visit the ' +\n",
              "          '<a target=\"_blank\" href=https://colab.research.google.com/notebooks/data_table.ipynb>data table notebook</a>'\n",
              "          + ' to learn more about interactive tables.';\n",
              "        element.innerHTML = '';\n",
              "        dataTable['output_type'] = 'display_data';\n",
              "        await google.colab.output.renderOutput(dataTable, element);\n",
              "        const docLink = document.createElement('div');\n",
              "        docLink.innerHTML = docLinkHtml;\n",
              "        element.appendChild(docLink);\n",
              "      }\n",
              "    </script>\n",
              "  </div>\n",
              "\n",
              "\n",
              "<div id=\"df-e6373bc5-1561-4348-aeaa-03bf36b03e47\">\n",
              "  <button class=\"colab-df-quickchart\" onclick=\"quickchart('df-e6373bc5-1561-4348-aeaa-03bf36b03e47')\"\n",
              "            title=\"Suggest charts.\"\n",
              "            style=\"display:none;\">\n",
              "\n",
              "<svg xmlns=\"http://www.w3.org/2000/svg\" height=\"24px\"viewBox=\"0 0 24 24\"\n",
              "     width=\"24px\">\n",
              "    <g>\n",
              "        <path d=\"M19 3H5c-1.1 0-2 .9-2 2v14c0 1.1.9 2 2 2h14c1.1 0 2-.9 2-2V5c0-1.1-.9-2-2-2zM9 17H7v-7h2v7zm4 0h-2V7h2v10zm4 0h-2v-4h2v4z\"/>\n",
              "    </g>\n",
              "</svg>\n",
              "  </button>\n",
              "\n",
              "<style>\n",
              "  .colab-df-quickchart {\n",
              "      --bg-color: #E8F0FE;\n",
              "      --fill-color: #1967D2;\n",
              "      --hover-bg-color: #E2EBFA;\n",
              "      --hover-fill-color: #174EA6;\n",
              "      --disabled-fill-color: #AAA;\n",
              "      --disabled-bg-color: #DDD;\n",
              "  }\n",
              "\n",
              "  [theme=dark] .colab-df-quickchart {\n",
              "      --bg-color: #3B4455;\n",
              "      --fill-color: #D2E3FC;\n",
              "      --hover-bg-color: #434B5C;\n",
              "      --hover-fill-color: #FFFFFF;\n",
              "      --disabled-bg-color: #3B4455;\n",
              "      --disabled-fill-color: #666;\n",
              "  }\n",
              "\n",
              "  .colab-df-quickchart {\n",
              "    background-color: var(--bg-color);\n",
              "    border: none;\n",
              "    border-radius: 50%;\n",
              "    cursor: pointer;\n",
              "    display: none;\n",
              "    fill: var(--fill-color);\n",
              "    height: 32px;\n",
              "    padding: 0;\n",
              "    width: 32px;\n",
              "  }\n",
              "\n",
              "  .colab-df-quickchart:hover {\n",
              "    background-color: var(--hover-bg-color);\n",
              "    box-shadow: 0 1px 2px rgba(60, 64, 67, 0.3), 0 1px 3px 1px rgba(60, 64, 67, 0.15);\n",
              "    fill: var(--button-hover-fill-color);\n",
              "  }\n",
              "\n",
              "  .colab-df-quickchart-complete:disabled,\n",
              "  .colab-df-quickchart-complete:disabled:hover {\n",
              "    background-color: var(--disabled-bg-color);\n",
              "    fill: var(--disabled-fill-color);\n",
              "    box-shadow: none;\n",
              "  }\n",
              "\n",
              "  .colab-df-spinner {\n",
              "    border: 2px solid var(--fill-color);\n",
              "    border-color: transparent;\n",
              "    border-bottom-color: var(--fill-color);\n",
              "    animation:\n",
              "      spin 1s steps(1) infinite;\n",
              "  }\n",
              "\n",
              "  @keyframes spin {\n",
              "    0% {\n",
              "      border-color: transparent;\n",
              "      border-bottom-color: var(--fill-color);\n",
              "      border-left-color: var(--fill-color);\n",
              "    }\n",
              "    20% {\n",
              "      border-color: transparent;\n",
              "      border-left-color: var(--fill-color);\n",
              "      border-top-color: var(--fill-color);\n",
              "    }\n",
              "    30% {\n",
              "      border-color: transparent;\n",
              "      border-left-color: var(--fill-color);\n",
              "      border-top-color: var(--fill-color);\n",
              "      border-right-color: var(--fill-color);\n",
              "    }\n",
              "    40% {\n",
              "      border-color: transparent;\n",
              "      border-right-color: var(--fill-color);\n",
              "      border-top-color: var(--fill-color);\n",
              "    }\n",
              "    60% {\n",
              "      border-color: transparent;\n",
              "      border-right-color: var(--fill-color);\n",
              "    }\n",
              "    80% {\n",
              "      border-color: transparent;\n",
              "      border-right-color: var(--fill-color);\n",
              "      border-bottom-color: var(--fill-color);\n",
              "    }\n",
              "    90% {\n",
              "      border-color: transparent;\n",
              "      border-bottom-color: var(--fill-color);\n",
              "    }\n",
              "  }\n",
              "</style>\n",
              "\n",
              "  <script>\n",
              "    async function quickchart(key) {\n",
              "      const quickchartButtonEl =\n",
              "        document.querySelector('#' + key + ' button');\n",
              "      quickchartButtonEl.disabled = true;  // To prevent multiple clicks.\n",
              "      quickchartButtonEl.classList.add('colab-df-spinner');\n",
              "      try {\n",
              "        const charts = await google.colab.kernel.invokeFunction(\n",
              "            'suggestCharts', [key], {});\n",
              "      } catch (error) {\n",
              "        console.error('Error during call to suggestCharts:', error);\n",
              "      }\n",
              "      quickchartButtonEl.classList.remove('colab-df-spinner');\n",
              "      quickchartButtonEl.classList.add('colab-df-quickchart-complete');\n",
              "    }\n",
              "    (() => {\n",
              "      let quickchartButtonEl =\n",
              "        document.querySelector('#df-e6373bc5-1561-4348-aeaa-03bf36b03e47 button');\n",
              "      quickchartButtonEl.style.display =\n",
              "        google.colab.kernel.accessAllowed ? 'block' : 'none';\n",
              "    })();\n",
              "  </script>\n",
              "</div>\n",
              "    </div>\n",
              "  </div>\n"
            ]
          },
          "metadata": {},
          "execution_count": 55
        }
      ],
      "source": [
        "# Filter the rated restaurants\n",
        "df_rated = df[df['rating'] != 'Not given'].copy()\n",
        "\n",
        "# Convert rating column from object to integer\n",
        "df_rated['rating'] = df_rated['rating'].astype('int')\n",
        "\n",
        "# Create a dataframe that contains the restaurant names with their rating counts\n",
        "df_rating_count = df_rated.groupby(['restaurant_name'])['rating'].count().sort_values(ascending = False).reset_index()\n",
        "df_rating_count.head()"
      ]
    },
    {
      "cell_type": "markdown",
      "source": [
        "* Observations:\n",
        "* To find the restaurats that have rating count above 50 and average rating is above 4, we used the above code block to **filter the rated restaurants and convert them to integer.**\n",
        "* Then **we created a dataframe with restaurant names with their ratings**.\n",
        "\n"
      ],
      "metadata": {
        "id": "aHgsrBb2doho"
      }
    },
    {
      "cell_type": "code",
      "execution_count": null,
      "metadata": {
        "id": "VLdgfwoL2rdT",
        "colab": {
          "base_uri": "https://localhost:8080/",
          "height": 175
        },
        "outputId": "d641c034-925f-4d78-8d5a-b4429f27eb6a"
      },
      "outputs": [
        {
          "output_type": "execute_result",
          "data": {
            "text/plain": [
              "             restaurant_name    rating\n",
              "0          The Meatball Shop  4.511905\n",
              "1  Blue Ribbon Fried Chicken  4.328125\n",
              "2                Shake Shack  4.278195\n",
              "3          Blue Ribbon Sushi  4.219178"
            ],
            "text/html": [
              "\n",
              "  <div id=\"df-0d25baef-3154-4323-af02-1446e7707c0e\" class=\"colab-df-container\">\n",
              "    <div>\n",
              "<style scoped>\n",
              "    .dataframe tbody tr th:only-of-type {\n",
              "        vertical-align: middle;\n",
              "    }\n",
              "\n",
              "    .dataframe tbody tr th {\n",
              "        vertical-align: top;\n",
              "    }\n",
              "\n",
              "    .dataframe thead th {\n",
              "        text-align: right;\n",
              "    }\n",
              "</style>\n",
              "<table border=\"1\" class=\"dataframe\">\n",
              "  <thead>\n",
              "    <tr style=\"text-align: right;\">\n",
              "      <th></th>\n",
              "      <th>restaurant_name</th>\n",
              "      <th>rating</th>\n",
              "    </tr>\n",
              "  </thead>\n",
              "  <tbody>\n",
              "    <tr>\n",
              "      <th>0</th>\n",
              "      <td>The Meatball Shop</td>\n",
              "      <td>4.511905</td>\n",
              "    </tr>\n",
              "    <tr>\n",
              "      <th>1</th>\n",
              "      <td>Blue Ribbon Fried Chicken</td>\n",
              "      <td>4.328125</td>\n",
              "    </tr>\n",
              "    <tr>\n",
              "      <th>2</th>\n",
              "      <td>Shake Shack</td>\n",
              "      <td>4.278195</td>\n",
              "    </tr>\n",
              "    <tr>\n",
              "      <th>3</th>\n",
              "      <td>Blue Ribbon Sushi</td>\n",
              "      <td>4.219178</td>\n",
              "    </tr>\n",
              "  </tbody>\n",
              "</table>\n",
              "</div>\n",
              "    <div class=\"colab-df-buttons\">\n",
              "\n",
              "  <div class=\"colab-df-container\">\n",
              "    <button class=\"colab-df-convert\" onclick=\"convertToInteractive('df-0d25baef-3154-4323-af02-1446e7707c0e')\"\n",
              "            title=\"Convert this dataframe to an interactive table.\"\n",
              "            style=\"display:none;\">\n",
              "\n",
              "  <svg xmlns=\"http://www.w3.org/2000/svg\" height=\"24px\" viewBox=\"0 -960 960 960\">\n",
              "    <path d=\"M120-120v-720h720v720H120Zm60-500h600v-160H180v160Zm220 220h160v-160H400v160Zm0 220h160v-160H400v160ZM180-400h160v-160H180v160Zm440 0h160v-160H620v160ZM180-180h160v-160H180v160Zm440 0h160v-160H620v160Z\"/>\n",
              "  </svg>\n",
              "    </button>\n",
              "\n",
              "  <style>\n",
              "    .colab-df-container {\n",
              "      display:flex;\n",
              "      gap: 12px;\n",
              "    }\n",
              "\n",
              "    .colab-df-convert {\n",
              "      background-color: #E8F0FE;\n",
              "      border: none;\n",
              "      border-radius: 50%;\n",
              "      cursor: pointer;\n",
              "      display: none;\n",
              "      fill: #1967D2;\n",
              "      height: 32px;\n",
              "      padding: 0 0 0 0;\n",
              "      width: 32px;\n",
              "    }\n",
              "\n",
              "    .colab-df-convert:hover {\n",
              "      background-color: #E2EBFA;\n",
              "      box-shadow: 0px 1px 2px rgba(60, 64, 67, 0.3), 0px 1px 3px 1px rgba(60, 64, 67, 0.15);\n",
              "      fill: #174EA6;\n",
              "    }\n",
              "\n",
              "    .colab-df-buttons div {\n",
              "      margin-bottom: 4px;\n",
              "    }\n",
              "\n",
              "    [theme=dark] .colab-df-convert {\n",
              "      background-color: #3B4455;\n",
              "      fill: #D2E3FC;\n",
              "    }\n",
              "\n",
              "    [theme=dark] .colab-df-convert:hover {\n",
              "      background-color: #434B5C;\n",
              "      box-shadow: 0px 1px 3px 1px rgba(0, 0, 0, 0.15);\n",
              "      filter: drop-shadow(0px 1px 2px rgba(0, 0, 0, 0.3));\n",
              "      fill: #FFFFFF;\n",
              "    }\n",
              "  </style>\n",
              "\n",
              "    <script>\n",
              "      const buttonEl =\n",
              "        document.querySelector('#df-0d25baef-3154-4323-af02-1446e7707c0e button.colab-df-convert');\n",
              "      buttonEl.style.display =\n",
              "        google.colab.kernel.accessAllowed ? 'block' : 'none';\n",
              "\n",
              "      async function convertToInteractive(key) {\n",
              "        const element = document.querySelector('#df-0d25baef-3154-4323-af02-1446e7707c0e');\n",
              "        const dataTable =\n",
              "          await google.colab.kernel.invokeFunction('convertToInteractive',\n",
              "                                                    [key], {});\n",
              "        if (!dataTable) return;\n",
              "\n",
              "        const docLinkHtml = 'Like what you see? Visit the ' +\n",
              "          '<a target=\"_blank\" href=https://colab.research.google.com/notebooks/data_table.ipynb>data table notebook</a>'\n",
              "          + ' to learn more about interactive tables.';\n",
              "        element.innerHTML = '';\n",
              "        dataTable['output_type'] = 'display_data';\n",
              "        await google.colab.output.renderOutput(dataTable, element);\n",
              "        const docLink = document.createElement('div');\n",
              "        docLink.innerHTML = docLinkHtml;\n",
              "        element.appendChild(docLink);\n",
              "      }\n",
              "    </script>\n",
              "  </div>\n",
              "\n",
              "\n",
              "<div id=\"df-1cf77f0f-f4f0-4e61-88c9-78db0febf2b7\">\n",
              "  <button class=\"colab-df-quickchart\" onclick=\"quickchart('df-1cf77f0f-f4f0-4e61-88c9-78db0febf2b7')\"\n",
              "            title=\"Suggest charts.\"\n",
              "            style=\"display:none;\">\n",
              "\n",
              "<svg xmlns=\"http://www.w3.org/2000/svg\" height=\"24px\"viewBox=\"0 0 24 24\"\n",
              "     width=\"24px\">\n",
              "    <g>\n",
              "        <path d=\"M19 3H5c-1.1 0-2 .9-2 2v14c0 1.1.9 2 2 2h14c1.1 0 2-.9 2-2V5c0-1.1-.9-2-2-2zM9 17H7v-7h2v7zm4 0h-2V7h2v10zm4 0h-2v-4h2v4z\"/>\n",
              "    </g>\n",
              "</svg>\n",
              "  </button>\n",
              "\n",
              "<style>\n",
              "  .colab-df-quickchart {\n",
              "      --bg-color: #E8F0FE;\n",
              "      --fill-color: #1967D2;\n",
              "      --hover-bg-color: #E2EBFA;\n",
              "      --hover-fill-color: #174EA6;\n",
              "      --disabled-fill-color: #AAA;\n",
              "      --disabled-bg-color: #DDD;\n",
              "  }\n",
              "\n",
              "  [theme=dark] .colab-df-quickchart {\n",
              "      --bg-color: #3B4455;\n",
              "      --fill-color: #D2E3FC;\n",
              "      --hover-bg-color: #434B5C;\n",
              "      --hover-fill-color: #FFFFFF;\n",
              "      --disabled-bg-color: #3B4455;\n",
              "      --disabled-fill-color: #666;\n",
              "  }\n",
              "\n",
              "  .colab-df-quickchart {\n",
              "    background-color: var(--bg-color);\n",
              "    border: none;\n",
              "    border-radius: 50%;\n",
              "    cursor: pointer;\n",
              "    display: none;\n",
              "    fill: var(--fill-color);\n",
              "    height: 32px;\n",
              "    padding: 0;\n",
              "    width: 32px;\n",
              "  }\n",
              "\n",
              "  .colab-df-quickchart:hover {\n",
              "    background-color: var(--hover-bg-color);\n",
              "    box-shadow: 0 1px 2px rgba(60, 64, 67, 0.3), 0 1px 3px 1px rgba(60, 64, 67, 0.15);\n",
              "    fill: var(--button-hover-fill-color);\n",
              "  }\n",
              "\n",
              "  .colab-df-quickchart-complete:disabled,\n",
              "  .colab-df-quickchart-complete:disabled:hover {\n",
              "    background-color: var(--disabled-bg-color);\n",
              "    fill: var(--disabled-fill-color);\n",
              "    box-shadow: none;\n",
              "  }\n",
              "\n",
              "  .colab-df-spinner {\n",
              "    border: 2px solid var(--fill-color);\n",
              "    border-color: transparent;\n",
              "    border-bottom-color: var(--fill-color);\n",
              "    animation:\n",
              "      spin 1s steps(1) infinite;\n",
              "  }\n",
              "\n",
              "  @keyframes spin {\n",
              "    0% {\n",
              "      border-color: transparent;\n",
              "      border-bottom-color: var(--fill-color);\n",
              "      border-left-color: var(--fill-color);\n",
              "    }\n",
              "    20% {\n",
              "      border-color: transparent;\n",
              "      border-left-color: var(--fill-color);\n",
              "      border-top-color: var(--fill-color);\n",
              "    }\n",
              "    30% {\n",
              "      border-color: transparent;\n",
              "      border-left-color: var(--fill-color);\n",
              "      border-top-color: var(--fill-color);\n",
              "      border-right-color: var(--fill-color);\n",
              "    }\n",
              "    40% {\n",
              "      border-color: transparent;\n",
              "      border-right-color: var(--fill-color);\n",
              "      border-top-color: var(--fill-color);\n",
              "    }\n",
              "    60% {\n",
              "      border-color: transparent;\n",
              "      border-right-color: var(--fill-color);\n",
              "    }\n",
              "    80% {\n",
              "      border-color: transparent;\n",
              "      border-right-color: var(--fill-color);\n",
              "      border-bottom-color: var(--fill-color);\n",
              "    }\n",
              "    90% {\n",
              "      border-color: transparent;\n",
              "      border-bottom-color: var(--fill-color);\n",
              "    }\n",
              "  }\n",
              "</style>\n",
              "\n",
              "  <script>\n",
              "    async function quickchart(key) {\n",
              "      const quickchartButtonEl =\n",
              "        document.querySelector('#' + key + ' button');\n",
              "      quickchartButtonEl.disabled = true;  // To prevent multiple clicks.\n",
              "      quickchartButtonEl.classList.add('colab-df-spinner');\n",
              "      try {\n",
              "        const charts = await google.colab.kernel.invokeFunction(\n",
              "            'suggestCharts', [key], {});\n",
              "      } catch (error) {\n",
              "        console.error('Error during call to suggestCharts:', error);\n",
              "      }\n",
              "      quickchartButtonEl.classList.remove('colab-df-spinner');\n",
              "      quickchartButtonEl.classList.add('colab-df-quickchart-complete');\n",
              "    }\n",
              "    (() => {\n",
              "      let quickchartButtonEl =\n",
              "        document.querySelector('#df-1cf77f0f-f4f0-4e61-88c9-78db0febf2b7 button');\n",
              "      quickchartButtonEl.style.display =\n",
              "        google.colab.kernel.accessAllowed ? 'block' : 'none';\n",
              "    })();\n",
              "  </script>\n",
              "</div>\n",
              "    </div>\n",
              "  </div>\n"
            ]
          },
          "metadata": {},
          "execution_count": 56
        }
      ],
      "source": [
        "# Get the restaurant names that have rating count more than 50 #\n",
        "rest_names = df_rating_count[df_rating_count['rating']>50]['restaurant_name'] ## Code to get the restaurant names having rating count more than 50\n",
        "\n",
        "# Filter to get the data of restaurants that have rating count more than 50\n",
        "df_mean_4 = df_rated[df_rated['restaurant_name'].isin(rest_names)].copy()\n",
        "\n",
        "# Group the restaurant names with their ratings and find the mean rating of each restaurant\n",
        "df_mean_4.groupby(['restaurant_name'])['rating'].mean().sort_values(ascending = False).reset_index().dropna() ## Code to find the mean rating\n",
        "\n"
      ]
    },
    {
      "cell_type": "markdown",
      "source": [
        "* Observations Continued from the previoius code block.\n",
        "* In this immediately above code block, we have achieved the following:\n",
        "* **Get the restaurant names that have rating count above 50**\n",
        "* **Then we found the mean rating of the restaurants**."
      ],
      "metadata": {
        "id": "7JSeeAqBdph6"
      }
    },
    {
      "cell_type": "code",
      "execution_count": null,
      "metadata": {
        "id": "We7SLKbr2rdT",
        "colab": {
          "base_uri": "https://localhost:8080/",
          "height": 206
        },
        "outputId": "90022f0d-fda1-43b6-d144-0c3683b0c62d"
      },
      "outputs": [
        {
          "output_type": "execute_result",
          "data": {
            "text/plain": [
              "   order_id  customer_id            restaurant_name cuisine_type  \\\n",
              "0   1477147       337525                    Hangawi       Korean   \n",
              "1   1477685       358141  Blue Ribbon Sushi Izakaya     Japanese   \n",
              "2   1477070        66393                Cafe Habana      Mexican   \n",
              "3   1477334       106968  Blue Ribbon Fried Chicken     American   \n",
              "4   1478249        76942           Dirty Bird to Go     American   \n",
              "\n",
              "   cost_of_the_order day_of_the_week     rating  food_preparation_time  \\\n",
              "0              30.75         Weekend  Not given                     25   \n",
              "1              12.08         Weekend  Not given                     25   \n",
              "2              12.23         Weekday          5                     23   \n",
              "3              29.20         Weekend          3                     25   \n",
              "4              11.59         Weekday          4                     25   \n",
              "\n",
              "   delivery_time  Revenue  \n",
              "0             20   7.6875  \n",
              "1             23   1.8120  \n",
              "2             28   1.8345  \n",
              "3             15   7.3000  \n",
              "4             24   1.7385  "
            ],
            "text/html": [
              "\n",
              "  <div id=\"df-3000a27c-445f-4a1e-9f3a-864abe16aab2\" class=\"colab-df-container\">\n",
              "    <div>\n",
              "<style scoped>\n",
              "    .dataframe tbody tr th:only-of-type {\n",
              "        vertical-align: middle;\n",
              "    }\n",
              "\n",
              "    .dataframe tbody tr th {\n",
              "        vertical-align: top;\n",
              "    }\n",
              "\n",
              "    .dataframe thead th {\n",
              "        text-align: right;\n",
              "    }\n",
              "</style>\n",
              "<table border=\"1\" class=\"dataframe\">\n",
              "  <thead>\n",
              "    <tr style=\"text-align: right;\">\n",
              "      <th></th>\n",
              "      <th>order_id</th>\n",
              "      <th>customer_id</th>\n",
              "      <th>restaurant_name</th>\n",
              "      <th>cuisine_type</th>\n",
              "      <th>cost_of_the_order</th>\n",
              "      <th>day_of_the_week</th>\n",
              "      <th>rating</th>\n",
              "      <th>food_preparation_time</th>\n",
              "      <th>delivery_time</th>\n",
              "      <th>Revenue</th>\n",
              "    </tr>\n",
              "  </thead>\n",
              "  <tbody>\n",
              "    <tr>\n",
              "      <th>0</th>\n",
              "      <td>1477147</td>\n",
              "      <td>337525</td>\n",
              "      <td>Hangawi</td>\n",
              "      <td>Korean</td>\n",
              "      <td>30.75</td>\n",
              "      <td>Weekend</td>\n",
              "      <td>Not given</td>\n",
              "      <td>25</td>\n",
              "      <td>20</td>\n",
              "      <td>7.6875</td>\n",
              "    </tr>\n",
              "    <tr>\n",
              "      <th>1</th>\n",
              "      <td>1477685</td>\n",
              "      <td>358141</td>\n",
              "      <td>Blue Ribbon Sushi Izakaya</td>\n",
              "      <td>Japanese</td>\n",
              "      <td>12.08</td>\n",
              "      <td>Weekend</td>\n",
              "      <td>Not given</td>\n",
              "      <td>25</td>\n",
              "      <td>23</td>\n",
              "      <td>1.8120</td>\n",
              "    </tr>\n",
              "    <tr>\n",
              "      <th>2</th>\n",
              "      <td>1477070</td>\n",
              "      <td>66393</td>\n",
              "      <td>Cafe Habana</td>\n",
              "      <td>Mexican</td>\n",
              "      <td>12.23</td>\n",
              "      <td>Weekday</td>\n",
              "      <td>5</td>\n",
              "      <td>23</td>\n",
              "      <td>28</td>\n",
              "      <td>1.8345</td>\n",
              "    </tr>\n",
              "    <tr>\n",
              "      <th>3</th>\n",
              "      <td>1477334</td>\n",
              "      <td>106968</td>\n",
              "      <td>Blue Ribbon Fried Chicken</td>\n",
              "      <td>American</td>\n",
              "      <td>29.20</td>\n",
              "      <td>Weekend</td>\n",
              "      <td>3</td>\n",
              "      <td>25</td>\n",
              "      <td>15</td>\n",
              "      <td>7.3000</td>\n",
              "    </tr>\n",
              "    <tr>\n",
              "      <th>4</th>\n",
              "      <td>1478249</td>\n",
              "      <td>76942</td>\n",
              "      <td>Dirty Bird to Go</td>\n",
              "      <td>American</td>\n",
              "      <td>11.59</td>\n",
              "      <td>Weekday</td>\n",
              "      <td>4</td>\n",
              "      <td>25</td>\n",
              "      <td>24</td>\n",
              "      <td>1.7385</td>\n",
              "    </tr>\n",
              "  </tbody>\n",
              "</table>\n",
              "</div>\n",
              "    <div class=\"colab-df-buttons\">\n",
              "\n",
              "  <div class=\"colab-df-container\">\n",
              "    <button class=\"colab-df-convert\" onclick=\"convertToInteractive('df-3000a27c-445f-4a1e-9f3a-864abe16aab2')\"\n",
              "            title=\"Convert this dataframe to an interactive table.\"\n",
              "            style=\"display:none;\">\n",
              "\n",
              "  <svg xmlns=\"http://www.w3.org/2000/svg\" height=\"24px\" viewBox=\"0 -960 960 960\">\n",
              "    <path d=\"M120-120v-720h720v720H120Zm60-500h600v-160H180v160Zm220 220h160v-160H400v160Zm0 220h160v-160H400v160ZM180-400h160v-160H180v160Zm440 0h160v-160H620v160ZM180-180h160v-160H180v160Zm440 0h160v-160H620v160Z\"/>\n",
              "  </svg>\n",
              "    </button>\n",
              "\n",
              "  <style>\n",
              "    .colab-df-container {\n",
              "      display:flex;\n",
              "      gap: 12px;\n",
              "    }\n",
              "\n",
              "    .colab-df-convert {\n",
              "      background-color: #E8F0FE;\n",
              "      border: none;\n",
              "      border-radius: 50%;\n",
              "      cursor: pointer;\n",
              "      display: none;\n",
              "      fill: #1967D2;\n",
              "      height: 32px;\n",
              "      padding: 0 0 0 0;\n",
              "      width: 32px;\n",
              "    }\n",
              "\n",
              "    .colab-df-convert:hover {\n",
              "      background-color: #E2EBFA;\n",
              "      box-shadow: 0px 1px 2px rgba(60, 64, 67, 0.3), 0px 1px 3px 1px rgba(60, 64, 67, 0.15);\n",
              "      fill: #174EA6;\n",
              "    }\n",
              "\n",
              "    .colab-df-buttons div {\n",
              "      margin-bottom: 4px;\n",
              "    }\n",
              "\n",
              "    [theme=dark] .colab-df-convert {\n",
              "      background-color: #3B4455;\n",
              "      fill: #D2E3FC;\n",
              "    }\n",
              "\n",
              "    [theme=dark] .colab-df-convert:hover {\n",
              "      background-color: #434B5C;\n",
              "      box-shadow: 0px 1px 3px 1px rgba(0, 0, 0, 0.15);\n",
              "      filter: drop-shadow(0px 1px 2px rgba(0, 0, 0, 0.3));\n",
              "      fill: #FFFFFF;\n",
              "    }\n",
              "  </style>\n",
              "\n",
              "    <script>\n",
              "      const buttonEl =\n",
              "        document.querySelector('#df-3000a27c-445f-4a1e-9f3a-864abe16aab2 button.colab-df-convert');\n",
              "      buttonEl.style.display =\n",
              "        google.colab.kernel.accessAllowed ? 'block' : 'none';\n",
              "\n",
              "      async function convertToInteractive(key) {\n",
              "        const element = document.querySelector('#df-3000a27c-445f-4a1e-9f3a-864abe16aab2');\n",
              "        const dataTable =\n",
              "          await google.colab.kernel.invokeFunction('convertToInteractive',\n",
              "                                                    [key], {});\n",
              "        if (!dataTable) return;\n",
              "\n",
              "        const docLinkHtml = 'Like what you see? Visit the ' +\n",
              "          '<a target=\"_blank\" href=https://colab.research.google.com/notebooks/data_table.ipynb>data table notebook</a>'\n",
              "          + ' to learn more about interactive tables.';\n",
              "        element.innerHTML = '';\n",
              "        dataTable['output_type'] = 'display_data';\n",
              "        await google.colab.output.renderOutput(dataTable, element);\n",
              "        const docLink = document.createElement('div');\n",
              "        docLink.innerHTML = docLinkHtml;\n",
              "        element.appendChild(docLink);\n",
              "      }\n",
              "    </script>\n",
              "  </div>\n",
              "\n",
              "\n",
              "<div id=\"df-05b79539-eb3c-4914-8aaa-f8e013e2c75e\">\n",
              "  <button class=\"colab-df-quickchart\" onclick=\"quickchart('df-05b79539-eb3c-4914-8aaa-f8e013e2c75e')\"\n",
              "            title=\"Suggest charts.\"\n",
              "            style=\"display:none;\">\n",
              "\n",
              "<svg xmlns=\"http://www.w3.org/2000/svg\" height=\"24px\"viewBox=\"0 0 24 24\"\n",
              "     width=\"24px\">\n",
              "    <g>\n",
              "        <path d=\"M19 3H5c-1.1 0-2 .9-2 2v14c0 1.1.9 2 2 2h14c1.1 0 2-.9 2-2V5c0-1.1-.9-2-2-2zM9 17H7v-7h2v7zm4 0h-2V7h2v10zm4 0h-2v-4h2v4z\"/>\n",
              "    </g>\n",
              "</svg>\n",
              "  </button>\n",
              "\n",
              "<style>\n",
              "  .colab-df-quickchart {\n",
              "      --bg-color: #E8F0FE;\n",
              "      --fill-color: #1967D2;\n",
              "      --hover-bg-color: #E2EBFA;\n",
              "      --hover-fill-color: #174EA6;\n",
              "      --disabled-fill-color: #AAA;\n",
              "      --disabled-bg-color: #DDD;\n",
              "  }\n",
              "\n",
              "  [theme=dark] .colab-df-quickchart {\n",
              "      --bg-color: #3B4455;\n",
              "      --fill-color: #D2E3FC;\n",
              "      --hover-bg-color: #434B5C;\n",
              "      --hover-fill-color: #FFFFFF;\n",
              "      --disabled-bg-color: #3B4455;\n",
              "      --disabled-fill-color: #666;\n",
              "  }\n",
              "\n",
              "  .colab-df-quickchart {\n",
              "    background-color: var(--bg-color);\n",
              "    border: none;\n",
              "    border-radius: 50%;\n",
              "    cursor: pointer;\n",
              "    display: none;\n",
              "    fill: var(--fill-color);\n",
              "    height: 32px;\n",
              "    padding: 0;\n",
              "    width: 32px;\n",
              "  }\n",
              "\n",
              "  .colab-df-quickchart:hover {\n",
              "    background-color: var(--hover-bg-color);\n",
              "    box-shadow: 0 1px 2px rgba(60, 64, 67, 0.3), 0 1px 3px 1px rgba(60, 64, 67, 0.15);\n",
              "    fill: var(--button-hover-fill-color);\n",
              "  }\n",
              "\n",
              "  .colab-df-quickchart-complete:disabled,\n",
              "  .colab-df-quickchart-complete:disabled:hover {\n",
              "    background-color: var(--disabled-bg-color);\n",
              "    fill: var(--disabled-fill-color);\n",
              "    box-shadow: none;\n",
              "  }\n",
              "\n",
              "  .colab-df-spinner {\n",
              "    border: 2px solid var(--fill-color);\n",
              "    border-color: transparent;\n",
              "    border-bottom-color: var(--fill-color);\n",
              "    animation:\n",
              "      spin 1s steps(1) infinite;\n",
              "  }\n",
              "\n",
              "  @keyframes spin {\n",
              "    0% {\n",
              "      border-color: transparent;\n",
              "      border-bottom-color: var(--fill-color);\n",
              "      border-left-color: var(--fill-color);\n",
              "    }\n",
              "    20% {\n",
              "      border-color: transparent;\n",
              "      border-left-color: var(--fill-color);\n",
              "      border-top-color: var(--fill-color);\n",
              "    }\n",
              "    30% {\n",
              "      border-color: transparent;\n",
              "      border-left-color: var(--fill-color);\n",
              "      border-top-color: var(--fill-color);\n",
              "      border-right-color: var(--fill-color);\n",
              "    }\n",
              "    40% {\n",
              "      border-color: transparent;\n",
              "      border-right-color: var(--fill-color);\n",
              "      border-top-color: var(--fill-color);\n",
              "    }\n",
              "    60% {\n",
              "      border-color: transparent;\n",
              "      border-right-color: var(--fill-color);\n",
              "    }\n",
              "    80% {\n",
              "      border-color: transparent;\n",
              "      border-right-color: var(--fill-color);\n",
              "      border-bottom-color: var(--fill-color);\n",
              "    }\n",
              "    90% {\n",
              "      border-color: transparent;\n",
              "      border-bottom-color: var(--fill-color);\n",
              "    }\n",
              "  }\n",
              "</style>\n",
              "\n",
              "  <script>\n",
              "    async function quickchart(key) {\n",
              "      const quickchartButtonEl =\n",
              "        document.querySelector('#' + key + ' button');\n",
              "      quickchartButtonEl.disabled = true;  // To prevent multiple clicks.\n",
              "      quickchartButtonEl.classList.add('colab-df-spinner');\n",
              "      try {\n",
              "        const charts = await google.colab.kernel.invokeFunction(\n",
              "            'suggestCharts', [key], {});\n",
              "      } catch (error) {\n",
              "        console.error('Error during call to suggestCharts:', error);\n",
              "      }\n",
              "      quickchartButtonEl.classList.remove('colab-df-spinner');\n",
              "      quickchartButtonEl.classList.add('colab-df-quickchart-complete');\n",
              "    }\n",
              "    (() => {\n",
              "      let quickchartButtonEl =\n",
              "        document.querySelector('#df-05b79539-eb3c-4914-8aaa-f8e013e2c75e button');\n",
              "      quickchartButtonEl.style.display =\n",
              "        google.colab.kernel.accessAllowed ? 'block' : 'none';\n",
              "    })();\n",
              "  </script>\n",
              "</div>\n",
              "    </div>\n",
              "  </div>\n"
            ]
          },
          "metadata": {},
          "execution_count": 57
        }
      ],
      "source": [
        "# Function to determine the revenue\n",
        "def compute_rev(x):\n",
        "    if x > 20:\n",
        "        return x*0.25\n",
        "    elif x > 5:\n",
        "        return x*0.15\n",
        "    else:\n",
        "        return x*0\n",
        "\n",
        "df['Revenue'] = df['cost_of_the_order'].apply(compute_rev) ## Write the apprpriate column name to compute the revenue\n",
        "df.head()"
      ]
    },
    {
      "cell_type": "markdown",
      "source": [
        "* Observations: We have used above code to compute the net revenue."
      ],
      "metadata": {
        "id": "u7guiIcRi-k2"
      }
    },
    {
      "cell_type": "code",
      "execution_count": null,
      "metadata": {
        "id": "Ab_UW6kRIAk3",
        "colab": {
          "base_uri": "https://localhost:8080/"
        },
        "outputId": "a3e1ad56-fcbb-4f69-de36-153976d09285"
      },
      "outputs": [
        {
          "output_type": "stream",
          "name": "stdout",
          "text": [
            "The net revenue is around 6166.3 dollars\n"
          ]
        }
      ],
      "source": [
        "# get the total revenue and print it\n",
        "total_rev = df['Revenue'].sum() ## Function to get the total revenue\n",
        "print('The net revenue is around', round(total_rev, 2), 'dollars')"
      ]
    },
    {
      "cell_type": "markdown",
      "source": [
        "* Observations: **The total revenue generated** is **6166.3 dollars**."
      ],
      "metadata": {
        "id": "GndSFLZkkt6m"
      }
    },
    {
      "cell_type": "code",
      "source": [
        "# Calculate total delivery time and add a new column to the dataframe df to store the total delivery time\n",
        "df['total_time'] = df['food_preparation_time'] + df['delivery_time']\n",
        "df.head()"
      ],
      "metadata": {
        "colab": {
          "base_uri": "https://localhost:8080/",
          "height": 258
        },
        "id": "F7dZGwimvUyK",
        "outputId": "d8d403f3-5d98-4c0c-f76c-e07576ad6407"
      },
      "execution_count": null,
      "outputs": [
        {
          "output_type": "execute_result",
          "data": {
            "text/plain": [
              "   order_id  customer_id            restaurant_name cuisine_type  \\\n",
              "0   1477147       337525                    Hangawi       Korean   \n",
              "1   1477685       358141  Blue Ribbon Sushi Izakaya     Japanese   \n",
              "2   1477070        66393                Cafe Habana      Mexican   \n",
              "3   1477334       106968  Blue Ribbon Fried Chicken     American   \n",
              "4   1478249        76942           Dirty Bird to Go     American   \n",
              "\n",
              "   cost_of_the_order day_of_the_week     rating  food_preparation_time  \\\n",
              "0              30.75         Weekend  Not given                     25   \n",
              "1              12.08         Weekend  Not given                     25   \n",
              "2              12.23         Weekday          5                     23   \n",
              "3              29.20         Weekend          3                     25   \n",
              "4              11.59         Weekday          4                     25   \n",
              "\n",
              "   delivery_time  Revenue  total_time  \n",
              "0             20   7.6875          45  \n",
              "1             23   1.8120          48  \n",
              "2             28   1.8345          51  \n",
              "3             15   7.3000          40  \n",
              "4             24   1.7385          49  "
            ],
            "text/html": [
              "\n",
              "  <div id=\"df-122e75a3-bff7-4726-b8de-6788844e4f53\" class=\"colab-df-container\">\n",
              "    <div>\n",
              "<style scoped>\n",
              "    .dataframe tbody tr th:only-of-type {\n",
              "        vertical-align: middle;\n",
              "    }\n",
              "\n",
              "    .dataframe tbody tr th {\n",
              "        vertical-align: top;\n",
              "    }\n",
              "\n",
              "    .dataframe thead th {\n",
              "        text-align: right;\n",
              "    }\n",
              "</style>\n",
              "<table border=\"1\" class=\"dataframe\">\n",
              "  <thead>\n",
              "    <tr style=\"text-align: right;\">\n",
              "      <th></th>\n",
              "      <th>order_id</th>\n",
              "      <th>customer_id</th>\n",
              "      <th>restaurant_name</th>\n",
              "      <th>cuisine_type</th>\n",
              "      <th>cost_of_the_order</th>\n",
              "      <th>day_of_the_week</th>\n",
              "      <th>rating</th>\n",
              "      <th>food_preparation_time</th>\n",
              "      <th>delivery_time</th>\n",
              "      <th>Revenue</th>\n",
              "      <th>total_time</th>\n",
              "    </tr>\n",
              "  </thead>\n",
              "  <tbody>\n",
              "    <tr>\n",
              "      <th>0</th>\n",
              "      <td>1477147</td>\n",
              "      <td>337525</td>\n",
              "      <td>Hangawi</td>\n",
              "      <td>Korean</td>\n",
              "      <td>30.75</td>\n",
              "      <td>Weekend</td>\n",
              "      <td>Not given</td>\n",
              "      <td>25</td>\n",
              "      <td>20</td>\n",
              "      <td>7.6875</td>\n",
              "      <td>45</td>\n",
              "    </tr>\n",
              "    <tr>\n",
              "      <th>1</th>\n",
              "      <td>1477685</td>\n",
              "      <td>358141</td>\n",
              "      <td>Blue Ribbon Sushi Izakaya</td>\n",
              "      <td>Japanese</td>\n",
              "      <td>12.08</td>\n",
              "      <td>Weekend</td>\n",
              "      <td>Not given</td>\n",
              "      <td>25</td>\n",
              "      <td>23</td>\n",
              "      <td>1.8120</td>\n",
              "      <td>48</td>\n",
              "    </tr>\n",
              "    <tr>\n",
              "      <th>2</th>\n",
              "      <td>1477070</td>\n",
              "      <td>66393</td>\n",
              "      <td>Cafe Habana</td>\n",
              "      <td>Mexican</td>\n",
              "      <td>12.23</td>\n",
              "      <td>Weekday</td>\n",
              "      <td>5</td>\n",
              "      <td>23</td>\n",
              "      <td>28</td>\n",
              "      <td>1.8345</td>\n",
              "      <td>51</td>\n",
              "    </tr>\n",
              "    <tr>\n",
              "      <th>3</th>\n",
              "      <td>1477334</td>\n",
              "      <td>106968</td>\n",
              "      <td>Blue Ribbon Fried Chicken</td>\n",
              "      <td>American</td>\n",
              "      <td>29.20</td>\n",
              "      <td>Weekend</td>\n",
              "      <td>3</td>\n",
              "      <td>25</td>\n",
              "      <td>15</td>\n",
              "      <td>7.3000</td>\n",
              "      <td>40</td>\n",
              "    </tr>\n",
              "    <tr>\n",
              "      <th>4</th>\n",
              "      <td>1478249</td>\n",
              "      <td>76942</td>\n",
              "      <td>Dirty Bird to Go</td>\n",
              "      <td>American</td>\n",
              "      <td>11.59</td>\n",
              "      <td>Weekday</td>\n",
              "      <td>4</td>\n",
              "      <td>25</td>\n",
              "      <td>24</td>\n",
              "      <td>1.7385</td>\n",
              "      <td>49</td>\n",
              "    </tr>\n",
              "  </tbody>\n",
              "</table>\n",
              "</div>\n",
              "    <div class=\"colab-df-buttons\">\n",
              "\n",
              "  <div class=\"colab-df-container\">\n",
              "    <button class=\"colab-df-convert\" onclick=\"convertToInteractive('df-122e75a3-bff7-4726-b8de-6788844e4f53')\"\n",
              "            title=\"Convert this dataframe to an interactive table.\"\n",
              "            style=\"display:none;\">\n",
              "\n",
              "  <svg xmlns=\"http://www.w3.org/2000/svg\" height=\"24px\" viewBox=\"0 -960 960 960\">\n",
              "    <path d=\"M120-120v-720h720v720H120Zm60-500h600v-160H180v160Zm220 220h160v-160H400v160Zm0 220h160v-160H400v160ZM180-400h160v-160H180v160Zm440 0h160v-160H620v160ZM180-180h160v-160H180v160Zm440 0h160v-160H620v160Z\"/>\n",
              "  </svg>\n",
              "    </button>\n",
              "\n",
              "  <style>\n",
              "    .colab-df-container {\n",
              "      display:flex;\n",
              "      gap: 12px;\n",
              "    }\n",
              "\n",
              "    .colab-df-convert {\n",
              "      background-color: #E8F0FE;\n",
              "      border: none;\n",
              "      border-radius: 50%;\n",
              "      cursor: pointer;\n",
              "      display: none;\n",
              "      fill: #1967D2;\n",
              "      height: 32px;\n",
              "      padding: 0 0 0 0;\n",
              "      width: 32px;\n",
              "    }\n",
              "\n",
              "    .colab-df-convert:hover {\n",
              "      background-color: #E2EBFA;\n",
              "      box-shadow: 0px 1px 2px rgba(60, 64, 67, 0.3), 0px 1px 3px 1px rgba(60, 64, 67, 0.15);\n",
              "      fill: #174EA6;\n",
              "    }\n",
              "\n",
              "    .colab-df-buttons div {\n",
              "      margin-bottom: 4px;\n",
              "    }\n",
              "\n",
              "    [theme=dark] .colab-df-convert {\n",
              "      background-color: #3B4455;\n",
              "      fill: #D2E3FC;\n",
              "    }\n",
              "\n",
              "    [theme=dark] .colab-df-convert:hover {\n",
              "      background-color: #434B5C;\n",
              "      box-shadow: 0px 1px 3px 1px rgba(0, 0, 0, 0.15);\n",
              "      filter: drop-shadow(0px 1px 2px rgba(0, 0, 0, 0.3));\n",
              "      fill: #FFFFFF;\n",
              "    }\n",
              "  </style>\n",
              "\n",
              "    <script>\n",
              "      const buttonEl =\n",
              "        document.querySelector('#df-122e75a3-bff7-4726-b8de-6788844e4f53 button.colab-df-convert');\n",
              "      buttonEl.style.display =\n",
              "        google.colab.kernel.accessAllowed ? 'block' : 'none';\n",
              "\n",
              "      async function convertToInteractive(key) {\n",
              "        const element = document.querySelector('#df-122e75a3-bff7-4726-b8de-6788844e4f53');\n",
              "        const dataTable =\n",
              "          await google.colab.kernel.invokeFunction('convertToInteractive',\n",
              "                                                    [key], {});\n",
              "        if (!dataTable) return;\n",
              "\n",
              "        const docLinkHtml = 'Like what you see? Visit the ' +\n",
              "          '<a target=\"_blank\" href=https://colab.research.google.com/notebooks/data_table.ipynb>data table notebook</a>'\n",
              "          + ' to learn more about interactive tables.';\n",
              "        element.innerHTML = '';\n",
              "        dataTable['output_type'] = 'display_data';\n",
              "        await google.colab.output.renderOutput(dataTable, element);\n",
              "        const docLink = document.createElement('div');\n",
              "        docLink.innerHTML = docLinkHtml;\n",
              "        element.appendChild(docLink);\n",
              "      }\n",
              "    </script>\n",
              "  </div>\n",
              "\n",
              "\n",
              "<div id=\"df-f12ae19f-d14f-49e6-a573-fd65d68fd0b1\">\n",
              "  <button class=\"colab-df-quickchart\" onclick=\"quickchart('df-f12ae19f-d14f-49e6-a573-fd65d68fd0b1')\"\n",
              "            title=\"Suggest charts.\"\n",
              "            style=\"display:none;\">\n",
              "\n",
              "<svg xmlns=\"http://www.w3.org/2000/svg\" height=\"24px\"viewBox=\"0 0 24 24\"\n",
              "     width=\"24px\">\n",
              "    <g>\n",
              "        <path d=\"M19 3H5c-1.1 0-2 .9-2 2v14c0 1.1.9 2 2 2h14c1.1 0 2-.9 2-2V5c0-1.1-.9-2-2-2zM9 17H7v-7h2v7zm4 0h-2V7h2v10zm4 0h-2v-4h2v4z\"/>\n",
              "    </g>\n",
              "</svg>\n",
              "  </button>\n",
              "\n",
              "<style>\n",
              "  .colab-df-quickchart {\n",
              "      --bg-color: #E8F0FE;\n",
              "      --fill-color: #1967D2;\n",
              "      --hover-bg-color: #E2EBFA;\n",
              "      --hover-fill-color: #174EA6;\n",
              "      --disabled-fill-color: #AAA;\n",
              "      --disabled-bg-color: #DDD;\n",
              "  }\n",
              "\n",
              "  [theme=dark] .colab-df-quickchart {\n",
              "      --bg-color: #3B4455;\n",
              "      --fill-color: #D2E3FC;\n",
              "      --hover-bg-color: #434B5C;\n",
              "      --hover-fill-color: #FFFFFF;\n",
              "      --disabled-bg-color: #3B4455;\n",
              "      --disabled-fill-color: #666;\n",
              "  }\n",
              "\n",
              "  .colab-df-quickchart {\n",
              "    background-color: var(--bg-color);\n",
              "    border: none;\n",
              "    border-radius: 50%;\n",
              "    cursor: pointer;\n",
              "    display: none;\n",
              "    fill: var(--fill-color);\n",
              "    height: 32px;\n",
              "    padding: 0;\n",
              "    width: 32px;\n",
              "  }\n",
              "\n",
              "  .colab-df-quickchart:hover {\n",
              "    background-color: var(--hover-bg-color);\n",
              "    box-shadow: 0 1px 2px rgba(60, 64, 67, 0.3), 0 1px 3px 1px rgba(60, 64, 67, 0.15);\n",
              "    fill: var(--button-hover-fill-color);\n",
              "  }\n",
              "\n",
              "  .colab-df-quickchart-complete:disabled,\n",
              "  .colab-df-quickchart-complete:disabled:hover {\n",
              "    background-color: var(--disabled-bg-color);\n",
              "    fill: var(--disabled-fill-color);\n",
              "    box-shadow: none;\n",
              "  }\n",
              "\n",
              "  .colab-df-spinner {\n",
              "    border: 2px solid var(--fill-color);\n",
              "    border-color: transparent;\n",
              "    border-bottom-color: var(--fill-color);\n",
              "    animation:\n",
              "      spin 1s steps(1) infinite;\n",
              "  }\n",
              "\n",
              "  @keyframes spin {\n",
              "    0% {\n",
              "      border-color: transparent;\n",
              "      border-bottom-color: var(--fill-color);\n",
              "      border-left-color: var(--fill-color);\n",
              "    }\n",
              "    20% {\n",
              "      border-color: transparent;\n",
              "      border-left-color: var(--fill-color);\n",
              "      border-top-color: var(--fill-color);\n",
              "    }\n",
              "    30% {\n",
              "      border-color: transparent;\n",
              "      border-left-color: var(--fill-color);\n",
              "      border-top-color: var(--fill-color);\n",
              "      border-right-color: var(--fill-color);\n",
              "    }\n",
              "    40% {\n",
              "      border-color: transparent;\n",
              "      border-right-color: var(--fill-color);\n",
              "      border-top-color: var(--fill-color);\n",
              "    }\n",
              "    60% {\n",
              "      border-color: transparent;\n",
              "      border-right-color: var(--fill-color);\n",
              "    }\n",
              "    80% {\n",
              "      border-color: transparent;\n",
              "      border-right-color: var(--fill-color);\n",
              "      border-bottom-color: var(--fill-color);\n",
              "    }\n",
              "    90% {\n",
              "      border-color: transparent;\n",
              "      border-bottom-color: var(--fill-color);\n",
              "    }\n",
              "  }\n",
              "</style>\n",
              "\n",
              "  <script>\n",
              "    async function quickchart(key) {\n",
              "      const quickchartButtonEl =\n",
              "        document.querySelector('#' + key + ' button');\n",
              "      quickchartButtonEl.disabled = true;  // To prevent multiple clicks.\n",
              "      quickchartButtonEl.classList.add('colab-df-spinner');\n",
              "      try {\n",
              "        const charts = await google.colab.kernel.invokeFunction(\n",
              "            'suggestCharts', [key], {});\n",
              "      } catch (error) {\n",
              "        console.error('Error during call to suggestCharts:', error);\n",
              "      }\n",
              "      quickchartButtonEl.classList.remove('colab-df-spinner');\n",
              "      quickchartButtonEl.classList.add('colab-df-quickchart-complete');\n",
              "    }\n",
              "    (() => {\n",
              "      let quickchartButtonEl =\n",
              "        document.querySelector('#df-f12ae19f-d14f-49e6-a573-fd65d68fd0b1 button');\n",
              "      quickchartButtonEl.style.display =\n",
              "        google.colab.kernel.accessAllowed ? 'block' : 'none';\n",
              "    })();\n",
              "  </script>\n",
              "</div>\n",
              "    </div>\n",
              "  </div>\n"
            ]
          },
          "metadata": {},
          "execution_count": 141
        }
      ]
    },
    {
      "cell_type": "code",
      "execution_count": null,
      "metadata": {
        "id": "Ati2ZEEE2rdT",
        "colab": {
          "base_uri": "https://localhost:8080/"
        },
        "outputId": "ba23f71d-5dd1-45d9-d37d-bf6cadc7d2f2"
      },
      "outputs": [
        {
          "output_type": "stream",
          "name": "stdout",
          "text": [
            "1898\n",
            "The percentage of orders took more than 60 minutes is:  10.54 %\n"
          ]
        }
      ],
      "source": [
        "# Calculate total delivery time and add a new column to the dataframe df to store the total delivery time\n",
        "df['total_time'] = df['food_preparation_time'] + df['delivery_time']\n",
        "\n",
        "## Code to find the percentage of orders that have more than 60 minutes of total delivery time (see Question 9 for reference)\n",
        "\n",
        "total_count = df['total_time'].count()\n",
        "print(total_count);\n",
        "\n",
        "orders_over60_mins = df['total_time'][df['total_time'] > 60].count()\n",
        "\n",
        "orders_over60_percent = round((orders_over60_mins/total_count) * 100,2)\n",
        "\n",
        "#orders_percentage_above60mins = round((df['total_time'] [df['food_preparation_time'] > 60].count()\n",
        "#for i in df['total_time']:\n",
        "# if i > 60:\n",
        "#    orders_percentage = orders_percentage + 1\n",
        "\n",
        "print('The percentage of orders took more than 60 minutes is: ', orders_over60_percent, '%')\n"
      ]
    },
    {
      "cell_type": "markdown",
      "source": [
        "* Observations: The **percentage of orders took more than 60 minutes to get delivered from the time the order placed**: **10.54 %**"
      ],
      "metadata": {
        "id": "uIYVvFbGljsQ"
      }
    },
    {
      "cell_type": "code",
      "execution_count": null,
      "metadata": {
        "id": "A2eovxKR2rdU",
        "colab": {
          "base_uri": "https://localhost:8080/"
        },
        "outputId": "d22b225e-77b7-4d2d-d34a-f8e0a6882a37"
      },
      "outputs": [
        {
          "output_type": "stream",
          "name": "stdout",
          "text": [
            "The mean delivery time on weekdays is around 28 minutes\n",
            "The mean delivery time on Weekend is around 22 minutes\n"
          ]
        }
      ],
      "source": [
        "# Get the mean delivery time on weekdays and print it\n",
        "print('The mean delivery time on weekdays is around',\n",
        "      round(df[df['day_of_the_week'] == 'Weekday']['delivery_time'].mean()),\n",
        "     'minutes')\n",
        "\n",
        "## Code to get the mean delivery time on weekends and print it\n",
        "print('The mean delivery time on Weekend is around',\n",
        "      round(df[df['day_of_the_week'] == 'Weekend']['delivery_time'].mean()),\n",
        "     'minutes')\n"
      ]
    },
    {
      "cell_type": "code",
      "source": [
        "sns.boxplot(x=df['day_of_the_week'], y=df['delivery_time'])\n",
        "plt.ylabel('delivery time')\n",
        "plt.xlabel('day of the week')\n",
        "plt.title('Delivery')\n",
        "\n",
        "mean_delivery_time = df.groupby('day_of_the_week')['delivery_time'].mean()\n",
        "\n",
        "print(mean_delivery_time)"
      ],
      "metadata": {
        "colab": {
          "base_uri": "https://localhost:8080/",
          "height": 543
        },
        "id": "rvwLvjK8j-VX",
        "outputId": "6c2b1ebf-e8e9-42a3-89d8-c508e3ff89c6"
      },
      "execution_count": null,
      "outputs": [
        {
          "output_type": "stream",
          "name": "stdout",
          "text": [
            "day_of_the_week\n",
            "Weekday    28.340037\n",
            "Weekend    22.470022\n",
            "Name: delivery_time, dtype: float64\n"
          ]
        },
        {
          "output_type": "display_data",
          "data": {
            "text/plain": [
              "<Figure size 640x480 with 1 Axes>"
            ],
            "image/png": "[encoded data removed]"
          },
          "metadata": {}
        }
      ]
    },
    {
      "cell_type": "markdown",
      "source": [
        "* Observations: The **mean delivey time on Weekday** is around **28 minutes** and on over **weekend** is **22 minutes**."
      ],
      "metadata": {
        "id": "CWuoVvLLqgKj"
      }
    },
    {
      "cell_type": "markdown",
      "metadata": {
        "id": "2nE3pq472rdU"
      },
      "source": [
        "### Conclusion and Recommendations"
      ]
    },
    {
      "cell_type": "markdown",
      "metadata": {
        "id": "VTugVsL4Ddz-"
      },
      "source": [
        "## **Conclusions:**\n",
        "\n",
        "• Total count of observations we analyzed are 1898 Orders.\n",
        "\n",
        "• Cost Of the Order: Average cost of the order is 15 dollars, 25% of orders are around 12\n",
        "dollars, 50% of the orders cost is 14.14 dollars, 75% cost of the orders are at 22.30 dollars.\n",
        "\n",
        "The Standard Deviation between the cost of orders is 7.48 dollars.\n",
        "\n",
        "• **Food Preparation Time:**\n",
        "\n",
        "• The Average Food preparation time is approximately 27.37 mintues and the prep time is ranging\n",
        "from 20 to 35 minutes. The Standard Deviation of prep time is 4.63 minutes.\n",
        "\n",
        "• **Delivery Time:** The delivery time is ranging from 15 to 33 minutes and the average time to\n",
        "deliver the food is approximately 24.16 minutes with a Standard Deviation of 4.97 minutes.\n",
        "\n",
        "\n",
        "• **Food Preparation Time:** The food prep time ranges from 20 to 37 minutes and the Food preparatin is\n",
        "evenly distributed.\n",
        "\n",
        "• Cost of the Orders:** The Cost of the orders is slightly right skewed. Boxplot shows the median /\n",
        "average cost of the orders is around 14 dollars, while the 25th percentile cost of the orders is at\n",
        "around 12 dollars and the 75th percentile cost of the order is around 22 dollars.\n",
        "\n",
        "• The delivery time ranges from 20 to approximately, 28 minutes and the median / average time it\n",
        "take to deliver the food is 25 minutes.\n",
        "\n",
        "• Top 5 restaurants and those are Shake Shack, The Meatball Shop, Blue Ribbon Sushi, Blue Ribbon\n",
        "Fried Chicken and Parm\n",
        "\n",
        "• The top number of orders are placed for Shake Shack restaurant with 219 orders, followed by The\n",
        "Meatball Shop with 132 orders, Blue Ribbon Sushi with 119 orders, Blue Ribbon Fried\n",
        "Chicken with 96 orders, and Parm with 68 orders.\n",
        "\n",
        "• The number of total orders that cost above 20 dollars is: 555\n",
        "\n",
        "• Percentage of orders above 20 dollars: 29.24 %\n",
        "\n",
        "\n",
        "• The American cuisine is the most popular, followed by Japenese.\n",
        "\n",
        "• Among all cuisine types, American, Japanse, Italian, Chinese are top 4 cusinesin the order (top to bottom),\n",
        "and there is a close tie between Mexican and Indian cuisines.\n",
        "\n",
        "• The percentage of orders took more than 60 minutes to get delivered from the time the order\n",
        "placed: 10.54 %\n",
        "\n",
        "• The number of orders not rated, 'Not given' are 736 and the orders rated 5 are the top rating,\n",
        "followed by 4 and 3.\n",
        "\n",
        "• The mean delivery time on Weekday is around 28 minutes and on over weekend is 22 minutes.\n",
        "\n",
        "• The major part of the orders were placed during the weekend.\n",
        "\n"
      ]
    },
    {
      "cell_type": "markdown",
      "metadata": {
        "id": "PWnsI0i_guWJ"
      },
      "source": [
        "## Recommendations:\n",
        "\n",
        "**Conclusions and Recommendation:**\n",
        "\n",
        "• Understand why customers 'Not given' means the customer has not rated the respective order and\n",
        "it is not a missing value. We can improve customer participation by offering incentives or making the\n",
        "rating option on the UI easy to use or any other UI User Experience improvment to rate the order.\n",
        "Proprietary content. © Great Learning. All Rights Reserved. Unauthorized use or distribution prohibited.\n",
        "\n",
        "• We can improve customers rating participation by offering incentives or making the rating option on\n",
        "the UI easy to use or any other UI User Experience improvement to easily rate the order.\n",
        "• Start conversations with the customers who have not rated and ask how to buy their confidence in\n",
        "the app and suggestions to make their participation rewarding.\n",
        "• First focus on Weekend orders and reach out to the customers for this analysis and implement their\n",
        "suggestions.\n",
        "• Improve delivery times.\n",
        "• Offer incentives such as one free delivery if they reach certain number of orders and have rated the\n",
        "orders.\n"
      ]
    }
  ],
  "metadata": {
    "colab": {
      "collapsed_sections": [
        "LUh8hTiW2rdH",
        "2Dl2aL1W2rdI",
        "4ceeYAVy2rdO",
        "2nE3pq472rdU",
        "DL1sNndy2rdU"
      ],
      "provenance": [],
      "include_colab_link": true
    },
    "kernelspec": {
      "display_name": "Python 3",
      "name": "python3"
    },
    "language_info": {
      "codemirror_mode": {
        "name": "ipython",
        "version": 3
      },
      "file_extension": ".py",
      "mimetype": "text/x-python",
      "name": "python",
      "nbconvert_exporter": "python",
      "pygments_lexer": "ipython3",
      "version": "3.9.7"
    }
  },
  "nbformat": 4,
  "nbformat_minor": 0
}
