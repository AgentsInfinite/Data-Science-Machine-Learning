{
  "cells": [
    {
      "cell_type": "markdown",
      "metadata": {
        "id": "view-in-github",
        "colab_type": "text"
      },
      "source": [
        "<a href=\"https://colab.research.google.com/github/VamK2/Data-Science-Machine-Learning/blob/main/VamsiK2_AI_Application_NaturalLanguageProcessing_Tranformers_GradioUI_Prompting_Airline_Customer_Sentiment_Analysis.ipynb\" target=\"_parent\"><img src=\"https://colab.research.google.com/assets/colab-badge.svg\" alt=\"Open In Colab\"/></a>"
      ]
    },
    {
      "cell_type": "markdown",
      "source": [
        "# **AI Solution: Airline Customer Sentiment Analysis using NLP - Tranformers Architecture Huggingface**"
      ],
      "metadata": {
        "id": "VOaZKPTBT9da"
      }
    },
    {
      "cell_type": "markdown",
      "metadata": {
        "id": "5anWY7mmJ0Z3"
      },
      "source": [
        "# **Problem**"
      ]
    },
    {
      "cell_type": "markdown",
      "metadata": {
        "id": "FdAA_c5-KDkH"
      },
      "source": [
        "**SkyWings Airlines, a leading airline company, is encountering challenges in effectively managing customer feedback and sentiment expressed on social media platforms. The company seeks to develop an AI-driven sentiment analysis solution to automatically assess and categorize the feedback, thereby gaining actionable insights to enhance passenger experiences, improve customer satisfaction, and inform strategic decision-making.**"
      ]
    },
    {
      "cell_type": "markdown",
      "metadata": {
        "id": "6fN9X-ZWEer5"
      },
      "source": [
        "# **AI Solution Workflow**"
      ]
    },
    {
      "cell_type": "markdown",
      "metadata": {
        "id": "C3Z2IoXoXbJ_"
      },
      "source": [
        "# **Business Context and Problem Definition**"
      ]
    },
    {
      "cell_type": "markdown",
      "metadata": {
        "id": "MjncuDf2qugI"
      },
      "source": [
        "## **Business Context**"
      ]
    },
    {
      "cell_type": "markdown",
      "metadata": {
        "id": "dense-medicaid"
      },
      "source": [
        "In today's digital age, social media platforms like Twitter have become a prominent channel for customers to share their experiences and opinions, and the airline industry is no exception. Passengers frequently turn to Twitter to express their thoughts, feelings, and experiences related to their air travel. The ease of access and immediacy of social media has empowered customers to voice their opinions in real-time, making it a valuable source of feedback for airlines. The airline company recognized the immense value of these insights to understand customer sentiment and continuously enhance the travel experience.\n",
        "\n",
        "However, the airline company faces a significant challenge with the rise of negative feedback on social media. Negative sentiments expressed by customers become a crucial problem to solve as they can lead to several detrimental effects, including:\n",
        "\n",
        "1. Customer Churn: Unaddressed negative sentiment can lead to customer dissatisfaction and ultimately result in passengers choosing competitors for their future travel needs. This translates to a loss of loyal customers, impacting long-term revenue and market share.\n",
        "\n",
        "2. Reputation Damage: Persistent negative sentiment, if left unmanaged, can tarnish an airline's reputation, and influence potential passengers to avoid booking with the airline. A damaged reputation can have lasting consequences, affecting brand loyalty and trust.\n",
        "\n",
        "3. Financial Loss: Loss of revenue can occur if negative sentiment drives passengers away, impacting the airline's profitability and long-term success. Negative feedback can discourage potential passengers from making bookings with the airline, leading to direct financial repercussions"
      ]
    },
    {
      "cell_type": "markdown",
      "metadata": {
        "id": "lJ6qUJ3EqxW2"
      },
      "source": [
        "## **Problem Definition**"
      ]
    },
    {
      "cell_type": "markdown",
      "metadata": {
        "id": "RkjASpFDeR4m"
      },
      "source": [
        "The Airline Group has been facing a pressing challenge in the past year—a sharp decline in flight bookings, resulting in a significant drop in customer numbers. In the last three months, this decrease reached an all-time high of 18%, leading to an unprecedented annual revenue loss of approximately $0.25 million. These losses have taken a toll on the airline's profit margins.\n",
        "\n",
        "The airline has noticed a trend as they grew - the amount of feedback coming through conventional channels (airline feedback forms, surveys, etc.) has reduced and customers have started sharing their feedback by tagging the airline's official social media handles. The volume of feedback beng received on social media has significantly increased (~25%) over the past six months. In particular, the official Twitter handle of the airline saw a 50% increase in mentions. While they were initially tracking the social media feedback manually, the recent increase in volume has made it difficult to continue the same. This has prompted the airline to seek an AI-based solution to analyze the feedback provided by customers on social media. They believe that such a solution will be more effective than their current methods and provide insights that can proactively help them minimize revenue loss. As a first step, they want to start by assessing the feedback provided by customers on social media and categorizing the sentiment of the customer as negative, positive, or neutral."
      ]
    },
    {
      "cell_type": "markdown",
      "metadata": {
        "id": "IBWBQA-OBrxj"
      },
      "source": [
        "# **Data Gathering**\n"
      ]
    },
    {
      "cell_type": "markdown",
      "metadata": {
        "id": "x_d8c1W8vc9I"
      },
      "source": [
        "**The data needed for buidling any AI solution is usually obtained from multiple sources.**\n",
        "\n",
        "In the current scenario, we have the following sources:\n",
        "\n",
        "- **Online surveys**: This is a quick and easy way to collect feedback from a large number of customers. Surveys can be sent via email, posted on the airline's website, or embedded in the airline's mobile app.\n",
        "\n",
        "- **Social media monitoring**: Airlines can monitor social media platforms such as Twitter, Facebook, and Instagram to see what customers are saying about their airline. This can be a good way to identify customer concerns and areas for improvement.\n",
        "\n",
        "- **Customer service interactions**: Airlines can collect feedback from customers during customer service interactions, such as phone calls, emails, and in-person interactions. Customer service representatives can ask customers directly for feedback, or they can simply listen to what customers have to say and identify common themes.\n",
        "\n",
        "- **Review and Rating Platforms**: Monitor and analyze reviews on platforms like TripAdvisor, Yelp, or dedicated airline review sites.\n",
        "\n",
        "The data from different sources are collected and stored in an organized and secure manner in databases. Once the data is stored, we can extract necessary data in multiple ways.\n",
        "\n",
        "- **Data from Databases**\n",
        "    - **Export as CSV/Excel File:** This method allows for exporting a selected subset or the entire dataset in a CSV (Comma-Separated Values) or Excel file format, which can be easily opened and analyzed using spreadsheet software or using programming languages like Python.\n",
        "    - **Querying from the database:** This involves running SQL (Structured Query Language) queries on the database to retrieve specific data based on predefined conditions, allowing for more targeted and customized data extraction for analysis or reporting purposes. The SQL queries can be executed using programming languages like Python by establishing a connection to the database\n",
        "\n"
      ]
    },
    {
      "cell_type": "markdown",
      "metadata": {
        "id": "x43Qez3O3zaz"
      },
      "source": [
        "#### **For the scope of this session, we are going to export a sample of the entire data to showcase the end-to-end solution.**\n",
        "- The sample data was obtained from the data scraped from the Twitter handle of the airline\n",
        "- **We'll load the data sample into a Python notebook for illustration.**\n"
      ]
    },
    {
      "cell_type": "markdown",
      "metadata": {
        "id": "tqfNqaJCQeEE"
      },
      "source": [
        "## Importing the necessary libraries"
      ]
    },
    {
      "cell_type": "code",
      "execution_count": null,
      "metadata": {
        "id": "f8oZoDPtXpyD"
      },
      "outputs": [],
      "source": [
        "!pip install --quiet transformers huggingface_hub bitsandbytes accelerate sentencepiece gradio"
      ]
    },
    {
      "cell_type": "code",
      "execution_count": null,
      "metadata": {
        "id": "_9UFK_HJTOsB"
      },
      "outputs": [],
      "source": [
        "# libraries for data manipulation\n",
        "import pandas as pd\n",
        "import numpy as np\n",
        "\n",
        "# libraries for data visualization\n",
        "import matplotlib.pyplot as plt\n",
        "import seaborn as sns\n",
        "\n",
        "# importing LLM models and tokenizers\n",
        "from transformers import T5Tokenizer, T5ForConditionalGeneration\n",
        "\n",
        "# importing metric functions\n",
        "from sklearn.metrics import confusion_matrix, accuracy_score\n",
        "\n",
        "# importing library to split the data\n",
        "from sklearn.model_selection import train_test_split\n",
        "\n",
        "# library for model deployment\n",
        "import gradio as gr"
      ]
    },
    {
      "cell_type": "markdown",
      "metadata": {
        "id": "fantastic-rebel"
      },
      "source": [
        "## Loading the dataset"
      ]
    },
    {
      "cell_type": "code",
      "execution_count": null,
      "metadata": {
        "id": "hUtM4aB4PLTp",
        "colab": {
          "base_uri": "https://localhost:8080/"
        },
        "outputId": "85e248d2-d65a-4084-fa1e-468792e52ff1"
      },
      "outputs": [
        {
          "output_type": "stream",
          "name": "stdout",
          "text": [
            "Mounted at /content/drive\n"
          ]
        }
      ],
      "source": [
        "# mounting Google Drive\n",
        "from google.colab import drive\n",
        "drive.mount('/content/drive')"
      ]
    },
    {
      "cell_type": "code",
      "source": [
        "df = pd.read_csv('/content/drive/Deep Learning/Artificial Neural Networks-Classification/AI Application/US_Airways.csv')"
      ],
      "metadata": {
        "id": "X4xCPKBhKlI4"
      },
      "execution_count": null,
      "outputs": []
    },
    {
      "cell_type": "code",
      "execution_count": null,
      "metadata": {
        "colab": {
          "base_uri": "https://localhost:8080/",
          "height": 938
        },
        "id": "pmlis0CwTRNf",
        "outputId": "d86fe247-dcff-4e98-c223-45d3387fa354"
      },
      "outputs": [
        {
          "output_type": "execute_result",
          "data": {
            "text/plain": [
              "                tweet_id airline_sentiment  airline_sentiment_confidence  \\\n",
              "1825  568873459901702145          negative                        0.6675   \n",
              "616   569866081164111873           neutral                        1.0000   \n",
              "1965  568777504368005120          positive                        1.0000   \n",
              "785   569682454757257216          negative                        1.0000   \n",
              "600   569873091763032065          negative                        1.0000   \n",
              "1282  569459455273897984          negative                        1.0000   \n",
              "2410  568162061278011392          negative                        1.0000   \n",
              "2753  567800315093979138          negative                        1.0000   \n",
              "2469  568116602186502144          negative                        0.6576   \n",
              "705   569729072697352192          negative                        1.0000   \n",
              "\n",
              "               negativereason  negativereason_confidence     airline  \\\n",
              "1825               Can't Tell                     0.6675  US Airways   \n",
              "616                       NaN                        NaN  US Airways   \n",
              "1965                      NaN                        NaN  US Airways   \n",
              "785                Can't Tell                     1.0000  US Airways   \n",
              "600               Late Flight                     0.6720  US Airways   \n",
              "1282   Customer Service Issue                     0.6995  US Airways   \n",
              "2410   Customer Service Issue                     1.0000  US Airways   \n",
              "2753   Customer Service Issue                     1.0000  US Airways   \n",
              "2469  Flight Booking Problems                     0.6576  US Airways   \n",
              "705    Customer Service Issue                     0.6533  US Airways   \n",
              "\n",
              "     airline_sentiment_gold             name negativereason_gold  \\\n",
              "1825                    NaN       ScottKat22                 NaN   \n",
              "616                     NaN   The_BlueAnchor                 NaN   \n",
              "1965                    NaN   NicholasBSabin                 NaN   \n",
              "785                     NaN            smw04                 NaN   \n",
              "600                     NaN  ConstanceSCHERE                 NaN   \n",
              "1282                    NaN  ChrisWalters_WV                 NaN   \n",
              "2410                    NaN       BigDavew2k                 NaN   \n",
              "2753                    NaN    GainesJohnson                 NaN   \n",
              "2469                    NaN        alvarez16                 NaN   \n",
              "705                     NaN     CourtneyyKay                 NaN   \n",
              "\n",
              "      retweet_count                                               text  \\\n",
              "1825              0  @USAirways have checked all day.  CHO needs ad...   \n",
              "616               0  @USAirways will all flights out of DFW be Canc...   \n",
              "1965              0      @USAirways I appreciate your prompt response.   \n",
              "785               0  @USAirways  Interesting you forward compliment...   \n",
              "600               0  @USAirways First the pilot was Late Flight, no...   \n",
              "1282              0  @USAirways have you ever lost luggage with an ...   \n",
              "2410              0  @USAirways I tried to call your customer servi...   \n",
              "2753              0  @USAirways I have now called 12 times in the l...   \n",
              "2469              0  @USAirways booked an award ticket recently, no...   \n",
              "705               0  @USAirways it still says that I can't check in...   \n",
              "\n",
              "                      tweet_coord              tweet_created  \\\n",
              "1825                          NaN  2015-02-20 12:42:56 -0800   \n",
              "616                           NaN  2015-02-23 06:27:16 -0800   \n",
              "1965                          NaN  2015-02-20 06:21:39 -0800   \n",
              "785                           NaN  2015-02-22 18:17:36 -0800   \n",
              "600   [39.88116058, -75.24031037]  2015-02-23 06:55:07 -0800   \n",
              "1282                          NaN  2015-02-22 03:31:28 -0800   \n",
              "2410                          NaN  2015-02-18 13:36:06 -0800   \n",
              "2753                          NaN  2015-02-17 13:38:38 -0800   \n",
              "2469                          NaN  2015-02-18 10:35:27 -0800   \n",
              "705                           NaN  2015-02-22 21:22:50 -0800   \n",
              "\n",
              "                 tweet_location               user_timezone  \n",
              "1825                        NaN  Eastern Time (US & Canada)  \n",
              "616                  Dallas, TX  Central Time (US & Canada)  \n",
              "1965                Wendell, NC  Eastern Time (US & Canada)  \n",
              "785                         NaN      Atlantic Time (Canada)  \n",
              "600                  Boston, MA      Atlantic Time (Canada)  \n",
              "1282              West Virginia  Central Time (US & Canada)  \n",
              "2410                        NaN                         NaN  \n",
              "2753  Charlottesville, Virginia  Central Time (US & Canada)  \n",
              "2469                        USA  Eastern Time (US & Canada)  \n",
              "705         Michigan ➡️ Florida  Eastern Time (US & Canada)  "
            ],
            "text/html": [
              "\n",
              "  <div id=\"df-badb070e-4a49-4319-8907-8d93062e28a4\" class=\"colab-df-container\">\n",
              "    <div>\n",
              "<style scoped>\n",
              "    .dataframe tbody tr th:only-of-type {\n",
              "        vertical-align: middle;\n",
              "    }\n",
              "\n",
              "    .dataframe tbody tr th {\n",
              "        vertical-align: top;\n",
              "    }\n",
              "\n",
              "    .dataframe thead th {\n",
              "        text-align: right;\n",
              "    }\n",
              "</style>\n",
              "<table border=\"1\" class=\"dataframe\">\n",
              "  <thead>\n",
              "    <tr style=\"text-align: right;\">\n",
              "      <th></th>\n",
              "      <th>tweet_id</th>\n",
              "      <th>airline_sentiment</th>\n",
              "      <th>airline_sentiment_confidence</th>\n",
              "      <th>negativereason</th>\n",
              "      <th>negativereason_confidence</th>\n",
              "      <th>airline</th>\n",
              "      <th>airline_sentiment_gold</th>\n",
              "      <th>name</th>\n",
              "      <th>negativereason_gold</th>\n",
              "      <th>retweet_count</th>\n",
              "      <th>text</th>\n",
              "      <th>tweet_coord</th>\n",
              "      <th>tweet_created</th>\n",
              "      <th>tweet_location</th>\n",
              "      <th>user_timezone</th>\n",
              "    </tr>\n",
              "  </thead>\n",
              "  <tbody>\n",
              "    <tr>\n",
              "      <th>1825</th>\n",
              "      <td>568873459901702145</td>\n",
              "      <td>negative</td>\n",
              "      <td>0.6675</td>\n",
              "      <td>Can't Tell</td>\n",
              "      <td>0.6675</td>\n",
              "      <td>US Airways</td>\n",
              "      <td>NaN</td>\n",
              "      <td>ScottKat22</td>\n",
              "      <td>NaN</td>\n",
              "      <td>0</td>\n",
              "      <td>@USAirways have checked all day.  CHO needs ad...</td>\n",
              "      <td>NaN</td>\n",
              "      <td>2015-02-20 12:42:56 -0800</td>\n",
              "      <td>NaN</td>\n",
              "      <td>Eastern Time (US &amp; Canada)</td>\n",
              "    </tr>\n",
              "    <tr>\n",
              "      <th>616</th>\n",
              "      <td>569866081164111873</td>\n",
              "      <td>neutral</td>\n",
              "      <td>1.0000</td>\n",
              "      <td>NaN</td>\n",
              "      <td>NaN</td>\n",
              "      <td>US Airways</td>\n",
              "      <td>NaN</td>\n",
              "      <td>The_BlueAnchor</td>\n",
              "      <td>NaN</td>\n",
              "      <td>0</td>\n",
              "      <td>@USAirways will all flights out of DFW be Canc...</td>\n",
              "      <td>NaN</td>\n",
              "      <td>2015-02-23 06:27:16 -0800</td>\n",
              "      <td>Dallas, TX</td>\n",
              "      <td>Central Time (US &amp; Canada)</td>\n",
              "    </tr>\n",
              "    <tr>\n",
              "      <th>1965</th>\n",
              "      <td>568777504368005120</td>\n",
              "      <td>positive</td>\n",
              "      <td>1.0000</td>\n",
              "      <td>NaN</td>\n",
              "      <td>NaN</td>\n",
              "      <td>US Airways</td>\n",
              "      <td>NaN</td>\n",
              "      <td>NicholasBSabin</td>\n",
              "      <td>NaN</td>\n",
              "      <td>0</td>\n",
              "      <td>@USAirways I appreciate your prompt response.</td>\n",
              "      <td>NaN</td>\n",
              "      <td>2015-02-20 06:21:39 -0800</td>\n",
              "      <td>Wendell, NC</td>\n",
              "      <td>Eastern Time (US &amp; Canada)</td>\n",
              "    </tr>\n",
              "    <tr>\n",
              "      <th>785</th>\n",
              "      <td>569682454757257216</td>\n",
              "      <td>negative</td>\n",
              "      <td>1.0000</td>\n",
              "      <td>Can't Tell</td>\n",
              "      <td>1.0000</td>\n",
              "      <td>US Airways</td>\n",
              "      <td>NaN</td>\n",
              "      <td>smw04</td>\n",
              "      <td>NaN</td>\n",
              "      <td>0</td>\n",
              "      <td>@USAirways  Interesting you forward compliment...</td>\n",
              "      <td>NaN</td>\n",
              "      <td>2015-02-22 18:17:36 -0800</td>\n",
              "      <td>NaN</td>\n",
              "      <td>Atlantic Time (Canada)</td>\n",
              "    </tr>\n",
              "    <tr>\n",
              "      <th>600</th>\n",
              "      <td>569873091763032065</td>\n",
              "      <td>negative</td>\n",
              "      <td>1.0000</td>\n",
              "      <td>Late Flight</td>\n",
              "      <td>0.6720</td>\n",
              "      <td>US Airways</td>\n",
              "      <td>NaN</td>\n",
              "      <td>ConstanceSCHERE</td>\n",
              "      <td>NaN</td>\n",
              "      <td>0</td>\n",
              "      <td>@USAirways First the pilot was Late Flight, no...</td>\n",
              "      <td>[39.88116058, -75.24031037]</td>\n",
              "      <td>2015-02-23 06:55:07 -0800</td>\n",
              "      <td>Boston, MA</td>\n",
              "      <td>Atlantic Time (Canada)</td>\n",
              "    </tr>\n",
              "    <tr>\n",
              "      <th>1282</th>\n",
              "      <td>569459455273897984</td>\n",
              "      <td>negative</td>\n",
              "      <td>1.0000</td>\n",
              "      <td>Customer Service Issue</td>\n",
              "      <td>0.6995</td>\n",
              "      <td>US Airways</td>\n",
              "      <td>NaN</td>\n",
              "      <td>ChrisWalters_WV</td>\n",
              "      <td>NaN</td>\n",
              "      <td>0</td>\n",
              "      <td>@USAirways have you ever lost luggage with an ...</td>\n",
              "      <td>NaN</td>\n",
              "      <td>2015-02-22 03:31:28 -0800</td>\n",
              "      <td>West Virginia</td>\n",
              "      <td>Central Time (US &amp; Canada)</td>\n",
              "    </tr>\n",
              "    <tr>\n",
              "      <th>2410</th>\n",
              "      <td>568162061278011392</td>\n",
              "      <td>negative</td>\n",
              "      <td>1.0000</td>\n",
              "      <td>Customer Service Issue</td>\n",
              "      <td>1.0000</td>\n",
              "      <td>US Airways</td>\n",
              "      <td>NaN</td>\n",
              "      <td>BigDavew2k</td>\n",
              "      <td>NaN</td>\n",
              "      <td>0</td>\n",
              "      <td>@USAirways I tried to call your customer servi...</td>\n",
              "      <td>NaN</td>\n",
              "      <td>2015-02-18 13:36:06 -0800</td>\n",
              "      <td>NaN</td>\n",
              "      <td>NaN</td>\n",
              "    </tr>\n",
              "    <tr>\n",
              "      <th>2753</th>\n",
              "      <td>567800315093979138</td>\n",
              "      <td>negative</td>\n",
              "      <td>1.0000</td>\n",
              "      <td>Customer Service Issue</td>\n",
              "      <td>1.0000</td>\n",
              "      <td>US Airways</td>\n",
              "      <td>NaN</td>\n",
              "      <td>GainesJohnson</td>\n",
              "      <td>NaN</td>\n",
              "      <td>0</td>\n",
              "      <td>@USAirways I have now called 12 times in the l...</td>\n",
              "      <td>NaN</td>\n",
              "      <td>2015-02-17 13:38:38 -0800</td>\n",
              "      <td>Charlottesville, Virginia</td>\n",
              "      <td>Central Time (US &amp; Canada)</td>\n",
              "    </tr>\n",
              "    <tr>\n",
              "      <th>2469</th>\n",
              "      <td>568116602186502144</td>\n",
              "      <td>negative</td>\n",
              "      <td>0.6576</td>\n",
              "      <td>Flight Booking Problems</td>\n",
              "      <td>0.6576</td>\n",
              "      <td>US Airways</td>\n",
              "      <td>NaN</td>\n",
              "      <td>alvarez16</td>\n",
              "      <td>NaN</td>\n",
              "      <td>0</td>\n",
              "      <td>@USAirways booked an award ticket recently, no...</td>\n",
              "      <td>NaN</td>\n",
              "      <td>2015-02-18 10:35:27 -0800</td>\n",
              "      <td>USA</td>\n",
              "      <td>Eastern Time (US &amp; Canada)</td>\n",
              "    </tr>\n",
              "    <tr>\n",
              "      <th>705</th>\n",
              "      <td>569729072697352192</td>\n",
              "      <td>negative</td>\n",
              "      <td>1.0000</td>\n",
              "      <td>Customer Service Issue</td>\n",
              "      <td>0.6533</td>\n",
              "      <td>US Airways</td>\n",
              "      <td>NaN</td>\n",
              "      <td>CourtneyyKay</td>\n",
              "      <td>NaN</td>\n",
              "      <td>0</td>\n",
              "      <td>@USAirways it still says that I can't check in...</td>\n",
              "      <td>NaN</td>\n",
              "      <td>2015-02-22 21:22:50 -0800</td>\n",
              "      <td>Michigan ➡️ Florida</td>\n",
              "      <td>Eastern Time (US &amp; Canada)</td>\n",
              "    </tr>\n",
              "  </tbody>\n",
              "</table>\n",
              "</div>\n",
              "    <div class=\"colab-df-buttons\">\n",
              "\n",
              "  <div class=\"colab-df-container\">\n",
              "    <button class=\"colab-df-convert\" onclick=\"convertToInteractive('df-badb070e-4a49-4319-8907-8d93062e28a4')\"\n",
              "            title=\"Convert this dataframe to an interactive table.\"\n",
              "            style=\"display:none;\">\n",
              "\n",
              "  <svg xmlns=\"http://www.w3.org/2000/svg\" height=\"24px\" viewBox=\"0 -960 960 960\">\n",
              "    <path d=\"M120-120v-720h720v720H120Zm60-500h600v-160H180v160Zm220 220h160v-160H400v160Zm0 220h160v-160H400v160ZM180-400h160v-160H180v160Zm440 0h160v-160H620v160ZM180-180h160v-160H180v160Zm440 0h160v-160H620v160Z\"/>\n",
              "  </svg>\n",
              "    </button>\n",
              "\n",
              "  <style>\n",
              "    .colab-df-container {\n",
              "      display:flex;\n",
              "      gap: 12px;\n",
              "    }\n",
              "\n",
              "    .colab-df-convert {\n",
              "      background-color: #E8F0FE;\n",
              "      border: none;\n",
              "      border-radius: 50%;\n",
              "      cursor: pointer;\n",
              "      display: none;\n",
              "      fill: #1967D2;\n",
              "      height: 32px;\n",
              "      padding: 0 0 0 0;\n",
              "      width: 32px;\n",
              "    }\n",
              "\n",
              "    .colab-df-convert:hover {\n",
              "      background-color: #E2EBFA;\n",
              "      box-shadow: 0px 1px 2px rgba(60, 64, 67, 0.3), 0px 1px 3px 1px rgba(60, 64, 67, 0.15);\n",
              "      fill: #174EA6;\n",
              "    }\n",
              "\n",
              "    .colab-df-buttons div {\n",
              "      margin-bottom: 4px;\n",
              "    }\n",
              "\n",
              "    [theme=dark] .colab-df-convert {\n",
              "      background-color: #3B4455;\n",
              "      fill: #D2E3FC;\n",
              "    }\n",
              "\n",
              "    [theme=dark] .colab-df-convert:hover {\n",
              "      background-color: #434B5C;\n",
              "      box-shadow: 0px 1px 3px 1px rgba(0, 0, 0, 0.15);\n",
              "      filter: drop-shadow(0px 1px 2px rgba(0, 0, 0, 0.3));\n",
              "      fill: #FFFFFF;\n",
              "    }\n",
              "  </style>\n",
              "\n",
              "    <script>\n",
              "      const buttonEl =\n",
              "        document.querySelector('#df-badb070e-4a49-4319-8907-8d93062e28a4 button.colab-df-convert');\n",
              "      buttonEl.style.display =\n",
              "        google.colab.kernel.accessAllowed ? 'block' : 'none';\n",
              "\n",
              "      async function convertToInteractive(key) {\n",
              "        const element = document.querySelector('#df-badb070e-4a49-4319-8907-8d93062e28a4');\n",
              "        const dataTable =\n",
              "          await google.colab.kernel.invokeFunction('convertToInteractive',\n",
              "                                                    [key], {});\n",
              "        if (!dataTable) return;\n",
              "\n",
              "        const docLinkHtml = 'Like what you see? Visit the ' +\n",
              "          '<a target=\"_blank\" href=https://colab.research.google.com/notebooks/data_table.ipynb>data table notebook</a>'\n",
              "          + ' to learn more about interactive tables.';\n",
              "        element.innerHTML = '';\n",
              "        dataTable['output_type'] = 'display_data';\n",
              "        await google.colab.output.renderOutput(dataTable, element);\n",
              "        const docLink = document.createElement('div');\n",
              "        docLink.innerHTML = docLinkHtml;\n",
              "        element.appendChild(docLink);\n",
              "      }\n",
              "    </script>\n",
              "  </div>\n",
              "\n",
              "\n",
              "<div id=\"df-254b520d-64d1-48f2-8f38-0d21bff8596c\">\n",
              "  <button class=\"colab-df-quickchart\" onclick=\"quickchart('df-254b520d-64d1-48f2-8f38-0d21bff8596c')\"\n",
              "            title=\"Suggest charts\"\n",
              "            style=\"display:none;\">\n",
              "\n",
              "<svg xmlns=\"http://www.w3.org/2000/svg\" height=\"24px\"viewBox=\"0 0 24 24\"\n",
              "     width=\"24px\">\n",
              "    <g>\n",
              "        <path d=\"M19 3H5c-1.1 0-2 .9-2 2v14c0 1.1.9 2 2 2h14c1.1 0 2-.9 2-2V5c0-1.1-.9-2-2-2zM9 17H7v-7h2v7zm4 0h-2V7h2v10zm4 0h-2v-4h2v4z\"/>\n",
              "    </g>\n",
              "</svg>\n",
              "  </button>\n",
              "\n",
              "<style>\n",
              "  .colab-df-quickchart {\n",
              "      --bg-color: #E8F0FE;\n",
              "      --fill-color: #1967D2;\n",
              "      --hover-bg-color: #E2EBFA;\n",
              "      --hover-fill-color: #174EA6;\n",
              "      --disabled-fill-color: #AAA;\n",
              "      --disabled-bg-color: #DDD;\n",
              "  }\n",
              "\n",
              "  [theme=dark] .colab-df-quickchart {\n",
              "      --bg-color: #3B4455;\n",
              "      --fill-color: #D2E3FC;\n",
              "      --hover-bg-color: #434B5C;\n",
              "      --hover-fill-color: #FFFFFF;\n",
              "      --disabled-bg-color: #3B4455;\n",
              "      --disabled-fill-color: #666;\n",
              "  }\n",
              "\n",
              "  .colab-df-quickchart {\n",
              "    background-color: var(--bg-color);\n",
              "    border: none;\n",
              "    border-radius: 50%;\n",
              "    cursor: pointer;\n",
              "    display: none;\n",
              "    fill: var(--fill-color);\n",
              "    height: 32px;\n",
              "    padding: 0;\n",
              "    width: 32px;\n",
              "  }\n",
              "\n",
              "  .colab-df-quickchart:hover {\n",
              "    background-color: var(--hover-bg-color);\n",
              "    box-shadow: 0 1px 2px rgba(60, 64, 67, 0.3), 0 1px 3px 1px rgba(60, 64, 67, 0.15);\n",
              "    fill: var(--button-hover-fill-color);\n",
              "  }\n",
              "\n",
              "  .colab-df-quickchart-complete:disabled,\n",
              "  .colab-df-quickchart-complete:disabled:hover {\n",
              "    background-color: var(--disabled-bg-color);\n",
              "    fill: var(--disabled-fill-color);\n",
              "    box-shadow: none;\n",
              "  }\n",
              "\n",
              "  .colab-df-spinner {\n",
              "    border: 2px solid var(--fill-color);\n",
              "    border-color: transparent;\n",
              "    border-bottom-color: var(--fill-color);\n",
              "    animation:\n",
              "      spin 1s steps(1) infinite;\n",
              "  }\n",
              "\n",
              "  @keyframes spin {\n",
              "    0% {\n",
              "      border-color: transparent;\n",
              "      border-bottom-color: var(--fill-color);\n",
              "      border-left-color: var(--fill-color);\n",
              "    }\n",
              "    20% {\n",
              "      border-color: transparent;\n",
              "      border-left-color: var(--fill-color);\n",
              "      border-top-color: var(--fill-color);\n",
              "    }\n",
              "    30% {\n",
              "      border-color: transparent;\n",
              "      border-left-color: var(--fill-color);\n",
              "      border-top-color: var(--fill-color);\n",
              "      border-right-color: var(--fill-color);\n",
              "    }\n",
              "    40% {\n",
              "      border-color: transparent;\n",
              "      border-right-color: var(--fill-color);\n",
              "      border-top-color: var(--fill-color);\n",
              "    }\n",
              "    60% {\n",
              "      border-color: transparent;\n",
              "      border-right-color: var(--fill-color);\n",
              "    }\n",
              "    80% {\n",
              "      border-color: transparent;\n",
              "      border-right-color: var(--fill-color);\n",
              "      border-bottom-color: var(--fill-color);\n",
              "    }\n",
              "    90% {\n",
              "      border-color: transparent;\n",
              "      border-bottom-color: var(--fill-color);\n",
              "    }\n",
              "  }\n",
              "</style>\n",
              "\n",
              "  <script>\n",
              "    async function quickchart(key) {\n",
              "      const quickchartButtonEl =\n",
              "        document.querySelector('#' + key + ' button');\n",
              "      quickchartButtonEl.disabled = true;  // To prevent multiple clicks.\n",
              "      quickchartButtonEl.classList.add('colab-df-spinner');\n",
              "      try {\n",
              "        const charts = await google.colab.kernel.invokeFunction(\n",
              "            'suggestCharts', [key], {});\n",
              "      } catch (error) {\n",
              "        console.error('Error during call to suggestCharts:', error);\n",
              "      }\n",
              "      quickchartButtonEl.classList.remove('colab-df-spinner');\n",
              "      quickchartButtonEl.classList.add('colab-df-quickchart-complete');\n",
              "    }\n",
              "    (() => {\n",
              "      let quickchartButtonEl =\n",
              "        document.querySelector('#df-254b520d-64d1-48f2-8f38-0d21bff8596c button');\n",
              "      quickchartButtonEl.style.display =\n",
              "        google.colab.kernel.accessAllowed ? 'block' : 'none';\n",
              "    })();\n",
              "  </script>\n",
              "</div>\n",
              "\n",
              "    </div>\n",
              "  </div>\n"
            ]
          },
          "metadata": {},
          "execution_count": 11
        }
      ],
      "source": [
        "df.sample(10, random_state=1)"
      ]
    },
    {
      "cell_type": "markdown",
      "metadata": {
        "id": "9h1fiVAvVLsJ"
      },
      "source": [
        "# **Exploratory Data Analysis**\n"
      ]
    },
    {
      "cell_type": "markdown",
      "metadata": {
        "id": "P-62BabCaPm_"
      },
      "source": [
        "Exploratory Data Analysis (EDA) plays a very important role in an end-to-end AI solution. It enables\n",
        "\n",
        "- **Understanding the Data**\n",
        "- **Identifying Data Patterns and Insights**\n",
        "- **Feature Selection and Engineering**"
      ]
    },
    {
      "cell_type": "markdown",
      "metadata": {
        "id": "_BOwB9amVVrp"
      },
      "source": [
        "### EDA"
      ]
    },
    {
      "cell_type": "code",
      "execution_count": null,
      "metadata": {
        "id": "HngQJECtVCrQ"
      },
      "outputs": [],
      "source": [
        "# creating a copy of the data to avoid any changes to original data\n",
        "data = df.copy()"
      ]
    },
    {
      "cell_type": "code",
      "execution_count": null,
      "metadata": {
        "colab": {
          "base_uri": "https://localhost:8080/",
          "height": 175
        },
        "id": "backed-solution",
        "outputId": "6752da89-a5e7-4e85-e6a2-53a8c9a26f6a"
      },
      "outputs": [
        {
          "output_type": "execute_result",
          "data": {
            "text/plain": [
              "                               count          mean           std  \\\n",
              "tweet_id                      2913.0  5.691208e+17  7.676358e+14   \n",
              "airline_sentiment_confidence  2913.0  9.215784e-01  1.499961e-01   \n",
              "negativereason_confidence     2470.0  6.871717e-01  3.078601e-01   \n",
              "retweet_count                 2913.0  8.547889e-02  1.172269e+00   \n",
              "\n",
              "                                       min           25%           50%  \\\n",
              "tweet_id                      5.676433e+17  5.684797e+17  5.693176e+17   \n",
              "airline_sentiment_confidence  3.400000e-01  1.000000e+00  1.000000e+00   \n",
              "negativereason_confidence     0.000000e+00  6.223500e-01  6.777000e-01   \n",
              "retweet_count                 0.000000e+00  0.000000e+00  0.000000e+00   \n",
              "\n",
              "                                       75%           max  \n",
              "tweet_id                      5.697157e+17  5.703106e+17  \n",
              "airline_sentiment_confidence  1.000000e+00  1.000000e+00  \n",
              "negativereason_confidence     1.000000e+00  1.000000e+00  \n",
              "retweet_count                 0.000000e+00  4.400000e+01  "
            ],
            "text/html": [
              "\n",
              "  <div id=\"df-d4ddd084-4614-4cee-8b35-91ca293b0729\" class=\"colab-df-container\">\n",
              "    <div>\n",
              "<style scoped>\n",
              "    .dataframe tbody tr th:only-of-type {\n",
              "        vertical-align: middle;\n",
              "    }\n",
              "\n",
              "    .dataframe tbody tr th {\n",
              "        vertical-align: top;\n",
              "    }\n",
              "\n",
              "    .dataframe thead th {\n",
              "        text-align: right;\n",
              "    }\n",
              "</style>\n",
              "<table border=\"1\" class=\"dataframe\">\n",
              "  <thead>\n",
              "    <tr style=\"text-align: right;\">\n",
              "      <th></th>\n",
              "      <th>count</th>\n",
              "      <th>mean</th>\n",
              "      <th>std</th>\n",
              "      <th>min</th>\n",
              "      <th>25%</th>\n",
              "      <th>50%</th>\n",
              "      <th>75%</th>\n",
              "      <th>max</th>\n",
              "    </tr>\n",
              "  </thead>\n",
              "  <tbody>\n",
              "    <tr>\n",
              "      <th>tweet_id</th>\n",
              "      <td>2913.0</td>\n",
              "      <td>5.691208e+17</td>\n",
              "      <td>7.676358e+14</td>\n",
              "      <td>5.676433e+17</td>\n",
              "      <td>5.684797e+17</td>\n",
              "      <td>5.693176e+17</td>\n",
              "      <td>5.697157e+17</td>\n",
              "      <td>5.703106e+17</td>\n",
              "    </tr>\n",
              "    <tr>\n",
              "      <th>airline_sentiment_confidence</th>\n",
              "      <td>2913.0</td>\n",
              "      <td>9.215784e-01</td>\n",
              "      <td>1.499961e-01</td>\n",
              "      <td>3.400000e-01</td>\n",
              "      <td>1.000000e+00</td>\n",
              "      <td>1.000000e+00</td>\n",
              "      <td>1.000000e+00</td>\n",
              "      <td>1.000000e+00</td>\n",
              "    </tr>\n",
              "    <tr>\n",
              "      <th>negativereason_confidence</th>\n",
              "      <td>2470.0</td>\n",
              "      <td>6.871717e-01</td>\n",
              "      <td>3.078601e-01</td>\n",
              "      <td>0.000000e+00</td>\n",
              "      <td>6.223500e-01</td>\n",
              "      <td>6.777000e-01</td>\n",
              "      <td>1.000000e+00</td>\n",
              "      <td>1.000000e+00</td>\n",
              "    </tr>\n",
              "    <tr>\n",
              "      <th>retweet_count</th>\n",
              "      <td>2913.0</td>\n",
              "      <td>8.547889e-02</td>\n",
              "      <td>1.172269e+00</td>\n",
              "      <td>0.000000e+00</td>\n",
              "      <td>0.000000e+00</td>\n",
              "      <td>0.000000e+00</td>\n",
              "      <td>0.000000e+00</td>\n",
              "      <td>4.400000e+01</td>\n",
              "    </tr>\n",
              "  </tbody>\n",
              "</table>\n",
              "</div>\n",
              "    <div class=\"colab-df-buttons\">\n",
              "\n",
              "  <div class=\"colab-df-container\">\n",
              "    <button class=\"colab-df-convert\" onclick=\"convertToInteractive('df-d4ddd084-4614-4cee-8b35-91ca293b0729')\"\n",
              "            title=\"Convert this dataframe to an interactive table.\"\n",
              "            style=\"display:none;\">\n",
              "\n",
              "  <svg xmlns=\"http://www.w3.org/2000/svg\" height=\"24px\" viewBox=\"0 -960 960 960\">\n",
              "    <path d=\"M120-120v-720h720v720H120Zm60-500h600v-160H180v160Zm220 220h160v-160H400v160Zm0 220h160v-160H400v160ZM180-400h160v-160H180v160Zm440 0h160v-160H620v160ZM180-180h160v-160H180v160Zm440 0h160v-160H620v160Z\"/>\n",
              "  </svg>\n",
              "    </button>\n",
              "\n",
              "  <style>\n",
              "    .colab-df-container {\n",
              "      display:flex;\n",
              "      gap: 12px;\n",
              "    }\n",
              "\n",
              "    .colab-df-convert {\n",
              "      background-color: #E8F0FE;\n",
              "      border: none;\n",
              "      border-radius: 50%;\n",
              "      cursor: pointer;\n",
              "      display: none;\n",
              "      fill: #1967D2;\n",
              "      height: 32px;\n",
              "      padding: 0 0 0 0;\n",
              "      width: 32px;\n",
              "    }\n",
              "\n",
              "    .colab-df-convert:hover {\n",
              "      background-color: #E2EBFA;\n",
              "      box-shadow: 0px 1px 2px rgba(60, 64, 67, 0.3), 0px 1px 3px 1px rgba(60, 64, 67, 0.15);\n",
              "      fill: #174EA6;\n",
              "    }\n",
              "\n",
              "    .colab-df-buttons div {\n",
              "      margin-bottom: 4px;\n",
              "    }\n",
              "\n",
              "    [theme=dark] .colab-df-convert {\n",
              "      background-color: #3B4455;\n",
              "      fill: #D2E3FC;\n",
              "    }\n",
              "\n",
              "    [theme=dark] .colab-df-convert:hover {\n",
              "      background-color: #434B5C;\n",
              "      box-shadow: 0px 1px 3px 1px rgba(0, 0, 0, 0.15);\n",
              "      filter: drop-shadow(0px 1px 2px rgba(0, 0, 0, 0.3));\n",
              "      fill: #FFFFFF;\n",
              "    }\n",
              "  </style>\n",
              "\n",
              "    <script>\n",
              "      const buttonEl =\n",
              "        document.querySelector('#df-d4ddd084-4614-4cee-8b35-91ca293b0729 button.colab-df-convert');\n",
              "      buttonEl.style.display =\n",
              "        google.colab.kernel.accessAllowed ? 'block' : 'none';\n",
              "\n",
              "      async function convertToInteractive(key) {\n",
              "        const element = document.querySelector('#df-d4ddd084-4614-4cee-8b35-91ca293b0729');\n",
              "        const dataTable =\n",
              "          await google.colab.kernel.invokeFunction('convertToInteractive',\n",
              "                                                    [key], {});\n",
              "        if (!dataTable) return;\n",
              "\n",
              "        const docLinkHtml = 'Like what you see? Visit the ' +\n",
              "          '<a target=\"_blank\" href=https://colab.research.google.com/notebooks/data_table.ipynb>data table notebook</a>'\n",
              "          + ' to learn more about interactive tables.';\n",
              "        element.innerHTML = '';\n",
              "        dataTable['output_type'] = 'display_data';\n",
              "        await google.colab.output.renderOutput(dataTable, element);\n",
              "        const docLink = document.createElement('div');\n",
              "        docLink.innerHTML = docLinkHtml;\n",
              "        element.appendChild(docLink);\n",
              "      }\n",
              "    </script>\n",
              "  </div>\n",
              "\n",
              "\n",
              "<div id=\"df-302266d9-e5c3-42ef-a9ae-67102a559423\">\n",
              "  <button class=\"colab-df-quickchart\" onclick=\"quickchart('df-302266d9-e5c3-42ef-a9ae-67102a559423')\"\n",
              "            title=\"Suggest charts\"\n",
              "            style=\"display:none;\">\n",
              "\n",
              "<svg xmlns=\"http://www.w3.org/2000/svg\" height=\"24px\"viewBox=\"0 0 24 24\"\n",
              "     width=\"24px\">\n",
              "    <g>\n",
              "        <path d=\"M19 3H5c-1.1 0-2 .9-2 2v14c0 1.1.9 2 2 2h14c1.1 0 2-.9 2-2V5c0-1.1-.9-2-2-2zM9 17H7v-7h2v7zm4 0h-2V7h2v10zm4 0h-2v-4h2v4z\"/>\n",
              "    </g>\n",
              "</svg>\n",
              "  </button>\n",
              "\n",
              "<style>\n",
              "  .colab-df-quickchart {\n",
              "      --bg-color: #E8F0FE;\n",
              "      --fill-color: #1967D2;\n",
              "      --hover-bg-color: #E2EBFA;\n",
              "      --hover-fill-color: #174EA6;\n",
              "      --disabled-fill-color: #AAA;\n",
              "      --disabled-bg-color: #DDD;\n",
              "  }\n",
              "\n",
              "  [theme=dark] .colab-df-quickchart {\n",
              "      --bg-color: #3B4455;\n",
              "      --fill-color: #D2E3FC;\n",
              "      --hover-bg-color: #434B5C;\n",
              "      --hover-fill-color: #FFFFFF;\n",
              "      --disabled-bg-color: #3B4455;\n",
              "      --disabled-fill-color: #666;\n",
              "  }\n",
              "\n",
              "  .colab-df-quickchart {\n",
              "    background-color: var(--bg-color);\n",
              "    border: none;\n",
              "    border-radius: 50%;\n",
              "    cursor: pointer;\n",
              "    display: none;\n",
              "    fill: var(--fill-color);\n",
              "    height: 32px;\n",
              "    padding: 0;\n",
              "    width: 32px;\n",
              "  }\n",
              "\n",
              "  .colab-df-quickchart:hover {\n",
              "    background-color: var(--hover-bg-color);\n",
              "    box-shadow: 0 1px 2px rgba(60, 64, 67, 0.3), 0 1px 3px 1px rgba(60, 64, 67, 0.15);\n",
              "    fill: var(--button-hover-fill-color);\n",
              "  }\n",
              "\n",
              "  .colab-df-quickchart-complete:disabled,\n",
              "  .colab-df-quickchart-complete:disabled:hover {\n",
              "    background-color: var(--disabled-bg-color);\n",
              "    fill: var(--disabled-fill-color);\n",
              "    box-shadow: none;\n",
              "  }\n",
              "\n",
              "  .colab-df-spinner {\n",
              "    border: 2px solid var(--fill-color);\n",
              "    border-color: transparent;\n",
              "    border-bottom-color: var(--fill-color);\n",
              "    animation:\n",
              "      spin 1s steps(1) infinite;\n",
              "  }\n",
              "\n",
              "  @keyframes spin {\n",
              "    0% {\n",
              "      border-color: transparent;\n",
              "      border-bottom-color: var(--fill-color);\n",
              "      border-left-color: var(--fill-color);\n",
              "    }\n",
              "    20% {\n",
              "      border-color: transparent;\n",
              "      border-left-color: var(--fill-color);\n",
              "      border-top-color: var(--fill-color);\n",
              "    }\n",
              "    30% {\n",
              "      border-color: transparent;\n",
              "      border-left-color: var(--fill-color);\n",
              "      border-top-color: var(--fill-color);\n",
              "      border-right-color: var(--fill-color);\n",
              "    }\n",
              "    40% {\n",
              "      border-color: transparent;\n",
              "      border-right-color: var(--fill-color);\n",
              "      border-top-color: var(--fill-color);\n",
              "    }\n",
              "    60% {\n",
              "      border-color: transparent;\n",
              "      border-right-color: var(--fill-color);\n",
              "    }\n",
              "    80% {\n",
              "      border-color: transparent;\n",
              "      border-right-color: var(--fill-color);\n",
              "      border-bottom-color: var(--fill-color);\n",
              "    }\n",
              "    90% {\n",
              "      border-color: transparent;\n",
              "      border-bottom-color: var(--fill-color);\n",
              "    }\n",
              "  }\n",
              "</style>\n",
              "\n",
              "  <script>\n",
              "    async function quickchart(key) {\n",
              "      const quickchartButtonEl =\n",
              "        document.querySelector('#' + key + ' button');\n",
              "      quickchartButtonEl.disabled = true;  // To prevent multiple clicks.\n",
              "      quickchartButtonEl.classList.add('colab-df-spinner');\n",
              "      try {\n",
              "        const charts = await google.colab.kernel.invokeFunction(\n",
              "            'suggestCharts', [key], {});\n",
              "      } catch (error) {\n",
              "        console.error('Error during call to suggestCharts:', error);\n",
              "      }\n",
              "      quickchartButtonEl.classList.remove('colab-df-spinner');\n",
              "      quickchartButtonEl.classList.add('colab-df-quickchart-complete');\n",
              "    }\n",
              "    (() => {\n",
              "      let quickchartButtonEl =\n",
              "        document.querySelector('#df-302266d9-e5c3-42ef-a9ae-67102a559423 button');\n",
              "      quickchartButtonEl.style.display =\n",
              "        google.colab.kernel.accessAllowed ? 'block' : 'none';\n",
              "    })();\n",
              "  </script>\n",
              "</div>\n",
              "\n",
              "    </div>\n",
              "  </div>\n"
            ],
            "application/vnd.google.colaboratory.intrinsic+json": {
              "type": "dataframe",
              "summary": "{\n  \"name\": \"data\",\n  \"rows\": 4,\n  \"fields\": [\n    {\n      \"column\": \"count\",\n      \"properties\": {\n        \"dtype\": \"number\",\n        \"std\": 221.5,\n        \"min\": 2470.0,\n        \"max\": 2913.0,\n        \"samples\": [\n          2470.0,\n          2913.0\n        ],\n        \"num_unique_values\": 2,\n        \"semantic_type\": \"\",\n        \"description\": \"\"\n      }\n    },\n    {\n      \"column\": \"mean\",\n      \"properties\": {\n        \"dtype\": \"number\",\n        \"std\": 2.8456037884113315e+17,\n        \"min\": 0.0854788877445932,\n        \"max\": 5.691207576822663e+17,\n        \"samples\": [\n          0.9215784414692757,\n          0.0854788877445932\n        ],\n        \"num_unique_values\": 4,\n        \"semantic_type\": \"\",\n        \"description\": \"\"\n      }\n    },\n    {\n      \"column\": \"std\",\n      \"properties\": {\n        \"dtype\": \"number\",\n        \"std\": 383817901690580.94,\n        \"min\": 0.14999608667757514,\n        \"max\": 767635803381162.5,\n        \"samples\": [\n          0.14999608667757514,\n          1.1722694126676831\n        ],\n        \"num_unique_values\": 4,\n        \"semantic_type\": \"\",\n        \"description\": \"\"\n      }\n    },\n    {\n      \"column\": \"min\",\n      \"properties\": {\n        \"dtype\": \"number\",\n        \"std\": 2.8382162637684733e+17,\n        \"min\": 0.0,\n        \"max\": 5.676432527536947e+17,\n        \"samples\": [\n          5.676432527536947e+17,\n          0.34\n        ],\n        \"num_unique_values\": 3,\n        \"semantic_type\": \"\",\n        \"description\": \"\"\n      }\n    },\n    {\n      \"column\": \"25%\",\n      \"properties\": {\n        \"dtype\": \"number\",\n        \"std\": 2.8423984011460403e+17,\n        \"min\": 0.0,\n        \"max\": 5.6847968022920806e+17,\n        \"samples\": [\n          1.0,\n          0.0\n        ],\n        \"num_unique_values\": 4,\n        \"semantic_type\": \"\",\n        \"description\": \"\"\n      }\n    },\n    {\n      \"column\": \"50%\",\n      \"properties\": {\n        \"dtype\": \"number\",\n        \"std\": 2.846588133438587e+17,\n        \"min\": 0.0,\n        \"max\": 5.693176266877174e+17,\n        \"samples\": [\n          1.0,\n          0.0\n        ],\n        \"num_unique_values\": 4,\n        \"semantic_type\": \"\",\n        \"description\": \"\"\n      }\n    },\n    {\n      \"column\": \"75%\",\n      \"properties\": {\n        \"dtype\": \"number\",\n        \"std\": 2.8485782831649997e+17,\n        \"min\": 0.0,\n        \"max\": 5.6971565663299994e+17,\n        \"samples\": [\n          5.6971565663299994e+17,\n          1.0\n        ],\n        \"num_unique_values\": 3,\n        \"semantic_type\": \"\",\n        \"description\": \"\"\n      }\n    },\n    {\n      \"column\": \"max\",\n      \"properties\": {\n        \"dtype\": \"number\",\n        \"std\": 2.851553002302628e+17,\n        \"min\": 1.0,\n        \"max\": 5.703106004605256e+17,\n        \"samples\": [\n          5.703106004605256e+17,\n          1.0\n        ],\n        \"num_unique_values\": 3,\n        \"semantic_type\": \"\",\n        \"description\": \"\"\n      }\n    }\n  ]\n}"
            }
          },
          "metadata": {},
          "execution_count": 9
        }
      ],
      "source": [
        "# checking the statistical summary of the data\n",
        "data.describe().T"
      ]
    },
    {
      "cell_type": "code",
      "source": [
        "# with pd.option_context('display.float_format', '{:.0f}'.format):\n",
        "#     print(data.describe().T)\n"
      ],
      "metadata": {
        "id": "h-3xRAnfusDy"
      },
      "execution_count": null,
      "outputs": []
    },
    {
      "cell_type": "code",
      "execution_count": null,
      "metadata": {
        "id": "0X569zR6bIZ8"
      },
      "outputs": [],
      "source": [
        "# function to create labeled barplots\n",
        "\n",
        "def labeled_barplot(data, feature, perc=False, n=None):\n",
        "    \"\"\"\n",
        "    Barplot with percentage at the top\n",
        "\n",
        "    data: dataframe\n",
        "    feature: dataframe column\n",
        "    perc: whether to display percentages instead of count (default is False)\n",
        "    n: displays the top n category levels (default is None, i.e., display all levels)\n",
        "    \"\"\"\n",
        "\n",
        "    total = len(data[feature])  # length of the column\n",
        "    count = data[feature].nunique()\n",
        "    if n is None:\n",
        "        plt.figure(figsize=(count + 1, 5))\n",
        "    else:\n",
        "        plt.figure(figsize=(n + 1, 5))\n",
        "\n",
        "    plt.xticks(rotation=90, fontsize=15)\n",
        "    ax = sns.countplot(\n",
        "        data=data,\n",
        "        x=feature,\n",
        "        palette=\"Paired\",\n",
        "        order=data[feature].value_counts().index[:n].sort_values(),\n",
        "    )\n",
        "\n",
        "    for p in ax.patches:\n",
        "        if perc == True:\n",
        "            label = \"{:.1f}%\".format(\n",
        "                100 * p.get_height() / total\n",
        "            )  # percentage of each class of the category\n",
        "        else:\n",
        "            label = p.get_height()  # count of each level of the category\n",
        "\n",
        "        x = p.get_x() + p.get_width() / 2  # width of the plot\n",
        "        y = p.get_height()  # height of the plot\n",
        "\n",
        "        ax.annotate(\n",
        "            label,\n",
        "            (x, y),\n",
        "            ha=\"center\",\n",
        "            va=\"center\",\n",
        "            size=12,\n",
        "            xytext=(0, 5),\n",
        "            textcoords=\"offset points\",\n",
        "        )  # annotate the percentage\n",
        "\n",
        "    plt.show()  # show the plot"
      ]
    },
    {
      "cell_type": "code",
      "source": [
        "def labeled_barplot(data, feature, perc=False, n=None):\n",
        "    \"\"\"\n",
        "    Barplot with percentage at the top\n",
        "\n",
        "    data: dataframe\n",
        "    feature: dataframe column\n",
        "    perc: whether to display percentages instead of count (default is False)\n",
        "    n: displays the top n category levels (default is None, i.e., display all levels)\n",
        "    \"\"\"\n",
        "\n",
        "    total = len(data[feature])  # length of the column\n",
        "    count = data[feature].nunique()\n",
        "    if n is None:\n",
        "        plt.figure(figsize=(count + 1, 5))\n",
        "    else:\n",
        "        plt.figure(figsize=(n + 1, 5))\n",
        "\n",
        "    plt.xticks(rotation=90, fontsize=15)\n",
        "    ax = sns.countplot(\n",
        "        data=data,\n",
        "        x=feature,\n",
        "        palette=\"Paired\",\n",
        "        order=data[feature].value_counts().index[:n],\n",
        "    )\n",
        "\n",
        "    for p in ax.patches:\n",
        "        if perc == True:\n",
        "            label = \"{:.1f}%\".format(\n",
        "                100 * p.get_height() / total\n",
        "            )  # percentage of each class of the category\n",
        "        else:\n",
        "            label = p.get_height()  # count of each level of the category\n",
        "\n",
        "        x = p.get_x() + p.get_width() / 2  # width of the plot\n",
        "        y = p.get_height()  # height of the plot\n",
        "\n",
        "        ax.annotate(\n",
        "            label,\n",
        "            (x, y),\n",
        "            ha=\"center\",\n",
        "            va=\"center\",\n",
        "            size=12,\n",
        "            xytext=(0, 5),\n",
        "            textcoords=\"offset points\",\n",
        "        )  # annotate the percentage\n",
        "\n",
        "    plt.show()  # show the plot"
      ],
      "metadata": {
        "id": "kmai9ahn6d90"
      },
      "execution_count": null,
      "outputs": []
    },
    {
      "cell_type": "markdown",
      "metadata": {
        "id": "PuBtH0kCRlmd"
      },
      "source": [
        "#### Distribution of sentiments across all the tweets"
      ]
    },
    {
      "cell_type": "code",
      "execution_count": null,
      "metadata": {
        "colab": {
          "base_uri": "https://localhost:8080/",
          "height": 629
        },
        "id": "tkBYhobob-6o",
        "outputId": "1f38da83-1ed6-40f7-a80c-4ee159a236cf"
      },
      "outputs": [
        {
          "output_type": "stream",
          "name": "stderr",
          "text": [
            "<ipython-input-16-bc394adc92ba>:19: FutureWarning: \n",
            "\n",
            "Passing `palette` without assigning `hue` is deprecated and will be removed in v0.14.0. Assign the `x` variable to `hue` and set `legend=False` for the same effect.\n",
            "\n",
            "  ax = sns.countplot(\n"
          ]
        },
        {
          "output_type": "display_data",
          "data": {
            "text/plain": [
              "<Figure size 400x500 with 1 Axes>"
            ],
            "image/png": "[encoded data removed]"
          },
          "metadata": {}
        }
      ],
      "source": [
        "labeled_barplot(data, \"airline_sentiment\", perc=True)"
      ]
    },
    {
      "cell_type": "markdown",
      "metadata": {
        "id": "wdPUsnDQSGWN"
      },
      "source": [
        "- **Majority of the tweets are negative (78%), followed by neutral tweets (13%), and then the positive tweets (9%).**"
      ]
    },
    {
      "cell_type": "markdown",
      "metadata": {
        "id": "Vn0UvY5zVbX6"
      },
      "source": [
        "#### Plot of all the negative reasons"
      ]
    },
    {
      "cell_type": "code",
      "execution_count": null,
      "metadata": {
        "colab": {
          "base_uri": "https://localhost:8080/",
          "height": 830
        },
        "id": "mz1Z9HGzc-e6",
        "outputId": "a58a1585-c384-4e14-cd5b-8c8f68f8e07a"
      },
      "outputs": [
        {
          "output_type": "stream",
          "name": "stderr",
          "text": [
            "<ipython-input-16-bc394adc92ba>:19: FutureWarning: \n",
            "\n",
            "Passing `palette` without assigning `hue` is deprecated and will be removed in v0.14.0. Assign the `x` variable to `hue` and set `legend=False` for the same effect.\n",
            "\n",
            "  ax = sns.countplot(\n"
          ]
        },
        {
          "output_type": "display_data",
          "data": {
            "text/plain": [
              "<Figure size 1100x500 with 1 Axes>"
            ],
            "image/png": "[encoded data removed]"
          },
          "metadata": {}
        }
      ],
      "source": [
        "labeled_barplot(data, \"negativereason\", perc=True)"
      ]
    },
    {
      "cell_type": "markdown",
      "source": [
        "**The predominant causes of negative tweets appear to be customer service issues(28%) and late flights(16%), as indicated by the graph**"
      ],
      "metadata": {
        "id": "4PBoUFkDwehp"
      }
    },
    {
      "cell_type": "code",
      "source": [
        "sns.histplot(data, x='retweet_count', bins =50);"
      ],
      "metadata": {
        "colab": {
          "base_uri": "https://localhost:8080/",
          "height": 449
        },
        "id": "raAehoU29qkd",
        "outputId": "30327d0d-c783-4e6d-e8cf-4cb08039f02d"
      },
      "execution_count": null,
      "outputs": [
        {
          "output_type": "display_data",
          "data": {
            "text/plain": [
              "<Figure size 640x480 with 1 Axes>"
            ],
            "image/png": "[encoded data removed]"
          },
          "metadata": {}
        }
      ]
    },
    {
      "cell_type": "markdown",
      "source": [
        "- A majority of the customer tweets are not re-tweeted\n",
        "- The lower number of retweet counts suggests that customers are less inclined to retweet"
      ],
      "metadata": {
        "id": "-zbypFrOHJto"
      }
    },
    {
      "cell_type": "code",
      "source": [
        "sns.barplot(data, y='retweet_count', x='airline_sentiment', errorbar=('ci', True));"
      ],
      "metadata": {
        "colab": {
          "base_uri": "https://localhost:8080/",
          "height": 450
        },
        "id": "ZLp6TH5D-JV5",
        "outputId": "cf755b8d-c819-401d-94db-a76bd2aefc90"
      },
      "execution_count": null,
      "outputs": [
        {
          "output_type": "display_data",
          "data": {
            "text/plain": [
              "<Figure size 640x480 with 1 Axes>"
            ],
            "image/png": "[encoded data removed]"
          },
          "metadata": {}
        }
      ]
    },
    {
      "cell_type": "markdown",
      "metadata": {
        "id": "dO86p9TfR6zi"
      },
      "source": [
        "## EDA Results"
      ]
    },
    {
      "cell_type": "markdown",
      "source": [
        "`airline sentiment`\n",
        "\n",
        "![percentage airline sentiment.png](data:image/png;base64,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)\n",
        "\n",
        "**Majority of the tweets are negative (78%), followed by neutral tweets (13%), and then the positive tweets (9%).**"
      ],
      "metadata": {
        "id": "bNA9UfObXmbc"
      }
    },
    {
      "cell_type": "markdown",
      "source": [
        "`retweet count vs airline sentiment`\n",
        "\n",
        "![retweetcount.png](data:image/png;base64,iVBORw0KGgoAAAANSUhEUgAAAqYAAAH/CAYAAACFEh89AAAAAXNSR0IArs4c6QAAAARnQU1BAACxjwv8YQUAAAAJcEhZcwAAFiUAABYlAUlSJPAAAABhaVRYdFNuaXBNZXRhZGF0YQAAAAAAeyJjbGlwUG9pbnRzIjpbeyJ4IjowLCJ5IjowfSx7IngiOjY3OCwieSI6MH0seyJ4Ijo2NzgsInkiOjUxMn0seyJ4IjowLCJ5Ijo1MTJ9XX3RnT8jAABU6UlEQVR4Xu3dCfxVc/7H8U+LUFEpeyUiS4iGVEJRWSZL9l3G0IzdWP+DsY49YxtmbBlLKNlKMdmVpcVeooUIaZGSSMrf6+se8+vX76b61a+D1/PxuI9+995z1+45530+3+VU+v4HIUmSJC1jlQv/SpIkScuUwVSSJEm5YDCVJElSLhhMJUmSlAsOflpIfE2zZ8+OypUrR6VKlQq3SpIkaWGQpebMmRPLLbdcylNlMZguBL6iWbNmxdixY6NatWpRtWrVwj2SJElaGHPnzo2ZM2dGw4YNo2bNmmWGU4PpQiCUjhw5Mjp37hwzZsywYipJkrSIiJxcbr311mjfvn3UqFGjcM//GEwXAk34o0aNitatW8epp54am222mVVTSZKkhUQT/qRJk1KOuuuuu6Jjx46xwgorFO79H4PpQvjuu+9izJgxsc0220SPHj1ihx12SP0jJEmS9PMIph9++GG0adMmunfvnoIp3SNLM5guBIIp/UtbtGgRPXv2jLZt25b5ZUqSJGl+BNNx48ZFy5YtUzDt0KFDmVnK6aIkSZKUCwZTSZIk5YLBVJIkSblgMJUkSVIuGEwlSZKUCwZTSZIk5YLBVJIkSblgMJUkSVIuGEwlSZKUCwZTSZIk5YLBVJIkSblgMJUkSVIuGEwlSZKUCwZTSZIk5YLBVJIkSblgMJUkSVIuGEwlSZKUC5W+/0HhbxXx3XffxdixY6NFixbRs2fPaNu2bVSrVq1w7+J77f3P4oOJ0wvXpIqxZp0a0bLJWoVrkiQtfXPmzIlx48ZFy5Yto3v37tGhQ4cys5TBdCEsrWB6Ua+X4uHBowrXpIrRtmmD6NalXeGaJElL38IGU5vyJUmSlAsGU0mSJOWCwVSSJEm5YDCVJElSLhhMJUmSlAsGU0mSJOWCwVSSJEm5YDCVJElSLhhMJUmSlAsGU0mSJOWCwVSSJEm5YDCVJElSLhhMJUmSlAsGU0mSJOWCwVSSJEm5YDCVJElSLhhMJUmSlAsGU0mSJOWCwVSSJEm5YDCVJElSLhhMJUmSlAsGU0mSJOWCwVSSJEm5YDCVJElSLhhMJUmSlAsGU0mSJOWCwVSSJEm5YDCVJElSLhhMJUmSlAsGU0mSJOWCwVSSJEm5YDCVJElSLlT6/geFv1XEd999F2PHjo0WLVpEz549o23btlGtWrXCvYvvol4vxcODRxWuSRWjbdMG0a1Lu8K1/Jn+4u0xa9ywwjWpYizfaOtYuVWXwjVJS9qcOXNi3Lhx0bJly+jevXt06NChzCxlMF0IBlP9muQ9mE7ufUbMHN6/cE2qGDU26xR1O19auCZpSVvYYGpTviRJknLBYCpJkqRcMJhKkiQpFwymkiRJygWDqSRJknLBYCpJkqRcMJhKkiQpFwymkiRJygWDqSRJknLBYCpJkqRcMJhKkiQpF5ZJMOW88717945LLrkkzjvvvLj++uvjjTfeiBkzZhSWKBv3Dx06NK677ro4//zz47LLLouHHnooPvroo8ISP+Lc9u+991706NEjvca5554bV1xxRTzyyCPpPK2SJEnKnwoPphMmTIj+/fvHAw88EK+88kq89dZb0a9fv7j33ntjxIgRMXv27MKS8/r666/T/Zz4/8knn0xB9sUXX4wHH3ww+vTpE9OnT4/vv/8+LUvw5TkJv2+++WYKqYMHD45evXrFE088EZMmTUrLSZIkKT8qPJgOGjQohcbKlSvHiSeeGBdffHG0a9cu3fbUU0/FlClTCkvO69NPP033P/bYY7HbbrulSusxxxyT7rvvvvtSwKVSihdeeCEGDBgQNWrUiDPPPDOuvvrq6Nq1a0ybNi29zttvv52WkyRJUn5UeDClYlmzZs3o3Llz7LTTTrHJJpvEaaedFhtssEEMHz48VTjL8u6776Zm/B122CEOOeSQ2GKLLaJTp06xxx57xAorrBAPP/xwfPvtt2nZjz/+OJZffvlo3759Wm7ttddOr9WiRYuoUqVKfPjhh2k5SZIk5UeFBlOa6d9///2oXbt2rLvuuoVbf3gTlStH06ZNU7AkVJaF5vfJkyfHVlttFVWrVi3cGrHmmmvGOuusk0LtnDlz0m0NGjRIzfpDhgxJj5k7d2688847MXLkyBRYCcOSJEnKlwoLpoTDL7/8MmbOnJkqpiuvvHLhnh/Vq1cvNcXTV7QsPO6rr76K1VZbLQXZDM31PN/EiRPTa2DHHXeMjh07psroYYcdFnvvvXfqNkCg3XPPPWPDDTdMyxVDgKZPK6+ZXbie9WGVJEnSklehFVMqolQ1CYglq55YbrnlUvDL+omWxuO4j4pnpUqVCrdGaprnkjXj45tvvkkBl9uoqDZq1CgFWkb1f/LJJwsc/T9r1qzUR/Wqq65Ko/m50J/1mmuuSfdJkiRp6ajQYEqoJERSkSwdQAmRBE4Call4HGGW0FmycpkFVvqZgqrpwIEDU19V+peefPLJccopp8Rxxx0Xq6yyShqdz2wAxWSVXWYPoFtBdvnss89+qshKkiRpyauwYErz+0orrZSa3alYfvHFF4V7fkQfUkJprVq1CrfMi8fxeEbnlwyIPBdBcvXVV0+vQcAleNL0vtdee0WzZs1SH9Q2bdrEdtttl0It4bQYAi6j/q+88sq47bbb0uWWW26Jv//977HiiisWlpIkSdKSVqEVUyqejRs3TtM2MdcoAZMLYZLBS1RU69ev/1OTPpesOrrqqqumy7Bhw1KTOo+jWko1kwn2N9tss/T82e1csufnObJ/f05Wta1evXrqv1ryUrILgSRJkpasCg2m2GWXXVKVk4nxmSifSfMvv/zyGDVqVGy66aax+eabx5gxY+Lss89O849mo/QZsLT11lvHc889F3fddVe8/vrraWJ9zuZE8z7TT1WrVi1VPNdff/00Gp9q56uvvpqCK6/FsoTi5s2bp+eUJElSflR4MG3dunVqYqfPaLdu3eLUU09Ng40YOc+8o3Xq1EnBlQrq6NGjU+jEGmuske7ff//905mj/u///i9uuummFEa7dOkSG2+8cXpOmvOz+U0JpxdeeGH8+c9/Tqc9pSmeAEuTviRJkvKlyvmcdL4C0UTO1FAETf6l/+c222wTO++8c6p0ZoOY6FNK8zyVUgIlzfRMMcUcpcyDyqT5zEe6/fbbp/6jdevW/ampnft5fvqdMhqfx2TLtmrVKnUXWBR0A5g6dWrqa7rffvulUf6E4PJ6fsT4GPnx54VrUsVotFqt2HmL/80jnDcz3xkQsyeNLlyTKka11ZtE9Y3bF65JWtLoTkmr9a233poKlHTtLCtLVfphQSfn/Bn0daVPLGeO6tmzZ7Rt2zZVasvrol4vxcODRxWuSRWjbdMG0a1Lu8K1/Jnc+4yYObx/4ZpUMWps1inqdr60cE3SksbYn3HjxkXLli2je/fu0aFDhzKzVIU35UuSJEllMZhKkiQpFwymkiRJygWDqSRJknLBYCpJkqRcMJhKkiQpFwymkiRJygWDqSRJknLBYCpJkqRcMJhKkiQpFwymkiRJygWDqSRJknLBYCpJkqRcMJhKkiQpFwymkiRJygWDqSRJknLBYCpJkqRcMJhKkiQpFwymkiRJygWDqSRJknLBYCpJkqRcMJhKkiQpFwymkiRJygWDqSRJknLBYCpJkqRcMJhKkiQpFwymkiRJygWDqSRJknLBYCpJkqRcMJhKkiQpFwymkiRJygWDqSRJknLBYCpJkqRcMJhKkiQpFwymkiRJygWDqSRJknLBYCpJkqRcMJhKkiQpFwymkiRJygWDqSRJknLBYCpJkqRcMJhKkiQpFwymkiRJygWDqSRJknLBYCpJkqRcMJhKkiQpFwymkiRJygWDqSRJknLBYCpJkqRcMJhKkiQpFwymkiRJygWDqSRJknLBYCpJkqRcMJhKkiQpFwymkiRJygWDqSRJknLBYCpJkqRcMJhKkiQpFwymkiRJygWDqSRJknLBYCpJkqRcMJhKkiQpFwymkiRJygWDqSRJknLBYCpJkqRcMJhKkiQpFwymkiRJygWDqSRJknLBYCpJkqRcMJhKkiQpFwymkiRJygWDqSRJknLBYCpJkqRcMJhKkiQpFwymkiRJygWDqSRJknLBYCpJkqRcMJhKkiQpF5ZJMP36669j4sSJ8cEHH8TYsWPjo48+ii+//DLmzJlTWKJs3D99+vS0PI/j8ZMmTYpvvvmmsMT/sOxXX30Vn3zySbz//vtp+XHjxsXnn3/+s68jSZKkirdMgumQIUPi3HPPjbZt28bWW28d+++/f/Tr1y+FxgWZMmVKPPTQQ7HvvvtGy5Yto3379nHBBRfEW2+9VVjifwiwzz77bHTt2jW23Xbb9Dq77rpr3HjjjT/7OpIkSap4FR5MCaW33357qmSefPLJcf3118cmm2ySAuPjjz8eM2fOLCw5r8mTJ8d///vfuOqqq1LQvPLKK+OPf/xjjB8/Prp165aqp3Pnzk3LTp06NXr16hXXXXddbLjhhukx3bt3j7/+9a8p0FatWjUtJ0mSpPyo8GD65JNPpmpm69atY++9946dd945VTUrV64cQ4cOjffee6+w5LzGjBkTL730Uqy66qpx4IEHxm677ZYqrdtss03qFkBo/fbbb9Oyr7zySrz++uvRqFGjOOyww6Jjx46pOsu/W2yxRdSoUSMtJ0mSpPyo0GBK385XX301Vl555WjRokU0bNgw6tatm5rZN9544xQwR48eXVh6Xlm/Uiqem266aQqo6623Xmy55ZZRr169GDRoUMyePTu+//779BpUUldfffUYMWJE3HffffHAAw+k0Mv91apVKzyrJEmS8qJoMP3uu+9i1qxZhWvzI+Ax6ChrPv852fITJkxIwXTNNdcs3BNRqVKlWHfddVOwJJyW5YsvvkhN9DTNV6lSpXBrpFBKACW08l6omhJiadrn8thjj6Uq7SOPPBI9evSI5557LlVsF4Tn4fOXvkiSJGnpKRpMCYjvvvtumYEsC5k0lzOafmHwGJYlfK644orpUlLNmjVTRZUR+2UhJPOatWrVSkE2Q/Vz+eWXj2nTpqXXmDFjRhqNT+WVyy677BIXXXRRav6nYnr//ffH8OHDC4+eH6GU/qwsy3JcqLqOGjXK0fySJElLUdFg+uijj8Ypp5ySKpWlq6KE1Q8//DCNji9rRPyyRDjl0qBBgzQK/6CDDoqmTZum/qh77LFH+ixUTYsh1N55552x5557pm4DXOgPy+MJvZIkSVo6igZTqoM0i5esTmYId1Q2SwfWBeF5qHZS4WTkfenR9zSvM1q+2MCkFVZYIapXr56a80u+blZJrVOnTnoNKq8sy/X69eunZn8GVvEvTf7cR0W0GF7jgAMOiLvvvjueeOKJdOnfv3/cdtttDpqSJElaiuYLpvTHpC8mI+QJcAwauvfee9NtXO65556444470vRLDEAi6C0MQiNN7muvvXZqdv/4448L9/xY5aTZfbnllkvhsSwETS40q5dsUmeC/U8//TQ22GCDFD4JvmussUYKqKUrnIRhHkv4LIbn4D02b948WrVqlS5UTRlk5TRTkiRJS898wfTll19OA4boW8lE9AMGDEiT33MbF6qHTFzPqHeme1pttdUKj/x5VC6Z3om+pgMHDkz9OBkM9dRTT8XIkSNTIGzSpEkKxLwmr0OIBVM/MfDpxRdfjMGDB6dgy3tkaiiqqEwHRbDlNTbbbLNYZZVV0pypb7/9dpqYn0DLaH2qrYzqXxCeg+cqfZEkSdLSM18wpWK5zjrrpKmc6KfJ3yUvBET6bNJ/84gjjkjVyUWx4447piZ2+qYyjVPPnj3jP//5T2rmJ7QyBRQVUPp5cpYnQiUYtc/E+lRemTyfx1HBJZxSLc2CKbbaaqtU4ST0Uu3t3bt3GvREmCbc8jqSJEnKl0rf045eBiqTjLonfNL0XVZf08VFVZbQySAkmtsbN24cRx11VAqezGtKlfOyyy5LIfn4449PoRSE1KeffjoFWaaEorm+Xbt2sd9++0WzZs3SMhlG0fft2zdNE0VzP9NT/f73v08T8xNOFwWDvZiOirlXCcSE4CUxF+pFvV6KhwePKlyTKkbbpg2iW5d2hWv5M7n3GTFzeP/CNali1NisU9TtfGnhmqQlja6U48aNS90j6Q7aoUOHMrNU0WBKkzeXpdGvkucl7PEvL0/TOa/DvwRgbmdaKf6mCpqFYpbNHpu9bfqEZgOcSuJ+luOL4G+eo9iyP8dgql8Tg6k0P4OptHQtbDAtmtAIgFQlOZf9Mccck6qSe+21V5pGqeSFpvRFRTDkzTBwivlMGRRFYMwCKPdzG8tktyELl9zHY7kQXMsKmizLfdlrLGhZSZIkLXtFUxqDhUi0NLln0zHRn5Qm8ZKXJVE5lCRJkooGU876RD9TRrgz+v7ggw+OQw89dL5LsemdJEmSpEVRNJgy4T19M7t06RKdOnVK/SrbtGkz34Xz3kuSJEnlVTSYMuKdCfSzQUqSJEnS0lQ0mG6++eax9dZbp1NxlnW+fEmSJGlJKhpMOUUoc4BypqfOnTvHvvvuG4ccckgcdthh81w4Y5MkSZJUXkWDaY0aNdJZmDhLEqcKXWmlldKUS4zCL3lx+iVJkiQtCUVTJaf5pEJ69NFHpwsj8A888MD5LvRDlSRJksqraDDlPPnMyv9zF+Y3lSRJksqraDD98ssv44MPPvjZC5PvS5IkSeVVNJj26NEjTa7P6PwFXYYNG1Z4hCRJkrT4igbTFi1axHnnnRd/+9vffrqcc845ceyxx0a7du1ilVVWia5du6aBUZIkSVJ5FQ2m66+/fuy///7zXA444IB0JigCKVNI0YzPBPySJElSeRUNpkwP1bBhw3ku66yzTmy00UbRunXr2HHHHeO1115Lpy6VJEmSyqtoMC2G8+fPmTMnVUo//vjjmDVrVuEeSZIkafEVDaYzZsyIjz76aL4LI/GplHJWqLXWWitWXHHFwiMkSZKkxVc0mD7wwAPRqlWr1Gxf8tKyZct0etJnn302Tbxfv379wiMkSZKkxVc0mDZt2jSOOeaYn878xIXrf/nLX6Jbt25x1113xe9///uoXbt24RGSJEnS4isaTJs0aRIHH3zwPJeDDjoojczffffd0zn069WrF1WrVi08QpIkSVp8RYNprVq1Yr311os111wz9Tf98MMPY+zYsenfzz//vLCUJEmStGQUDabffvttGuzUr1+/uPPOO+Puu++Oe+65JzXh33ffffH000+ngMoIfUmSJKm8igbTzz77LB599NE49dRT4/nnn0/TQi2//PIxZcqUePjhh9PtAwcOTOfUlyRJksqraDB99dVX4/HHH49OnTqlqaFuueWWuPbaa1P1lL+bNWsWN954Y6qqSpIkSeVVNJhOnjw59S1l0NOqq64a1atXT3OW1qxZMxo3bhz77LNPjBo1Ki0jSZIklVfRYDp37tz0L833lSpVSn9nqlSpkm5nGc4EJUmSJJVX0WBat27ddL58+pmOGDEi9S2lP+mECRNSM/+AAQNS5bRGjRqFR0iSJEmLr2gw3WCDDWLLLbeMp556Ko3G7927d+pr2qtXr+jZs2cKp/Q/pZlfkiRJKq+iwZQzPx1++OGx3XbbRZ8+feLCCy+MM888M6688sp48803Y88994wjjzwy1lhjjcIjJEmSpMVXNJhWrlw5NdWff/758dxzz0Xfvn1T1ZSR+jTvn3DCCWkSfpaTJEmSyqtoqpw9e3bMnDkzvvvuu9TfdKONNorNN988hdWVV145zWvK/U6wL0mSpCWhaDB966230pylQ4cOTeFzhRVWSFNGMRqfQVAvvPBC3HzzzfHpp58WHiFJkiQtvqLBlDlKn3zyyXRq0tKYIor5S2nanzhxYuFWSZIkafEVDabTp0+PL774ItZdd900b2lJVE/r168f48ePj2+++aZwqyRJkrT4FjhyiSZ8mu1LT6LP7QTXbBJ+SZIkqbyKBlMGPHH6UUbgM9CpJJrvH3vssWjUqFHqdypJkiSVV9Fguummm0br1q3j3nvvjZNOOimuvfbauP322+Oyyy6Ls88+O5555pk49NBDY6211io8QpIkSVp8RYMpfUh32223OOCAA2Lq1KnpDFBUT4cMGZKqpMccc0x07NgxateuXXiEJEmStPiKBlPC5yabbBJ/+MMfYr/99ot27drFtttuGx06dEhhlWppw4YNo1q1aml5mvffeeedNIq/dJ9USZIk6ecscPATc5YyKv/AAw+MU045JU4//fT405/+FLvsskvqg1ryrE/Dhw9PFdWyBktJkiRJP2eBwXRRMO/pgAED0vymBlNJkiQtqiUWTGEglSRJ0uJaYsHUUCpJkqTyWKIVU0mSJGlxGUwlSZKUCwZTSZIk5cISC6ZVqlSJ5ZZbLipVqpQukiRJ0qJYYsF0tdVWiw033DDNfSpJkiQtqqLB9MEHH4zjjjsupk2bNt+I+++++y7GjRsXnTp1ijfeeCPd1qZNmzj55JNjlVVWmWfifUmSJGlhFE2Qn376abz55psxe/bs+YLp3Llz0xmehg4dmv4FgZSzRNGcL0mSJC2q+YLp6NGj4/XXX4/x48fHV199FW+//XaqinJbdhk8eHAMGjQoVlpppahatWrhkZIkSdLimy+Y/ve//4277747hgwZEpMmTYpevXql6yUvPXr0iH79+sVWW20VtWvXLjxSkiRJWnzzBVOa71944YV4//33Y+bMmfHyyy+n69mFSul7770Xq666ahx//PFRv379wiMlSZKkxTdfML3qqqviiSeeiAsuuCD22WefeOihh9L17NK/f//o3bt3XHPNNdGiRYuoUaNG4ZGSJEnS4psvmNasWTM1z++6665x5plnxlprrZVu++abb9Jo+5VXXjlq1aqVbsvmLZUkSZLKa75gmqlTp06ak/TOO++Mv/zlL3HGGWfEU089lQZETZw4MXr27Jmqp1OnTi08QpIkSVp8RYPpJ598koLoI488Ep999ln6+5133olZs2al6umYMWNSMz8DpCRJkqTyKhpMR4wYkfqUckan0047LdZbb72fJs5nmqiNNtoohg0bFtOnT0+3SZIkSeWxwIopzfTHHntsNG/ePPUpzaywwgqp7ynVUiqokiRJUnkVDaZZkz0DoUoPcJozZ058/fXX6W8HP0mSJGlJKBpMCaSMwH/11VfTufFBCOUyZcqUePrpp1PzfvXq1dN9kiRJUnkUDaZNmjSJpk2bRvfu3dOZniZMmBAjR46MBx54IP7973/HM888E3vuuWfqgypJkiSVV9FgSjW0Q4cOqS8pZ3+aO3dujBo1Kh5//PF05qdmzZrFbrvtFnXr1i08QpIkSVp8RYMpk+i3bt06zjrrrNhss82iffv2sfHGG0ejRo3S5PvMa7r++uunuU4lSZKk8ioaTFGtWrVo2LBhHHnkkXHeeefFDTfcEFdffXW6vsYaa8T333+fLpIkSVJ5LTCYMjJ/9OjR8a9//SvOPffcePLJJ9OZn6ZNmxaDBg1KTfrZ6HxJkiSpPIoG08mTJ0efPn3iT3/6UwwcODD++9//pj6m3377bQqnb775Ztxxxx1pUJQkSZJUXkWDKSPwn3322VhnnXXi4IMPjho1aqTqKIOg6FfKoKeXXnopvvjii8IjJEmSpMVXNJh+8MEHMXbs2DjwwAPTtFCrrrrqT5PpM3cpfU85O5RnfpIkSdKSUDSYUh2l2X6DDTaIKlWqFG6d1+zZsx38JEmSpCWiaDDlfPg02Y8fPz6d+SkLoDTl03w/YsSINLk+I/clSZKk8ioaTOlbyuT6N95440/hFBMnToynnnoqbrvttthhhx2cYF+SJElLRNFgyqT6++23X1SuXDmOOuqoeO2111IY/eMf/5imj+KUpV26dIk111yz8AhJkiRp8RUNprVr146tt946/vCHP6RTjx5++OGx0047RatWrWL//fePrl27xoYbbpia/CVJkqTyKhpMGdhEH1NORXrMMcfEscceG3/+85/ThUrp9ttvb/9SSZIkLTFFgynTRTGp/pAhQ9K0UFRGOU/+uuuum6qpkiRJ0pJUNJi+8MILcdxxx8XRRx8dF198cdx1113pNuY2nTp1anz55Zc/TbgvSZIklVfRYMqk+vfff3/qS1qrVq14/PHH4/jjj4+dd9453XfOOeek+zl1qSRJklReRYNpnTp1onnz5rHPPvvEKaecEv/4xz/i+uuvT/1Lq1atGr17947LL788Pvzww8IjJEmSpMVXNJhy+lHmLqUiOmrUqBg8eHA899xzMXz48DSFVNOmTaNNmzapmro46Lf6yCOPxLnnnht/+ctf4u9//3s8/fTT8fnnnxeWKBuDst5888345z//GWeddVb89a9/jVtuuSXefffdmDNnTmGp+TH3Kl0Srrnmmnj99dcLt0qSJCkvigbTt99+O26++ebUt/T555+Pd955J2bOnJkGQHXq1CmNzmekPpPwL6pJkybFM888E/fdd1+MHDkyXSf49urVK/VjLXb+fU6RyqAs5lMlJI8bNy7GjBkTAwYMiP/85z8xYcKEn04EkCGsstxjjz2WPgv/0k9WkiRJ+VI0mA4dOjS6desW99xzTwqDnAnqgAMOSM36hNK99torttxyy6hRo0bhEQvvjTfeiCeeeCJVR5mK6vzzz4/OnTunymzfvn3j448/Liw5L06FSiCl0tqsWbP0Xk444YRYb731Un/XV155JQ3KyjAwa/r06Wl5/l1ppZVixRVXLNwrSZKkPCkaTBs2bBgtW7ZMwZMgOXDgwNQcPmjQoBQgs5H5C2o+L4bqKCGTQVQdOnSIxo0bxxFHHBEtWrRITfwvvvhiYcl5ffbZZ9GvX78UiAmyLE93gn333Te93z59+swzGItZA6jIdu/ePZ0kgBMGVKlSpXCvJEmS8qRoMN1uu+1SoHv22WdT0znBbtq0aal5nzM/dezYMfUNff/99wuPWDg0tVMR/f7772OTTTYp3Ppjn1YCas2aNVPzfFkIwoRiBmWtvPLKhVt/PEsVYZUQ+tVXX6XbeH6WZdDW3nvvHb/73e8Wuz+sJEmSlr6iwZSzPjEyf4011kjN5gQ/giSVSe6jzynN7os6XdSMGTNSX1XOGsXzl0TYpKJJNbYs9DGl+b9evXqx3HLLFW6N9Fx169ZN74XBUXjvvffiySefTM35nPOfz0H4/TkEWp6Daivvs+SF+yRJkrR0FA2m48ePTwOF/vWvf8Ull1wSN954Y+rfSTikYknT+0knnRT169cvPGLhUDGl+Z+R/SXDJQil2WwAZclCI4/j8ZnsubiPIEp4pTvAW2+9lfrFcrYqwvTCYOAVswNceOGFqSLM5bTTTovLLrssvvnmm8JSkiRJWtKKBtPRo0enQUMEPJrEwYj81q1bp7lNGZHPmaEWdVQ+AZF5UAmnpUffE3oJn8VCJAGUU6MSEEuecYrn4jbuI9zSVWDYsGFpWigGbtEl4d///ne89tprqesBfWWZh5XXKwvPzXMSkLPL4vSllSRJ0sIrGkwJYwRE+pqeeOKJcemll8YFF1yQRuTT35RmfZrQF1X16tVTkz3VzYkTJxZu/RFN+Ny+6qqrFm6ZF+9ntdVWSwOkSlYv+fvTTz9NzfW8J64z+p6/mYLq9ttvT/1kmf+UEwLQb/bRRx8tM5jyGu3bt0+f9dprr00X5j49++yzU/CVJEnS0lE0mG6xxRapqf6oo45K4XT11Vf/qek9a1KnqkpfzEVBRZN+qvxLUztVU6qRDFri+QiVG2ywQXoNbqNvZ9a0T6DdeOONU+VzypQp6T0QLgm4PNemm26aBk8Rmnnvd955Z5rfNLsw/yrdEAjXBE9Ccml0JeBzEmyZkYALy3FZmD6qkiRJWjxFgykVRfpXMhK/ZLM5CJJMWs80TQTCRcU0VKusskpqTqcfKwOV6Mv60ksvRYMGDWLbbbdNI/AvuuiiuOKKK1KlE1REd9999xRMmZyfqauYqP/ee+9NlVDmVqXaSohcc801U8AteWGwFUGTkM3rlOynKkmSpGWraDKjEkrTeulQiqzCSWjNqpmLgsom/VSpbHL+/a5du6aAypykBx54YBp1z2swbRR9QhnJDyqmLHPyySenMHveeeelLgacOer0009PMwdklU0qsvRlLXkhiHLhPi6SJEnKjyrnc9qlEjgl6Kuvvpom1Cf80aeTcMgcoVyYJoqKJf00GblPwFx77bULj1449OOkYkqTPo/daKONolWrVrHjjjumsEozOuGSMzUxVdWGG26YQimhkvuYCYCK6Prrr5/up6vBDjvskN7rggInoZXnJxjz+guLcE5I55z8TD3FILAlEWyfHzE+Rn78eeGaVDEarVYrdt5i3cK1/Jn5zoCYPWl04ZpUMaqt3iSqb9y+cE3SkkYXTQqat956a2rhZu76srJUpR8WnGdyTqaGIoC+++67qbl+++23T0GyZP9KqqRUTOnv+ac//SkFtV8zPi/n1+dMUz179oy2bdsu1sCv0i7q9VI8PPjHGQ+kitK2aYPo1qVd4Vr+TO59Rswc3r9wTaoYNTbrFHU7X1q4JmlJy7qB0p2T2ZI482dZWWq+pnwGD9EXkwnraVLn75IXKo2cN5+R60cffXSqXEqSJEnlNV/FNPP888/H0KFD45hjjknN5yyW9dH8rbFiql8TK6bS/KyYSkvXYldMM9tss00KpczdyYT1hNSPPvooTdGEInlWkiRJWixFgyl9Shn0xOk4Dz/88DjhhBNiwIABqW8pUzNdffXVcdNNN6WJ7SVJkqTyKhpMmey+T58+6XSkjHqfPn16msieZu2sOf+JJ55IE91LkiRJ5VW0j+nDDz+czpZEX4DDDjssjjjiiNhpp53ij3/8Y+oTwGT4p556ajrVJ83+v2b2MdWviX1MpfnlvY/py+Nejs++/KxwTaoYjVZpFM3Wala4Vj4L28e0aDAlcN5///3pXPFNmjRJp/NkrlCCKfOBvvHGG3HAAQeksy5xpqZfM4Opfk0MptL88h5MT+9zerz4wYuFa1LF6LxZ5zit7WmFa+VT7sFPTCrPk5R1fngGQH3++edpflPPoCRJkqQloWgw5SxKzFlKP9Jvv/023ZaF1E8++SR69eqVzqLE2ZkkSZKk8ioaTDfbbLPURH/ffffF3/72tzQYitOVXnzxxXHuuefGiBEj0mj9tdZaq/AISZIkafGVGUxpxp88eXI6p2m7du3i66+/Tuen/+abb9JcppwBisFQbdq0sWIqSZKkJaJoxXTMmDHpnPn77rtvGvjUpUuX6Ny5c/r70EMPTSP1ae6vWrVq4RGSJEnS4iszmDJPKYP1qZAy0IlpoqiQHnfccXHkkUem0fkrr7xymQOjJEmSpMVRtGLasGHDaNSoUfTt2zeNwJ85c2Zq0i99odlfkiRJKq+iwZTAyelGmWSfZvszzjgjLrnkkrjiiivmudDnVJIkSSqvosGUU5BOnTo19SOlMsqo/Ndffz2GDRv20+XVV1+NGTNmFB4hSZIkLb6iwXTjjTeOo48+Os4666w46aST0hmf6GfKFFElL6uvvnrhEZIkSdLiKxpMGzdunEbkL+iyzz77RL169QqPkCRJkhZf0WAqSZIkVSSDqSRJknLBYCpJkqRcMJhKkiQpFwymkiRJygWDqSRJknLBYCpJkqRcMJhKkiQpFwymkiRJygWDqSRJknLBYCpJkqRcMJhKkiQpFwymkiRJygWDqSRJknLBYCpJkqRcMJhKkiQpFwymkiRJygWDqSRJknLBYCpJkqRcMJhKkiQpFwymkiRJygWDqSRJknLBYCpJkqRcMJhKkiQpFwymkiRJygWDqSRJknLBYCpJkqRcMJhKkiQpFwymkiRJygWDqSRJknLBYCpJkqRcMJhKkiQpFwymkiRJygWDqSRJknLBYCpJkqRcMJhKkiQpFwymkiRJygWDqSRJknLBYCpJkqRcMJhKkiQpFwymkiRJygWDqSRJknLBYCpJkqRcMJhKkiQpFwymkiRJygWDqSRJknLBYCpJkqRcMJhKkiQpFwymkiRJygWDqSRJknLBYCpJkqRcMJhKkiQpFwymkiRJygWDqSRJknLBYCpJkqRcMJhKkiQpFwymkiRJygWDqSRJknLBYCpJkqRcMJhKkiQpF5ZZMP3666/jk08+iREjRsSbb74ZI0eOjEmTJsW3335bWKJsc+fOjWnTpsWYMWPi7bffTpf3338/vvzyy/j+++/TMvw7Y8aM+Oijj9Lz8vwsx2OmTJkS3333XVpOkiRJ+bFMginB8d13341//OMfsdtuu0WbNm1iv/32izvvvDM+/vjjwlJl++abb+Kpp56K4447Ltq3bx8777xznHrqqfHSSy/F7Nmz0zKE12HDhsX5558f++67b+ywww7RsWPH6Nq1a/Ts2TM+//zztJwkSZLyY5kE0+HDh8fdd98dAwcOjJNPPjl69OiRAmbfvn3jjjvuiOnTpxeWnBdVUQLo2WefHQ0bNozLLrsszjvvvKhevXqcddZZ8dZbb6VKLAH1s88+izlz5sRJJ50U9957b9x0003RpEmT6N27d9xwww2FZ5QkSVJeLJNgOnjw4Bg3bly0bt069tlnn9h+++3jqKOOinXXXTc17Q8dOrSw5LwmTpwY/fr1izp16sQee+yRqq277757uoD7aKpfbrnl0nOfeOKJ0alTp9h2221T1ZTXql+/fqqmslzW9C9JkqRlr8KDKc3s7733XmqSb9WqVTRo0CBWXnnl2GijjaJp06ap/yf9QcsyderUFFqbN28em2yySay22mqx5pprxqabbhobb7xxvPLKK6n/aZUqVVIAZTnuX2mllaJ27dqpylqrVq3U/1SSJEn5UuHBlEA6efLkFB7XWWedwq0RlSpVijXWWCNWWGGFov1MaaZnQFPjxo1jxRVXLNwaUaNGjXQbVVievywE4rFjx6Zwu/baa6fHFMOyBGS6BJS8SJIkaemp8GA6c+bMNPKe5vbS4ZCwWbly5fjqq68Kt8yLsEi1kwpo1apVC7dG+rtmzZqpD2pZI+5psh8/fnw8+eSTqf9qu3btUgAmDJdGv9RPP/00Xn/99RgyZEi6UKVlZD/3SZIkaemo8GBaMgwubh/Psh5X7Lm4nSDMgCf6tm6zzTZxyCGHFO6dH8H5nnvuif333z/1S+Wy4447xmGHHWYXAEmSpKWowoMplU2qlbNmzZpv9D3Bj2Z0+oGWhSorfUW/+OKLeZrW+Zu+pQyKYpkMoZSm+3POOSdVPhn8RMDk9YthhP/hhx8ejzzySLz88svpMmjQoDTNFO9dkiRJS0eFB9Nq1aqlvqQYPXp0+heESPqP0oxfsu9pSTT9r7feemm6qZLVSwIuo/k32GCDFCzB89Gn9Nprr03hcu+9906j+BkMRXeBYuj7yqAqBlM1a9YsXTbffPM0OIv7JEmStHQsk6Z8gh7VRybKp+8mc44+88wzqV8nI/QZTc8gpkcffTT69++f+oeiXr16aWqp1157LVUxCbac2emFF15If9N3lKopVdd33nkn7r///vS8NMfzOB7PACqa6xfUX5TgSr/V0hdJkiQtPRUeTEHw3HLLLWPChAlpon0uTLJPoGQKKaqVBNMHH3wwhdMPP/wwPa5u3brRoUOHNKr+2Wef/emxL774Ymy44YYpmNLUTzcBpo6irygj9WneJ7zed999aXnmO+X0p7yeJEmS8mGZBFOa4/fcc890tieqpARGThPKbZ07d05N9lRWqZ4yAj/rN0ozPdXW008/PY3gf/rpp1PllKb3M844I9Zff/1YfvnlUzClMkqVk6BKwL3lllvS2Z+4PPDAA6lKW2zAlCRJkipepR/CmensZzAFFf1VW7RokQZBtW3bNvWVLa+Ler0UDw8eVbgmVYy2TRtEty7tCtfyZ3LvM2Lm8P6Fa1LFqLFZp6jb+dLCtfw5vc/p8eIHLxauSRWj82ad47S2pxWulQ9dKGnFbtmyZXTv3j21gJeVpZZJxVSSJEkqzWAqSZKkXDCYSpIkKRcMppIkScoFg6kkSZJywWAqSZKkXDCYSpIkKRcMppIkScoFg6kkSZJywWAqSZKkXDCYSpIkKRcMppIkScoFg6kkSZJywWAqSZKkXDCYSpIkKRcMppIkScoFg6kkSZJywWAqSZKkXDCYSpIkKRcMppIkScoFg6kkSZJywWAqSZKkXDCYSpIkKRcMppIkScoFg6kkSZJywWAqSZKkXDCYSpIkKRcMppIkScoFg6kkSZJywWAqSZKkXDCYSpIkKRcMppIkScoFg6kkSZJywWAqSZKkXDCYSpIkKRcMppIkScoFg6kkSZJywWAqSZKkXDCYSpIkKRcMppIkScoFg6kkSZJywWAqSZKkXDCYSpIkKRcMppIkScoFg6kkSZJywWAqSZKkXDCYSpIkKRcMppIkScoFg6kkSZJywWAqSZKkXDCYSpIkKRcMppIkScoFg6kkSZJywWAqSZKkXDCYSpIkKRcMppIkScoFg6kkSZJywWAqSZKkXDCYSpIkKRcMppIkScoFg6kkSZJywWAqSZKkXDCYSpIkKRcMppIkScoFg6kkSZJywWAqSZKkXDCYSpIkKRcMppIkScoFg6kkSZJywWAqSZKkXDCYSpIkKRcMppIkScoFg6kkSZJywWAqSZKkXDCYSpIkKRcMppIkScoFg6kkSZJywWAqSZKkXDCYSpIkKReWWTD96KOPomfPnvGXv/wljj766Dj77LPj8ccfj8mTJxeWKNvs2bPj1VdfjauuuiqOP/74OPHEE+O6666LESNGxJw5cwpL/WjixIlx3333xamnnhpdu3ZNr9GnT5+YOnVqYQlJkiTlxTIJphMmTIinnnoqevXqlcJjpUqVYuTIkfHAAw/Es88+G7NmzSosOS9uHzNmTNx8880xdOjQmDFjRnzxxRcxaNCguPXWW+Pjjz9OwRXZa9xzzz0xadKkFFrffffdePjhh6Nfv37zhVhJkiQtW8skmL7xxhspNM6cOTOOOuqo+L//+7/YZ599UhW1f//+8eGHHxaWnBeVToLrgAEDonnz5nHCCSfEscceG02aNIlHH300Xnrppfjyyy/TslRQqY7yGl26dIkzzjgjOnfunIIsldpPP/005s6dm5aVJEnSslfhwfT7779P1c5p06bF7rvvHu3atYt11103DjrooNh6661TpZOAWRaqqzT3b7nllumxv/vd76Jly5ax1157RaNGjVIldMqUKaka+t5778XYsWPj0EMPjW233TaFV8Lvdtttl0Ipr/Hdd98VnlmSJEnLWoUHU0Lj+PHjU0DdZJNNCrdGas5v3LhxrLTSSqm5vixUQ0eNGpWC6corr1y4NaJ27drpNroDfPXVV6kqSvgE4bVq1arp7xVWWCHWXnvtWHXVVWP48OE250uSJOVIpR8C4veFvysEzfGnnHJK6h/6t7/9LTbffPPCPZH6nNIHtF69enHttdcWbv0fmvEPPvjg9Li99947VltttXQ7XQDuuuuuuP322+Pee+9NwfP666+PwYMHp8FPa665ZlSu/GMG79u3b9xxxx3ptssuuyxq1KiRbs/wdVBJpa9q9tVwnepr27Zt0+tQda1WrVq6rzwue+iV6Duk7BAuLS3bbVI/Lj10+8K1/Jny8Nkx850BhWtSxajedJeou8eFhWv5c3a/s+PlcS8XrkkVY/emu8fJ259cuFY+ZCnyGi3l3bt3j44dO5aZpSo8mDLqnpH4X3/9dVxwwQXzVE0ffPDB6N27d9SpUyduuOGGwq3/88wzz8QBBxwQl1xySey5554pgIIKbI8ePeLGG2+M+++/PwVbHj9s2LAUdlkuC6Y09xNMV1lllejWrdt8wfSbb75JfVi50C0AfEVUa5944okUSgnE2fOVx9sfTo7xU37sEytVlNVqVY/m661euJY/sz56Lb774pPCNaliVK2zdixff4vCtfx57ePXYtKMSYVrUsVoULtBbLz6xoVr5UOWolWbLEVm22WXXaJ69eqFe/+nwoMpAe/kk09OldNzzjknDWLKUN1kENNaa62VpoMq7bnnnovDDz88TjvttNhvv/1ijTXWSLePGzcuhU0eT0WT26mYDhw4MI3Kb9iw4U9BkucnqdOv9eKLL57vS2Hk/wsvvJAeW3JaKQZKffvttyndL4lQqsXHURdThn3yySfx+9//PpZbbrnCPdJvF+vFK6+8kvrvd+jQwfVC+gHrBftzWkFp9XS9WLaInPxfME1o06ZNY/nlly/c8z8VHkzp10mwHD16dPz5z3+O3XbbrXBPxD//+c9UFWUQ1Jlnnlm49X/Y6DISnzIwo/HXWWeddDt9S//xj3+k57zmmmtSEKV6+sgjj8SVV14ZrVq1Sv1MCZcE1f/85z+x6667pudYccUV03Nk+Dr4IXMp+dXwvhnhz/JZn1UtG1Tb6erBADb+P6l600dZ+i1jvaA1iT76t9xyy3ytQdJvEfttimAUxcgHrhfLFrmKlmnGE3GQUNa+u8KDKQgV9Bdt0aJFmiCfKiR9Tmnapy/nH/7wh9hjjz3SICbeNFVNUvU777wTV1xxRaqUXXjhhdGsWbP0IQko/PB4vpNOOimN0L/zzjvjtttui06dOqVkzo+R5/v3v/+d+pledNFFKeB69PTLww6Yijrz1zL3rcFU+nG9YBvKATotSDVr1izcI/12EUyZLpJgSsHKYJp/y6RNmime6ONJf9LHHnssTe1EYCRgNmjQINq0aZOCKuGTIPrWW2+lx9FET2ClGZe+pAQTKqwMeGLuU+YppT8pIWXjjTdOFybef/LJJ+Ptt99OG2vmT11vvfXSFFJWPiVJkvJjmQTTTTfdNA488MA0lROldfqNMiipffv2cdhhh6Xpn2g6Z/QWZ3OisyyYIqp169bp1KJUBf7617+m8Epf0PPOOy9VULM+o/Rd4LkIuVRojznmmBSCsyotTfJW2SRJkvJjmTTlgzBJXyia7ulvQOjcYIMNUr9RmqCyQUhUNTfccMM0vRMIrIRV+pUyap5wySh5qqOrr776PAOTKN2z3AcffPBTnwYGPa2//vqW83/BGITGtGJ07aAvMvPTSr91bDNpSWIOZ7o0uV5IP64XjCuhq0vXrl1dL34BllkwlRYXg9g42ODgZosttogqVaoU7pF+uzho50CfPnW0SrleSD+uF3QX5F8KWK4X+WcwlSRJUi44IackSZJywWAqSZKkXDCY6jfhjTfeiMsvvzydDpfBU5IWD4NSu3TpkgZaMcBUyhtm8nnxxRfTKS+ZUvLntvkMkuZskrfffntMmDChcKuWFYOpflX69++fTp4wfPjwNEgqw/y2W221Veywww52ftevGrNVcCY8TtE8ffr0wq1LDoMOmRf6s88+S2fIk/KGE+cwkw9zmzM3Ott8fq+cDfL0009PJ9spiXnVOb01gwadsWfZM5jqV4WTMTz66KNpSrGS4/qYSoyTKnTs2NFgql81pot64okn0imcmSLn57CeOAZWvyYEUwLpIYccks4EyTZ/2rRp8dprr6VKPzNXlFS3bt1UMWWWF4Ppslfl/B8U/pYWiBWbSglHm59//nk6yQHTcND0wVQczEXLvLL8PXny5Hj33XdT9Yb5ajla5T5OLVvyjFvjx49PzShcCJOc8Yvn5zFsXNhIUJXh9XguXo/7eBzLckKF7Hy7PAcVU/5lbluac1iOZXgOzg7GTpsziPFZqKrSFFmnTp155r/llLdMu8N9bLBA5YnbeA+jRo366cQPJV9fKonfLL8xfmv8zW+X387EiRNTNb9WrVppOdYXbmN94bfL75vr/CY5XTPrC/Mw89vjt8nJQbK5GJmjkeccN25cuo3fKWfQo7kdrD+sA/z+uX/SpEnpftZDHjNixIh0G88J3kP2Prmf6ijvgeWzdYRlnnvuuXRCEy7ZY6UF4XfDdpN1gd8x+5L3338/bUf5jfE74gCJZnd+f6wL/Mvvl2X4LbMusK2dPXt2WkdYJ7J1hudmfeC5CKL8dgmi2al5WZYzP/I+mBud98C+hufkdV9//fX0L9t01onS+wBwP49jveZxLMt6wZzqvIds/8B+hvWa9Yb9gxaNwVQLjX6anG2LlZIdWs+ePaNHjx6pLw8hsXnz5mklZCUdMGBA/Otf/4o777wz+vTpE4MHD047YwIjzSagmnP33XfHTTfdFPfcc08MHDgwhcchQ4akCZE52QIbEHa2Q4cOjeuuuy41TzK5Pv2GWJYm+vr166eNA+dB5miYDRmnreVsYjznRhttlJ6D09NSTd13333TzpefPhsTTpFbcufaq1evuOuuu1Lg3n777dMGhp05t9EHiVPp8rxsuBo2bJiCrRsflfbyyy+nc9dn6wvrCr9fKpkETbqWsANlB8sBFadl5jfG+sLvnd806wu/Lw7s/v73v6fTK3MiEqpBYAfKme1YF1lXWCdYp3ht5vplPeH5+H2znjz77LPprHtrr712ur179+5pR8pj2dn/85//TOssv3GqrrRAEAh4PXayhAKDqRbHlVdeGQ8++GC8+eab8fzzz8fNN98cffv2TeG0Xr166ffJtpbtKr9ptrUPPPBAPP300+kgid8g23sCIdtm1hmW45TkbNd5ToLpWmutlX6zrAOHHnpo+o1yUMaZHzktOfsCtt/8/nkeChXsi4444oi0znECHvZp2brBGSmzwgOhmfd08cUXp1Obc8IebuM98n55zEMPPfTTPpHPxXvODuq0cPy2tEhYgdmY0BRy3HHHpVPKcmrZ2267La3srIzsfNlREixvueWW9HeHDh3SRomdJke/PP7xxx9PKzIr91VXXZWCIhsUdoocVWfYWLFhoA8Q4ZQd/J/+9Ke0s+b0tBz1EnqPPfbY1HRDEOX52FjwmvQrLW2zzTZLGzqObDlSzvA8BHAqTFtvvXV6bYIu742j5zPOOCOFaAZREThuuOGGtPOWysJvhp0moe/UU0+Nbt26pUm++d1zsMN6wEEYB1uEw2x94YCIdYW/Szc7Lsh2222XBiZx6mUOwNhJEkZZNzjVM6j6sINmPbn++uvTaZ05wGLd5uCS0zvzG7/kkktSF5gTTjghVbcI01J5sM1ke8tvnd/Y3/72txRECZfDhg1LpyFnW0txgqDIfuXoo49O4fXkk09OB2L8fjlAY71iH8OBFNt5xhZQZOAAqjQOxDp16pTWDQ722MewXhCW6eJV2iabbJJCJQeIrH+8JnivVGg5GGvbtm16LQog7PM4yLziiitScOUMU9zO5+IAUYvGYKpFwsrHToz+OOw8W7dunY4o2YGxEtN0QrWSfj3s0Lbccsu0Iz7yyCNTx3IqOgQ/winVTao/e+yxR1rJeS6CJUGV5pgMTZ7saNmw8HxsNPbaa6/Ye++9U7WJ1+T5qCyxLI/l/bDR4iic5pbSOOrefPPN0+dhI5ihssV75PG8FsGCKhafmY70fFZCLZ+dz8eGlo0mAVYqjUo6v0OqlOwACY7t2rVLrQZUdNhJs76wjvz5z3/+aX1hZ9ykSZO0UyMULix+66wD7DjpWsPBF+si6wa/dXCQx/rDiGWCKPezE2Zd3H333aNVq1ZpHeOA7uCDD06BltBA9xypPPhdsi3P9ge77bZb7Lnnnqm4QCsbLVl0Q+F+7qNVgfsPO+ywtJ0dNGhQKlpwoYjANpztMUGX9YvfLtvq0tje06TPusHf7Bf43RNSy6r4Uw3lOdmvUHChEgua6gnHrDec4pztPoUanofQyz6M9Zd9FfsK1hnWby0ag6kWCTtamjpY+dlhsfNjpWTHRvWRZj4qjKzMHI0yApLqIk0f7IjpB8RRMc0fVBoJoWwE2GDwXDwvO8XSGwuqOVRYqTjRnYCjao5MqdDSzMPzseOlyYQdL3/zXrmU1YzCMnR0Z+NC0xLNOxwVU8XiPj4jn4kqEd0QCKwEVCq0VL6oKvH6HEETjnkfUmkcJBEw+V1nv3HWF4Ip6wnVF9YJqjdUW7L1hWZ7wiDLcP/C4rfOb5/fMH+zE2YdyEJphh0r74kWCt4jy7E8B2l0KTj33HPTb53mVvrqEZDZSUvlwQE/B0BUMNnG03+TpnawjWXfQIWSkMlBFWGS0fXsE1h/GNfAtpZ9BttuqpJU/QmHrCv8hss6F362PmTrQbZvyH73pXGAR3ClWwCBmf0ArR68R16fAMxzElIpZBCYae0466yz0vpLJZiuBQTZRVl/9SODqRYJKzEbE1boDCs7GwPCI0eIrMDcz4pL2Msu2XRNHK1ytMugEDYuJTckPD+BkI1Ghn5ANEly4aiZDVdWoeQ1CJWLU7HMNpBsXKh88r7pG0RooJmTz8Dz0mWA98Ul+yz8Td8hqrY8D+9DKo3fEL/nksGQ2wiD/I757fEby9ankusLzZJUWNk58vvK1qeSuM7jS9++IDwP4bjkesfOluZRWjE4YGSdYn3geXnv3M91qTwImmzzS6LAwfaU/QEtVPze2MdkrWZcJ8TyOH6HdLOiqLDrrrum8EhYzfp40o+UoFherCMcuDVt2jQFTN4bB2dcCK3sy1g3OGgjtPIeWYe5LbsQpll/OTDVojGYapGwwrIS8m9prIwESvrdcER55plnpspLdqHKSd8bqjU8nmoNYZZqZ4bAWjpoUhGlvx3PT3M6R6QcmdKHLguP3Aeet6z3VhY2flRG2eixU84qWBypZxsTnovPw3Waakp+Ho6K6Z/Hxicb+SmVxvpSGr8rfrPsfPl90TWk9PrCwKk//vGPqbky+x0SDllHMvz2sz7WGZbNDqKKYT1lmQw7WFoEqFi1adMmdVOhZYL1tWTfVKk82N5zKYlKPL8t9gdsi7N9AAEUXKcpncdxP+sT3WPoTsZ+gO4nhEi6kjFwlRausrBeZOvdwuCAkG4CrBOEX1oBeV9UawnEYP/DekRQpR93yfWX/R2ta6zbWjQGUy1RjRs3TkeUrMBsTAh/WVM/TTFZ0yE7RsIeR7d0AWBZLuwgaS4pufFiw8UyO+64YxqQxIaBnTRH1xxBl9zQsNFiQ8Hj2WmzUVvQhohgykaGEcg02RCSs6ZX8DocnVMJ5siYz0CllAuV1ezzlNzJSwuL3x+/sWxHXHJ9odmfdYnfFztAbieEUr3J1hf62tF9hr8z/BZZv/i98pwLU1Hl8YxAZkdMpZYWA/qlEoRpMchCglQe/JaoOrLt5rfFdppiANtpWp5oTeP3y7gBWhPYHvN7Zz9Blym21VlBg8cTHumLSgCkHze/U/YfZWHfwHrB+sDvnWUXtH/g908/U0btMwsF3QZoZWAdyfYzFDFYL/k87Lt4DNfZP3BAR8GC9VuLxr2plig6tDNKn43NpZdemqbGoRJJUznNhIw+pgLKCnvAAQek/p3cRt9OjngZoUy/HHaqGY6SWeHZMPA8bHgYBcmyrPQcBWdo7mGDQf88Nmxs1BbUBEmQprM6G0L6CGX9Z7MqF89HpZQpsHg9+pWyA2eaKabiYboSR+VrcfC75aCHFgQGSNAnmz6ezJPIb4rZJ5jShvWHdYBBI/zNXIxUhVhn+E1SzSn5G2dZQi3PQbWH3y478gWFU3bY/O55fdYF1l+m47n66qt/NtRKC4sDMAY3MXUf/fMpBjDzBAdgzNxCEOTAiGnLGFPAwD/WAfo609eUaj4FAZrumVmCfUbW0sU2n/WAUFgWAi0HfoRIlqXv5891UWG/Q0Hkv//9b9rec51gCtZf1jW6FFA4oW826yYhmn0Yswawvyg564sWjvOYaqGxIrNyUs1h9GHWxMdKycaGkMhKTGd2doxUcjgFHIGUDQl9RTnCJLxSeeRvdpjsCNn4sFOkOkS/T45ms/453MYGgZDLhoz3QHDk6Jn3xEhmXpOwy8aCDU+2wWPnylE4y2eDnAjEWZ8+npvwSjMN/VcZhUw3hOyz8Tj+5r1SNeVzsLGhLxOzC3Afr0+nfqkkKkMMimBHyQ416+5BWCRUsr6wM2ZHx46ZnRnrCwdd/Mb5vfEb58CJ9YXfGL9f1hcO0gie2e2sL/TfpomTkMmF16AlgIBL5YnfMK/NukYXASpB2QEYy3M/B30MxCIUUN3iQI31iXWIYMxrOY+pFgfdpahQ8luiaMCUaQQ5rtMsz/ae7XzWksZvjKIF21l+m0wXxb6D9YYCBY9lfWFKJn7nPDdTChIU+U3yHDyeEfI8J+sYv3NuZzvOfolZANhXsR9gCqnsN51t/ylycB/rEJVWupKxj+N5wP6G98Z6yL4omyKKIMv+hPWF9bdYWFbZKv1wNOzhsBYKGxOOUFlp2ZlmO1p2oBwVsrJS/WEDQNWHyiJhlGYTNiZsdBiFz842G3jBTo7laAbhNh7L/HYMDDnxxBPTRoCdKq9NVSk7UwcbM16flZ8moKyvKDtubuMImi4APCchmvuoLHHbTjvt9NMOGeyAGfREsyijQdm5l97Z8v54n+zYOcpmg8UROO+D1+ezSSVxwJYdvJQMcPzeCJXs8OibxrpB1YffF/exvvC7pTJERZ9KJsuA4Ei1noMpfn9Ukdgh87un+krYpAKUratZiwGDONg5czsHkUzRRvWI3zF4DtYNHsM6y06YA1Cejx0un4EdLO+JHTvrYrbeZe9NWhD6UPPb4QCHftP8rgh2/L6zJnPiCMUK1hvWCfYDrAtsZ7N9Dr9ZDvrYnrPvYXn2PYQ/nofCBs/DusTApWyEP9t8DrLYV/HcPI6uAAxSYr/DwSC/Z37X2b6NAz62/QRNsL7yGqWxrmdnn+I9834Iq+zr+Hz8rYVnMNUywc+OnR87YzYKNJmzY2SjwTQ1VJJoQs+aTSRJv1wEUw7sGax00EEHFW6V5mcfUy0zVHKy5hj649CUQtMLR5sc5XI0K0mSfjsMplpmaMahyZ++oJdffnnqc0RTC5PX09xOU6Mk6ZePvpx0BSndTUoqzaZ8LTP89LIzamQ/Q/oB0WeNfqQEV0nSL182MwTbdvpXS8UYTCVJkpQLNuVLkiQpFwymkiRJygWDqSRJknLBYCpJkqRcMJhKkiQpFxyVL+lXidPX3nnnnTF27Ng45ZRT0qlmF4RTEnKe+NVWWy2OO+64dNvNN9+czlbDeejbt2+fbvut4zzlDz74YJrqjfOXex5wSUuSFVNJv0rMlcgpbTmLGKe8/Tmcd/vdd99N5+HOcH54zu3Nubp/Szjf99NPPx3nnntuOq845wzPMEn67373u/S95Hmy9FdeeSWd3pjzrs+aNatwq6S8M5hK+lUiNLVq1Sp+//vfR+3atQu3lm3u3Lk/neShJMIXldLGjRsXbvlt+Pbbb+Ptt9+O+++/P6ZMmRJz5swp3BOpotyuXbvo2LFj1KhRo3Br/owaNSruvffeGDdu3DzBWlK+VTn/B4W/JekXgaA0derUGD16dAog77//fjq9Lae0JSxxBjHCCKGE22vVqpUqqNOnT0+B6/PPP09nonnnnXfivffeS2cbGzNmTPqbZQld4PGfffZZVK5cOWrWrJmar6nATZs2LXUV4H4e8+mnn6YzmGWvDYIur8H7Yxm6FLActxGal1tuubTcz+Fz8Fl5r3xePuvHH38cX331VVSvXv2ns+hwnermyJEj03IsM2PGjHQ/n48zqVEJHTx4cKogUiHmPbHsxIkT03PwfHxWKscDBgyIt956K9Zff/30fRFQ+Wx8Lj43j69Tp046kw/fMc/F98JyvAcqz/x/cD+P4TvgeekawfeYva8Mt/GeWY7v7MMPP0zPx3JceF+8/zfffPOn75/XYNkJEyak75//I94j7+/JJ59Mn7VBgwbpuVmG+zg1pqT8so+ppF8cAtcLL7wQd999d+rzSCijub5Zs2Zx7LHHxqabbpqWueSSS1IQvf7662OjjTaKIUOGxBlnnBH16tWL5s2bR58+fVKIueqqq1LQee6551KQufLKK9Pr0BRMUNpnn33iwAMPTEGoS5cuqb8qTdqEWUIYr00V8aSTToq11147hSjeE+/tX//6V7z22msppBHkWrduHQcffHBsvfXWabmfM2nSpNT3lech1BFUCc/bb799dO3aNTbZZJMU1IcNGxaPPPJICmSEaQLYlltuGUcccUSq/BLaCIa77LJLdOrUKT33iBEj0uenCspnPPzww9N3c/nll6fvjiDIaxEu+f6OP/749P3885//TPddd9116fPedttt8dBDD8Vaa62Vwjn9dfm8vO7ee+8d6623Xnr/L774YnqvO+20UxxyyCGpok1gZjfEd8X7f/zxx1NAXWGFFdJn4/23adMmfXeE6KOPPjoaNmyYvv8s9PNZeU6+/zXWWCNuuumm6NatWwq3/N8QbPlcp512Whx55JHps0vKJ5vyJf3iEGSoPO6+++5x7bXXpoDKgCUqf4QTgs2CjrlfeumlFNLoQ9m3b980uGlh+qFmnnrqqVQxPOigg+LGG2+MPfbYI/1LIKNiiNdffz2FO6qN55xzTtxzzz0pNFM1JfBS9SvZRF4MFVoC4JprrpkCds+ePePSSy9NXQyy6izVwH/84x+pqsprsAxhm/d46623phCf4Xth8BL/nnjiiXHNNdekkH7hhRem1yJQ77///uk+Qujtt9+ewu4dd9wRO++8c+FZ5sd3zuvUrVs3vd9TTz01hWo++w033JD6pTKYjPBLIOb7yPp+chDB+6df6AEHHJCa4Pk+qSoTaHn9DN0uuM73ethhh6WQvNtuu6Xl+P65nf8XQjTfGf8HhF1Cb+fOnQvPIimvDKaSfnFociZMdujQIQUeBjntuuuuKfTQ/EyzMgGrGJYnpFC9ZIATI8upqi0sAg99V2ny32abbdJrN2rUKAUugikVS4IpQfmCCy5I1VRek0oly/LeCFELeo8ZQhvPSfWR52jatGl631QRqRwSMB9++OFUYeQ9caFi3LJlyzjqqKNSOKQamfWzpEJJJZL3wXe43XbbpaomIZDlqBxTJSVgUimlIspnYwAYVddi+D/hu6TCSdDlOTfffPP0/nguvu8tttgiVWbps0v1lwtB84knnkgHGlQ999133/Q5+X8lHPO+qXpngZ/3z/fPQQnhnM9JYCZE8/7p9pC9fz7T6quvnt4/VW6b8aX8M5hK+sUh7FBtpHJJde68885LlbHevXunsJf15SyGkEKzPwGGQEeAIfAsLB5P2CH8UGkl/BDgCE80cRMGaeanPyhVQrryn3XWWXHRRRelEMn9dAFgkNHPITQ3adIkHn300dRkToWXLgVUS7NR8YTgrCmcyievRaWyV69e6XUIyPSvzfB8vH8GhfEd0ATPZ2E53j/PzYXvhO+G0M6/C+p6QOjbYIMNUkAkwPKd8N5pQidAc51m/ux7ywI3/5f0G+X7orLJ/yPvn6oy1Voq2wT9ksF03XXXne/75zPwvfL/nr1/EK4X5v1LygfXUkm/OIQsmoIJawQvqmQMcMmaxgk9DIYphuBEn8XFRf/GkgN3CEtUDGma5j3w+rxHwhHhk7CUXQhrVCsZVLQwVVr6Z9K/lcBHf1CmceKz0xxPxZFgR5M9lUX+LvlafE6qilQuSwZvPnvJ1+Z9EnJ5rwvTvaAsfB8lv9Ms1PIeSs6KwHKERV6H/zPw/rlO9bTk+wfVZqqnHEBkSn//BE6+//K8f0n5YDCV9ItCeKGyR99Sghj9OxnUQpXt0EMPTYGIcMJ9xRCMuCwuglDJoAeuZ69J0CM4UUXlfVHRpWrKhab9v/71r6n5eUFN4xmarWn+ptpKczjVWiqMPXr0iEGDBqVlCIBZgM1eJ7tcfPHFqdm7ZDP2z71/ZPcv6HssieXLqkhye1a9zJR+bt4/g5Zo/i/r/dO8z/eQKev9o/T757Kw719SPhhMJf2iUBlk4BCDbRiZTn9L+ixSUaMpNw9BhFHuBCkqp4xOp7mc5mYuND8TEqnwlRWuSqPyS2WR52REPYOKGPRDE/bLL7+cnoO+nVQY6cZAdTJ7LZrRs+4KpcPhghDaCYt8lzwv33mxuV7Li/fPiH8+I98Xn4vPSlClusz757vi/SwKwiufI6ukL633L2nJMphK+kUhoBDsCCz0MWUqJgYd0feSEeh5CB8MFGI6KN7jCSecEP379/9paiPmB+V90if0585IRCBkpDzVYaa6oimfkffcRvcFmvcJdlRUwYT4//nPf1K/TJYdOHBgmjqJfxcFzfq8d0IxVVn67NI1YWH6xC4q3j+Dwmiep/8to/H5jEz1xCh9+hAzUIxguSgIs/Rp5TmYZ5VBXUvj/Utasgymkn5RCDJUA2kSp3JKU+/pp5+eRuPvtdde6f5ljerkVlttlQYg0cROEGX+TaZyYgATQY9wXVbTd0l8Fip+hFiatZl1gOmwCJ70Hc0CKYOOuJ3R8PS7ZX5T5lu9+uqrU2V5Ubst8P4ZuU8XAAZQUaFlOi76ty5pfEaqo4zApz8pU07xWnxWBkIxKIplFvX/dcMNN0zdPAjlf/jDH1I3Dw5eJOWbE+xL+sWhkshI7VdffTWN1iZIUaWkTyfVNZr3aUqnQsm8lkytRBM3fVNp/ibYMqCmZGDLRtHT75MpiMCZgwi/jAJnsBLN8jw/z8W0TTTLgyZoAhADipiqiaZoKnzcTmBmkBLN7ARRAikjyJkSiaregsIpm2fmKKVCygAhQirvmSZ6ui8wuj5roud9Mk0Wn4O/wWfhtQiuhD+qhv369UvXeSxVUbA8lVy+P5rVGcREhZQJ7alG05zPskz3xL8EZf4Ptt1221SVZAAaFVq+V5bJ8L45GxWvxWtm+F4J51SVeX9gNoDsTFT8n/H98dx8l4RM/n95n5wEgffH90+VFbxX5qalms5AL74fvm/eUzY3K/83/J/zOEn5ZTCVJElSLhhMJWkZYXQ91b5iUxxR+aNSmFU2JenXzmAqScsAm176bg4dOvSnOTtLY0opzt7E2aUk6bfAYCpJywgj9emHWmzEeTb108LMdypJvwYGU0laRpi+aEHzazKwicFOPzd6X5J+LQymkiRJygUPwyVJkpQLBlNJkiTlgsFUkiRJuWAwlSRJUi4YTCVJkpQDEf8PAkJ/we1ojKYAAAAASUVORK5CYII=)\n",
        "\n",
        "**On average, negative sentiment tweets get re-tweeted the most**"
      ],
      "metadata": {
        "id": "9s7o1-Dh-s6z"
      }
    },
    {
      "cell_type": "markdown",
      "source": [
        "`Negative reasons`\n",
        "\n",
        "![barplot desc.png](data:image/png;base64,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)\n",
        "\n",
        "**The predominant causes of negative tweets appear to be customer service issues(28%) and late flights(16%), as indicated by the graph**"
      ],
      "metadata": {
        "id": "rqSvuhmo85I_"
      }
    },
    {
      "cell_type": "markdown",
      "source": [
        "Effectively gauging public sentiment on Twitter involves navigating through a vast ocean of diverse opinions and emotions expressed in succinct messages. The inherent brevity and colloquial nature of tweets pose a unique challenge for manual analysis. Human cognitive limitations may lead to oversight or misinterpretation of subtle nuances, making it essential to leverage the power of artificial intelligence for a more accurate and efficient approach.\n",
        "\n",
        "To address this, we need to develop an AI model that can take in raw text and understand the nuances in it to accurately predict the sentiment. This model will be adept at:\n",
        "\n",
        "- Take customer reviews (as raw text) of different sentiment categories as input\n",
        "- Develop an understanding of the nuances in the raw text\n",
        "- Building a robust mathematical model to predict the sentiment using the understanding\n",
        "- Predict the sentiment of future customer reviews using the learned model"
      ],
      "metadata": {
        "id": "u5LEXvOa_bVv"
      }
    },
    {
      "cell_type": "markdown",
      "metadata": {
        "id": "8T-1nexwbVv9"
      },
      "source": [
        "# **Model Building**\n"
      ]
    },
    {
      "cell_type": "markdown",
      "metadata": {
        "id": "NIvzjrcb0PgG"
      },
      "source": [
        "**The AI model is the 'heart' of our AI solution.** The model serves as the core component that brings intelligence and functionality to an end-to-end AI solution. It leverages learned patterns and insights to generate predictions or perform tasks, enabling organizations to make data-driven decisions, automate processes, and unlock valuable insights from their data.\n",
        "\n",
        "The model building step of an AI solution can be further broken down into the sub-steps shown below."
      ]
    },
    {
      "cell_type": "markdown",
      "metadata": {
        "id": "JqC4pTOTbpIl"
      },
      "source": [
        "## **Model Training and Evalution**\n",
        "\n",
        "Training an AI model is important because it allows machines to learn and perform tasks without explicit programming. It enables the following:\n",
        "\n",
        "- **Learning from Data**\n",
        "- **Generalization and Adaptability**\n",
        "- **Optimization and Performance Improvement**"
      ]
    },
    {
      "cell_type": "markdown",
      "source": [
        "We'll be using a pre-trained large language model (LLM) here. So, we don't need to train the model. We'll directly import the pre-trained model and then use it for predictions.\n",
        "\n",
        "- We'll use the Google FLAN-T5 model (large variant) for illustration"
      ],
      "metadata": {
        "id": "95-Ko1XZebRZ"
      }
    },
    {
      "cell_type": "markdown",
      "metadata": {
        "id": "vadO50_rPZIi"
      },
      "source": [
        "## Data Preprocessing"
      ]
    },
    {
      "cell_type": "code",
      "source": [
        "# Specify the features (X) and the target variable (y)\n",
        "X = data.drop('airline_sentiment', axis=1)  # Replace 'target_variable' with the actual name of your target column\n",
        "y = data['airline_sentiment']\n",
        "\n",
        "# Further split the temporary data into validation and test sets\n",
        "X_validation, X_test, y_validation, y_test = train_test_split(X, y, test_size=0.1, random_state=42)"
      ],
      "metadata": {
        "id": "rAg0iTexff6T"
      },
      "execution_count": null,
      "outputs": []
    },
    {
      "cell_type": "code",
      "execution_count": null,
      "metadata": {
        "id": "PdLHRabhG-ic"
      },
      "outputs": [],
      "source": [
        "text_column_validation = X_validation['text'].copy()\n",
        "actual_sentiment_validation = y_validation.copy()"
      ]
    },
    {
      "cell_type": "code",
      "source": [
        "text_column_test = X_test['text'].copy()\n",
        "actual_sentiment_test = y_test.copy()"
      ],
      "metadata": {
        "id": "kL8_SOWWyEZZ"
      },
      "execution_count": null,
      "outputs": []
    },
    {
      "cell_type": "markdown",
      "metadata": {
        "id": "hp4HeQuQQFRs"
      },
      "source": [
        "## Model Training and Evaluation"
      ]
    },
    {
      "cell_type": "code",
      "execution_count": null,
      "metadata": {
        "colab": {
          "base_uri": "https://localhost:8080/",
          "height": 400,
          "referenced_widgets": [
            "edbafaad207944bab6c7f901ddec47ac",
            "ccd1252ef70440c88bc45bfbef3969e0",
            "9dd7d66f01564002b4b33394523ad11e",
            "bb73ff8cdfe342b79e13d5cc35445742",
            "b5256786adfa460fbdef2405b3555a9d",
            "e2d842ae2ee44083897e5d7489366691",
            "645dd60ee8394b759343a45d28120d35",
            "4f59cc7c262b427c83a766dc1ccc5a93",
            "9d9800c4db17489a9a8229fa09324d2f",
            "3de2ecf6700d4089bbd11b49e263058f",
            "c55aa27f54694a3ea12b4ef0865591d1",
            "e060d8e9994d40ca94401c1177ea6552",
            "e28d90f6018b4f2999d11102f0659fbe",
            "bb35d324c7a24f74a167c20e537006ad",
            "7ff500b09f6e4344b63bdf59210f427e",
            "84427e695ca64496900893fa28e8a8a4",
            "7984669729ce4540b08b2c9cd2b06df0",
            "a9b11a2aaa894972b7aa3e6ec4ef3783",
            "02308439c31d4db093e6d15286210b3f",
            "17f831afd37a484c91a3f2fc19b00550",
            "b5f0c0b54cd24250a3d08883ec49719c",
            "612ee145be454a2cbd03b05a8db7bbfe",
            "6444564625e44b289fd15767e5ab246d",
            "48b7e2f1becf41bca939a0c6bf6fd951",
            "8adbb64ef65f47ffa510ba69e6c5eb45",
            "0be4b81294254be2a9ae463d66709602",
            "abbc56946fd94497ab4d10e37fefaecc",
            "343da25976c04c5e9585ad3cee2dbaf2",
            "0bb010cc1efa412382793ce56a5d350a",
            "2b6c4b08f1404a02adff5436f3b7defd",
            "6a94dd16ce004257a98f8ddb44ff3822",
            "155dca03520c431cbf54ed45c958712a",
            "382a662d258143f69f4dc5c1edc3fa98",
            "958b56893e8e494d850e2fc899dacd98",
            "fb0ff9ef89f54d01a8b33c2d42f6d8d4",
            "cb95650b10c34b549f587c0f8d517728",
            "c546b1ff2a30446faa9d38915311dd79",
            "fdb6a09777734c568bb1d619612ac74e",
            "9fbbcb7e76c449eb86b058fb95b91f36",
            "43c54a1722c74121bad8471d8822a4e1",
            "c3513919f7e043a6bd8bfc0f698d7629",
            "8aa28444c81443809d6f4a4c52a781f0",
            "2490fc4c638f4e45808fe7d1da6cf75a",
            "219a9c0302ef410e8fc7636d06a30ba7",
            "4d6f04ebe59042b29d0a2844154418a5",
            "ce9f26e0093f47c7a1ec4ba5a5a3efd6",
            "2d7577b6d64c437dad3b3dcfb5101177",
            "1c877993f4db462b80c4afbcb5857600",
            "149dba5b3b714711b4589d6c92cc052e",
            "19f01e392c4644a8a26113f9b93c3dc6",
            "5917a506b24c4b9db95e87d1c127036d",
            "5892e2e6d7994479a1d615b2c8f4f95a",
            "26b7a025236a40408c6c7920478444f2",
            "65d2c93a82424e1aa4419e95b490c489",
            "1644e84a141c4080afca7085948f6040",
            "5ec9ddd36ef94899bccfbe9133a3ce87",
            "3d275435266f47cdb7076a786fbea32a",
            "d375939d602e4439b30fe309e2d672a5",
            "08e71fd8e98a44d58252bd809a3014ea",
            "d80795e5342b4fdb9f92ca835309f7bc",
            "5a91fb364d7a46ebb68cf3433e1a4e45",
            "8713d762f87f43e9bd99b0f953a29ff4",
            "c18ca3aa615a4f1a8031349efe259aa9",
            "f6a7e5a722894b69bdb75af3f280e44f",
            "d9389a92d4124ec7b79e665824a8133e",
            "df62afa848d24ea88dd857c209c47de6",
            "8be123579e4248fb8838445cbb054907",
            "639d2b0b44da4903b23b94421a28af6e",
            "7999625c06fa44de90e95e9949d19e84",
            "8ae493b1c1c14d2cbc7f12497305130f",
            "1901b9e245ef42a7b2531233ea233d11",
            "d2416369127d41c0a410ebb3c5054876",
            "0fc63b0d785a426387ca8c13854e8cef",
            "92989811e4ea4f58825b38b18a9d5285",
            "f74f65b6491e4d3cb8dea002f8d388ad",
            "8a33eb519008451183208431a4e794ac",
            "af7712136d1f4b0cb59855ed9222b90b"
          ]
        },
        "id": "CM61C7o9YC9O",
        "outputId": "8050f26a-6f69-49c5-86e2-4f59d96fb511"
      },
      "outputs": [
        {
          "output_type": "stream",
          "name": "stderr",
          "text": [
            "/usr/local/lib/python3.10/dist-packages/huggingface_hub/utils/_token.py:88: UserWarning: \n",
            "The secret `HF_TOKEN` does not exist in your Colab secrets.\n",
            "To authenticate with the Hugging Face Hub, create a token in your settings tab (https://huggingface.co/settings/tokens), set it as secret in your Google Colab and restart your session.\n",
            "You will be able to reuse this secret in all of your notebooks.\n",
            "Please note that authentication is recommended but still optional to access public models or datasets.\n",
            "  warnings.warn(\n"
          ]
        },
        {
          "output_type": "display_data",
          "data": {
            "text/plain": [
              "tokenizer_config.json:   0%|          | 0.00/2.54k [00:00<?, ?B/s]"
            ],
            "application/vnd.jupyter.widget-view+json": {
              "version_major": 2,
              "version_minor": 0,
              "model_id": "edbafaad207944bab6c7f901ddec47ac"
            }
          },
          "metadata": {}
        },
        {
          "output_type": "display_data",
          "data": {
            "text/plain": [
              "spiece.model:   0%|          | 0.00/792k [00:00<?, ?B/s]"
            ],
            "application/vnd.jupyter.widget-view+json": {
              "version_major": 2,
              "version_minor": 0,
              "model_id": "e060d8e9994d40ca94401c1177ea6552"
            }
          },
          "metadata": {}
        },
        {
          "output_type": "display_data",
          "data": {
            "text/plain": [
              "special_tokens_map.json:   0%|          | 0.00/2.20k [00:00<?, ?B/s]"
            ],
            "application/vnd.jupyter.widget-view+json": {
              "version_major": 2,
              "version_minor": 0,
              "model_id": "6444564625e44b289fd15767e5ab246d"
            }
          },
          "metadata": {}
        },
        {
          "output_type": "display_data",
          "data": {
            "text/plain": [
              "tokenizer.json:   0%|          | 0.00/2.42M [00:00<?, ?B/s]"
            ],
            "application/vnd.jupyter.widget-view+json": {
              "version_major": 2,
              "version_minor": 0,
              "model_id": "958b56893e8e494d850e2fc899dacd98"
            }
          },
          "metadata": {}
        },
        {
          "output_type": "stream",
          "name": "stderr",
          "text": [
            "You are using the default legacy behaviour of the <class 'transformers.models.t5.tokenization_t5.T5Tokenizer'>. This is expected, and simply means that the `legacy` (previous) behavior will be used so nothing changes for you. If you want to use the new behaviour, set `legacy=False`. This should only be set if you understand what it means, and thouroughly read the reason why this was added as explained in https://github.com/huggingface/transformers/pull/24565\n",
            "Special tokens have been added in the vocabulary, make sure the associated word embeddings are fine-tuned or trained.\n"
          ]
        },
        {
          "output_type": "display_data",
          "data": {
            "text/plain": [
              "config.json:   0%|          | 0.00/662 [00:00<?, ?B/s]"
            ],
            "application/vnd.jupyter.widget-view+json": {
              "version_major": 2,
              "version_minor": 0,
              "model_id": "4d6f04ebe59042b29d0a2844154418a5"
            }
          },
          "metadata": {}
        },
        {
          "output_type": "display_data",
          "data": {
            "text/plain": [
              "model.safetensors:   0%|          | 0.00/3.13G [00:00<?, ?B/s]"
            ],
            "application/vnd.jupyter.widget-view+json": {
              "version_major": 2,
              "version_minor": 0,
              "model_id": "5ec9ddd36ef94899bccfbe9133a3ce87"
            }
          },
          "metadata": {}
        },
        {
          "output_type": "display_data",
          "data": {
            "text/plain": [
              "generation_config.json:   0%|          | 0.00/147 [00:00<?, ?B/s]"
            ],
            "application/vnd.jupyter.widget-view+json": {
              "version_major": 2,
              "version_minor": 0,
              "model_id": "8be123579e4248fb8838445cbb054907"
            }
          },
          "metadata": {}
        }
      ],
      "source": [
        "tokenizer = T5Tokenizer.from_pretrained(\"google/flan-t5-large\")\n",
        "model = T5ForConditionalGeneration.from_pretrained(\"google/flan-t5-large\", load_in_8bit=True, device_map=\"auto\")"
      ]
    },
    {
      "cell_type": "code",
      "execution_count": null,
      "metadata": {
        "id": "pa6dOoQVXshW"
      },
      "outputs": [],
      "source": [
        "# defining a function to generate, process, and return the LLM response\n",
        "def llm_response(prompt):\n",
        "    input_ids = tokenizer(prompt, return_tensors=\"pt\").input_ids.to(\"cuda\")\n",
        "    outputs = model.generate(input_ids, max_length=300, do_sample=True, temperature=0.1)\n",
        "    return tokenizer.decode(outputs[0])[6:-4]"
      ]
    },
    {
      "cell_type": "code",
      "source": [
        "# checking a customer review and it's sentiment\n",
        "print(text_column_validation[4])\n",
        "print(actual_sentiment_validation[4])"
      ],
      "metadata": {
        "id": "jjlq0cpOAybB",
        "colab": {
          "base_uri": "https://localhost:8080/"
        },
        "outputId": "5b67f1b5-24a5-47cc-d67d-d9e0c8946af1"
      },
      "execution_count": null,
      "outputs": [
        {
          "output_type": "stream",
          "name": "stdout",
          "text": [
            "@USAirways just hung up on me again.  Another waste of an hour of my time.  How am I supposed to book a one way award flight?  #badwebsite\n",
            "negative\n"
          ]
        }
      ]
    },
    {
      "cell_type": "code",
      "source": [
        "# predicting the sentiment using the LLM\n",
        "sys_prompt = \"\"\"\n",
        "    Categorize the sentiment of the customer review as positive, negative, or neutral.\n",
        "\"\"\"\n",
        "\n",
        "pred_sent = llm_response(\n",
        "    \"\"\"\n",
        "        {}\n",
        "        Review text: '{}'\n",
        "    \"\"\".format(sys_prompt, text_column_validation[4])\n",
        ")\n",
        "\n",
        "print(pred_sent)"
      ],
      "metadata": {
        "colab": {
          "base_uri": "https://localhost:8080/"
        },
        "id": "TjG5E2ApA3ME",
        "outputId": "ad9441ce-1f6b-4170-b1e3-0d112060fd50"
      },
      "execution_count": null,
      "outputs": [
        {
          "output_type": "stream",
          "name": "stdout",
          "text": [
            "negative\n"
          ]
        }
      ]
    },
    {
      "cell_type": "markdown",
      "source": [
        "- The model was able to correctly identify the sentiment here"
      ],
      "metadata": {
        "id": "8NAp-42MDDxR"
      }
    },
    {
      "cell_type": "code",
      "source": [
        "def predict_sentiment(review_text):\n",
        "    pred = llm_response(\n",
        "        \"\"\"\n",
        "            {}\n",
        "            Review text: '{}'\n",
        "        \"\"\".format(sys_prompt, review_text)\n",
        "    )\n",
        "\n",
        "    return pred"
      ],
      "metadata": {
        "id": "ebaNUNBhDrzp"
      },
      "execution_count": null,
      "outputs": []
    },
    {
      "cell_type": "code",
      "source": [
        "predicted_sentiment = [predict_sentiment(item) for item in text_column_validation.values]\n",
        "print(predicted_sentiment[4])"
      ],
      "metadata": {
        "colab": {
          "base_uri": "https://localhost:8080/"
        },
        "id": "8jWGA0o_D3Za",
        "outputId": "2c592422-d6bd-437b-eed4-b258c3e7477d"
      },
      "execution_count": null,
      "outputs": [
        {
          "output_type": "stream",
          "name": "stdout",
          "text": [
            "negative\n"
          ]
        }
      ]
    },
    {
      "cell_type": "code",
      "source": [
        "# combining the reviews, actual sentiments, and predicted sentiments together\n",
        "df_combined = pd.concat([text_column_validation, actual_sentiment_validation], axis=1)\n",
        "df_combined['predicted_sentiment'] = predicted_sentiment\n",
        "df_combined.head()"
      ],
      "metadata": {
        "id": "bsYAicbzEIOm",
        "colab": {
          "base_uri": "https://localhost:8080/"
        },
        "outputId": "ee5fe10b-2b42-467e-af47-ff72ed9d084d"
      },
      "execution_count": null,
      "outputs": [
        {
          "output_type": "execute_result",
          "data": {
            "text/plain": [
              "                                                   text airline_sentiment  \\\n",
              "439   @USAirways US 728/Feb 21. Ground power shorts ...          negative   \n",
              "1621  @USAirways now the 3rd issue with the plane is...          negative   \n",
              "423   @USAirways I need to speak with a customer ser...          negative   \n",
              "2330                       @USAirways delays to the max          negative   \n",
              "1706  @USAirways Can you tell me why I waited 90 min...          negative   \n",
              "\n",
              "     predicted_sentiment  \n",
              "439             negative  \n",
              "1621            negative  \n",
              "423             negative  \n",
              "2330            negative  \n",
              "1706            negative  "
            ],
            "text/html": [
              "\n",
              "  <div id=\"df-b46dd63d-2ea8-4c18-9286-c6e0b263b3b5\" class=\"colab-df-container\">\n",
              "    <div>\n",
              "<style scoped>\n",
              "    .dataframe tbody tr th:only-of-type {\n",
              "        vertical-align: middle;\n",
              "    }\n",
              "\n",
              "    .dataframe tbody tr th {\n",
              "        vertical-align: top;\n",
              "    }\n",
              "\n",
              "    .dataframe thead th {\n",
              "        text-align: right;\n",
              "    }\n",
              "</style>\n",
              "<table border=\"1\" class=\"dataframe\">\n",
              "  <thead>\n",
              "    <tr style=\"text-align: right;\">\n",
              "      <th></th>\n",
              "      <th>text</th>\n",
              "      <th>airline_sentiment</th>\n",
              "      <th>predicted_sentiment</th>\n",
              "    </tr>\n",
              "  </thead>\n",
              "  <tbody>\n",
              "    <tr>\n",
              "      <th>439</th>\n",
              "      <td>@USAirways US 728/Feb 21. Ground power shorts ...</td>\n",
              "      <td>negative</td>\n",
              "      <td>negative</td>\n",
              "    </tr>\n",
              "    <tr>\n",
              "      <th>1621</th>\n",
              "      <td>@USAirways now the 3rd issue with the plane is...</td>\n",
              "      <td>negative</td>\n",
              "      <td>negative</td>\n",
              "    </tr>\n",
              "    <tr>\n",
              "      <th>423</th>\n",
              "      <td>@USAirways I need to speak with a customer ser...</td>\n",
              "      <td>negative</td>\n",
              "      <td>negative</td>\n",
              "    </tr>\n",
              "    <tr>\n",
              "      <th>2330</th>\n",
              "      <td>@USAirways delays to the max</td>\n",
              "      <td>negative</td>\n",
              "      <td>negative</td>\n",
              "    </tr>\n",
              "    <tr>\n",
              "      <th>1706</th>\n",
              "      <td>@USAirways Can you tell me why I waited 90 min...</td>\n",
              "      <td>negative</td>\n",
              "      <td>negative</td>\n",
              "    </tr>\n",
              "  </tbody>\n",
              "</table>\n",
              "</div>\n",
              "    <div class=\"colab-df-buttons\">\n",
              "\n",
              "  <div class=\"colab-df-container\">\n",
              "    <button class=\"colab-df-convert\" onclick=\"convertToInteractive('df-b46dd63d-2ea8-4c18-9286-c6e0b263b3b5')\"\n",
              "            title=\"Convert this dataframe to an interactive table.\"\n",
              "            style=\"display:none;\">\n",
              "\n",
              "  <svg xmlns=\"http://www.w3.org/2000/svg\" height=\"24px\" viewBox=\"0 -960 960 960\">\n",
              "    <path d=\"M120-120v-720h720v720H120Zm60-500h600v-160H180v160Zm220 220h160v-160H400v160Zm0 220h160v-160H400v160ZM180-400h160v-160H180v160Zm440 0h160v-160H620v160ZM180-180h160v-160H180v160Zm440 0h160v-160H620v160Z\"/>\n",
              "  </svg>\n",
              "    </button>\n",
              "\n",
              "  <style>\n",
              "    .colab-df-container {\n",
              "      display:flex;\n",
              "      gap: 12px;\n",
              "    }\n",
              "\n",
              "    .colab-df-convert {\n",
              "      background-color: #E8F0FE;\n",
              "      border: none;\n",
              "      border-radius: 50%;\n",
              "      cursor: pointer;\n",
              "      display: none;\n",
              "      fill: #1967D2;\n",
              "      height: 32px;\n",
              "      padding: 0 0 0 0;\n",
              "      width: 32px;\n",
              "    }\n",
              "\n",
              "    .colab-df-convert:hover {\n",
              "      background-color: #E2EBFA;\n",
              "      box-shadow: 0px 1px 2px rgba(60, 64, 67, 0.3), 0px 1px 3px 1px rgba(60, 64, 67, 0.15);\n",
              "      fill: #174EA6;\n",
              "    }\n",
              "\n",
              "    .colab-df-buttons div {\n",
              "      margin-bottom: 4px;\n",
              "    }\n",
              "\n",
              "    [theme=dark] .colab-df-convert {\n",
              "      background-color: #3B4455;\n",
              "      fill: #D2E3FC;\n",
              "    }\n",
              "\n",
              "    [theme=dark] .colab-df-convert:hover {\n",
              "      background-color: #434B5C;\n",
              "      box-shadow: 0px 1px 3px 1px rgba(0, 0, 0, 0.15);\n",
              "      filter: drop-shadow(0px 1px 2px rgba(0, 0, 0, 0.3));\n",
              "      fill: #FFFFFF;\n",
              "    }\n",
              "  </style>\n",
              "\n",
              "    <script>\n",
              "      const buttonEl =\n",
              "        document.querySelector('#df-b46dd63d-2ea8-4c18-9286-c6e0b263b3b5 button.colab-df-convert');\n",
              "      buttonEl.style.display =\n",
              "        google.colab.kernel.accessAllowed ? 'block' : 'none';\n",
              "\n",
              "      async function convertToInteractive(key) {\n",
              "        const element = document.querySelector('#df-b46dd63d-2ea8-4c18-9286-c6e0b263b3b5');\n",
              "        const dataTable =\n",
              "          await google.colab.kernel.invokeFunction('convertToInteractive',\n",
              "                                                    [key], {});\n",
              "        if (!dataTable) return;\n",
              "\n",
              "        const docLinkHtml = 'Like what you see? Visit the ' +\n",
              "          '<a target=\"_blank\" href=https://colab.research.google.com/notebooks/data_table.ipynb>data table notebook</a>'\n",
              "          + ' to learn more about interactive tables.';\n",
              "        element.innerHTML = '';\n",
              "        dataTable['output_type'] = 'display_data';\n",
              "        await google.colab.output.renderOutput(dataTable, element);\n",
              "        const docLink = document.createElement('div');\n",
              "        docLink.innerHTML = docLinkHtml;\n",
              "        element.appendChild(docLink);\n",
              "      }\n",
              "    </script>\n",
              "  </div>\n",
              "\n",
              "\n",
              "<div id=\"df-1674acbe-caab-4396-827c-93e08998f003\">\n",
              "  <button class=\"colab-df-quickchart\" onclick=\"quickchart('df-1674acbe-caab-4396-827c-93e08998f003')\"\n",
              "            title=\"Suggest charts\"\n",
              "            style=\"display:none;\">\n",
              "\n",
              "<svg xmlns=\"http://www.w3.org/2000/svg\" height=\"24px\"viewBox=\"0 0 24 24\"\n",
              "     width=\"24px\">\n",
              "    <g>\n",
              "        <path d=\"M19 3H5c-1.1 0-2 .9-2 2v14c0 1.1.9 2 2 2h14c1.1 0 2-.9 2-2V5c0-1.1-.9-2-2-2zM9 17H7v-7h2v7zm4 0h-2V7h2v10zm4 0h-2v-4h2v4z\"/>\n",
              "    </g>\n",
              "</svg>\n",
              "  </button>\n",
              "\n",
              "<style>\n",
              "  .colab-df-quickchart {\n",
              "      --bg-color: #E8F0FE;\n",
              "      --fill-color: #1967D2;\n",
              "      --hover-bg-color: #E2EBFA;\n",
              "      --hover-fill-color: #174EA6;\n",
              "      --disabled-fill-color: #AAA;\n",
              "      --disabled-bg-color: #DDD;\n",
              "  }\n",
              "\n",
              "  [theme=dark] .colab-df-quickchart {\n",
              "      --bg-color: #3B4455;\n",
              "      --fill-color: #D2E3FC;\n",
              "      --hover-bg-color: #434B5C;\n",
              "      --hover-fill-color: #FFFFFF;\n",
              "      --disabled-bg-color: #3B4455;\n",
              "      --disabled-fill-color: #666;\n",
              "  }\n",
              "\n",
              "  .colab-df-quickchart {\n",
              "    background-color: var(--bg-color);\n",
              "    border: none;\n",
              "    border-radius: 50%;\n",
              "    cursor: pointer;\n",
              "    display: none;\n",
              "    fill: var(--fill-color);\n",
              "    height: 32px;\n",
              "    padding: 0;\n",
              "    width: 32px;\n",
              "  }\n",
              "\n",
              "  .colab-df-quickchart:hover {\n",
              "    background-color: var(--hover-bg-color);\n",
              "    box-shadow: 0 1px 2px rgba(60, 64, 67, 0.3), 0 1px 3px 1px rgba(60, 64, 67, 0.15);\n",
              "    fill: var(--button-hover-fill-color);\n",
              "  }\n",
              "\n",
              "  .colab-df-quickchart-complete:disabled,\n",
              "  .colab-df-quickchart-complete:disabled:hover {\n",
              "    background-color: var(--disabled-bg-color);\n",
              "    fill: var(--disabled-fill-color);\n",
              "    box-shadow: none;\n",
              "  }\n",
              "\n",
              "  .colab-df-spinner {\n",
              "    border: 2px solid var(--fill-color);\n",
              "    border-color: transparent;\n",
              "    border-bottom-color: var(--fill-color);\n",
              "    animation:\n",
              "      spin 1s steps(1) infinite;\n",
              "  }\n",
              "\n",
              "  @keyframes spin {\n",
              "    0% {\n",
              "      border-color: transparent;\n",
              "      border-bottom-color: var(--fill-color);\n",
              "      border-left-color: var(--fill-color);\n",
              "    }\n",
              "    20% {\n",
              "      border-color: transparent;\n",
              "      border-left-color: var(--fill-color);\n",
              "      border-top-color: var(--fill-color);\n",
              "    }\n",
              "    30% {\n",
              "      border-color: transparent;\n",
              "      border-left-color: var(--fill-color);\n",
              "      border-top-color: var(--fill-color);\n",
              "      border-right-color: var(--fill-color);\n",
              "    }\n",
              "    40% {\n",
              "      border-color: transparent;\n",
              "      border-right-color: var(--fill-color);\n",
              "      border-top-color: var(--fill-color);\n",
              "    }\n",
              "    60% {\n",
              "      border-color: transparent;\n",
              "      border-right-color: var(--fill-color);\n",
              "    }\n",
              "    80% {\n",
              "      border-color: transparent;\n",
              "      border-right-color: var(--fill-color);\n",
              "      border-bottom-color: var(--fill-color);\n",
              "    }\n",
              "    90% {\n",
              "      border-color: transparent;\n",
              "      border-bottom-color: var(--fill-color);\n",
              "    }\n",
              "  }\n",
              "</style>\n",
              "\n",
              "  <script>\n",
              "    async function quickchart(key) {\n",
              "      const quickchartButtonEl =\n",
              "        document.querySelector('#' + key + ' button');\n",
              "      quickchartButtonEl.disabled = true;  // To prevent multiple clicks.\n",
              "      quickchartButtonEl.classList.add('colab-df-spinner');\n",
              "      try {\n",
              "        const charts = await google.colab.kernel.invokeFunction(\n",
              "            'suggestCharts', [key], {});\n",
              "      } catch (error) {\n",
              "        console.error('Error during call to suggestCharts:', error);\n",
              "      }\n",
              "      quickchartButtonEl.classList.remove('colab-df-spinner');\n",
              "      quickchartButtonEl.classList.add('colab-df-quickchart-complete');\n",
              "    }\n",
              "    (() => {\n",
              "      let quickchartButtonEl =\n",
              "        document.querySelector('#df-1674acbe-caab-4396-827c-93e08998f003 button');\n",
              "      quickchartButtonEl.style.display =\n",
              "        google.colab.kernel.accessAllowed ? 'block' : 'none';\n",
              "    })();\n",
              "  </script>\n",
              "</div>\n",
              "\n",
              "    </div>\n",
              "  </div>\n"
            ]
          },
          "metadata": {},
          "execution_count": 30
        }
      ]
    },
    {
      "cell_type": "code",
      "execution_count": null,
      "metadata": {
        "id": "enxjyAiqljof"
      },
      "outputs": [],
      "source": [
        "# creating confusion matrix\n",
        "cnf_mt = confusion_matrix(df_combined['airline_sentiment'], df_combined['predicted_sentiment'], labels=['positive', 'neutral', 'negative'])\n",
        "# computing accuracy\n",
        "acc = accuracy_score(df_combined['airline_sentiment'], df_combined['predicted_sentiment'])"
      ]
    },
    {
      "cell_type": "code",
      "source": [
        "# printing accuracy\n",
        "print(\"Accuracy:\", acc)\n",
        "\n",
        "# creating a heatmap of the confusion matrix\n",
        "plt.figure(figsize=(7, 5))\n",
        "sns.heatmap(\n",
        "    cnf_mt,\n",
        "    annot=True,\n",
        "    fmt=\"d\",\n",
        "    cmap=\"Blues\",\n",
        "    xticklabels=['positive', 'neutral', 'negative'],\n",
        "    yticklabels=['positive', 'neutral', 'negative'],\n",
        ")\n",
        "plt.xlabel('Predicted')\n",
        "plt.ylabel('Actual')\n",
        "plt.title('Confusion Matrix')\n",
        "plt.show()"
      ],
      "metadata": {
        "id": "xBgEItZcFJEr",
        "colab": {
          "base_uri": "https://localhost:8080/"
        },
        "outputId": "43bc07a4-7bc7-4cab-8dd9-1ac11d236190"
      },
      "execution_count": null,
      "outputs": [
        {
          "output_type": "stream",
          "name": "stdout",
          "text": [
            "Accuracy: 0.8225867989317055\n"
          ]
        },
        {
          "output_type": "display_data",
          "data": {
            "text/plain": [
              "<Figure size 700x500 with 2 Axes>"
            ],
            "image/png": "[encoded data removed]"
          },
          "metadata": {}
        }
      ]
    },
    {
      "cell_type": "markdown",
      "metadata": {
        "id": "R-4Iw1Rjd303"
      },
      "source": [
        "## Understanding Model Predictions and Business Consequences"
      ]
    },
    {
      "cell_type": "markdown",
      "metadata": {
        "id": "KS0_7CrGye2Q"
      },
      "source": [
        "In the realm of Twitter sentiment analysis for our business, the paramount objective is to accurately identify and understand customer sentiments. It is far more critical to ensure that tweets expressing genuine dissatisfaction or negative sentiments are correctly identified, even if it results in a few instances where positive sentiments are misclassified."
      ]
    },
    {
      "cell_type": "markdown",
      "source": [
        "## Observations from Model Evaluation\n",
        "\n",
        "- Our AI model has a score of 82% on the train data.\n",
        "\n",
        "- However, the model fails to correctly classify the custimer reviews with a neutral sentiment\n",
        "\n",
        "- This can have adverse consequences, so we need to improve the model's performance to better capture the nuances in neutral customer reviews"
      ],
      "metadata": {
        "id": "q5FOKEprZbfj"
      }
    },
    {
      "cell_type": "markdown",
      "metadata": {
        "id": "NNaJSVBM5iAL"
      },
      "source": [
        "## **Model Tuning**\n",
        "\n",
        "Model tuning is important for\n",
        "\n",
        "- **Optimizing Performance**\n",
        "- **Determining the right fit**\n",
        "- **Adapting to Data Characteristics**"
      ]
    },
    {
      "cell_type": "markdown",
      "metadata": {
        "id": "gxsGEp0ooPeV"
      },
      "source": [
        "When trying to improve the performance, there are two approaches one can take.\n",
        "\n",
        "**Approach 1 - Fine-tuning the Model**:\n",
        "\n",
        "- **Process**: You would provide the model with data that is labeled or structured according to the task at hand, and then train the model on this task-specific data to fine-tune a part of the model. This process allows the model to adapt to the nuances and requirements of the particular use case.\n",
        "\n",
        "- **Advantages**: Fine-tuning is effective when we have a well-defined task and a dataset specific to that task. It helps the model generalize better to our specific needs.\n",
        "\n",
        "**Approach 2 - Using Prompts**:\n",
        "\n",
        "- **Process**: The prompt provided to the model for doing the specified task is strategically designed and formulated to elicit specific, desired responses or information from the model. This doesn't involve retraining the model but relies on the model's existing capabilities.\n",
        "\n",
        "- **Advantages**: This approach is quick and easy, especially when you don't have the resources or time for fine-tuning. It's effective for tasks where the model's general knowledge is sufficient, and you only need to guide its responses."
      ]
    },
    {
      "cell_type": "markdown",
      "metadata": {
        "id": "vjOTir5jLAm-"
      },
      "source": [
        "**We will tune the model with the second approach by doing prompt engineering.**"
      ]
    },
    {
      "cell_type": "markdown",
      "metadata": {
        "id": "d5812b7b"
      },
      "source": [
        "## Model Tuning"
      ]
    },
    {
      "cell_type": "code",
      "execution_count": null,
      "metadata": {
        "id": "pTX2Ub0Y7PmG"
      },
      "outputs": [],
      "source": [
        "sys_prompt = \"\"\"\n",
        "    Categorize the sentiment of the customer review as positive, negative, or neutral.\n",
        "    Leverage your expertise in the aviation industry and deep understanding of industry trends to analyze the nuanced expressions and overall tone.\n",
        "    It is crucial to accurately identify neutral sentiments, which may indicate a balanced view or neutral stance towards Us Airways. Neutral expressions could involve factual statements without explicit positive or negative opinions.\n",
        "    Consider the importance of these neutral sentiments in gauging the public sentiment towards the airline company.\n",
        "    For instance, a positive sentiment might convey satisfaction with the airline's services, a negative sentiment could express dissatisfaction, while neutral sentiment may reflect an impartial observation or a neutral standpoint\n",
        "\"\"\""
      ]
    },
    {
      "cell_type": "markdown",
      "source": [
        "- Note that we have specifically highlighted the need for capturing the nuances in neutral sentiments in the prompt here as that is where the model was struggling previously"
      ],
      "metadata": {
        "id": "FB9vURUubWtf"
      }
    },
    {
      "cell_type": "code",
      "source": [
        "pred_sent = llm_response(\n",
        "    \"\"\"\n",
        "        {}\n",
        "        Review text: '{}'\n",
        "    \"\"\".format(sys_prompt, text_column_validation[4])\n",
        ")\n",
        "\n",
        "print(pred_sent)"
      ],
      "metadata": {
        "id": "w7zVDxEjVV2M",
        "colab": {
          "base_uri": "https://localhost:8080/"
        },
        "outputId": "449f1461-92d3-4536-8466-8e0c50223a48"
      },
      "execution_count": null,
      "outputs": [
        {
          "output_type": "stream",
          "name": "stdout",
          "text": [
            "negative\n"
          ]
        }
      ]
    },
    {
      "cell_type": "code",
      "source": [
        "predicted_sentiment_tuned = [predict_sentiment(item) for item in text_column_validation.values]\n",
        "print(predicted_sentiment_tuned[4])"
      ],
      "metadata": {
        "id": "w3AawX7SVdHT",
        "colab": {
          "base_uri": "https://localhost:8080/"
        },
        "outputId": "021b9313-5451-49d9-d542-3a9d72147139"
      },
      "execution_count": null,
      "outputs": [
        {
          "output_type": "stream",
          "name": "stdout",
          "text": [
            "negative\n"
          ]
        }
      ]
    },
    {
      "cell_type": "code",
      "source": [
        "# combining the reviews, actual sentiments, and predicted sentiments together\n",
        "df_combined = pd.concat([text_column_validation, actual_sentiment_validation], axis=1)\n",
        "df_combined['predicted_sentiment'] = predicted_sentiment_tuned\n",
        "df_combined.head()"
      ],
      "metadata": {
        "id": "gYpfL-zmVdDz",
        "colab": {
          "base_uri": "https://localhost:8080/"
        },
        "outputId": "3e89df14-bfb4-4463-f8d6-1e1372ffcdd4"
      },
      "execution_count": null,
      "outputs": [
        {
          "output_type": "execute_result",
          "data": {
            "text/plain": [
              "                                                   text airline_sentiment  \\\n",
              "439   @USAirways US 728/Feb 21. Ground power shorts ...          negative   \n",
              "1621  @USAirways now the 3rd issue with the plane is...          negative   \n",
              "423   @USAirways I need to speak with a customer ser...          negative   \n",
              "2330                       @USAirways delays to the max          negative   \n",
              "1706  @USAirways Can you tell me why I waited 90 min...          negative   \n",
              "\n",
              "     predicted_sentiment  \n",
              "439             negative  \n",
              "1621            negative  \n",
              "423             negative  \n",
              "2330            negative  \n",
              "1706            negative  "
            ],
            "text/html": [
              "\n",
              "  <div id=\"df-ac67b554-f452-4aeb-ae0d-2afd7e4cff51\" class=\"colab-df-container\">\n",
              "    <div>\n",
              "<style scoped>\n",
              "    .dataframe tbody tr th:only-of-type {\n",
              "        vertical-align: middle;\n",
              "    }\n",
              "\n",
              "    .dataframe tbody tr th {\n",
              "        vertical-align: top;\n",
              "    }\n",
              "\n",
              "    .dataframe thead th {\n",
              "        text-align: right;\n",
              "    }\n",
              "</style>\n",
              "<table border=\"1\" class=\"dataframe\">\n",
              "  <thead>\n",
              "    <tr style=\"text-align: right;\">\n",
              "      <th></th>\n",
              "      <th>text</th>\n",
              "      <th>airline_sentiment</th>\n",
              "      <th>predicted_sentiment</th>\n",
              "    </tr>\n",
              "  </thead>\n",
              "  <tbody>\n",
              "    <tr>\n",
              "      <th>439</th>\n",
              "      <td>@USAirways US 728/Feb 21. Ground power shorts ...</td>\n",
              "      <td>negative</td>\n",
              "      <td>negative</td>\n",
              "    </tr>\n",
              "    <tr>\n",
              "      <th>1621</th>\n",
              "      <td>@USAirways now the 3rd issue with the plane is...</td>\n",
              "      <td>negative</td>\n",
              "      <td>negative</td>\n",
              "    </tr>\n",
              "    <tr>\n",
              "      <th>423</th>\n",
              "      <td>@USAirways I need to speak with a customer ser...</td>\n",
              "      <td>negative</td>\n",
              "      <td>negative</td>\n",
              "    </tr>\n",
              "    <tr>\n",
              "      <th>2330</th>\n",
              "      <td>@USAirways delays to the max</td>\n",
              "      <td>negative</td>\n",
              "      <td>negative</td>\n",
              "    </tr>\n",
              "    <tr>\n",
              "      <th>1706</th>\n",
              "      <td>@USAirways Can you tell me why I waited 90 min...</td>\n",
              "      <td>negative</td>\n",
              "      <td>negative</td>\n",
              "    </tr>\n",
              "  </tbody>\n",
              "</table>\n",
              "</div>\n",
              "    <div class=\"colab-df-buttons\">\n",
              "\n",
              "  <div class=\"colab-df-container\">\n",
              "    <button class=\"colab-df-convert\" onclick=\"convertToInteractive('df-ac67b554-f452-4aeb-ae0d-2afd7e4cff51')\"\n",
              "            title=\"Convert this dataframe to an interactive table.\"\n",
              "            style=\"display:none;\">\n",
              "\n",
              "  <svg xmlns=\"http://www.w3.org/2000/svg\" height=\"24px\" viewBox=\"0 -960 960 960\">\n",
              "    <path d=\"M120-120v-720h720v720H120Zm60-500h600v-160H180v160Zm220 220h160v-160H400v160Zm0 220h160v-160H400v160ZM180-400h160v-160H180v160Zm440 0h160v-160H620v160ZM180-180h160v-160H180v160Zm440 0h160v-160H620v160Z\"/>\n",
              "  </svg>\n",
              "    </button>\n",
              "\n",
              "  <style>\n",
              "    .colab-df-container {\n",
              "      display:flex;\n",
              "      gap: 12px;\n",
              "    }\n",
              "\n",
              "    .colab-df-convert {\n",
              "      background-color: #E8F0FE;\n",
              "      border: none;\n",
              "      border-radius: 50%;\n",
              "      cursor: pointer;\n",
              "      display: none;\n",
              "      fill: #1967D2;\n",
              "      height: 32px;\n",
              "      padding: 0 0 0 0;\n",
              "      width: 32px;\n",
              "    }\n",
              "\n",
              "    .colab-df-convert:hover {\n",
              "      background-color: #E2EBFA;\n",
              "      box-shadow: 0px 1px 2px rgba(60, 64, 67, 0.3), 0px 1px 3px 1px rgba(60, 64, 67, 0.15);\n",
              "      fill: #174EA6;\n",
              "    }\n",
              "\n",
              "    .colab-df-buttons div {\n",
              "      margin-bottom: 4px;\n",
              "    }\n",
              "\n",
              "    [theme=dark] .colab-df-convert {\n",
              "      background-color: #3B4455;\n",
              "      fill: #D2E3FC;\n",
              "    }\n",
              "\n",
              "    [theme=dark] .colab-df-convert:hover {\n",
              "      background-color: #434B5C;\n",
              "      box-shadow: 0px 1px 3px 1px rgba(0, 0, 0, 0.15);\n",
              "      filter: drop-shadow(0px 1px 2px rgba(0, 0, 0, 0.3));\n",
              "      fill: #FFFFFF;\n",
              "    }\n",
              "  </style>\n",
              "\n",
              "    <script>\n",
              "      const buttonEl =\n",
              "        document.querySelector('#df-ac67b554-f452-4aeb-ae0d-2afd7e4cff51 button.colab-df-convert');\n",
              "      buttonEl.style.display =\n",
              "        google.colab.kernel.accessAllowed ? 'block' : 'none';\n",
              "\n",
              "      async function convertToInteractive(key) {\n",
              "        const element = document.querySelector('#df-ac67b554-f452-4aeb-ae0d-2afd7e4cff51');\n",
              "        const dataTable =\n",
              "          await google.colab.kernel.invokeFunction('convertToInteractive',\n",
              "                                                    [key], {});\n",
              "        if (!dataTable) return;\n",
              "\n",
              "        const docLinkHtml = 'Like what you see? Visit the ' +\n",
              "          '<a target=\"_blank\" href=https://colab.research.google.com/notebooks/data_table.ipynb>data table notebook</a>'\n",
              "          + ' to learn more about interactive tables.';\n",
              "        element.innerHTML = '';\n",
              "        dataTable['output_type'] = 'display_data';\n",
              "        await google.colab.output.renderOutput(dataTable, element);\n",
              "        const docLink = document.createElement('div');\n",
              "        docLink.innerHTML = docLinkHtml;\n",
              "        element.appendChild(docLink);\n",
              "      }\n",
              "    </script>\n",
              "  </div>\n",
              "\n",
              "\n",
              "<div id=\"df-35d95ff3-510d-4c0a-b262-25059924e7c5\">\n",
              "  <button class=\"colab-df-quickchart\" onclick=\"quickchart('df-35d95ff3-510d-4c0a-b262-25059924e7c5')\"\n",
              "            title=\"Suggest charts\"\n",
              "            style=\"display:none;\">\n",
              "\n",
              "<svg xmlns=\"http://www.w3.org/2000/svg\" height=\"24px\"viewBox=\"0 0 24 24\"\n",
              "     width=\"24px\">\n",
              "    <g>\n",
              "        <path d=\"M19 3H5c-1.1 0-2 .9-2 2v14c0 1.1.9 2 2 2h14c1.1 0 2-.9 2-2V5c0-1.1-.9-2-2-2zM9 17H7v-7h2v7zm4 0h-2V7h2v10zm4 0h-2v-4h2v4z\"/>\n",
              "    </g>\n",
              "</svg>\n",
              "  </button>\n",
              "\n",
              "<style>\n",
              "  .colab-df-quickchart {\n",
              "      --bg-color: #E8F0FE;\n",
              "      --fill-color: #1967D2;\n",
              "      --hover-bg-color: #E2EBFA;\n",
              "      --hover-fill-color: #174EA6;\n",
              "      --disabled-fill-color: #AAA;\n",
              "      --disabled-bg-color: #DDD;\n",
              "  }\n",
              "\n",
              "  [theme=dark] .colab-df-quickchart {\n",
              "      --bg-color: #3B4455;\n",
              "      --fill-color: #D2E3FC;\n",
              "      --hover-bg-color: #434B5C;\n",
              "      --hover-fill-color: #FFFFFF;\n",
              "      --disabled-bg-color: #3B4455;\n",
              "      --disabled-fill-color: #666;\n",
              "  }\n",
              "\n",
              "  .colab-df-quickchart {\n",
              "    background-color: var(--bg-color);\n",
              "    border: none;\n",
              "    border-radius: 50%;\n",
              "    cursor: pointer;\n",
              "    display: none;\n",
              "    fill: var(--fill-color);\n",
              "    height: 32px;\n",
              "    padding: 0;\n",
              "    width: 32px;\n",
              "  }\n",
              "\n",
              "  .colab-df-quickchart:hover {\n",
              "    background-color: var(--hover-bg-color);\n",
              "    box-shadow: 0 1px 2px rgba(60, 64, 67, 0.3), 0 1px 3px 1px rgba(60, 64, 67, 0.15);\n",
              "    fill: var(--button-hover-fill-color);\n",
              "  }\n",
              "\n",
              "  .colab-df-quickchart-complete:disabled,\n",
              "  .colab-df-quickchart-complete:disabled:hover {\n",
              "    background-color: var(--disabled-bg-color);\n",
              "    fill: var(--disabled-fill-color);\n",
              "    box-shadow: none;\n",
              "  }\n",
              "\n",
              "  .colab-df-spinner {\n",
              "    border: 2px solid var(--fill-color);\n",
              "    border-color: transparent;\n",
              "    border-bottom-color: var(--fill-color);\n",
              "    animation:\n",
              "      spin 1s steps(1) infinite;\n",
              "  }\n",
              "\n",
              "  @keyframes spin {\n",
              "    0% {\n",
              "      border-color: transparent;\n",
              "      border-bottom-color: var(--fill-color);\n",
              "      border-left-color: var(--fill-color);\n",
              "    }\n",
              "    20% {\n",
              "      border-color: transparent;\n",
              "      border-left-color: var(--fill-color);\n",
              "      border-top-color: var(--fill-color);\n",
              "    }\n",
              "    30% {\n",
              "      border-color: transparent;\n",
              "      border-left-color: var(--fill-color);\n",
              "      border-top-color: var(--fill-color);\n",
              "      border-right-color: var(--fill-color);\n",
              "    }\n",
              "    40% {\n",
              "      border-color: transparent;\n",
              "      border-right-color: var(--fill-color);\n",
              "      border-top-color: var(--fill-color);\n",
              "    }\n",
              "    60% {\n",
              "      border-color: transparent;\n",
              "      border-right-color: var(--fill-color);\n",
              "    }\n",
              "    80% {\n",
              "      border-color: transparent;\n",
              "      border-right-color: var(--fill-color);\n",
              "      border-bottom-color: var(--fill-color);\n",
              "    }\n",
              "    90% {\n",
              "      border-color: transparent;\n",
              "      border-bottom-color: var(--fill-color);\n",
              "    }\n",
              "  }\n",
              "</style>\n",
              "\n",
              "  <script>\n",
              "    async function quickchart(key) {\n",
              "      const quickchartButtonEl =\n",
              "        document.querySelector('#' + key + ' button');\n",
              "      quickchartButtonEl.disabled = true;  // To prevent multiple clicks.\n",
              "      quickchartButtonEl.classList.add('colab-df-spinner');\n",
              "      try {\n",
              "        const charts = await google.colab.kernel.invokeFunction(\n",
              "            'suggestCharts', [key], {});\n",
              "      } catch (error) {\n",
              "        console.error('Error during call to suggestCharts:', error);\n",
              "      }\n",
              "      quickchartButtonEl.classList.remove('colab-df-spinner');\n",
              "      quickchartButtonEl.classList.add('colab-df-quickchart-complete');\n",
              "    }\n",
              "    (() => {\n",
              "      let quickchartButtonEl =\n",
              "        document.querySelector('#df-35d95ff3-510d-4c0a-b262-25059924e7c5 button');\n",
              "      quickchartButtonEl.style.display =\n",
              "        google.colab.kernel.accessAllowed ? 'block' : 'none';\n",
              "    })();\n",
              "  </script>\n",
              "</div>\n",
              "\n",
              "    </div>\n",
              "  </div>\n"
            ]
          },
          "metadata": {},
          "execution_count": 36
        }
      ]
    },
    {
      "cell_type": "code",
      "execution_count": null,
      "metadata": {
        "id": "a0QZPmYUwU8i"
      },
      "outputs": [],
      "source": [
        "# creating confusion matrix\n",
        "cnf_mt_tuned = confusion_matrix(df_combined['airline_sentiment'], df_combined['predicted_sentiment'], labels=['positive', 'neutral', 'negative'])\n",
        "# computing accuracy\n",
        "acc_tuned = accuracy_score(df_combined['airline_sentiment'], df_combined['predicted_sentiment'])"
      ]
    },
    {
      "cell_type": "code",
      "source": [
        "# printing accuracy\n",
        "print(\"Accuracy:\", acc_tuned)\n",
        "\n",
        "# creating a heatmap of the confusion matrix\n",
        "plt.figure(figsize=(7, 5))\n",
        "sns.heatmap(\n",
        "    cnf_mt_tuned,\n",
        "    annot=True,\n",
        "    fmt=\"d\",\n",
        "    cmap=\"Blues\",\n",
        "    xticklabels=['positive', 'neutral', 'negative'],\n",
        "    yticklabels=['positive', 'neutral', 'negative'],\n",
        ")\n",
        "plt.xlabel('Predicted')\n",
        "plt.ylabel('Actual')\n",
        "plt.title('Confusion Matrix')\n",
        "plt.show()"
      ],
      "metadata": {
        "id": "CDs1haeB4OcY",
        "colab": {
          "base_uri": "https://localhost:8080/"
        },
        "outputId": "9fe34a3f-29a1-4a59-d6a1-736a218fb4aa"
      },
      "execution_count": null,
      "outputs": [
        {
          "output_type": "stream",
          "name": "stdout",
          "text": [
            "Accuracy: 0.8401373521556658\n"
          ]
        },
        {
          "output_type": "display_data",
          "data": {
            "text/plain": [
              "<Figure size 700x500 with 2 Axes>"
            ],
            "image/png": "[encoded data removed]"
          },
          "metadata": {}
        }
      ]
    },
    {
      "cell_type": "markdown",
      "metadata": {
        "id": "qg_lLM2V68Yw"
      },
      "source": [
        "## Observations from Model Evaluation\n",
        "\n",
        "- The AI model's performance score has increased a bit to ~84%\n",
        "\n",
        "- The model is also able to identify neutral sentiments better now\n",
        "\n",
        "- One can try to improvise the prompt further to improve the model performance"
      ]
    },
    {
      "cell_type": "markdown",
      "source": [
        "## **Model Testing**"
      ],
      "metadata": {
        "id": "3my_q49Yjhqb"
      }
    },
    {
      "cell_type": "markdown",
      "metadata": {
        "id": "33126000"
      },
      "source": [
        "After tuning the car, it's essential to test it thoroughly before using it in real-world situations. Model testing is like taking the car out for a test drive to ensure it performs as expected. In this stage, you simulate different scenarios and evaluate how well the model responds. For the car example, you would assess how the car handles various driving conditions, such as highways, urban roads, and off-road terrains. Testing helps identify any issues or weaknesses in the model that need to be addressed.\n",
        "\n",
        "Model testing is important for:\n",
        "\n",
        "- **Validating model performance**\n",
        "- **Identifying and mitigating errors or flaws**\n",
        "- **Assessing model robustness and generalizability**\n",
        "- **Building user trust and confidence**"
      ]
    },
    {
      "cell_type": "markdown",
      "metadata": {
        "id": "BJMiIJqlUoXL"
      },
      "source": [
        "## Model Testing"
      ]
    },
    {
      "cell_type": "code",
      "source": [
        "predicted_sentiment_test = [predict_sentiment(item) for item in text_column_test.values]"
      ],
      "metadata": {
        "id": "qf3e6jcW_kXE"
      },
      "execution_count": null,
      "outputs": []
    },
    {
      "cell_type": "code",
      "source": [
        "# combining the reviews, actual sentiments, and predicted sentiments together\n",
        "df_combined = pd.concat([text_column_test, actual_sentiment_test], axis=1)\n",
        "df_combined['predicted_sentiment'] = predicted_sentiment_test\n",
        "df_combined.head()"
      ],
      "metadata": {
        "id": "CnScNWla_kXF",
        "colab": {
          "base_uri": "https://localhost:8080/"
        },
        "outputId": "b29e7b13-5b36-41a0-e04e-61cb4ff0cfbe"
      },
      "execution_count": null,
      "outputs": [
        {
          "output_type": "execute_result",
          "data": {
            "text/plain": [
              "                                                   text airline_sentiment  \\\n",
              "178   @USAirways it doesn't take 6 days to respond t...          negative   \n",
              "678   @USAirways And how do you only have 1 agent at...          negative   \n",
              "2873  @USAirways will do. Hoping for a voucher for a...          positive   \n",
              "2686              @USAirways and if the flight is full?           neutral   \n",
              "1898  @sarahpompei don't bother wasting your time!  ...          negative   \n",
              "\n",
              "     predicted_sentiment  \n",
              "178             negative  \n",
              "678             negative  \n",
              "2873            positive  \n",
              "2686             neutral  \n",
              "1898            negative  "
            ],
            "text/html": [
              "\n",
              "  <div id=\"df-93ab98b8-eabb-4f66-9f71-2a56b9ab5d8e\" class=\"colab-df-container\">\n",
              "    <div>\n",
              "<style scoped>\n",
              "    .dataframe tbody tr th:only-of-type {\n",
              "        vertical-align: middle;\n",
              "    }\n",
              "\n",
              "    .dataframe tbody tr th {\n",
              "        vertical-align: top;\n",
              "    }\n",
              "\n",
              "    .dataframe thead th {\n",
              "        text-align: right;\n",
              "    }\n",
              "</style>\n",
              "<table border=\"1\" class=\"dataframe\">\n",
              "  <thead>\n",
              "    <tr style=\"text-align: right;\">\n",
              "      <th></th>\n",
              "      <th>text</th>\n",
              "      <th>airline_sentiment</th>\n",
              "      <th>predicted_sentiment</th>\n",
              "    </tr>\n",
              "  </thead>\n",
              "  <tbody>\n",
              "    <tr>\n",
              "      <th>178</th>\n",
              "      <td>@USAirways it doesn't take 6 days to respond t...</td>\n",
              "      <td>negative</td>\n",
              "      <td>negative</td>\n",
              "    </tr>\n",
              "    <tr>\n",
              "      <th>678</th>\n",
              "      <td>@USAirways And how do you only have 1 agent at...</td>\n",
              "      <td>negative</td>\n",
              "      <td>negative</td>\n",
              "    </tr>\n",
              "    <tr>\n",
              "      <th>2873</th>\n",
              "      <td>@USAirways will do. Hoping for a voucher for a...</td>\n",
              "      <td>positive</td>\n",
              "      <td>positive</td>\n",
              "    </tr>\n",
              "    <tr>\n",
              "      <th>2686</th>\n",
              "      <td>@USAirways and if the flight is full?</td>\n",
              "      <td>neutral</td>\n",
              "      <td>neutral</td>\n",
              "    </tr>\n",
              "    <tr>\n",
              "      <th>1898</th>\n",
              "      <td>@sarahpompei don't bother wasting your time!  ...</td>\n",
              "      <td>negative</td>\n",
              "      <td>negative</td>\n",
              "    </tr>\n",
              "  </tbody>\n",
              "</table>\n",
              "</div>\n",
              "    <div class=\"colab-df-buttons\">\n",
              "\n",
              "  <div class=\"colab-df-container\">\n",
              "    <button class=\"colab-df-convert\" onclick=\"convertToInteractive('df-93ab98b8-eabb-4f66-9f71-2a56b9ab5d8e')\"\n",
              "            title=\"Convert this dataframe to an interactive table.\"\n",
              "            style=\"display:none;\">\n",
              "\n",
              "  <svg xmlns=\"http://www.w3.org/2000/svg\" height=\"24px\" viewBox=\"0 -960 960 960\">\n",
              "    <path d=\"M120-120v-720h720v720H120Zm60-500h600v-160H180v160Zm220 220h160v-160H400v160Zm0 220h160v-160H400v160ZM180-400h160v-160H180v160Zm440 0h160v-160H620v160ZM180-180h160v-160H180v160Zm440 0h160v-160H620v160Z\"/>\n",
              "  </svg>\n",
              "    </button>\n",
              "\n",
              "  <style>\n",
              "    .colab-df-container {\n",
              "      display:flex;\n",
              "      gap: 12px;\n",
              "    }\n",
              "\n",
              "    .colab-df-convert {\n",
              "      background-color: #E8F0FE;\n",
              "      border: none;\n",
              "      border-radius: 50%;\n",
              "      cursor: pointer;\n",
              "      display: none;\n",
              "      fill: #1967D2;\n",
              "      height: 32px;\n",
              "      padding: 0 0 0 0;\n",
              "      width: 32px;\n",
              "    }\n",
              "\n",
              "    .colab-df-convert:hover {\n",
              "      background-color: #E2EBFA;\n",
              "      box-shadow: 0px 1px 2px rgba(60, 64, 67, 0.3), 0px 1px 3px 1px rgba(60, 64, 67, 0.15);\n",
              "      fill: #174EA6;\n",
              "    }\n",
              "\n",
              "    .colab-df-buttons div {\n",
              "      margin-bottom: 4px;\n",
              "    }\n",
              "\n",
              "    [theme=dark] .colab-df-convert {\n",
              "      background-color: #3B4455;\n",
              "      fill: #D2E3FC;\n",
              "    }\n",
              "\n",
              "    [theme=dark] .colab-df-convert:hover {\n",
              "      background-color: #434B5C;\n",
              "      box-shadow: 0px 1px 3px 1px rgba(0, 0, 0, 0.15);\n",
              "      filter: drop-shadow(0px 1px 2px rgba(0, 0, 0, 0.3));\n",
              "      fill: #FFFFFF;\n",
              "    }\n",
              "  </style>\n",
              "\n",
              "    <script>\n",
              "      const buttonEl =\n",
              "        document.querySelector('#df-93ab98b8-eabb-4f66-9f71-2a56b9ab5d8e button.colab-df-convert');\n",
              "      buttonEl.style.display =\n",
              "        google.colab.kernel.accessAllowed ? 'block' : 'none';\n",
              "\n",
              "      async function convertToInteractive(key) {\n",
              "        const element = document.querySelector('#df-93ab98b8-eabb-4f66-9f71-2a56b9ab5d8e');\n",
              "        const dataTable =\n",
              "          await google.colab.kernel.invokeFunction('convertToInteractive',\n",
              "                                                    [key], {});\n",
              "        if (!dataTable) return;\n",
              "\n",
              "        const docLinkHtml = 'Like what you see? Visit the ' +\n",
              "          '<a target=\"_blank\" href=https://colab.research.google.com/notebooks/data_table.ipynb>data table notebook</a>'\n",
              "          + ' to learn more about interactive tables.';\n",
              "        element.innerHTML = '';\n",
              "        dataTable['output_type'] = 'display_data';\n",
              "        await google.colab.output.renderOutput(dataTable, element);\n",
              "        const docLink = document.createElement('div');\n",
              "        docLink.innerHTML = docLinkHtml;\n",
              "        element.appendChild(docLink);\n",
              "      }\n",
              "    </script>\n",
              "  </div>\n",
              "\n",
              "\n",
              "<div id=\"df-ca235d96-635e-4e99-8f75-bf783f5abb39\">\n",
              "  <button class=\"colab-df-quickchart\" onclick=\"quickchart('df-ca235d96-635e-4e99-8f75-bf783f5abb39')\"\n",
              "            title=\"Suggest charts\"\n",
              "            style=\"display:none;\">\n",
              "\n",
              "<svg xmlns=\"http://www.w3.org/2000/svg\" height=\"24px\"viewBox=\"0 0 24 24\"\n",
              "     width=\"24px\">\n",
              "    <g>\n",
              "        <path d=\"M19 3H5c-1.1 0-2 .9-2 2v14c0 1.1.9 2 2 2h14c1.1 0 2-.9 2-2V5c0-1.1-.9-2-2-2zM9 17H7v-7h2v7zm4 0h-2V7h2v10zm4 0h-2v-4h2v4z\"/>\n",
              "    </g>\n",
              "</svg>\n",
              "  </button>\n",
              "\n",
              "<style>\n",
              "  .colab-df-quickchart {\n",
              "      --bg-color: #E8F0FE;\n",
              "      --fill-color: #1967D2;\n",
              "      --hover-bg-color: #E2EBFA;\n",
              "      --hover-fill-color: #174EA6;\n",
              "      --disabled-fill-color: #AAA;\n",
              "      --disabled-bg-color: #DDD;\n",
              "  }\n",
              "\n",
              "  [theme=dark] .colab-df-quickchart {\n",
              "      --bg-color: #3B4455;\n",
              "      --fill-color: #D2E3FC;\n",
              "      --hover-bg-color: #434B5C;\n",
              "      --hover-fill-color: #FFFFFF;\n",
              "      --disabled-bg-color: #3B4455;\n",
              "      --disabled-fill-color: #666;\n",
              "  }\n",
              "\n",
              "  .colab-df-quickchart {\n",
              "    background-color: var(--bg-color);\n",
              "    border: none;\n",
              "    border-radius: 50%;\n",
              "    cursor: pointer;\n",
              "    display: none;\n",
              "    fill: var(--fill-color);\n",
              "    height: 32px;\n",
              "    padding: 0;\n",
              "    width: 32px;\n",
              "  }\n",
              "\n",
              "  .colab-df-quickchart:hover {\n",
              "    background-color: var(--hover-bg-color);\n",
              "    box-shadow: 0 1px 2px rgba(60, 64, 67, 0.3), 0 1px 3px 1px rgba(60, 64, 67, 0.15);\n",
              "    fill: var(--button-hover-fill-color);\n",
              "  }\n",
              "\n",
              "  .colab-df-quickchart-complete:disabled,\n",
              "  .colab-df-quickchart-complete:disabled:hover {\n",
              "    background-color: var(--disabled-bg-color);\n",
              "    fill: var(--disabled-fill-color);\n",
              "    box-shadow: none;\n",
              "  }\n",
              "\n",
              "  .colab-df-spinner {\n",
              "    border: 2px solid var(--fill-color);\n",
              "    border-color: transparent;\n",
              "    border-bottom-color: var(--fill-color);\n",
              "    animation:\n",
              "      spin 1s steps(1) infinite;\n",
              "  }\n",
              "\n",
              "  @keyframes spin {\n",
              "    0% {\n",
              "      border-color: transparent;\n",
              "      border-bottom-color: var(--fill-color);\n",
              "      border-left-color: var(--fill-color);\n",
              "    }\n",
              "    20% {\n",
              "      border-color: transparent;\n",
              "      border-left-color: var(--fill-color);\n",
              "      border-top-color: var(--fill-color);\n",
              "    }\n",
              "    30% {\n",
              "      border-color: transparent;\n",
              "      border-left-color: var(--fill-color);\n",
              "      border-top-color: var(--fill-color);\n",
              "      border-right-color: var(--fill-color);\n",
              "    }\n",
              "    40% {\n",
              "      border-color: transparent;\n",
              "      border-right-color: var(--fill-color);\n",
              "      border-top-color: var(--fill-color);\n",
              "    }\n",
              "    60% {\n",
              "      border-color: transparent;\n",
              "      border-right-color: var(--fill-color);\n",
              "    }\n",
              "    80% {\n",
              "      border-color: transparent;\n",
              "      border-right-color: var(--fill-color);\n",
              "      border-bottom-color: var(--fill-color);\n",
              "    }\n",
              "    90% {\n",
              "      border-color: transparent;\n",
              "      border-bottom-color: var(--fill-color);\n",
              "    }\n",
              "  }\n",
              "</style>\n",
              "\n",
              "  <script>\n",
              "    async function quickchart(key) {\n",
              "      const quickchartButtonEl =\n",
              "        document.querySelector('#' + key + ' button');\n",
              "      quickchartButtonEl.disabled = true;  // To prevent multiple clicks.\n",
              "      quickchartButtonEl.classList.add('colab-df-spinner');\n",
              "      try {\n",
              "        const charts = await google.colab.kernel.invokeFunction(\n",
              "            'suggestCharts', [key], {});\n",
              "      } catch (error) {\n",
              "        console.error('Error during call to suggestCharts:', error);\n",
              "      }\n",
              "      quickchartButtonEl.classList.remove('colab-df-spinner');\n",
              "      quickchartButtonEl.classList.add('colab-df-quickchart-complete');\n",
              "    }\n",
              "    (() => {\n",
              "      let quickchartButtonEl =\n",
              "        document.querySelector('#df-ca235d96-635e-4e99-8f75-bf783f5abb39 button');\n",
              "      quickchartButtonEl.style.display =\n",
              "        google.colab.kernel.accessAllowed ? 'block' : 'none';\n",
              "    })();\n",
              "  </script>\n",
              "</div>\n",
              "\n",
              "    </div>\n",
              "  </div>\n"
            ]
          },
          "metadata": {},
          "execution_count": 40
        }
      ]
    },
    {
      "cell_type": "code",
      "execution_count": null,
      "metadata": {
        "id": "VmRVLSgE_kXF"
      },
      "outputs": [],
      "source": [
        "# creating confusion matrix\n",
        "cnf_mt_tuned = confusion_matrix(df_combined['airline_sentiment'], df_combined['predicted_sentiment'], labels=['positive', 'neutral', 'negative'])\n",
        "# computing accuracy\n",
        "acc_tuned = accuracy_score(df_combined['airline_sentiment'], df_combined['predicted_sentiment'])"
      ]
    },
    {
      "cell_type": "code",
      "source": [
        "# printing accuracy\n",
        "print(\"Accuracy:\", acc_tuned)\n",
        "\n",
        "# creating a heatmap of the confusion matrix\n",
        "plt.figure(figsize=(7, 5))\n",
        "sns.heatmap(\n",
        "    cnf_mt_tuned,\n",
        "    annot=True,\n",
        "    fmt=\"d\",\n",
        "    cmap=\"Blues\",\n",
        "    xticklabels=['positive', 'neutral', 'negative'],\n",
        "    yticklabels=['positive', 'neutral', 'negative'],\n",
        ")\n",
        "plt.xlabel('Predicted')\n",
        "plt.ylabel('Actual')\n",
        "plt.title('Confusion Matrix')\n",
        "plt.show()"
      ],
      "metadata": {
        "id": "d93IoxC-_kXG",
        "colab": {
          "base_uri": "https://localhost:8080/"
        },
        "outputId": "8846be50-e553-45df-e7f9-b18a5a6ecce8"
      },
      "execution_count": null,
      "outputs": [
        {
          "output_type": "stream",
          "name": "stdout",
          "text": [
            "Accuracy: 0.8253424657534246\n"
          ]
        },
        {
          "output_type": "display_data",
          "data": {
            "text/plain": [
              "<Figure size 700x500 with 2 Axes>"
            ],
            "image/png": "[encoded data removed]"
          },
          "metadata": {}
        }
      ]
    },
    {
      "cell_type": "markdown",
      "source": [
        "- The model's performance on test data is similar to what we saw previously"
      ],
      "metadata": {
        "id": "pDkWp6BvcVUX"
      }
    },
    {
      "cell_type": "markdown",
      "metadata": {
        "id": "Mw0atzuT3zmM"
      },
      "source": [
        "# **Model Deployment and Monitoring**"
      ]
    },
    {
      "cell_type": "markdown",
      "metadata": {
        "id": "i4kFSuF8eje6"
      },
      "source": [
        "Model deployment helps with the following:\n",
        "\n",
        "- **Realizing Value**\n",
        "- **Scalability and Efficiency**\n",
        "- **Continuous Learning and Improvement**\n",
        "- **Business Impact and Decision Support**"
      ]
    },
    {
      "cell_type": "markdown",
      "metadata": {
        "id": "tZ9bI4C-U2fz"
      },
      "source": [
        "## Model Deployment"
      ]
    },
    {
      "cell_type": "markdown",
      "source": [
        "**Note**: We'll not be saving the model as it is a large model. We'll directly be using the model."
      ],
      "metadata": {
        "id": "4A9HrPO-_gw6"
      }
    },
    {
      "cell_type": "code",
      "source": [
        "# define a function that will take the necessary inputs and make predictions\n",
        "\n",
        "def predict_review_sentiment(review):\n",
        "    sys_prompt = \"\"\"\n",
        "        Categorize the sentiment of the customer review as positive, negative, or neutral.\n",
        "        Leverage your expertise in the aviation industry and deep understanding of industry trends to analyze the nuanced expressions and overall tone.\n",
        "        It is crucial to accurately identify neutral sentiments, which may indicate a balanced view or neutral stance towards Us Airways. Neutral expressions could involve factual statements without explicit positive or negative opinions.\n",
        "        Consider the importance of these neutral sentiments in gauging the public sentiment towards the airline company.\n",
        "        For instance, a positive sentiment might convey satisfaction with the airline's services, a negative sentiment could express dissatisfaction, while neutral sentiment may reflect an impartial observation or a neutral standpoint\n",
        "    \"\"\"\n",
        "\n",
        "    # predicting the sentiment of the review\n",
        "    pred_sent = llm_response(\n",
        "        \"\"\"\n",
        "            {}\n",
        "            Review text: '{}'\n",
        "        \"\"\".format(sys_prompt, review)\n",
        "    )\n",
        "\n",
        "    # returning the final output\n",
        "    return pred_sent"
      ],
      "metadata": {
        "id": "48H0FoXUgPyS"
      },
      "execution_count": null,
      "outputs": []
    },
    {
      "cell_type": "code",
      "source": [
        "# creating the deployment input interface\n",
        "review_text = gr.Textbox(label=\"Enter the customer sentiment here.\")\n",
        "\n",
        "# creating the deployment output interface\n",
        "sentiment = gr.Textbox(label=\"Sentiment Type\")"
      ],
      "metadata": {
        "id": "latusTLEgP1g"
      },
      "execution_count": null,
      "outputs": []
    },
    {
      "cell_type": "code",
      "source": [
        "# defining the structure of the deployment interface and how the components will interact\n",
        "demo = gr.Interface(\n",
        "    fn=predict_review_sentiment,\n",
        "    inputs = review_text,\n",
        "    outputs = sentiment,\n",
        "    title=\"Customer Review Sentiment Analyzer\",\n",
        "    description= \"This interface will predict whether the sentiment of a customer is positive, negative, or neutral based on the review text.\",\n",
        "    allow_flagging=\"never\"\n",
        ")"
      ],
      "metadata": {
        "id": "eU0xJefZgPwA"
      },
      "execution_count": null,
      "outputs": []
    },
    {
      "cell_type": "code",
      "source": [
        "# deploying the model\n",
        "demo.launch(inline=False, share=True, debug=True)"
      ],
      "metadata": {
        "id": "474eMHUX5RXy",
        "colab": {
          "base_uri": "https://localhost:8080/"
        },
        "outputId": "54c96c0f-bacf-4b27-a1d6-616be79ccc96"
      },
      "execution_count": null,
      "outputs": [
        {
          "output_type": "stream",
          "name": "stdout",
          "text": [
            "Colab notebook detected. This cell will run indefinitely so that you can see errors and logs. To turn off, set debug=False in launch().\n",
            "Running on public URL: https://7870af3103c065ee03.gradio.live\n",
            "\n",
            "This share link expires in 72 hours. For free permanent hosting and GPU upgrades, run `gradio deploy` from Terminal to deploy to Spaces (https://huggingface.co/spaces)\n"
          ]
        }
      ]
    },
    {
      "cell_type": "code",
      "source": [
        "# shutting down the deployed model\n",
        "demo.close()"
      ],
      "metadata": {
        "id": "ewyY2-wigPtg"
      },
      "execution_count": null,
      "outputs": []
    },
    {
      "cell_type": "markdown",
      "metadata": {
        "id": "aG7nj2SSc8jS"
      },
      "source": [
        "## Types of Model Deployment"
      ]
    },
    {
      "cell_type": "markdown",
      "metadata": {
        "id": "-HUMv7dkdKg5"
      },
      "source": [
        "There are generally two main modes of making predictions with a deployed AI model:\n",
        "\n",
        "- **Batch Prediction**\n",
        "- **Real-time (or Interactive) Prediction**\n",
        "\n",
        "The choice of prediction mode depends on the specific requirements and use case of the deployed AI model. Batch prediction is preferable when efficiency in processing large volumes of data is important, while real-time prediction is suitable for scenarios that require immediate or interactive responses to new data."
      ]
    },
    {
      "cell_type": "markdown",
      "metadata": {
        "id": "zmKASEtEVC2Z"
      },
      "source": [
        "# **Metrics and Dashboarding**"
      ]
    },
    {
      "cell_type": "markdown",
      "metadata": {
        "id": "VccxV8DodXOh"
      },
      "source": [
        "Metrics and dashboarding are the tools that businesses use to track their performance. Some of the benefits of using metrics and dashboarding:\n",
        "\n",
        "- **Improved decision-making**\n",
        "- **Increased efficiency**\n",
        "- **Increased visibility**"
      ]
    },
    {
      "cell_type": "markdown",
      "metadata": {
        "id": "peK7Jdp04wBZ"
      },
      "source": [
        "### Dashboard for the Data Team"
      ]
    },
    {
      "cell_type": "markdown",
      "source": [
        "![dis 2.png](data:image/png;base64,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)"
      ],
      "metadata": {
        "id": "VUuPwBOfFyg5"
      }
    },
    {
      "cell_type": "markdown",
      "source": [
        "**Note**: The numbers above are indicative in nature."
      ],
      "metadata": {
        "id": "3U3qOZzxjFup"
      }
    },
    {
      "cell_type": "markdown",
      "metadata": {
        "id": "PT-oQPr4VH5o"
      },
      "source": [
        "# **Decision Making**"
      ]
    },
    {
      "cell_type": "markdown",
      "metadata": {
        "id": "_IlsdM61VTjJ"
      },
      "source": [
        "We have built an AI model, tested it, deployed it, and used the model's outputs to visualize the important business metrics via dashboards. Now the final step is to use the AI model for decision-making and determine the impact of implementing the AI solution."
      ]
    },
    {
      "cell_type": "markdown",
      "source": [
        "The airline can use the sentiment prediction done by the model to tag customer reviews and analyze them to take necessary actions.\n",
        "\n",
        "- Negative sentiments can be detected in real-time and the airline can address and resolve problems before they escalate, demonstrating responsiveness and improving overall customer satisfaction\n",
        "\n",
        "- The sentiment trends can be analyzed to identify recurring patterns or issues. This would help to make strategic decisions, identify areas that consistently receive positive feedback, and proactively address recurrent concerns.\n",
        "\n",
        "- Sentiment analysis can be used to drive operational changes. For example, if sentiments reveal consistent dissatisfaction with certain aspects of the boarding process, the airline can explore process optimizations, staff training, or facility improvements to enhance the overall experience\n",
        "\n",
        "- In addition to analyzing their own feedback, airlines can also use the model to generate and compare sentiment analysis results with those of competitors to identify areas where the airline can differentiate itself"
      ],
      "metadata": {
        "id": "t3HZoMMEdTMg"
      }
    },
    {
      "cell_type": "markdown",
      "metadata": {
        "id": "SM66GUZJxY1z"
      },
      "source": [
        "The operations team can check the customer dissatisfaction rate over time to gauge if the AI solution has been fruitful.\n",
        "\n",
        "- In the three months prior to the AI solution implementation, the customer dissatisfaction rate was at ~40%\n",
        "- Once the AI solution was implemented, the airline were able to take some quick actions to improve their operations. This helped in bringing down the customer dissatisfaction rate slightly to ~37%\n",
        "- Gradually, the airline took strategic decisions to make significant changes in optimizing operations and conducted multiple staff trainings. This helped in bringing down the customer dissatisfaction rate further to ~30%"
      ]
    }
  ],
  "metadata": {
    "colab": {
      "provenance": [],
      "gpuType": "T4",
      "include_colab_link": true
    },
    "kernelspec": {
      "display_name": "Python 3",
      "name": "python3"
    },
    "language_info": {
      "name": "python"
    },
    "accelerator": "GPU",
    "widgets": {
      "application/vnd.jupyter.widget-state+json": {
        "edbafaad207944bab6c7f901ddec47ac": {
          "model_module": "@jupyter-widgets/controls",
          "model_name": "HBoxModel",
          "model_module_version": "1.5.0",
          "state": {
            "_dom_classes": [],
            "_model_module": "@jupyter-widgets/controls",
            "_model_module_version": "1.5.0",
            "_model_name": "HBoxModel",
            "_view_count": null,
            "_view_module": "@jupyter-widgets/controls",
            "_view_module_version": "1.5.0",
            "_view_name": "HBoxView",
            "box_style": "",
            "children": [
              "IPY_MODEL_ccd1252ef70440c88bc45bfbef3969e0",
              "IPY_MODEL_9dd7d66f01564002b4b33394523ad11e",
              "IPY_MODEL_bb73ff8cdfe342b79e13d5cc35445742"
            ],
            "layout": "IPY_MODEL_b5256786adfa460fbdef2405b3555a9d"
          }
        },
        "ccd1252ef70440c88bc45bfbef3969e0": {
          "model_module": "@jupyter-widgets/controls",
          "model_name": "HTMLModel",
          "model_module_version": "1.5.0",
          "state": {
            "_dom_classes": [],
            "_model_module": "@jupyter-widgets/controls",
            "_model_module_version": "1.5.0",
            "_model_name": "HTMLModel",
            "_view_count": null,
            "_view_module": "@jupyter-widgets/controls",
            "_view_module_version": "1.5.0",
            "_view_name": "HTMLView",
            "description": "",
            "description_tooltip": null,
            "layout": "IPY_MODEL_e2d842ae2ee44083897e5d7489366691",
            "placeholder": "​",
            "style": "IPY_MODEL_645dd60ee8394b759343a45d28120d35",
            "value": "tokenizer_config.json: 100%"
          }
        },
        "9dd7d66f01564002b4b33394523ad11e": {
          "model_module": "@jupyter-widgets/controls",
          "model_name": "FloatProgressModel",
          "model_module_version": "1.5.0",
          "state": {
            "_dom_classes": [],
            "_model_module": "@jupyter-widgets/controls",
            "_model_module_version": "1.5.0",
            "_model_name": "FloatProgressModel",
            "_view_count": null,
            "_view_module": "@jupyter-widgets/controls",
            "_view_module_version": "1.5.0",
            "_view_name": "ProgressView",
            "bar_style": "success",
            "description": "",
            "description_tooltip": null,
            "layout": "IPY_MODEL_4f59cc7c262b427c83a766dc1ccc5a93",
            "max": 2539,
            "min": 0,
            "orientation": "horizontal",
            "style": "IPY_MODEL_9d9800c4db17489a9a8229fa09324d2f",
            "value": 2539
          }
        },
        "bb73ff8cdfe342b79e13d5cc35445742": {
          "model_module": "@jupyter-widgets/controls",
          "model_name": "HTMLModel",
          "model_module_version": "1.5.0",
          "state": {
            "_dom_classes": [],
            "_model_module": "@jupyter-widgets/controls",
            "_model_module_version": "1.5.0",
            "_model_name": "HTMLModel",
            "_view_count": null,
            "_view_module": "@jupyter-widgets/controls",
            "_view_module_version": "1.5.0",
            "_view_name": "HTMLView",
            "description": "",
            "description_tooltip": null,
            "layout": "IPY_MODEL_3de2ecf6700d4089bbd11b49e263058f",
            "placeholder": "​",
            "style": "IPY_MODEL_c55aa27f54694a3ea12b4ef0865591d1",
            "value": " 2.54k/2.54k [00:00&lt;00:00, 111kB/s]"
          }
        },
        "b5256786adfa460fbdef2405b3555a9d": {
          "model_module": "@jupyter-widgets/base",
          "model_name": "LayoutModel",
          "model_module_version": "1.2.0",
          "state": {
            "_model_module": "@jupyter-widgets/base",
            "_model_module_version": "1.2.0",
            "_model_name": "LayoutModel",
            "_view_count": null,
            "_view_module": "@jupyter-widgets/base",
            "_view_module_version": "1.2.0",
            "_view_name": "LayoutView",
            "align_content": null,
            "align_items": null,
            "align_self": null,
            "border": null,
            "bottom": null,
            "display": null,
            "flex": null,
            "flex_flow": null,
            "grid_area": null,
            "grid_auto_columns": null,
            "grid_auto_flow": null,
            "grid_auto_rows": null,
            "grid_column": null,
            "grid_gap": null,
            "grid_row": null,
            "grid_template_areas": null,
            "grid_template_columns": null,
            "grid_template_rows": null,
            "height": null,
            "justify_content": null,
            "justify_items": null,
            "left": null,
            "margin": null,
            "max_height": null,
            "max_width": null,
            "min_height": null,
            "min_width": null,
            "object_fit": null,
            "object_position": null,
            "order": null,
            "overflow": null,
            "overflow_x": null,
            "overflow_y": null,
            "padding": null,
            "right": null,
            "top": null,
            "visibility": null,
            "width": null
          }
        },
        "e2d842ae2ee44083897e5d7489366691": {
          "model_module": "@jupyter-widgets/base",
          "model_name": "LayoutModel",
          "model_module_version": "1.2.0",
          "state": {
            "_model_module": "@jupyter-widgets/base",
            "_model_module_version": "1.2.0",
            "_model_name": "LayoutModel",
            "_view_count": null,
            "_view_module": "@jupyter-widgets/base",
            "_view_module_version": "1.2.0",
            "_view_name": "LayoutView",
            "align_content": null,
            "align_items": null,
            "align_self": null,
            "border": null,
            "bottom": null,
            "display": null,
            "flex": null,
            "flex_flow": null,
            "grid_area": null,
            "grid_auto_columns": null,
            "grid_auto_flow": null,
            "grid_auto_rows": null,
            "grid_column": null,
            "grid_gap": null,
            "grid_row": null,
            "grid_template_areas": null,
            "grid_template_columns": null,
            "grid_template_rows": null,
            "height": null,
            "justify_content": null,
            "justify_items": null,
            "left": null,
            "margin": null,
            "max_height": null,
            "max_width": null,
            "min_height": null,
            "min_width": null,
            "object_fit": null,
            "object_position": null,
            "order": null,
            "overflow": null,
            "overflow_x": null,
            "overflow_y": null,
            "padding": null,
            "right": null,
            "top": null,
            "visibility": null,
            "width": null
          }
        },
        "645dd60ee8394b759343a45d28120d35": {
          "model_module": "@jupyter-widgets/controls",
          "model_name": "DescriptionStyleModel",
          "model_module_version": "1.5.0",
          "state": {
            "_model_module": "@jupyter-widgets/controls",
            "_model_module_version": "1.5.0",
            "_model_name": "DescriptionStyleModel",
            "_view_count": null,
            "_view_module": "@jupyter-widgets/base",
            "_view_module_version": "1.2.0",
            "_view_name": "StyleView",
            "description_width": ""
          }
        },
        "4f59cc7c262b427c83a766dc1ccc5a93": {
          "model_module": "@jupyter-widgets/base",
          "model_name": "LayoutModel",
          "model_module_version": "1.2.0",
          "state": {
            "_model_module": "@jupyter-widgets/base",
            "_model_module_version": "1.2.0",
            "_model_name": "LayoutModel",
            "_view_count": null,
            "_view_module": "@jupyter-widgets/base",
            "_view_module_version": "1.2.0",
            "_view_name": "LayoutView",
            "align_content": null,
            "align_items": null,
            "align_self": null,
            "border": null,
            "bottom": null,
            "display": null,
            "flex": null,
            "flex_flow": null,
            "grid_area": null,
            "grid_auto_columns": null,
            "grid_auto_flow": null,
            "grid_auto_rows": null,
            "grid_column": null,
            "grid_gap": null,
            "grid_row": null,
            "grid_template_areas": null,
            "grid_template_columns": null,
            "grid_template_rows": null,
            "height": null,
            "justify_content": null,
            "justify_items": null,
            "left": null,
            "margin": null,
            "max_height": null,
            "max_width": null,
            "min_height": null,
            "min_width": null,
            "object_fit": null,
            "object_position": null,
            "order": null,
            "overflow": null,
            "overflow_x": null,
            "overflow_y": null,
            "padding": null,
            "right": null,
            "top": null,
            "visibility": null,
            "width": null
          }
        },
        "9d9800c4db17489a9a8229fa09324d2f": {
          "model_module": "@jupyter-widgets/controls",
          "model_name": "ProgressStyleModel",
          "model_module_version": "1.5.0",
          "state": {
            "_model_module": "@jupyter-widgets/controls",
            "_model_module_version": "1.5.0",
            "_model_name": "ProgressStyleModel",
            "_view_count": null,
            "_view_module": "@jupyter-widgets/base",
            "_view_module_version": "1.2.0",
            "_view_name": "StyleView",
            "bar_color": null,
            "description_width": ""
          }
        },
        "3de2ecf6700d4089bbd11b49e263058f": {
          "model_module": "@jupyter-widgets/base",
          "model_name": "LayoutModel",
          "model_module_version": "1.2.0",
          "state": {
            "_model_module": "@jupyter-widgets/base",
            "_model_module_version": "1.2.0",
            "_model_name": "LayoutModel",
            "_view_count": null,
            "_view_module": "@jupyter-widgets/base",
            "_view_module_version": "1.2.0",
            "_view_name": "LayoutView",
            "align_content": null,
            "align_items": null,
            "align_self": null,
            "border": null,
            "bottom": null,
            "display": null,
            "flex": null,
            "flex_flow": null,
            "grid_area": null,
            "grid_auto_columns": null,
            "grid_auto_flow": null,
            "grid_auto_rows": null,
            "grid_column": null,
            "grid_gap": null,
            "grid_row": null,
            "grid_template_areas": null,
            "grid_template_columns": null,
            "grid_template_rows": null,
            "height": null,
            "justify_content": null,
            "justify_items": null,
            "left": null,
            "margin": null,
            "max_height": null,
            "max_width": null,
            "min_height": null,
            "min_width": null,
            "object_fit": null,
            "object_position": null,
            "order": null,
            "overflow": null,
            "overflow_x": null,
            "overflow_y": null,
            "padding": null,
            "right": null,
            "top": null,
            "visibility": null,
            "width": null
          }
        },
        "c55aa27f54694a3ea12b4ef0865591d1": {
          "model_module": "@jupyter-widgets/controls",
          "model_name": "DescriptionStyleModel",
          "model_module_version": "1.5.0",
          "state": {
            "_model_module": "@jupyter-widgets/controls",
            "_model_module_version": "1.5.0",
            "_model_name": "DescriptionStyleModel",
            "_view_count": null,
            "_view_module": "@jupyter-widgets/base",
            "_view_module_version": "1.2.0",
            "_view_name": "StyleView",
            "description_width": ""
          }
        },
        "e060d8e9994d40ca94401c1177ea6552": {
          "model_module": "@jupyter-widgets/controls",
          "model_name": "HBoxModel",
          "model_module_version": "1.5.0",
          "state": {
            "_dom_classes": [],
            "_model_module": "@jupyter-widgets/controls",
            "_model_module_version": "1.5.0",
            "_model_name": "HBoxModel",
            "_view_count": null,
            "_view_module": "@jupyter-widgets/controls",
            "_view_module_version": "1.5.0",
            "_view_name": "HBoxView",
            "box_style": "",
            "children": [
              "IPY_MODEL_e28d90f6018b4f2999d11102f0659fbe",
              "IPY_MODEL_bb35d324c7a24f74a167c20e537006ad",
              "IPY_MODEL_7ff500b09f6e4344b63bdf59210f427e"
            ],
            "layout": "IPY_MODEL_84427e695ca64496900893fa28e8a8a4"
          }
        },
        "e28d90f6018b4f2999d11102f0659fbe": {
          "model_module": "@jupyter-widgets/controls",
          "model_name": "HTMLModel",
          "model_module_version": "1.5.0",
          "state": {
            "_dom_classes": [],
            "_model_module": "@jupyter-widgets/controls",
            "_model_module_version": "1.5.0",
            "_model_name": "HTMLModel",
            "_view_count": null,
            "_view_module": "@jupyter-widgets/controls",
            "_view_module_version": "1.5.0",
            "_view_name": "HTMLView",
            "description": "",
            "description_tooltip": null,
            "layout": "IPY_MODEL_7984669729ce4540b08b2c9cd2b06df0",
            "placeholder": "​",
            "style": "IPY_MODEL_a9b11a2aaa894972b7aa3e6ec4ef3783",
            "value": "spiece.model: 100%"
          }
        },
        "bb35d324c7a24f74a167c20e537006ad": {
          "model_module": "@jupyter-widgets/controls",
          "model_name": "FloatProgressModel",
          "model_module_version": "1.5.0",
          "state": {
            "_dom_classes": [],
            "_model_module": "@jupyter-widgets/controls",
            "_model_module_version": "1.5.0",
            "_model_name": "FloatProgressModel",
            "_view_count": null,
            "_view_module": "@jupyter-widgets/controls",
            "_view_module_version": "1.5.0",
            "_view_name": "ProgressView",
            "bar_style": "success",
            "description": "",
            "description_tooltip": null,
            "layout": "IPY_MODEL_02308439c31d4db093e6d15286210b3f",
            "max": 791656,
            "min": 0,
            "orientation": "horizontal",
            "style": "IPY_MODEL_17f831afd37a484c91a3f2fc19b00550",
            "value": 791656
          }
        },
        "7ff500b09f6e4344b63bdf59210f427e": {
          "model_module": "@jupyter-widgets/controls",
          "model_name": "HTMLModel",
          "model_module_version": "1.5.0",
          "state": {
            "_dom_classes": [],
            "_model_module": "@jupyter-widgets/controls",
            "_model_module_version": "1.5.0",
            "_model_name": "HTMLModel",
            "_view_count": null,
            "_view_module": "@jupyter-widgets/controls",
            "_view_module_version": "1.5.0",
            "_view_name": "HTMLView",
            "description": "",
            "description_tooltip": null,
            "layout": "IPY_MODEL_b5f0c0b54cd24250a3d08883ec49719c",
            "placeholder": "​",
            "style": "IPY_MODEL_612ee145be454a2cbd03b05a8db7bbfe",
            "value": " 792k/792k [00:00&lt;00:00, 14.8MB/s]"
          }
        },
        "84427e695ca64496900893fa28e8a8a4": {
          "model_module": "@jupyter-widgets/base",
          "model_name": "LayoutModel",
          "model_module_version": "1.2.0",
          "state": {
            "_model_module": "@jupyter-widgets/base",
            "_model_module_version": "1.2.0",
            "_model_name": "LayoutModel",
            "_view_count": null,
            "_view_module": "@jupyter-widgets/base",
            "_view_module_version": "1.2.0",
            "_view_name": "LayoutView",
            "align_content": null,
            "align_items": null,
            "align_self": null,
            "border": null,
            "bottom": null,
            "display": null,
            "flex": null,
            "flex_flow": null,
            "grid_area": null,
            "grid_auto_columns": null,
            "grid_auto_flow": null,
            "grid_auto_rows": null,
            "grid_column": null,
            "grid_gap": null,
            "grid_row": null,
            "grid_template_areas": null,
            "grid_template_columns": null,
            "grid_template_rows": null,
            "height": null,
            "justify_content": null,
            "justify_items": null,
            "left": null,
            "margin": null,
            "max_height": null,
            "max_width": null,
            "min_height": null,
            "min_width": null,
            "object_fit": null,
            "object_position": null,
            "order": null,
            "overflow": null,
            "overflow_x": null,
            "overflow_y": null,
            "padding": null,
            "right": null,
            "top": null,
            "visibility": null,
            "width": null
          }
        },
        "7984669729ce4540b08b2c9cd2b06df0": {
          "model_module": "@jupyter-widgets/base",
          "model_name": "LayoutModel",
          "model_module_version": "1.2.0",
          "state": {
            "_model_module": "@jupyter-widgets/base",
            "_model_module_version": "1.2.0",
            "_model_name": "LayoutModel",
            "_view_count": null,
            "_view_module": "@jupyter-widgets/base",
            "_view_module_version": "1.2.0",
            "_view_name": "LayoutView",
            "align_content": null,
            "align_items": null,
            "align_self": null,
            "border": null,
            "bottom": null,
            "display": null,
            "flex": null,
            "flex_flow": null,
            "grid_area": null,
            "grid_auto_columns": null,
            "grid_auto_flow": null,
            "grid_auto_rows": null,
            "grid_column": null,
            "grid_gap": null,
            "grid_row": null,
            "grid_template_areas": null,
            "grid_template_columns": null,
            "grid_template_rows": null,
            "height": null,
            "justify_content": null,
            "justify_items": null,
            "left": null,
            "margin": null,
            "max_height": null,
            "max_width": null,
            "min_height": null,
            "min_width": null,
            "object_fit": null,
            "object_position": null,
            "order": null,
            "overflow": null,
            "overflow_x": null,
            "overflow_y": null,
            "padding": null,
            "right": null,
            "top": null,
            "visibility": null,
            "width": null
          }
        },
        "a9b11a2aaa894972b7aa3e6ec4ef3783": {
          "model_module": "@jupyter-widgets/controls",
          "model_name": "DescriptionStyleModel",
          "model_module_version": "1.5.0",
          "state": {
            "_model_module": "@jupyter-widgets/controls",
            "_model_module_version": "1.5.0",
            "_model_name": "DescriptionStyleModel",
            "_view_count": null,
            "_view_module": "@jupyter-widgets/base",
            "_view_module_version": "1.2.0",
            "_view_name": "StyleView",
            "description_width": ""
          }
        },
        "02308439c31d4db093e6d15286210b3f": {
          "model_module": "@jupyter-widgets/base",
          "model_name": "LayoutModel",
          "model_module_version": "1.2.0",
          "state": {
            "_model_module": "@jupyter-widgets/base",
            "_model_module_version": "1.2.0",
            "_model_name": "LayoutModel",
            "_view_count": null,
            "_view_module": "@jupyter-widgets/base",
            "_view_module_version": "1.2.0",
            "_view_name": "LayoutView",
            "align_content": null,
            "align_items": null,
            "align_self": null,
            "border": null,
            "bottom": null,
            "display": null,
            "flex": null,
            "flex_flow": null,
            "grid_area": null,
            "grid_auto_columns": null,
            "grid_auto_flow": null,
            "grid_auto_rows": null,
            "grid_column": null,
            "grid_gap": null,
            "grid_row": null,
            "grid_template_areas": null,
            "grid_template_columns": null,
            "grid_template_rows": null,
            "height": null,
            "justify_content": null,
            "justify_items": null,
            "left": null,
            "margin": null,
            "max_height": null,
            "max_width": null,
            "min_height": null,
            "min_width": null,
            "object_fit": null,
            "object_position": null,
            "order": null,
            "overflow": null,
            "overflow_x": null,
            "overflow_y": null,
            "padding": null,
            "right": null,
            "top": null,
            "visibility": null,
            "width": null
          }
        },
        "17f831afd37a484c91a3f2fc19b00550": {
          "model_module": "@jupyter-widgets/controls",
          "model_name": "ProgressStyleModel",
          "model_module_version": "1.5.0",
          "state": {
            "_model_module": "@jupyter-widgets/controls",
            "_model_module_version": "1.5.0",
            "_model_name": "ProgressStyleModel",
            "_view_count": null,
            "_view_module": "@jupyter-widgets/base",
            "_view_module_version": "1.2.0",
            "_view_name": "StyleView",
            "bar_color": null,
            "description_width": ""
          }
        },
        "b5f0c0b54cd24250a3d08883ec49719c": {
          "model_module": "@jupyter-widgets/base",
          "model_name": "LayoutModel",
          "model_module_version": "1.2.0",
          "state": {
            "_model_module": "@jupyter-widgets/base",
            "_model_module_version": "1.2.0",
            "_model_name": "LayoutModel",
            "_view_count": null,
            "_view_module": "@jupyter-widgets/base",
            "_view_module_version": "1.2.0",
            "_view_name": "LayoutView",
            "align_content": null,
            "align_items": null,
            "align_self": null,
            "border": null,
            "bottom": null,
            "display": null,
            "flex": null,
            "flex_flow": null,
            "grid_area": null,
            "grid_auto_columns": null,
            "grid_auto_flow": null,
            "grid_auto_rows": null,
            "grid_column": null,
            "grid_gap": null,
            "grid_row": null,
            "grid_template_areas": null,
            "grid_template_columns": null,
            "grid_template_rows": null,
            "height": null,
            "justify_content": null,
            "justify_items": null,
            "left": null,
            "margin": null,
            "max_height": null,
            "max_width": null,
            "min_height": null,
            "min_width": null,
            "object_fit": null,
            "object_position": null,
            "order": null,
            "overflow": null,
            "overflow_x": null,
            "overflow_y": null,
            "padding": null,
            "right": null,
            "top": null,
            "visibility": null,
            "width": null
          }
        },
        "612ee145be454a2cbd03b05a8db7bbfe": {
          "model_module": "@jupyter-widgets/controls",
          "model_name": "DescriptionStyleModel",
          "model_module_version": "1.5.0",
          "state": {
            "_model_module": "@jupyter-widgets/controls",
            "_model_module_version": "1.5.0",
            "_model_name": "DescriptionStyleModel",
            "_view_count": null,
            "_view_module": "@jupyter-widgets/base",
            "_view_module_version": "1.2.0",
            "_view_name": "StyleView",
            "description_width": ""
          }
        },
        "6444564625e44b289fd15767e5ab246d": {
          "model_module": "@jupyter-widgets/controls",
          "model_name": "HBoxModel",
          "model_module_version": "1.5.0",
          "state": {
            "_dom_classes": [],
            "_model_module": "@jupyter-widgets/controls",
            "_model_module_version": "1.5.0",
            "_model_name": "HBoxModel",
            "_view_count": null,
            "_view_module": "@jupyter-widgets/controls",
            "_view_module_version": "1.5.0",
            "_view_name": "HBoxView",
            "box_style": "",
            "children": [
              "IPY_MODEL_48b7e2f1becf41bca939a0c6bf6fd951",
              "IPY_MODEL_8adbb64ef65f47ffa510ba69e6c5eb45",
              "IPY_MODEL_0be4b81294254be2a9ae463d66709602"
            ],
            "layout": "IPY_MODEL_abbc56946fd94497ab4d10e37fefaecc"
          }
        },
        "48b7e2f1becf41bca939a0c6bf6fd951": {
          "model_module": "@jupyter-widgets/controls",
          "model_name": "HTMLModel",
          "model_module_version": "1.5.0",
          "state": {
            "_dom_classes": [],
            "_model_module": "@jupyter-widgets/controls",
            "_model_module_version": "1.5.0",
            "_model_name": "HTMLModel",
            "_view_count": null,
            "_view_module": "@jupyter-widgets/controls",
            "_view_module_version": "1.5.0",
            "_view_name": "HTMLView",
            "description": "",
            "description_tooltip": null,
            "layout": "IPY_MODEL_343da25976c04c5e9585ad3cee2dbaf2",
            "placeholder": "​",
            "style": "IPY_MODEL_0bb010cc1efa412382793ce56a5d350a",
            "value": "special_tokens_map.json: 100%"
          }
        },
        "8adbb64ef65f47ffa510ba69e6c5eb45": {
          "model_module": "@jupyter-widgets/controls",
          "model_name": "FloatProgressModel",
          "model_module_version": "1.5.0",
          "state": {
            "_dom_classes": [],
            "_model_module": "@jupyter-widgets/controls",
            "_model_module_version": "1.5.0",
            "_model_name": "FloatProgressModel",
            "_view_count": null,
            "_view_module": "@jupyter-widgets/controls",
            "_view_module_version": "1.5.0",
            "_view_name": "ProgressView",
            "bar_style": "success",
            "description": "",
            "description_tooltip": null,
            "layout": "IPY_MODEL_2b6c4b08f1404a02adff5436f3b7defd",
            "max": 2201,
            "min": 0,
            "orientation": "horizontal",
            "style": "IPY_MODEL_6a94dd16ce004257a98f8ddb44ff3822",
            "value": 2201
          }
        },
        "0be4b81294254be2a9ae463d66709602": {
          "model_module": "@jupyter-widgets/controls",
          "model_name": "HTMLModel",
          "model_module_version": "1.5.0",
          "state": {
            "_dom_classes": [],
            "_model_module": "@jupyter-widgets/controls",
            "_model_module_version": "1.5.0",
            "_model_name": "HTMLModel",
            "_view_count": null,
            "_view_module": "@jupyter-widgets/controls",
            "_view_module_version": "1.5.0",
            "_view_name": "HTMLView",
            "description": "",
            "description_tooltip": null,
            "layout": "IPY_MODEL_155dca03520c431cbf54ed45c958712a",
            "placeholder": "​",
            "style": "IPY_MODEL_382a662d258143f69f4dc5c1edc3fa98",
            "value": " 2.20k/2.20k [00:00&lt;00:00, 154kB/s]"
          }
        },
        "abbc56946fd94497ab4d10e37fefaecc": {
          "model_module": "@jupyter-widgets/base",
          "model_name": "LayoutModel",
          "model_module_version": "1.2.0",
          "state": {
            "_model_module": "@jupyter-widgets/base",
            "_model_module_version": "1.2.0",
            "_model_name": "LayoutModel",
            "_view_count": null,
            "_view_module": "@jupyter-widgets/base",
            "_view_module_version": "1.2.0",
            "_view_name": "LayoutView",
            "align_content": null,
            "align_items": null,
            "align_self": null,
            "border": null,
            "bottom": null,
            "display": null,
            "flex": null,
            "flex_flow": null,
            "grid_area": null,
            "grid_auto_columns": null,
            "grid_auto_flow": null,
            "grid_auto_rows": null,
            "grid_column": null,
            "grid_gap": null,
            "grid_row": null,
            "grid_template_areas": null,
            "grid_template_columns": null,
            "grid_template_rows": null,
            "height": null,
            "justify_content": null,
            "justify_items": null,
            "left": null,
            "margin": null,
            "max_height": null,
            "max_width": null,
            "min_height": null,
            "min_width": null,
            "object_fit": null,
            "object_position": null,
            "order": null,
            "overflow": null,
            "overflow_x": null,
            "overflow_y": null,
            "padding": null,
            "right": null,
            "top": null,
            "visibility": null,
            "width": null
          }
        },
        "343da25976c04c5e9585ad3cee2dbaf2": {
          "model_module": "@jupyter-widgets/base",
          "model_name": "LayoutModel",
          "model_module_version": "1.2.0",
          "state": {
            "_model_module": "@jupyter-widgets/base",
            "_model_module_version": "1.2.0",
            "_model_name": "LayoutModel",
            "_view_count": null,
            "_view_module": "@jupyter-widgets/base",
            "_view_module_version": "1.2.0",
            "_view_name": "LayoutView",
            "align_content": null,
            "align_items": null,
            "align_self": null,
            "border": null,
            "bottom": null,
            "display": null,
            "flex": null,
            "flex_flow": null,
            "grid_area": null,
            "grid_auto_columns": null,
            "grid_auto_flow": null,
            "grid_auto_rows": null,
            "grid_column": null,
            "grid_gap": null,
            "grid_row": null,
            "grid_template_areas": null,
            "grid_template_columns": null,
            "grid_template_rows": null,
            "height": null,
            "justify_content": null,
            "justify_items": null,
            "left": null,
            "margin": null,
            "max_height": null,
            "max_width": null,
            "min_height": null,
            "min_width": null,
            "object_fit": null,
            "object_position": null,
            "order": null,
            "overflow": null,
            "overflow_x": null,
            "overflow_y": null,
            "padding": null,
            "right": null,
            "top": null,
            "visibility": null,
            "width": null
          }
        },
        "0bb010cc1efa412382793ce56a5d350a": {
          "model_module": "@jupyter-widgets/controls",
          "model_name": "DescriptionStyleModel",
          "model_module_version": "1.5.0",
          "state": {
            "_model_module": "@jupyter-widgets/controls",
            "_model_module_version": "1.5.0",
            "_model_name": "DescriptionStyleModel",
            "_view_count": null,
            "_view_module": "@jupyter-widgets/base",
            "_view_module_version": "1.2.0",
            "_view_name": "StyleView",
            "description_width": ""
          }
        },
        "2b6c4b08f1404a02adff5436f3b7defd": {
          "model_module": "@jupyter-widgets/base",
          "model_name": "LayoutModel",
          "model_module_version": "1.2.0",
          "state": {
            "_model_module": "@jupyter-widgets/base",
            "_model_module_version": "1.2.0",
            "_model_name": "LayoutModel",
            "_view_count": null,
            "_view_module": "@jupyter-widgets/base",
            "_view_module_version": "1.2.0",
            "_view_name": "LayoutView",
            "align_content": null,
            "align_items": null,
            "align_self": null,
            "border": null,
            "bottom": null,
            "display": null,
            "flex": null,
            "flex_flow": null,
            "grid_area": null,
            "grid_auto_columns": null,
            "grid_auto_flow": null,
            "grid_auto_rows": null,
            "grid_column": null,
            "grid_gap": null,
            "grid_row": null,
            "grid_template_areas": null,
            "grid_template_columns": null,
            "grid_template_rows": null,
            "height": null,
            "justify_content": null,
            "justify_items": null,
            "left": null,
            "margin": null,
            "max_height": null,
            "max_width": null,
            "min_height": null,
            "min_width": null,
            "object_fit": null,
            "object_position": null,
            "order": null,
            "overflow": null,
            "overflow_x": null,
            "overflow_y": null,
            "padding": null,
            "right": null,
            "top": null,
            "visibility": null,
            "width": null
          }
        },
        "6a94dd16ce004257a98f8ddb44ff3822": {
          "model_module": "@jupyter-widgets/controls",
          "model_name": "ProgressStyleModel",
          "model_module_version": "1.5.0",
          "state": {
            "_model_module": "@jupyter-widgets/controls",
            "_model_module_version": "1.5.0",
            "_model_name": "ProgressStyleModel",
            "_view_count": null,
            "_view_module": "@jupyter-widgets/base",
            "_view_module_version": "1.2.0",
            "_view_name": "StyleView",
            "bar_color": null,
            "description_width": ""
          }
        },
        "155dca03520c431cbf54ed45c958712a": {
          "model_module": "@jupyter-widgets/base",
          "model_name": "LayoutModel",
          "model_module_version": "1.2.0",
          "state": {
            "_model_module": "@jupyter-widgets/base",
            "_model_module_version": "1.2.0",
            "_model_name": "LayoutModel",
            "_view_count": null,
            "_view_module": "@jupyter-widgets/base",
            "_view_module_version": "1.2.0",
            "_view_name": "LayoutView",
            "align_content": null,
            "align_items": null,
            "align_self": null,
            "border": null,
            "bottom": null,
            "display": null,
            "flex": null,
            "flex_flow": null,
            "grid_area": null,
            "grid_auto_columns": null,
            "grid_auto_flow": null,
            "grid_auto_rows": null,
            "grid_column": null,
            "grid_gap": null,
            "grid_row": null,
            "grid_template_areas": null,
            "grid_template_columns": null,
            "grid_template_rows": null,
            "height": null,
            "justify_content": null,
            "justify_items": null,
            "left": null,
            "margin": null,
            "max_height": null,
            "max_width": null,
            "min_height": null,
            "min_width": null,
            "object_fit": null,
            "object_position": null,
            "order": null,
            "overflow": null,
            "overflow_x": null,
            "overflow_y": null,
            "padding": null,
            "right": null,
            "top": null,
            "visibility": null,
            "width": null
          }
        },
        "382a662d258143f69f4dc5c1edc3fa98": {
          "model_module": "@jupyter-widgets/controls",
          "model_name": "DescriptionStyleModel",
          "model_module_version": "1.5.0",
          "state": {
            "_model_module": "@jupyter-widgets/controls",
            "_model_module_version": "1.5.0",
            "_model_name": "DescriptionStyleModel",
            "_view_count": null,
            "_view_module": "@jupyter-widgets/base",
            "_view_module_version": "1.2.0",
            "_view_name": "StyleView",
            "description_width": ""
          }
        },
        "958b56893e8e494d850e2fc899dacd98": {
          "model_module": "@jupyter-widgets/controls",
          "model_name": "HBoxModel",
          "model_module_version": "1.5.0",
          "state": {
            "_dom_classes": [],
            "_model_module": "@jupyter-widgets/controls",
            "_model_module_version": "1.5.0",
            "_model_name": "HBoxModel",
            "_view_count": null,
            "_view_module": "@jupyter-widgets/controls",
            "_view_module_version": "1.5.0",
            "_view_name": "HBoxView",
            "box_style": "",
            "children": [
              "IPY_MODEL_fb0ff9ef89f54d01a8b33c2d42f6d8d4",
              "IPY_MODEL_cb95650b10c34b549f587c0f8d517728",
              "IPY_MODEL_c546b1ff2a30446faa9d38915311dd79"
            ],
            "layout": "IPY_MODEL_fdb6a09777734c568bb1d619612ac74e"
          }
        },
        "fb0ff9ef89f54d01a8b33c2d42f6d8d4": {
          "model_module": "@jupyter-widgets/controls",
          "model_name": "HTMLModel",
          "model_module_version": "1.5.0",
          "state": {
            "_dom_classes": [],
            "_model_module": "@jupyter-widgets/controls",
            "_model_module_version": "1.5.0",
            "_model_name": "HTMLModel",
            "_view_count": null,
            "_view_module": "@jupyter-widgets/controls",
            "_view_module_version": "1.5.0",
            "_view_name": "HTMLView",
            "description": "",
            "description_tooltip": null,
            "layout": "IPY_MODEL_9fbbcb7e76c449eb86b058fb95b91f36",
            "placeholder": "​",
            "style": "IPY_MODEL_43c54a1722c74121bad8471d8822a4e1",
            "value": "tokenizer.json: 100%"
          }
        },
        "cb95650b10c34b549f587c0f8d517728": {
          "model_module": "@jupyter-widgets/controls",
          "model_name": "FloatProgressModel",
          "model_module_version": "1.5.0",
          "state": {
            "_dom_classes": [],
            "_model_module": "@jupyter-widgets/controls",
            "_model_module_version": "1.5.0",
            "_model_name": "FloatProgressModel",
            "_view_count": null,
            "_view_module": "@jupyter-widgets/controls",
            "_view_module_version": "1.5.0",
            "_view_name": "ProgressView",
            "bar_style": "success",
            "description": "",
            "description_tooltip": null,
            "layout": "IPY_MODEL_c3513919f7e043a6bd8bfc0f698d7629",
            "max": 2424064,
            "min": 0,
            "orientation": "horizontal",
            "style": "IPY_MODEL_8aa28444c81443809d6f4a4c52a781f0",
            "value": 2424064
          }
        },
        "c546b1ff2a30446faa9d38915311dd79": {
          "model_module": "@jupyter-widgets/controls",
          "model_name": "HTMLModel",
          "model_module_version": "1.5.0",
          "state": {
            "_dom_classes": [],
            "_model_module": "@jupyter-widgets/controls",
            "_model_module_version": "1.5.0",
            "_model_name": "HTMLModel",
            "_view_count": null,
            "_view_module": "@jupyter-widgets/controls",
            "_view_module_version": "1.5.0",
            "_view_name": "HTMLView",
            "description": "",
            "description_tooltip": null,
            "layout": "IPY_MODEL_2490fc4c638f4e45808fe7d1da6cf75a",
            "placeholder": "​",
            "style": "IPY_MODEL_219a9c0302ef410e8fc7636d06a30ba7",
            "value": " 2.42M/2.42M [00:00&lt;00:00, 6.65MB/s]"
          }
        },
        "fdb6a09777734c568bb1d619612ac74e": {
          "model_module": "@jupyter-widgets/base",
          "model_name": "LayoutModel",
          "model_module_version": "1.2.0",
          "state": {
            "_model_module": "@jupyter-widgets/base",
            "_model_module_version": "1.2.0",
            "_model_name": "LayoutModel",
            "_view_count": null,
            "_view_module": "@jupyter-widgets/base",
            "_view_module_version": "1.2.0",
            "_view_name": "LayoutView",
            "align_content": null,
            "align_items": null,
            "align_self": null,
            "border": null,
            "bottom": null,
            "display": null,
            "flex": null,
            "flex_flow": null,
            "grid_area": null,
            "grid_auto_columns": null,
            "grid_auto_flow": null,
            "grid_auto_rows": null,
            "grid_column": null,
            "grid_gap": null,
            "grid_row": null,
            "grid_template_areas": null,
            "grid_template_columns": null,
            "grid_template_rows": null,
            "height": null,
            "justify_content": null,
            "justify_items": null,
            "left": null,
            "margin": null,
            "max_height": null,
            "max_width": null,
            "min_height": null,
            "min_width": null,
            "object_fit": null,
            "object_position": null,
            "order": null,
            "overflow": null,
            "overflow_x": null,
            "overflow_y": null,
            "padding": null,
            "right": null,
            "top": null,
            "visibility": null,
            "width": null
          }
        },
        "9fbbcb7e76c449eb86b058fb95b91f36": {
          "model_module": "@jupyter-widgets/base",
          "model_name": "LayoutModel",
          "model_module_version": "1.2.0",
          "state": {
            "_model_module": "@jupyter-widgets/base",
            "_model_module_version": "1.2.0",
            "_model_name": "LayoutModel",
            "_view_count": null,
            "_view_module": "@jupyter-widgets/base",
            "_view_module_version": "1.2.0",
            "_view_name": "LayoutView",
            "align_content": null,
            "align_items": null,
            "align_self": null,
            "border": null,
            "bottom": null,
            "display": null,
            "flex": null,
            "flex_flow": null,
            "grid_area": null,
            "grid_auto_columns": null,
            "grid_auto_flow": null,
            "grid_auto_rows": null,
            "grid_column": null,
            "grid_gap": null,
            "grid_row": null,
            "grid_template_areas": null,
            "grid_template_columns": null,
            "grid_template_rows": null,
            "height": null,
            "justify_content": null,
            "justify_items": null,
            "left": null,
            "margin": null,
            "max_height": null,
            "max_width": null,
            "min_height": null,
            "min_width": null,
            "object_fit": null,
            "object_position": null,
            "order": null,
            "overflow": null,
            "overflow_x": null,
            "overflow_y": null,
            "padding": null,
            "right": null,
            "top": null,
            "visibility": null,
            "width": null
          }
        },
        "43c54a1722c74121bad8471d8822a4e1": {
          "model_module": "@jupyter-widgets/controls",
          "model_name": "DescriptionStyleModel",
          "model_module_version": "1.5.0",
          "state": {
            "_model_module": "@jupyter-widgets/controls",
            "_model_module_version": "1.5.0",
            "_model_name": "DescriptionStyleModel",
            "_view_count": null,
            "_view_module": "@jupyter-widgets/base",
            "_view_module_version": "1.2.0",
            "_view_name": "StyleView",
            "description_width": ""
          }
        },
        "c3513919f7e043a6bd8bfc0f698d7629": {
          "model_module": "@jupyter-widgets/base",
          "model_name": "LayoutModel",
          "model_module_version": "1.2.0",
          "state": {
            "_model_module": "@jupyter-widgets/base",
            "_model_module_version": "1.2.0",
            "_model_name": "LayoutModel",
            "_view_count": null,
            "_view_module": "@jupyter-widgets/base",
            "_view_module_version": "1.2.0",
            "_view_name": "LayoutView",
            "align_content": null,
            "align_items": null,
            "align_self": null,
            "border": null,
            "bottom": null,
            "display": null,
            "flex": null,
            "flex_flow": null,
            "grid_area": null,
            "grid_auto_columns": null,
            "grid_auto_flow": null,
            "grid_auto_rows": null,
            "grid_column": null,
            "grid_gap": null,
            "grid_row": null,
            "grid_template_areas": null,
            "grid_template_columns": null,
            "grid_template_rows": null,
            "height": null,
            "justify_content": null,
            "justify_items": null,
            "left": null,
            "margin": null,
            "max_height": null,
            "max_width": null,
            "min_height": null,
            "min_width": null,
            "object_fit": null,
            "object_position": null,
            "order": null,
            "overflow": null,
            "overflow_x": null,
            "overflow_y": null,
            "padding": null,
            "right": null,
            "top": null,
            "visibility": null,
            "width": null
          }
        },
        "8aa28444c81443809d6f4a4c52a781f0": {
          "model_module": "@jupyter-widgets/controls",
          "model_name": "ProgressStyleModel",
          "model_module_version": "1.5.0",
          "state": {
            "_model_module": "@jupyter-widgets/controls",
            "_model_module_version": "1.5.0",
            "_model_name": "ProgressStyleModel",
            "_view_count": null,
            "_view_module": "@jupyter-widgets/base",
            "_view_module_version": "1.2.0",
            "_view_name": "StyleView",
            "bar_color": null,
            "description_width": ""
          }
        },
        "2490fc4c638f4e45808fe7d1da6cf75a": {
          "model_module": "@jupyter-widgets/base",
          "model_name": "LayoutModel",
          "model_module_version": "1.2.0",
          "state": {
            "_model_module": "@jupyter-widgets/base",
            "_model_module_version": "1.2.0",
            "_model_name": "LayoutModel",
            "_view_count": null,
            "_view_module": "@jupyter-widgets/base",
            "_view_module_version": "1.2.0",
            "_view_name": "LayoutView",
            "align_content": null,
            "align_items": null,
            "align_self": null,
            "border": null,
            "bottom": null,
            "display": null,
            "flex": null,
            "flex_flow": null,
            "grid_area": null,
            "grid_auto_columns": null,
            "grid_auto_flow": null,
            "grid_auto_rows": null,
            "grid_column": null,
            "grid_gap": null,
            "grid_row": null,
            "grid_template_areas": null,
            "grid_template_columns": null,
            "grid_template_rows": null,
            "height": null,
            "justify_content": null,
            "justify_items": null,
            "left": null,
            "margin": null,
            "max_height": null,
            "max_width": null,
            "min_height": null,
            "min_width": null,
            "object_fit": null,
            "object_position": null,
            "order": null,
            "overflow": null,
            "overflow_x": null,
            "overflow_y": null,
            "padding": null,
            "right": null,
            "top": null,
            "visibility": null,
            "width": null
          }
        },
        "219a9c0302ef410e8fc7636d06a30ba7": {
          "model_module": "@jupyter-widgets/controls",
          "model_name": "DescriptionStyleModel",
          "model_module_version": "1.5.0",
          "state": {
            "_model_module": "@jupyter-widgets/controls",
            "_model_module_version": "1.5.0",
            "_model_name": "DescriptionStyleModel",
            "_view_count": null,
            "_view_module": "@jupyter-widgets/base",
            "_view_module_version": "1.2.0",
            "_view_name": "StyleView",
            "description_width": ""
          }
        },
        "4d6f04ebe59042b29d0a2844154418a5": {
          "model_module": "@jupyter-widgets/controls",
          "model_name": "HBoxModel",
          "model_module_version": "1.5.0",
          "state": {
            "_dom_classes": [],
            "_model_module": "@jupyter-widgets/controls",
            "_model_module_version": "1.5.0",
            "_model_name": "HBoxModel",
            "_view_count": null,
            "_view_module": "@jupyter-widgets/controls",
            "_view_module_version": "1.5.0",
            "_view_name": "HBoxView",
            "box_style": "",
            "children": [
              "IPY_MODEL_ce9f26e0093f47c7a1ec4ba5a5a3efd6",
              "IPY_MODEL_2d7577b6d64c437dad3b3dcfb5101177",
              "IPY_MODEL_1c877993f4db462b80c4afbcb5857600"
            ],
            "layout": "IPY_MODEL_149dba5b3b714711b4589d6c92cc052e"
          }
        },
        "ce9f26e0093f47c7a1ec4ba5a5a3efd6": {
          "model_module": "@jupyter-widgets/controls",
          "model_name": "HTMLModel",
          "model_module_version": "1.5.0",
          "state": {
            "_dom_classes": [],
            "_model_module": "@jupyter-widgets/controls",
            "_model_module_version": "1.5.0",
            "_model_name": "HTMLModel",
            "_view_count": null,
            "_view_module": "@jupyter-widgets/controls",
            "_view_module_version": "1.5.0",
            "_view_name": "HTMLView",
            "description": "",
            "description_tooltip": null,
            "layout": "IPY_MODEL_19f01e392c4644a8a26113f9b93c3dc6",
            "placeholder": "​",
            "style": "IPY_MODEL_5917a506b24c4b9db95e87d1c127036d",
            "value": "config.json: 100%"
          }
        },
        "2d7577b6d64c437dad3b3dcfb5101177": {
          "model_module": "@jupyter-widgets/controls",
          "model_name": "FloatProgressModel",
          "model_module_version": "1.5.0",
          "state": {
            "_dom_classes": [],
            "_model_module": "@jupyter-widgets/controls",
            "_model_module_version": "1.5.0",
            "_model_name": "FloatProgressModel",
            "_view_count": null,
            "_view_module": "@jupyter-widgets/controls",
            "_view_module_version": "1.5.0",
            "_view_name": "ProgressView",
            "bar_style": "success",
            "description": "",
            "description_tooltip": null,
            "layout": "IPY_MODEL_5892e2e6d7994479a1d615b2c8f4f95a",
            "max": 662,
            "min": 0,
            "orientation": "horizontal",
            "style": "IPY_MODEL_26b7a025236a40408c6c7920478444f2",
            "value": 662
          }
        },
        "1c877993f4db462b80c4afbcb5857600": {
          "model_module": "@jupyter-widgets/controls",
          "model_name": "HTMLModel",
          "model_module_version": "1.5.0",
          "state": {
            "_dom_classes": [],
            "_model_module": "@jupyter-widgets/controls",
            "_model_module_version": "1.5.0",
            "_model_name": "HTMLModel",
            "_view_count": null,
            "_view_module": "@jupyter-widgets/controls",
            "_view_module_version": "1.5.0",
            "_view_name": "HTMLView",
            "description": "",
            "description_tooltip": null,
            "layout": "IPY_MODEL_65d2c93a82424e1aa4419e95b490c489",
            "placeholder": "​",
            "style": "IPY_MODEL_1644e84a141c4080afca7085948f6040",
            "value": " 662/662 [00:00&lt;00:00, 46.5kB/s]"
          }
        },
        "149dba5b3b714711b4589d6c92cc052e": {
          "model_module": "@jupyter-widgets/base",
          "model_name": "LayoutModel",
          "model_module_version": "1.2.0",
          "state": {
            "_model_module": "@jupyter-widgets/base",
            "_model_module_version": "1.2.0",
            "_model_name": "LayoutModel",
            "_view_count": null,
            "_view_module": "@jupyter-widgets/base",
            "_view_module_version": "1.2.0",
            "_view_name": "LayoutView",
            "align_content": null,
            "align_items": null,
            "align_self": null,
            "border": null,
            "bottom": null,
            "display": null,
            "flex": null,
            "flex_flow": null,
            "grid_area": null,
            "grid_auto_columns": null,
            "grid_auto_flow": null,
            "grid_auto_rows": null,
            "grid_column": null,
            "grid_gap": null,
            "grid_row": null,
            "grid_template_areas": null,
            "grid_template_columns": null,
            "grid_template_rows": null,
            "height": null,
            "justify_content": null,
            "justify_items": null,
            "left": null,
            "margin": null,
            "max_height": null,
            "max_width": null,
            "min_height": null,
            "min_width": null,
            "object_fit": null,
            "object_position": null,
            "order": null,
            "overflow": null,
            "overflow_x": null,
            "overflow_y": null,
            "padding": null,
            "right": null,
            "top": null,
            "visibility": null,
            "width": null
          }
        },
        "19f01e392c4644a8a26113f9b93c3dc6": {
          "model_module": "@jupyter-widgets/base",
          "model_name": "LayoutModel",
          "model_module_version": "1.2.0",
          "state": {
            "_model_module": "@jupyter-widgets/base",
            "_model_module_version": "1.2.0",
            "_model_name": "LayoutModel",
            "_view_count": null,
            "_view_module": "@jupyter-widgets/base",
            "_view_module_version": "1.2.0",
            "_view_name": "LayoutView",
            "align_content": null,
            "align_items": null,
            "align_self": null,
            "border": null,
            "bottom": null,
            "display": null,
            "flex": null,
            "flex_flow": null,
            "grid_area": null,
            "grid_auto_columns": null,
            "grid_auto_flow": null,
            "grid_auto_rows": null,
            "grid_column": null,
            "grid_gap": null,
            "grid_row": null,
            "grid_template_areas": null,
            "grid_template_columns": null,
            "grid_template_rows": null,
            "height": null,
            "justify_content": null,
            "justify_items": null,
            "left": null,
            "margin": null,
            "max_height": null,
            "max_width": null,
            "min_height": null,
            "min_width": null,
            "object_fit": null,
            "object_position": null,
            "order": null,
            "overflow": null,
            "overflow_x": null,
            "overflow_y": null,
            "padding": null,
            "right": null,
            "top": null,
            "visibility": null,
            "width": null
          }
        },
        "5917a506b24c4b9db95e87d1c127036d": {
          "model_module": "@jupyter-widgets/controls",
          "model_name": "DescriptionStyleModel",
          "model_module_version": "1.5.0",
          "state": {
            "_model_module": "@jupyter-widgets/controls",
            "_model_module_version": "1.5.0",
            "_model_name": "DescriptionStyleModel",
            "_view_count": null,
            "_view_module": "@jupyter-widgets/base",
            "_view_module_version": "1.2.0",
            "_view_name": "StyleView",
            "description_width": ""
          }
        },
        "5892e2e6d7994479a1d615b2c8f4f95a": {
          "model_module": "@jupyter-widgets/base",
          "model_name": "LayoutModel",
          "model_module_version": "1.2.0",
          "state": {
            "_model_module": "@jupyter-widgets/base",
            "_model_module_version": "1.2.0",
            "_model_name": "LayoutModel",
            "_view_count": null,
            "_view_module": "@jupyter-widgets/base",
            "_view_module_version": "1.2.0",
            "_view_name": "LayoutView",
            "align_content": null,
            "align_items": null,
            "align_self": null,
            "border": null,
            "bottom": null,
            "display": null,
            "flex": null,
            "flex_flow": null,
            "grid_area": null,
            "grid_auto_columns": null,
            "grid_auto_flow": null,
            "grid_auto_rows": null,
            "grid_column": null,
            "grid_gap": null,
            "grid_row": null,
            "grid_template_areas": null,
            "grid_template_columns": null,
            "grid_template_rows": null,
            "height": null,
            "justify_content": null,
            "justify_items": null,
            "left": null,
            "margin": null,
            "max_height": null,
            "max_width": null,
            "min_height": null,
            "min_width": null,
            "object_fit": null,
            "object_position": null,
            "order": null,
            "overflow": null,
            "overflow_x": null,
            "overflow_y": null,
            "padding": null,
            "right": null,
            "top": null,
            "visibility": null,
            "width": null
          }
        },
        "26b7a025236a40408c6c7920478444f2": {
          "model_module": "@jupyter-widgets/controls",
          "model_name": "ProgressStyleModel",
          "model_module_version": "1.5.0",
          "state": {
            "_model_module": "@jupyter-widgets/controls",
            "_model_module_version": "1.5.0",
            "_model_name": "ProgressStyleModel",
            "_view_count": null,
            "_view_module": "@jupyter-widgets/base",
            "_view_module_version": "1.2.0",
            "_view_name": "StyleView",
            "bar_color": null,
            "description_width": ""
          }
        },
        "65d2c93a82424e1aa4419e95b490c489": {
          "model_module": "@jupyter-widgets/base",
          "model_name": "LayoutModel",
          "model_module_version": "1.2.0",
          "state": {
            "_model_module": "@jupyter-widgets/base",
            "_model_module_version": "1.2.0",
            "_model_name": "LayoutModel",
            "_view_count": null,
            "_view_module": "@jupyter-widgets/base",
            "_view_module_version": "1.2.0",
            "_view_name": "LayoutView",
            "align_content": null,
            "align_items": null,
            "align_self": null,
            "border": null,
            "bottom": null,
            "display": null,
            "flex": null,
            "flex_flow": null,
            "grid_area": null,
            "grid_auto_columns": null,
            "grid_auto_flow": null,
            "grid_auto_rows": null,
            "grid_column": null,
            "grid_gap": null,
            "grid_row": null,
            "grid_template_areas": null,
            "grid_template_columns": null,
            "grid_template_rows": null,
            "height": null,
            "justify_content": null,
            "justify_items": null,
            "left": null,
            "margin": null,
            "max_height": null,
            "max_width": null,
            "min_height": null,
            "min_width": null,
            "object_fit": null,
            "object_position": null,
            "order": null,
            "overflow": null,
            "overflow_x": null,
            "overflow_y": null,
            "padding": null,
            "right": null,
            "top": null,
            "visibility": null,
            "width": null
          }
        },
        "1644e84a141c4080afca7085948f6040": {
          "model_module": "@jupyter-widgets/controls",
          "model_name": "DescriptionStyleModel",
          "model_module_version": "1.5.0",
          "state": {
            "_model_module": "@jupyter-widgets/controls",
            "_model_module_version": "1.5.0",
            "_model_name": "DescriptionStyleModel",
            "_view_count": null,
            "_view_module": "@jupyter-widgets/base",
            "_view_module_version": "1.2.0",
            "_view_name": "StyleView",
            "description_width": ""
          }
        },
        "5ec9ddd36ef94899bccfbe9133a3ce87": {
          "model_module": "@jupyter-widgets/controls",
          "model_name": "HBoxModel",
          "model_module_version": "1.5.0",
          "state": {
            "_dom_classes": [],
            "_model_module": "@jupyter-widgets/controls",
            "_model_module_version": "1.5.0",
            "_model_name": "HBoxModel",
            "_view_count": null,
            "_view_module": "@jupyter-widgets/controls",
            "_view_module_version": "1.5.0",
            "_view_name": "HBoxView",
            "box_style": "",
            "children": [
              "IPY_MODEL_3d275435266f47cdb7076a786fbea32a",
              "IPY_MODEL_d375939d602e4439b30fe309e2d672a5",
              "IPY_MODEL_08e71fd8e98a44d58252bd809a3014ea"
            ],
            "layout": "IPY_MODEL_d80795e5342b4fdb9f92ca835309f7bc"
          }
        },
        "3d275435266f47cdb7076a786fbea32a": {
          "model_module": "@jupyter-widgets/controls",
          "model_name": "HTMLModel",
          "model_module_version": "1.5.0",
          "state": {
            "_dom_classes": [],
            "_model_module": "@jupyter-widgets/controls",
            "_model_module_version": "1.5.0",
            "_model_name": "HTMLModel",
            "_view_count": null,
            "_view_module": "@jupyter-widgets/controls",
            "_view_module_version": "1.5.0",
            "_view_name": "HTMLView",
            "description": "",
            "description_tooltip": null,
            "layout": "IPY_MODEL_5a91fb364d7a46ebb68cf3433e1a4e45",
            "placeholder": "​",
            "style": "IPY_MODEL_8713d762f87f43e9bd99b0f953a29ff4",
            "value": "model.safetensors: 100%"
          }
        },
        "d375939d602e4439b30fe309e2d672a5": {
          "model_module": "@jupyter-widgets/controls",
          "model_name": "FloatProgressModel",
          "model_module_version": "1.5.0",
          "state": {
            "_dom_classes": [],
            "_model_module": "@jupyter-widgets/controls",
            "_model_module_version": "1.5.0",
            "_model_name": "FloatProgressModel",
            "_view_count": null,
            "_view_module": "@jupyter-widgets/controls",
            "_view_module_version": "1.5.0",
            "_view_name": "ProgressView",
            "bar_style": "success",
            "description": "",
            "description_tooltip": null,
            "layout": "IPY_MODEL_c18ca3aa615a4f1a8031349efe259aa9",
            "max": 3132668804,
            "min": 0,
            "orientation": "horizontal",
            "style": "IPY_MODEL_f6a7e5a722894b69bdb75af3f280e44f",
            "value": 3132668804
          }
        },
        "08e71fd8e98a44d58252bd809a3014ea": {
          "model_module": "@jupyter-widgets/controls",
          "model_name": "HTMLModel",
          "model_module_version": "1.5.0",
          "state": {
            "_dom_classes": [],
            "_model_module": "@jupyter-widgets/controls",
            "_model_module_version": "1.5.0",
            "_model_name": "HTMLModel",
            "_view_count": null,
            "_view_module": "@jupyter-widgets/controls",
            "_view_module_version": "1.5.0",
            "_view_name": "HTMLView",
            "description": "",
            "description_tooltip": null,
            "layout": "IPY_MODEL_d9389a92d4124ec7b79e665824a8133e",
            "placeholder": "​",
            "style": "IPY_MODEL_df62afa848d24ea88dd857c209c47de6",
            "value": " 3.13G/3.13G [00:14&lt;00:00, 249MB/s]"
          }
        },
        "d80795e5342b4fdb9f92ca835309f7bc": {
          "model_module": "@jupyter-widgets/base",
          "model_name": "LayoutModel",
          "model_module_version": "1.2.0",
          "state": {
            "_model_module": "@jupyter-widgets/base",
            "_model_module_version": "1.2.0",
            "_model_name": "LayoutModel",
            "_view_count": null,
            "_view_module": "@jupyter-widgets/base",
            "_view_module_version": "1.2.0",
            "_view_name": "LayoutView",
            "align_content": null,
            "align_items": null,
            "align_self": null,
            "border": null,
            "bottom": null,
            "display": null,
            "flex": null,
            "flex_flow": null,
            "grid_area": null,
            "grid_auto_columns": null,
            "grid_auto_flow": null,
            "grid_auto_rows": null,
            "grid_column": null,
            "grid_gap": null,
            "grid_row": null,
            "grid_template_areas": null,
            "grid_template_columns": null,
            "grid_template_rows": null,
            "height": null,
            "justify_content": null,
            "justify_items": null,
            "left": null,
            "margin": null,
            "max_height": null,
            "max_width": null,
            "min_height": null,
            "min_width": null,
            "object_fit": null,
            "object_position": null,
            "order": null,
            "overflow": null,
            "overflow_x": null,
            "overflow_y": null,
            "padding": null,
            "right": null,
            "top": null,
            "visibility": null,
            "width": null
          }
        },
        "5a91fb364d7a46ebb68cf3433e1a4e45": {
          "model_module": "@jupyter-widgets/base",
          "model_name": "LayoutModel",
          "model_module_version": "1.2.0",
          "state": {
            "_model_module": "@jupyter-widgets/base",
            "_model_module_version": "1.2.0",
            "_model_name": "LayoutModel",
            "_view_count": null,
            "_view_module": "@jupyter-widgets/base",
            "_view_module_version": "1.2.0",
            "_view_name": "LayoutView",
            "align_content": null,
            "align_items": null,
            "align_self": null,
            "border": null,
            "bottom": null,
            "display": null,
            "flex": null,
            "flex_flow": null,
            "grid_area": null,
            "grid_auto_columns": null,
            "grid_auto_flow": null,
            "grid_auto_rows": null,
            "grid_column": null,
            "grid_gap": null,
            "grid_row": null,
            "grid_template_areas": null,
            "grid_template_columns": null,
            "grid_template_rows": null,
            "height": null,
            "justify_content": null,
            "justify_items": null,
            "left": null,
            "margin": null,
            "max_height": null,
            "max_width": null,
            "min_height": null,
            "min_width": null,
            "object_fit": null,
            "object_position": null,
            "order": null,
            "overflow": null,
            "overflow_x": null,
            "overflow_y": null,
            "padding": null,
            "right": null,
            "top": null,
            "visibility": null,
            "width": null
          }
        },
        "8713d762f87f43e9bd99b0f953a29ff4": {
          "model_module": "@jupyter-widgets/controls",
          "model_name": "DescriptionStyleModel",
          "model_module_version": "1.5.0",
          "state": {
            "_model_module": "@jupyter-widgets/controls",
            "_model_module_version": "1.5.0",
            "_model_name": "DescriptionStyleModel",
            "_view_count": null,
            "_view_module": "@jupyter-widgets/base",
            "_view_module_version": "1.2.0",
            "_view_name": "StyleView",
            "description_width": ""
          }
        },
        "c18ca3aa615a4f1a8031349efe259aa9": {
          "model_module": "@jupyter-widgets/base",
          "model_name": "LayoutModel",
          "model_module_version": "1.2.0",
          "state": {
            "_model_module": "@jupyter-widgets/base",
            "_model_module_version": "1.2.0",
            "_model_name": "LayoutModel",
            "_view_count": null,
            "_view_module": "@jupyter-widgets/base",
            "_view_module_version": "1.2.0",
            "_view_name": "LayoutView",
            "align_content": null,
            "align_items": null,
            "align_self": null,
            "border": null,
            "bottom": null,
            "display": null,
            "flex": null,
            "flex_flow": null,
            "grid_area": null,
            "grid_auto_columns": null,
            "grid_auto_flow": null,
            "grid_auto_rows": null,
            "grid_column": null,
            "grid_gap": null,
            "grid_row": null,
            "grid_template_areas": null,
            "grid_template_columns": null,
            "grid_template_rows": null,
            "height": null,
            "justify_content": null,
            "justify_items": null,
            "left": null,
            "margin": null,
            "max_height": null,
            "max_width": null,
            "min_height": null,
            "min_width": null,
            "object_fit": null,
            "object_position": null,
            "order": null,
            "overflow": null,
            "overflow_x": null,
            "overflow_y": null,
            "padding": null,
            "right": null,
            "top": null,
            "visibility": null,
            "width": null
          }
        },
        "f6a7e5a722894b69bdb75af3f280e44f": {
          "model_module": "@jupyter-widgets/controls",
          "model_name": "ProgressStyleModel",
          "model_module_version": "1.5.0",
          "state": {
            "_model_module": "@jupyter-widgets/controls",
            "_model_module_version": "1.5.0",
            "_model_name": "ProgressStyleModel",
            "_view_count": null,
            "_view_module": "@jupyter-widgets/base",
            "_view_module_version": "1.2.0",
            "_view_name": "StyleView",
            "bar_color": null,
            "description_width": ""
          }
        },
        "d9389a92d4124ec7b79e665824a8133e": {
          "model_module": "@jupyter-widgets/base",
          "model_name": "LayoutModel",
          "model_module_version": "1.2.0",
          "state": {
            "_model_module": "@jupyter-widgets/base",
            "_model_module_version": "1.2.0",
            "_model_name": "LayoutModel",
            "_view_count": null,
            "_view_module": "@jupyter-widgets/base",
            "_view_module_version": "1.2.0",
            "_view_name": "LayoutView",
            "align_content": null,
            "align_items": null,
            "align_self": null,
            "border": null,
            "bottom": null,
            "display": null,
            "flex": null,
            "flex_flow": null,
            "grid_area": null,
            "grid_auto_columns": null,
            "grid_auto_flow": null,
            "grid_auto_rows": null,
            "grid_column": null,
            "grid_gap": null,
            "grid_row": null,
            "grid_template_areas": null,
            "grid_template_columns": null,
            "grid_template_rows": null,
            "height": null,
            "justify_content": null,
            "justify_items": null,
            "left": null,
            "margin": null,
            "max_height": null,
            "max_width": null,
            "min_height": null,
            "min_width": null,
            "object_fit": null,
            "object_position": null,
            "order": null,
            "overflow": null,
            "overflow_x": null,
            "overflow_y": null,
            "padding": null,
            "right": null,
            "top": null,
            "visibility": null,
            "width": null
          }
        },
        "df62afa848d24ea88dd857c209c47de6": {
          "model_module": "@jupyter-widgets/controls",
          "model_name": "DescriptionStyleModel",
          "model_module_version": "1.5.0",
          "state": {
            "_model_module": "@jupyter-widgets/controls",
            "_model_module_version": "1.5.0",
            "_model_name": "DescriptionStyleModel",
            "_view_count": null,
            "_view_module": "@jupyter-widgets/base",
            "_view_module_version": "1.2.0",
            "_view_name": "StyleView",
            "description_width": ""
          }
        },
        "8be123579e4248fb8838445cbb054907": {
          "model_module": "@jupyter-widgets/controls",
          "model_name": "HBoxModel",
          "model_module_version": "1.5.0",
          "state": {
            "_dom_classes": [],
            "_model_module": "@jupyter-widgets/controls",
            "_model_module_version": "1.5.0",
            "_model_name": "HBoxModel",
            "_view_count": null,
            "_view_module": "@jupyter-widgets/controls",
            "_view_module_version": "1.5.0",
            "_view_name": "HBoxView",
            "box_style": "",
            "children": [
              "IPY_MODEL_639d2b0b44da4903b23b94421a28af6e",
              "IPY_MODEL_7999625c06fa44de90e95e9949d19e84",
              "IPY_MODEL_8ae493b1c1c14d2cbc7f12497305130f"
            ],
            "layout": "IPY_MODEL_1901b9e245ef42a7b2531233ea233d11"
          }
        },
        "639d2b0b44da4903b23b94421a28af6e": {
          "model_module": "@jupyter-widgets/controls",
          "model_name": "HTMLModel",
          "model_module_version": "1.5.0",
          "state": {
            "_dom_classes": [],
            "_model_module": "@jupyter-widgets/controls",
            "_model_module_version": "1.5.0",
            "_model_name": "HTMLModel",
            "_view_count": null,
            "_view_module": "@jupyter-widgets/controls",
            "_view_module_version": "1.5.0",
            "_view_name": "HTMLView",
            "description": "",
            "description_tooltip": null,
            "layout": "IPY_MODEL_d2416369127d41c0a410ebb3c5054876",
            "placeholder": "​",
            "style": "IPY_MODEL_0fc63b0d785a426387ca8c13854e8cef",
            "value": "generation_config.json: 100%"
          }
        },
        "7999625c06fa44de90e95e9949d19e84": {
          "model_module": "@jupyter-widgets/controls",
          "model_name": "FloatProgressModel",
          "model_module_version": "1.5.0",
          "state": {
            "_dom_classes": [],
            "_model_module": "@jupyter-widgets/controls",
            "_model_module_version": "1.5.0",
            "_model_name": "FloatProgressModel",
            "_view_count": null,
            "_view_module": "@jupyter-widgets/controls",
            "_view_module_version": "1.5.0",
            "_view_name": "ProgressView",
            "bar_style": "success",
            "description": "",
            "description_tooltip": null,
            "layout": "IPY_MODEL_92989811e4ea4f58825b38b18a9d5285",
            "max": 147,
            "min": 0,
            "orientation": "horizontal",
            "style": "IPY_MODEL_f74f65b6491e4d3cb8dea002f8d388ad",
            "value": 147
          }
        },
        "8ae493b1c1c14d2cbc7f12497305130f": {
          "model_module": "@jupyter-widgets/controls",
          "model_name": "HTMLModel",
          "model_module_version": "1.5.0",
          "state": {
            "_dom_classes": [],
            "_model_module": "@jupyter-widgets/controls",
            "_model_module_version": "1.5.0",
            "_model_name": "HTMLModel",
            "_view_count": null,
            "_view_module": "@jupyter-widgets/controls",
            "_view_module_version": "1.5.0",
            "_view_name": "HTMLView",
            "description": "",
            "description_tooltip": null,
            "layout": "IPY_MODEL_8a33eb519008451183208431a4e794ac",
            "placeholder": "​",
            "style": "IPY_MODEL_af7712136d1f4b0cb59855ed9222b90b",
            "value": " 147/147 [00:00&lt;00:00, 11.1kB/s]"
          }
        },
        "1901b9e245ef42a7b2531233ea233d11": {
          "model_module": "@jupyter-widgets/base",
          "model_name": "LayoutModel",
          "model_module_version": "1.2.0",
          "state": {
            "_model_module": "@jupyter-widgets/base",
            "_model_module_version": "1.2.0",
            "_model_name": "LayoutModel",
            "_view_count": null,
            "_view_module": "@jupyter-widgets/base",
            "_view_module_version": "1.2.0",
            "_view_name": "LayoutView",
            "align_content": null,
            "align_items": null,
            "align_self": null,
            "border": null,
            "bottom": null,
            "display": null,
            "flex": null,
            "flex_flow": null,
            "grid_area": null,
            "grid_auto_columns": null,
            "grid_auto_flow": null,
            "grid_auto_rows": null,
            "grid_column": null,
            "grid_gap": null,
            "grid_row": null,
            "grid_template_areas": null,
            "grid_template_columns": null,
            "grid_template_rows": null,
            "height": null,
            "justify_content": null,
            "justify_items": null,
            "left": null,
            "margin": null,
            "max_height": null,
            "max_width": null,
            "min_height": null,
            "min_width": null,
            "object_fit": null,
            "object_position": null,
            "order": null,
            "overflow": null,
            "overflow_x": null,
            "overflow_y": null,
            "padding": null,
            "right": null,
            "top": null,
            "visibility": null,
            "width": null
          }
        },
        "d2416369127d41c0a410ebb3c5054876": {
          "model_module": "@jupyter-widgets/base",
          "model_name": "LayoutModel",
          "model_module_version": "1.2.0",
          "state": {
            "_model_module": "@jupyter-widgets/base",
            "_model_module_version": "1.2.0",
            "_model_name": "LayoutModel",
            "_view_count": null,
            "_view_module": "@jupyter-widgets/base",
            "_view_module_version": "1.2.0",
            "_view_name": "LayoutView",
            "align_content": null,
            "align_items": null,
            "align_self": null,
            "border": null,
            "bottom": null,
            "display": null,
            "flex": null,
            "flex_flow": null,
            "grid_area": null,
            "grid_auto_columns": null,
            "grid_auto_flow": null,
            "grid_auto_rows": null,
            "grid_column": null,
            "grid_gap": null,
            "grid_row": null,
            "grid_template_areas": null,
            "grid_template_columns": null,
            "grid_template_rows": null,
            "height": null,
            "justify_content": null,
            "justify_items": null,
            "left": null,
            "margin": null,
            "max_height": null,
            "max_width": null,
            "min_height": null,
            "min_width": null,
            "object_fit": null,
            "object_position": null,
            "order": null,
            "overflow": null,
            "overflow_x": null,
            "overflow_y": null,
            "padding": null,
            "right": null,
            "top": null,
            "visibility": null,
            "width": null
          }
        },
        "0fc63b0d785a426387ca8c13854e8cef": {
          "model_module": "@jupyter-widgets/controls",
          "model_name": "DescriptionStyleModel",
          "model_module_version": "1.5.0",
          "state": {
            "_model_module": "@jupyter-widgets/controls",
            "_model_module_version": "1.5.0",
            "_model_name": "DescriptionStyleModel",
            "_view_count": null,
            "_view_module": "@jupyter-widgets/base",
            "_view_module_version": "1.2.0",
            "_view_name": "StyleView",
            "description_width": ""
          }
        },
        "92989811e4ea4f58825b38b18a9d5285": {
          "model_module": "@jupyter-widgets/base",
          "model_name": "LayoutModel",
          "model_module_version": "1.2.0",
          "state": {
            "_model_module": "@jupyter-widgets/base",
            "_model_module_version": "1.2.0",
            "_model_name": "LayoutModel",
            "_view_count": null,
            "_view_module": "@jupyter-widgets/base",
            "_view_module_version": "1.2.0",
            "_view_name": "LayoutView",
            "align_content": null,
            "align_items": null,
            "align_self": null,
            "border": null,
            "bottom": null,
            "display": null,
            "flex": null,
            "flex_flow": null,
            "grid_area": null,
            "grid_auto_columns": null,
            "grid_auto_flow": null,
            "grid_auto_rows": null,
            "grid_column": null,
            "grid_gap": null,
            "grid_row": null,
            "grid_template_areas": null,
            "grid_template_columns": null,
            "grid_template_rows": null,
            "height": null,
            "justify_content": null,
            "justify_items": null,
            "left": null,
            "margin": null,
            "max_height": null,
            "max_width": null,
            "min_height": null,
            "min_width": null,
            "object_fit": null,
            "object_position": null,
            "order": null,
            "overflow": null,
            "overflow_x": null,
            "overflow_y": null,
            "padding": null,
            "right": null,
            "top": null,
            "visibility": null,
            "width": null
          }
        },
        "f74f65b6491e4d3cb8dea002f8d388ad": {
          "model_module": "@jupyter-widgets/controls",
          "model_name": "ProgressStyleModel",
          "model_module_version": "1.5.0",
          "state": {
            "_model_module": "@jupyter-widgets/controls",
            "_model_module_version": "1.5.0",
            "_model_name": "ProgressStyleModel",
            "_view_count": null,
            "_view_module": "@jupyter-widgets/base",
            "_view_module_version": "1.2.0",
            "_view_name": "StyleView",
            "bar_color": null,
            "description_width": ""
          }
        },
        "8a33eb519008451183208431a4e794ac": {
          "model_module": "@jupyter-widgets/base",
          "model_name": "LayoutModel",
          "model_module_version": "1.2.0",
          "state": {
            "_model_module": "@jupyter-widgets/base",
            "_model_module_version": "1.2.0",
            "_model_name": "LayoutModel",
            "_view_count": null,
            "_view_module": "@jupyter-widgets/base",
            "_view_module_version": "1.2.0",
            "_view_name": "LayoutView",
            "align_content": null,
            "align_items": null,
            "align_self": null,
            "border": null,
            "bottom": null,
            "display": null,
            "flex": null,
            "flex_flow": null,
            "grid_area": null,
            "grid_auto_columns": null,
            "grid_auto_flow": null,
            "grid_auto_rows": null,
            "grid_column": null,
            "grid_gap": null,
            "grid_row": null,
            "grid_template_areas": null,
            "grid_template_columns": null,
            "grid_template_rows": null,
            "height": null,
            "justify_content": null,
            "justify_items": null,
            "left": null,
            "margin": null,
            "max_height": null,
            "max_width": null,
            "min_height": null,
            "min_width": null,
            "object_fit": null,
            "object_position": null,
            "order": null,
            "overflow": null,
            "overflow_x": null,
            "overflow_y": null,
            "padding": null,
            "right": null,
            "top": null,
            "visibility": null,
            "width": null
          }
        },
        "af7712136d1f4b0cb59855ed9222b90b": {
          "model_module": "@jupyter-widgets/controls",
          "model_name": "DescriptionStyleModel",
          "model_module_version": "1.5.0",
          "state": {
            "_model_module": "@jupyter-widgets/controls",
            "_model_module_version": "1.5.0",
            "_model_name": "DescriptionStyleModel",
            "_view_count": null,
            "_view_module": "@jupyter-widgets/base",
            "_view_module_version": "1.2.0",
            "_view_name": "StyleView",
            "description_width": ""
          }
        }
      }
    }
  },
  "nbformat": 4,
  "nbformat_minor": 0
}