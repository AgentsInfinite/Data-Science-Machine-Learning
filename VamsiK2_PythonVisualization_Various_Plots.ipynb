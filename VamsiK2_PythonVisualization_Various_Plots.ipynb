{
  "cells": [
    {
      "cell_type": "markdown",
      "metadata": {
        "id": "view-in-github",
        "colab_type": "text"
      },
      "source": [
        "<a href=\"https://colab.research.google.com/github/VamK2/Data-Science-Machine-Learning/blob/main/VamsiK2_PythonVisualization_Various_Plots.ipynb\" target=\"_parent\"><img src=\"https://colab.research.google.com/assets/colab-badge.svg\" alt=\"Open In Colab\"/></a>"
      ]
    },
    {
      "cell_type": "markdown",
      "metadata": {
        "id": "N2HX33n-75hD"
      },
      "source": [
        "# Data Visualization with Python"
      ]
    },
    {
      "cell_type": "code",
      "execution_count": null,
      "metadata": {
        "id": "43iHPuZJfuMt",
        "colab": {
          "base_uri": "https://localhost:8080/"
        },
        "outputId": "32304876-0a2c-4fd2-9ec3-6ea30a20eee1"
      },
      "outputs": [
        {
          "output_type": "stream",
          "name": "stdout",
          "text": [
            "Drive already mounted at /content/drive; to attempt to forcibly remount, call drive.mount(\"/content/drive\", force_remount=True).\n"
          ]
        }
      ],
      "source": [
        "from google.colab import drive\n",
        "drive.mount('/content/drive')"
      ]
    },
    {
      "cell_type": "code",
      "execution_count": null,
      "metadata": {
        "id": "VIiUgH835IuJ"
      },
      "outputs": [],
      "source": [
        "# Libraries to help with reading and manipulating data\n",
        "# Libraries to help with reading and manipulating data\n",
        "import numpy as np\n",
        "import pandas as pd\n",
        "\n",
        "# Libraries to help with data visualization\n",
        "import matplotlib.pyplot as plt\n",
        "import seaborn as sns\n",
        "\n",
        "# Command to tell Python to actually display the graphs\n",
        "%matplotlib inline\n",
        "\n",
        "pd.set_option('display.float_format', lambda x: '%.2f' % x) # To supress numerical display in scientific notations"
      ]
    },
    {
      "cell_type": "code",
      "execution_count": null,
      "metadata": {
        "id": "_4PnXDoX5IuL"
      },
      "outputs": [],
      "source": [
        "df = pd.read_csv('/content/drive/MyDrive/UAT AI MLGL/Python Foundations - Aug 23/Week 3: Python for Visualization/tips.csv')"
      ]
    },
    {
      "cell_type": "code",
      "execution_count": null,
      "metadata": {
        "colab": {
          "base_uri": "https://localhost:8080/",
          "height": 206
        },
        "id": "ep11mXFZ5IuM",
        "outputId": "e6baf779-7243-4db2-b88c-c6aa37acf6f5"
      },
      "outputs": [
        {
          "output_type": "execute_result",
          "data": {
            "text/plain": [
              "   order_id  day    time  size smoker     sex  total_bill  tip\n",
              "0         1  Sun  Dinner     2     No  Female       16.99 1.01\n",
              "1         2  Sun  Dinner     3     No    Male       10.34 1.66\n",
              "2         3  Sun  Dinner     3     No    Male       21.01 3.50\n",
              "3         4  Sun  Dinner     2     No    Male       23.68 3.31\n",
              "4         5  Sun  Dinner     4     No  Female       24.59 3.61"
            ],
            "text/html": [
              "\n",
              "  <div id=\"df-0854a932-d536-4a30-af19-0f74d1629956\" class=\"colab-df-container\">\n",
              "    <div>\n",
              "<style scoped>\n",
              "    .dataframe tbody tr th:only-of-type {\n",
              "        vertical-align: middle;\n",
              "    }\n",
              "\n",
              "    .dataframe tbody tr th {\n",
              "        vertical-align: top;\n",
              "    }\n",
              "\n",
              "    .dataframe thead th {\n",
              "        text-align: right;\n",
              "    }\n",
              "</style>\n",
              "<table border=\"1\" class=\"dataframe\">\n",
              "  <thead>\n",
              "    <tr style=\"text-align: right;\">\n",
              "      <th></th>\n",
              "      <th>order_id</th>\n",
              "      <th>day</th>\n",
              "      <th>time</th>\n",
              "      <th>size</th>\n",
              "      <th>smoker</th>\n",
              "      <th>sex</th>\n",
              "      <th>total_bill</th>\n",
              "      <th>tip</th>\n",
              "    </tr>\n",
              "  </thead>\n",
              "  <tbody>\n",
              "    <tr>\n",
              "      <th>0</th>\n",
              "      <td>1</td>\n",
              "      <td>Sun</td>\n",
              "      <td>Dinner</td>\n",
              "      <td>2</td>\n",
              "      <td>No</td>\n",
              "      <td>Female</td>\n",
              "      <td>16.99</td>\n",
              "      <td>1.01</td>\n",
              "    </tr>\n",
              "    <tr>\n",
              "      <th>1</th>\n",
              "      <td>2</td>\n",
              "      <td>Sun</td>\n",
              "      <td>Dinner</td>\n",
              "      <td>3</td>\n",
              "      <td>No</td>\n",
              "      <td>Male</td>\n",
              "      <td>10.34</td>\n",
              "      <td>1.66</td>\n",
              "    </tr>\n",
              "    <tr>\n",
              "      <th>2</th>\n",
              "      <td>3</td>\n",
              "      <td>Sun</td>\n",
              "      <td>Dinner</td>\n",
              "      <td>3</td>\n",
              "      <td>No</td>\n",
              "      <td>Male</td>\n",
              "      <td>21.01</td>\n",
              "      <td>3.50</td>\n",
              "    </tr>\n",
              "    <tr>\n",
              "      <th>3</th>\n",
              "      <td>4</td>\n",
              "      <td>Sun</td>\n",
              "      <td>Dinner</td>\n",
              "      <td>2</td>\n",
              "      <td>No</td>\n",
              "      <td>Male</td>\n",
              "      <td>23.68</td>\n",
              "      <td>3.31</td>\n",
              "    </tr>\n",
              "    <tr>\n",
              "      <th>4</th>\n",
              "      <td>5</td>\n",
              "      <td>Sun</td>\n",
              "      <td>Dinner</td>\n",
              "      <td>4</td>\n",
              "      <td>No</td>\n",
              "      <td>Female</td>\n",
              "      <td>24.59</td>\n",
              "      <td>3.61</td>\n",
              "    </tr>\n",
              "  </tbody>\n",
              "</table>\n",
              "</div>\n",
              "    <div class=\"colab-df-buttons\">\n",
              "\n",
              "  <div class=\"colab-df-container\">\n",
              "    <button class=\"colab-df-convert\" onclick=\"convertToInteractive('df-0854a932-d536-4a30-af19-0f74d1629956')\"\n",
              "            title=\"Convert this dataframe to an interactive table.\"\n",
              "            style=\"display:none;\">\n",
              "\n",
              "  <svg xmlns=\"http://www.w3.org/2000/svg\" height=\"24px\" viewBox=\"0 -960 960 960\">\n",
              "    <path d=\"M120-120v-720h720v720H120Zm60-500h600v-160H180v160Zm220 220h160v-160H400v160Zm0 220h160v-160H400v160ZM180-400h160v-160H180v160Zm440 0h160v-160H620v160ZM180-180h160v-160H180v160Zm440 0h160v-160H620v160Z\"/>\n",
              "  </svg>\n",
              "    </button>\n",
              "\n",
              "  <style>\n",
              "    .colab-df-container {\n",
              "      display:flex;\n",
              "      gap: 12px;\n",
              "    }\n",
              "\n",
              "    .colab-df-convert {\n",
              "      background-color: #E8F0FE;\n",
              "      border: none;\n",
              "      border-radius: 50%;\n",
              "      cursor: pointer;\n",
              "      display: none;\n",
              "      fill: #1967D2;\n",
              "      height: 32px;\n",
              "      padding: 0 0 0 0;\n",
              "      width: 32px;\n",
              "    }\n",
              "\n",
              "    .colab-df-convert:hover {\n",
              "      background-color: #E2EBFA;\n",
              "      box-shadow: 0px 1px 2px rgba(60, 64, 67, 0.3), 0px 1px 3px 1px rgba(60, 64, 67, 0.15);\n",
              "      fill: #174EA6;\n",
              "    }\n",
              "\n",
              "    .colab-df-buttons div {\n",
              "      margin-bottom: 4px;\n",
              "    }\n",
              "\n",
              "    [theme=dark] .colab-df-convert {\n",
              "      background-color: #3B4455;\n",
              "      fill: #D2E3FC;\n",
              "    }\n",
              "\n",
              "    [theme=dark] .colab-df-convert:hover {\n",
              "      background-color: #434B5C;\n",
              "      box-shadow: 0px 1px 3px 1px rgba(0, 0, 0, 0.15);\n",
              "      filter: drop-shadow(0px 1px 2px rgba(0, 0, 0, 0.3));\n",
              "      fill: #FFFFFF;\n",
              "    }\n",
              "  </style>\n",
              "\n",
              "    <script>\n",
              "      const buttonEl =\n",
              "        document.querySelector('#df-0854a932-d536-4a30-af19-0f74d1629956 button.colab-df-convert');\n",
              "      buttonEl.style.display =\n",
              "        google.colab.kernel.accessAllowed ? 'block' : 'none';\n",
              "\n",
              "      async function convertToInteractive(key) {\n",
              "        const element = document.querySelector('#df-0854a932-d536-4a30-af19-0f74d1629956');\n",
              "        const dataTable =\n",
              "          await google.colab.kernel.invokeFunction('convertToInteractive',\n",
              "                                                    [key], {});\n",
              "        if (!dataTable) return;\n",
              "\n",
              "        const docLinkHtml = 'Like what you see? Visit the ' +\n",
              "          '<a target=\"_blank\" href=https://colab.research.google.com/notebooks/data_table.ipynb>data table notebook</a>'\n",
              "          + ' to learn more about interactive tables.';\n",
              "        element.innerHTML = '';\n",
              "        dataTable['output_type'] = 'display_data';\n",
              "        await google.colab.output.renderOutput(dataTable, element);\n",
              "        const docLink = document.createElement('div');\n",
              "        docLink.innerHTML = docLinkHtml;\n",
              "        element.appendChild(docLink);\n",
              "      }\n",
              "    </script>\n",
              "  </div>\n",
              "\n",
              "\n",
              "<div id=\"df-df75c4b4-0611-48fc-8ba8-becd00af31ef\">\n",
              "  <button class=\"colab-df-quickchart\" onclick=\"quickchart('df-df75c4b4-0611-48fc-8ba8-becd00af31ef')\"\n",
              "            title=\"Suggest charts\"\n",
              "            style=\"display:none;\">\n",
              "\n",
              "<svg xmlns=\"http://www.w3.org/2000/svg\" height=\"24px\"viewBox=\"0 0 24 24\"\n",
              "     width=\"24px\">\n",
              "    <g>\n",
              "        <path d=\"M19 3H5c-1.1 0-2 .9-2 2v14c0 1.1.9 2 2 2h14c1.1 0 2-.9 2-2V5c0-1.1-.9-2-2-2zM9 17H7v-7h2v7zm4 0h-2V7h2v10zm4 0h-2v-4h2v4z\"/>\n",
              "    </g>\n",
              "</svg>\n",
              "  </button>\n",
              "\n",
              "<style>\n",
              "  .colab-df-quickchart {\n",
              "      --bg-color: #E8F0FE;\n",
              "      --fill-color: #1967D2;\n",
              "      --hover-bg-color: #E2EBFA;\n",
              "      --hover-fill-color: #174EA6;\n",
              "      --disabled-fill-color: #AAA;\n",
              "      --disabled-bg-color: #DDD;\n",
              "  }\n",
              "\n",
              "  [theme=dark] .colab-df-quickchart {\n",
              "      --bg-color: #3B4455;\n",
              "      --fill-color: #D2E3FC;\n",
              "      --hover-bg-color: #434B5C;\n",
              "      --hover-fill-color: #FFFFFF;\n",
              "      --disabled-bg-color: #3B4455;\n",
              "      --disabled-fill-color: #666;\n",
              "  }\n",
              "\n",
              "  .colab-df-quickchart {\n",
              "    background-color: var(--bg-color);\n",
              "    border: none;\n",
              "    border-radius: 50%;\n",
              "    cursor: pointer;\n",
              "    display: none;\n",
              "    fill: var(--fill-color);\n",
              "    height: 32px;\n",
              "    padding: 0;\n",
              "    width: 32px;\n",
              "  }\n",
              "\n",
              "  .colab-df-quickchart:hover {\n",
              "    background-color: var(--hover-bg-color);\n",
              "    box-shadow: 0 1px 2px rgba(60, 64, 67, 0.3), 0 1px 3px 1px rgba(60, 64, 67, 0.15);\n",
              "    fill: var(--button-hover-fill-color);\n",
              "  }\n",
              "\n",
              "  .colab-df-quickchart-complete:disabled,\n",
              "  .colab-df-quickchart-complete:disabled:hover {\n",
              "    background-color: var(--disabled-bg-color);\n",
              "    fill: var(--disabled-fill-color);\n",
              "    box-shadow: none;\n",
              "  }\n",
              "\n",
              "  .colab-df-spinner {\n",
              "    border: 2px solid var(--fill-color);\n",
              "    border-color: transparent;\n",
              "    border-bottom-color: var(--fill-color);\n",
              "    animation:\n",
              "      spin 1s steps(1) infinite;\n",
              "  }\n",
              "\n",
              "  @keyframes spin {\n",
              "    0% {\n",
              "      border-color: transparent;\n",
              "      border-bottom-color: var(--fill-color);\n",
              "      border-left-color: var(--fill-color);\n",
              "    }\n",
              "    20% {\n",
              "      border-color: transparent;\n",
              "      border-left-color: var(--fill-color);\n",
              "      border-top-color: var(--fill-color);\n",
              "    }\n",
              "    30% {\n",
              "      border-color: transparent;\n",
              "      border-left-color: var(--fill-color);\n",
              "      border-top-color: var(--fill-color);\n",
              "      border-right-color: var(--fill-color);\n",
              "    }\n",
              "    40% {\n",
              "      border-color: transparent;\n",
              "      border-right-color: var(--fill-color);\n",
              "      border-top-color: var(--fill-color);\n",
              "    }\n",
              "    60% {\n",
              "      border-color: transparent;\n",
              "      border-right-color: var(--fill-color);\n",
              "    }\n",
              "    80% {\n",
              "      border-color: transparent;\n",
              "      border-right-color: var(--fill-color);\n",
              "      border-bottom-color: var(--fill-color);\n",
              "    }\n",
              "    90% {\n",
              "      border-color: transparent;\n",
              "      border-bottom-color: var(--fill-color);\n",
              "    }\n",
              "  }\n",
              "</style>\n",
              "\n",
              "  <script>\n",
              "    async function quickchart(key) {\n",
              "      const quickchartButtonEl =\n",
              "        document.querySelector('#' + key + ' button');\n",
              "      quickchartButtonEl.disabled = true;  // To prevent multiple clicks.\n",
              "      quickchartButtonEl.classList.add('colab-df-spinner');\n",
              "      try {\n",
              "        const charts = await google.colab.kernel.invokeFunction(\n",
              "            'suggestCharts', [key], {});\n",
              "      } catch (error) {\n",
              "        console.error('Error during call to suggestCharts:', error);\n",
              "      }\n",
              "      quickchartButtonEl.classList.remove('colab-df-spinner');\n",
              "      quickchartButtonEl.classList.add('colab-df-quickchart-complete');\n",
              "    }\n",
              "    (() => {\n",
              "      let quickchartButtonEl =\n",
              "        document.querySelector('#df-df75c4b4-0611-48fc-8ba8-becd00af31ef button');\n",
              "      quickchartButtonEl.style.display =\n",
              "        google.colab.kernel.accessAllowed ? 'block' : 'none';\n",
              "    })();\n",
              "  </script>\n",
              "</div>\n",
              "\n",
              "    </div>\n",
              "  </div>\n"
            ],
            "application/vnd.google.colaboratory.intrinsic+json": {
              "type": "dataframe",
              "variable_name": "df",
              "summary": "{\n  \"name\": \"df\",\n  \"rows\": 244,\n  \"fields\": [\n    {\n      \"column\": \"order_id\",\n      \"properties\": {\n        \"dtype\": \"number\",\n        \"std\": 70,\n        \"min\": 1,\n        \"max\": 244,\n        \"num_unique_values\": 244,\n        \"samples\": [\n          25,\n          7,\n          154\n        ],\n        \"semantic_type\": \"\",\n        \"description\": \"\"\n      }\n    },\n    {\n      \"column\": \"day\",\n      \"properties\": {\n        \"dtype\": \"category\",\n        \"num_unique_values\": 4,\n        \"samples\": [\n          \"Sat\",\n          \"Fri\",\n          \"Sun\"\n        ],\n        \"semantic_type\": \"\",\n        \"description\": \"\"\n      }\n    },\n    {\n      \"column\": \"time\",\n      \"properties\": {\n        \"dtype\": \"category\",\n        \"num_unique_values\": 2,\n        \"samples\": [\n          \"Lunch\",\n          \"Dinner\"\n        ],\n        \"semantic_type\": \"\",\n        \"description\": \"\"\n      }\n    },\n    {\n      \"column\": \"size\",\n      \"properties\": {\n        \"dtype\": \"number\",\n        \"std\": 0,\n        \"min\": 1,\n        \"max\": 6,\n        \"num_unique_values\": 6,\n        \"samples\": [\n          2,\n          3\n        ],\n        \"semantic_type\": \"\",\n        \"description\": \"\"\n      }\n    },\n    {\n      \"column\": \"smoker\",\n      \"properties\": {\n        \"dtype\": \"category\",\n        \"num_unique_values\": 2,\n        \"samples\": [\n          \"Yes\",\n          \"No\"\n        ],\n        \"semantic_type\": \"\",\n        \"description\": \"\"\n      }\n    },\n    {\n      \"column\": \"sex\",\n      \"properties\": {\n        \"dtype\": \"category\",\n        \"num_unique_values\": 2,\n        \"samples\": [\n          \"Male\",\n          \"Female\"\n        ],\n        \"semantic_type\": \"\",\n        \"description\": \"\"\n      }\n    },\n    {\n      \"column\": \"total_bill\",\n      \"properties\": {\n        \"dtype\": \"number\",\n        \"std\": 8.902411954856856,\n        \"min\": 3.07,\n        \"max\": 50.81,\n        \"num_unique_values\": 229,\n        \"samples\": [\n          22.12,\n          20.23\n        ],\n        \"semantic_type\": \"\",\n        \"description\": \"\"\n      }\n    },\n    {\n      \"column\": \"tip\",\n      \"properties\": {\n        \"dtype\": \"number\",\n        \"std\": 1.3836381890011822,\n        \"min\": 1.0,\n        \"max\": 10.0,\n        \"num_unique_values\": 123,\n        \"samples\": [\n          3.35,\n          1.5\n        ],\n        \"semantic_type\": \"\",\n        \"description\": \"\"\n      }\n    }\n  ]\n}"
            }
          },
          "metadata": {},
          "execution_count": 35
        }
      ],
      "source": [
        "df.head()"
      ]
    },
    {
      "cell_type": "code",
      "execution_count": null,
      "metadata": {
        "colab": {
          "base_uri": "https://localhost:8080/"
        },
        "id": "axRBUIrM5IuN",
        "outputId": "bdf80582-6396-43bb-d1f4-2192d9b64460"
      },
      "outputs": [
        {
          "output_type": "execute_result",
          "data": {
            "text/plain": [
              "(244, 8)"
            ]
          },
          "metadata": {},
          "execution_count": 36
        }
      ],
      "source": [
        "df.shape"
      ]
    },
    {
      "cell_type": "markdown",
      "metadata": {
        "id": "8ji2SmBj75hK"
      },
      "source": [
        "- The data has 201 rows and 26 columns."
      ]
    },
    {
      "cell_type": "code",
      "execution_count": null,
      "metadata": {
        "colab": {
          "base_uri": "https://localhost:8080/"
        },
        "id": "ex4GmTCS5IuN",
        "outputId": "bdd0fbaa-6668-42df-e11e-f7ae6b8e3f0a"
      },
      "outputs": [
        {
          "output_type": "stream",
          "name": "stdout",
          "text": [
            "<class 'pandas.core.frame.DataFrame'>\n",
            "RangeIndex: 244 entries, 0 to 243\n",
            "Data columns (total 8 columns):\n",
            " #   Column      Non-Null Count  Dtype  \n",
            "---  ------      --------------  -----  \n",
            " 0   order_id    244 non-null    int64  \n",
            " 1   day         244 non-null    object \n",
            " 2   time        244 non-null    object \n",
            " 3   size        244 non-null    int64  \n",
            " 4   smoker      244 non-null    object \n",
            " 5   sex         244 non-null    object \n",
            " 6   total_bill  244 non-null    float64\n",
            " 7   tip         244 non-null    float64\n",
            "dtypes: float64(2), int64(2), object(4)\n",
            "memory usage: 15.4+ KB\n"
          ]
        }
      ],
      "source": [
        "df.info()"
      ]
    },
    {
      "cell_type": "markdown",
      "metadata": {
        "id": "3hLDWznE75hL"
      },
      "source": [
        "- There are attributes of different types (*int*, *float*, *object*) in the data."
      ]
    },
    {
      "cell_type": "code",
      "execution_count": null,
      "metadata": {
        "colab": {
          "base_uri": "https://localhost:8080/",
          "height": 300
        },
        "id": "-myaWt-Y5IuN",
        "outputId": "f333d818-416f-4766-cdc1-c6cefe5580e7"
      },
      "outputs": [
        {
          "output_type": "execute_result",
          "data": {
            "text/plain": [
              "            count unique     top freq   mean   std  min   25%    50%    75%  \\\n",
              "order_id   244.00    NaN     NaN  NaN 122.50 70.58 1.00 61.75 122.50 183.25   \n",
              "day           244      4     Sat   87    NaN   NaN  NaN   NaN    NaN    NaN   \n",
              "time          244      2  Dinner  176    NaN   NaN  NaN   NaN    NaN    NaN   \n",
              "size       244.00    NaN     NaN  NaN   2.57  0.95 1.00  2.00   2.00   3.00   \n",
              "smoker        244      2      No  151    NaN   NaN  NaN   NaN    NaN    NaN   \n",
              "sex           244      2    Male  157    NaN   NaN  NaN   NaN    NaN    NaN   \n",
              "total_bill 244.00    NaN     NaN  NaN  19.79  8.90 3.07 13.35  17.80  24.13   \n",
              "tip        244.00    NaN     NaN  NaN   3.00  1.38 1.00  2.00   2.90   3.56   \n",
              "\n",
              "              max  \n",
              "order_id   244.00  \n",
              "day           NaN  \n",
              "time          NaN  \n",
              "size         6.00  \n",
              "smoker        NaN  \n",
              "sex           NaN  \n",
              "total_bill  50.81  \n",
              "tip         10.00  "
            ],
            "text/html": [
              "\n",
              "  <div id=\"df-b2c23714-f006-4fcc-a8df-de7d37851b4b\" class=\"colab-df-container\">\n",
              "    <div>\n",
              "<style scoped>\n",
              "    .dataframe tbody tr th:only-of-type {\n",
              "        vertical-align: middle;\n",
              "    }\n",
              "\n",
              "    .dataframe tbody tr th {\n",
              "        vertical-align: top;\n",
              "    }\n",
              "\n",
              "    .dataframe thead th {\n",
              "        text-align: right;\n",
              "    }\n",
              "</style>\n",
              "<table border=\"1\" class=\"dataframe\">\n",
              "  <thead>\n",
              "    <tr style=\"text-align: right;\">\n",
              "      <th></th>\n",
              "      <th>count</th>\n",
              "      <th>unique</th>\n",
              "      <th>top</th>\n",
              "      <th>freq</th>\n",
              "      <th>mean</th>\n",
              "      <th>std</th>\n",
              "      <th>min</th>\n",
              "      <th>25%</th>\n",
              "      <th>50%</th>\n",
              "      <th>75%</th>\n",
              "      <th>max</th>\n",
              "    </tr>\n",
              "  </thead>\n",
              "  <tbody>\n",
              "    <tr>\n",
              "      <th>order_id</th>\n",
              "      <td>244.00</td>\n",
              "      <td>NaN</td>\n",
              "      <td>NaN</td>\n",
              "      <td>NaN</td>\n",
              "      <td>122.50</td>\n",
              "      <td>70.58</td>\n",
              "      <td>1.00</td>\n",
              "      <td>61.75</td>\n",
              "      <td>122.50</td>\n",
              "      <td>183.25</td>\n",
              "      <td>244.00</td>\n",
              "    </tr>\n",
              "    <tr>\n",
              "      <th>day</th>\n",
              "      <td>244</td>\n",
              "      <td>4</td>\n",
              "      <td>Sat</td>\n",
              "      <td>87</td>\n",
              "      <td>NaN</td>\n",
              "      <td>NaN</td>\n",
              "      <td>NaN</td>\n",
              "      <td>NaN</td>\n",
              "      <td>NaN</td>\n",
              "      <td>NaN</td>\n",
              "      <td>NaN</td>\n",
              "    </tr>\n",
              "    <tr>\n",
              "      <th>time</th>\n",
              "      <td>244</td>\n",
              "      <td>2</td>\n",
              "      <td>Dinner</td>\n",
              "      <td>176</td>\n",
              "      <td>NaN</td>\n",
              "      <td>NaN</td>\n",
              "      <td>NaN</td>\n",
              "      <td>NaN</td>\n",
              "      <td>NaN</td>\n",
              "      <td>NaN</td>\n",
              "      <td>NaN</td>\n",
              "    </tr>\n",
              "    <tr>\n",
              "      <th>size</th>\n",
              "      <td>244.00</td>\n",
              "      <td>NaN</td>\n",
              "      <td>NaN</td>\n",
              "      <td>NaN</td>\n",
              "      <td>2.57</td>\n",
              "      <td>0.95</td>\n",
              "      <td>1.00</td>\n",
              "      <td>2.00</td>\n",
              "      <td>2.00</td>\n",
              "      <td>3.00</td>\n",
              "      <td>6.00</td>\n",
              "    </tr>\n",
              "    <tr>\n",
              "      <th>smoker</th>\n",
              "      <td>244</td>\n",
              "      <td>2</td>\n",
              "      <td>No</td>\n",
              "      <td>151</td>\n",
              "      <td>NaN</td>\n",
              "      <td>NaN</td>\n",
              "      <td>NaN</td>\n",
              "      <td>NaN</td>\n",
              "      <td>NaN</td>\n",
              "      <td>NaN</td>\n",
              "      <td>NaN</td>\n",
              "    </tr>\n",
              "    <tr>\n",
              "      <th>sex</th>\n",
              "      <td>244</td>\n",
              "      <td>2</td>\n",
              "      <td>Male</td>\n",
              "      <td>157</td>\n",
              "      <td>NaN</td>\n",
              "      <td>NaN</td>\n",
              "      <td>NaN</td>\n",
              "      <td>NaN</td>\n",
              "      <td>NaN</td>\n",
              "      <td>NaN</td>\n",
              "      <td>NaN</td>\n",
              "    </tr>\n",
              "    <tr>\n",
              "      <th>total_bill</th>\n",
              "      <td>244.00</td>\n",
              "      <td>NaN</td>\n",
              "      <td>NaN</td>\n",
              "      <td>NaN</td>\n",
              "      <td>19.79</td>\n",
              "      <td>8.90</td>\n",
              "      <td>3.07</td>\n",
              "      <td>13.35</td>\n",
              "      <td>17.80</td>\n",
              "      <td>24.13</td>\n",
              "      <td>50.81</td>\n",
              "    </tr>\n",
              "    <tr>\n",
              "      <th>tip</th>\n",
              "      <td>244.00</td>\n",
              "      <td>NaN</td>\n",
              "      <td>NaN</td>\n",
              "      <td>NaN</td>\n",
              "      <td>3.00</td>\n",
              "      <td>1.38</td>\n",
              "      <td>1.00</td>\n",
              "      <td>2.00</td>\n",
              "      <td>2.90</td>\n",
              "      <td>3.56</td>\n",
              "      <td>10.00</td>\n",
              "    </tr>\n",
              "  </tbody>\n",
              "</table>\n",
              "</div>\n",
              "    <div class=\"colab-df-buttons\">\n",
              "\n",
              "  <div class=\"colab-df-container\">\n",
              "    <button class=\"colab-df-convert\" onclick=\"convertToInteractive('df-b2c23714-f006-4fcc-a8df-de7d37851b4b')\"\n",
              "            title=\"Convert this dataframe to an interactive table.\"\n",
              "            style=\"display:none;\">\n",
              "\n",
              "  <svg xmlns=\"http://www.w3.org/2000/svg\" height=\"24px\" viewBox=\"0 -960 960 960\">\n",
              "    <path d=\"M120-120v-720h720v720H120Zm60-500h600v-160H180v160Zm220 220h160v-160H400v160Zm0 220h160v-160H400v160ZM180-400h160v-160H180v160Zm440 0h160v-160H620v160ZM180-180h160v-160H180v160Zm440 0h160v-160H620v160Z\"/>\n",
              "  </svg>\n",
              "    </button>\n",
              "\n",
              "  <style>\n",
              "    .colab-df-container {\n",
              "      display:flex;\n",
              "      gap: 12px;\n",
              "    }\n",
              "\n",
              "    .colab-df-convert {\n",
              "      background-color: #E8F0FE;\n",
              "      border: none;\n",
              "      border-radius: 50%;\n",
              "      cursor: pointer;\n",
              "      display: none;\n",
              "      fill: #1967D2;\n",
              "      height: 32px;\n",
              "      padding: 0 0 0 0;\n",
              "      width: 32px;\n",
              "    }\n",
              "\n",
              "    .colab-df-convert:hover {\n",
              "      background-color: #E2EBFA;\n",
              "      box-shadow: 0px 1px 2px rgba(60, 64, 67, 0.3), 0px 1px 3px 1px rgba(60, 64, 67, 0.15);\n",
              "      fill: #174EA6;\n",
              "    }\n",
              "\n",
              "    .colab-df-buttons div {\n",
              "      margin-bottom: 4px;\n",
              "    }\n",
              "\n",
              "    [theme=dark] .colab-df-convert {\n",
              "      background-color: #3B4455;\n",
              "      fill: #D2E3FC;\n",
              "    }\n",
              "\n",
              "    [theme=dark] .colab-df-convert:hover {\n",
              "      background-color: #434B5C;\n",
              "      box-shadow: 0px 1px 3px 1px rgba(0, 0, 0, 0.15);\n",
              "      filter: drop-shadow(0px 1px 2px rgba(0, 0, 0, 0.3));\n",
              "      fill: #FFFFFF;\n",
              "    }\n",
              "  </style>\n",
              "\n",
              "    <script>\n",
              "      const buttonEl =\n",
              "        document.querySelector('#df-b2c23714-f006-4fcc-a8df-de7d37851b4b button.colab-df-convert');\n",
              "      buttonEl.style.display =\n",
              "        google.colab.kernel.accessAllowed ? 'block' : 'none';\n",
              "\n",
              "      async function convertToInteractive(key) {\n",
              "        const element = document.querySelector('#df-b2c23714-f006-4fcc-a8df-de7d37851b4b');\n",
              "        const dataTable =\n",
              "          await google.colab.kernel.invokeFunction('convertToInteractive',\n",
              "                                                    [key], {});\n",
              "        if (!dataTable) return;\n",
              "\n",
              "        const docLinkHtml = 'Like what you see? Visit the ' +\n",
              "          '<a target=\"_blank\" href=https://colab.research.google.com/notebooks/data_table.ipynb>data table notebook</a>'\n",
              "          + ' to learn more about interactive tables.';\n",
              "        element.innerHTML = '';\n",
              "        dataTable['output_type'] = 'display_data';\n",
              "        await google.colab.output.renderOutput(dataTable, element);\n",
              "        const docLink = document.createElement('div');\n",
              "        docLink.innerHTML = docLinkHtml;\n",
              "        element.appendChild(docLink);\n",
              "      }\n",
              "    </script>\n",
              "  </div>\n",
              "\n",
              "\n",
              "<div id=\"df-f82f3201-0249-458f-af19-d792ed44c9a7\">\n",
              "  <button class=\"colab-df-quickchart\" onclick=\"quickchart('df-f82f3201-0249-458f-af19-d792ed44c9a7')\"\n",
              "            title=\"Suggest charts\"\n",
              "            style=\"display:none;\">\n",
              "\n",
              "<svg xmlns=\"http://www.w3.org/2000/svg\" height=\"24px\"viewBox=\"0 0 24 24\"\n",
              "     width=\"24px\">\n",
              "    <g>\n",
              "        <path d=\"M19 3H5c-1.1 0-2 .9-2 2v14c0 1.1.9 2 2 2h14c1.1 0 2-.9 2-2V5c0-1.1-.9-2-2-2zM9 17H7v-7h2v7zm4 0h-2V7h2v10zm4 0h-2v-4h2v4z\"/>\n",
              "    </g>\n",
              "</svg>\n",
              "  </button>\n",
              "\n",
              "<style>\n",
              "  .colab-df-quickchart {\n",
              "      --bg-color: #E8F0FE;\n",
              "      --fill-color: #1967D2;\n",
              "      --hover-bg-color: #E2EBFA;\n",
              "      --hover-fill-color: #174EA6;\n",
              "      --disabled-fill-color: #AAA;\n",
              "      --disabled-bg-color: #DDD;\n",
              "  }\n",
              "\n",
              "  [theme=dark] .colab-df-quickchart {\n",
              "      --bg-color: #3B4455;\n",
              "      --fill-color: #D2E3FC;\n",
              "      --hover-bg-color: #434B5C;\n",
              "      --hover-fill-color: #FFFFFF;\n",
              "      --disabled-bg-color: #3B4455;\n",
              "      --disabled-fill-color: #666;\n",
              "  }\n",
              "\n",
              "  .colab-df-quickchart {\n",
              "    background-color: var(--bg-color);\n",
              "    border: none;\n",
              "    border-radius: 50%;\n",
              "    cursor: pointer;\n",
              "    display: none;\n",
              "    fill: var(--fill-color);\n",
              "    height: 32px;\n",
              "    padding: 0;\n",
              "    width: 32px;\n",
              "  }\n",
              "\n",
              "  .colab-df-quickchart:hover {\n",
              "    background-color: var(--hover-bg-color);\n",
              "    box-shadow: 0 1px 2px rgba(60, 64, 67, 0.3), 0 1px 3px 1px rgba(60, 64, 67, 0.15);\n",
              "    fill: var(--button-hover-fill-color);\n",
              "  }\n",
              "\n",
              "  .colab-df-quickchart-complete:disabled,\n",
              "  .colab-df-quickchart-complete:disabled:hover {\n",
              "    background-color: var(--disabled-bg-color);\n",
              "    fill: var(--disabled-fill-color);\n",
              "    box-shadow: none;\n",
              "  }\n",
              "\n",
              "  .colab-df-spinner {\n",
              "    border: 2px solid var(--fill-color);\n",
              "    border-color: transparent;\n",
              "    border-bottom-color: var(--fill-color);\n",
              "    animation:\n",
              "      spin 1s steps(1) infinite;\n",
              "  }\n",
              "\n",
              "  @keyframes spin {\n",
              "    0% {\n",
              "      border-color: transparent;\n",
              "      border-bottom-color: var(--fill-color);\n",
              "      border-left-color: var(--fill-color);\n",
              "    }\n",
              "    20% {\n",
              "      border-color: transparent;\n",
              "      border-left-color: var(--fill-color);\n",
              "      border-top-color: var(--fill-color);\n",
              "    }\n",
              "    30% {\n",
              "      border-color: transparent;\n",
              "      border-left-color: var(--fill-color);\n",
              "      border-top-color: var(--fill-color);\n",
              "      border-right-color: var(--fill-color);\n",
              "    }\n",
              "    40% {\n",
              "      border-color: transparent;\n",
              "      border-right-color: var(--fill-color);\n",
              "      border-top-color: var(--fill-color);\n",
              "    }\n",
              "    60% {\n",
              "      border-color: transparent;\n",
              "      border-right-color: var(--fill-color);\n",
              "    }\n",
              "    80% {\n",
              "      border-color: transparent;\n",
              "      border-right-color: var(--fill-color);\n",
              "      border-bottom-color: var(--fill-color);\n",
              "    }\n",
              "    90% {\n",
              "      border-color: transparent;\n",
              "      border-bottom-color: var(--fill-color);\n",
              "    }\n",
              "  }\n",
              "</style>\n",
              "\n",
              "  <script>\n",
              "    async function quickchart(key) {\n",
              "      const quickchartButtonEl =\n",
              "        document.querySelector('#' + key + ' button');\n",
              "      quickchartButtonEl.disabled = true;  // To prevent multiple clicks.\n",
              "      quickchartButtonEl.classList.add('colab-df-spinner');\n",
              "      try {\n",
              "        const charts = await google.colab.kernel.invokeFunction(\n",
              "            'suggestCharts', [key], {});\n",
              "      } catch (error) {\n",
              "        console.error('Error during call to suggestCharts:', error);\n",
              "      }\n",
              "      quickchartButtonEl.classList.remove('colab-df-spinner');\n",
              "      quickchartButtonEl.classList.add('colab-df-quickchart-complete');\n",
              "    }\n",
              "    (() => {\n",
              "      let quickchartButtonEl =\n",
              "        document.querySelector('#df-f82f3201-0249-458f-af19-d792ed44c9a7 button');\n",
              "      quickchartButtonEl.style.display =\n",
              "        google.colab.kernel.accessAllowed ? 'block' : 'none';\n",
              "    })();\n",
              "  </script>\n",
              "</div>\n",
              "\n",
              "    </div>\n",
              "  </div>\n"
            ],
            "application/vnd.google.colaboratory.intrinsic+json": {
              "type": "dataframe",
              "summary": "{\n  \"name\": \"df\",\n  \"rows\": 8,\n  \"fields\": [\n    {\n      \"column\": \"count\",\n      \"properties\": {\n        \"dtype\": \"date\",\n        \"min\": 244.0,\n        \"max\": 244.0,\n        \"num_unique_values\": 1,\n        \"samples\": [\n          244.0\n        ],\n        \"semantic_type\": \"\",\n        \"description\": \"\"\n      }\n    },\n    {\n      \"column\": \"unique\",\n      \"properties\": {\n        \"dtype\": \"date\",\n        \"min\": 2,\n        \"max\": 4,\n        \"num_unique_values\": 2,\n        \"samples\": [\n          2\n        ],\n        \"semantic_type\": \"\",\n        \"description\": \"\"\n      }\n    },\n    {\n      \"column\": \"top\",\n      \"properties\": {\n        \"dtype\": \"string\",\n        \"num_unique_values\": 4,\n        \"samples\": [\n          \"Dinner\"\n        ],\n        \"semantic_type\": \"\",\n        \"description\": \"\"\n      }\n    },\n    {\n      \"column\": \"freq\",\n      \"properties\": {\n        \"dtype\": \"date\",\n        \"min\": \"87\",\n        \"max\": \"176\",\n        \"num_unique_values\": 4,\n        \"samples\": [\n          \"176\"\n        ],\n        \"semantic_type\": \"\",\n        \"description\": \"\"\n      }\n    },\n    {\n      \"column\": \"mean\",\n      \"properties\": {\n        \"dtype\": \"date\",\n        \"min\": 2.569672131147541,\n        \"max\": 122.5,\n        \"num_unique_values\": 4,\n        \"samples\": [\n          2.569672131147541\n        ],\n        \"semantic_type\": \"\",\n        \"description\": \"\"\n      }\n    },\n    {\n      \"column\": \"std\",\n      \"properties\": {\n        \"dtype\": \"date\",\n        \"min\": 0.9510998047322344,\n        \"max\": 70.58092282385282,\n        \"num_unique_values\": 4,\n        \"samples\": [\n          0.9510998047322344\n        ],\n        \"semantic_type\": \"\",\n        \"description\": \"\"\n      }\n    },\n    {\n      \"column\": \"min\",\n      \"properties\": {\n        \"dtype\": \"date\",\n        \"min\": 1.0,\n        \"max\": 3.07,\n        \"num_unique_values\": 2,\n        \"samples\": [\n          3.07\n        ],\n        \"semantic_type\": \"\",\n        \"description\": \"\"\n      }\n    },\n    {\n      \"column\": \"25%\",\n      \"properties\": {\n        \"dtype\": \"date\",\n        \"min\": 2.0,\n        \"max\": 61.75,\n        \"num_unique_values\": 3,\n        \"samples\": [\n          61.75\n        ],\n        \"semantic_type\": \"\",\n        \"description\": \"\"\n      }\n    },\n    {\n      \"column\": \"50%\",\n      \"properties\": {\n        \"dtype\": \"date\",\n        \"min\": 2.0,\n        \"max\": 122.5,\n        \"num_unique_values\": 4,\n        \"samples\": [\n          2.0\n        ],\n        \"semantic_type\": \"\",\n        \"description\": \"\"\n      }\n    },\n    {\n      \"column\": \"75%\",\n      \"properties\": {\n        \"dtype\": \"date\",\n        \"min\": 3.0,\n        \"max\": 183.25,\n        \"num_unique_values\": 4,\n        \"samples\": [\n          3.0\n        ],\n        \"semantic_type\": \"\",\n        \"description\": \"\"\n      }\n    },\n    {\n      \"column\": \"max\",\n      \"properties\": {\n        \"dtype\": \"date\",\n        \"min\": 6.0,\n        \"max\": 244.0,\n        \"num_unique_values\": 4,\n        \"samples\": [\n          6.0\n        ],\n        \"semantic_type\": \"\",\n        \"description\": \"\"\n      }\n    }\n  ]\n}"
            }
          },
          "metadata": {},
          "execution_count": 38
        }
      ],
      "source": [
        "df.describe(include='all').T"
      ]
    },
    {
      "cell_type": "code",
      "source": [
        "df.describe()"
      ],
      "metadata": {
        "colab": {
          "base_uri": "https://localhost:8080/",
          "height": 300
        },
        "id": "TSEfiyT1g6hK",
        "outputId": "7618df9b-9647-46e0-a1c3-1946070281e0"
      },
      "execution_count": null,
      "outputs": [
        {
          "output_type": "execute_result",
          "data": {
            "text/plain": [
              "       order_id   size  total_bill    tip\n",
              "count    244.00 244.00      244.00 244.00\n",
              "mean     122.50   2.57       19.79   3.00\n",
              "std       70.58   0.95        8.90   1.38\n",
              "min        1.00   1.00        3.07   1.00\n",
              "25%       61.75   2.00       13.35   2.00\n",
              "50%      122.50   2.00       17.80   2.90\n",
              "75%      183.25   3.00       24.13   3.56\n",
              "max      244.00   6.00       50.81  10.00"
            ],
            "text/html": [
              "\n",
              "  <div id=\"df-51091fce-70df-4aa9-ab4a-be84a683da48\" class=\"colab-df-container\">\n",
              "    <div>\n",
              "<style scoped>\n",
              "    .dataframe tbody tr th:only-of-type {\n",
              "        vertical-align: middle;\n",
              "    }\n",
              "\n",
              "    .dataframe tbody tr th {\n",
              "        vertical-align: top;\n",
              "    }\n",
              "\n",
              "    .dataframe thead th {\n",
              "        text-align: right;\n",
              "    }\n",
              "</style>\n",
              "<table border=\"1\" class=\"dataframe\">\n",
              "  <thead>\n",
              "    <tr style=\"text-align: right;\">\n",
              "      <th></th>\n",
              "      <th>order_id</th>\n",
              "      <th>size</th>\n",
              "      <th>total_bill</th>\n",
              "      <th>tip</th>\n",
              "    </tr>\n",
              "  </thead>\n",
              "  <tbody>\n",
              "    <tr>\n",
              "      <th>count</th>\n",
              "      <td>244.00</td>\n",
              "      <td>244.00</td>\n",
              "      <td>244.00</td>\n",
              "      <td>244.00</td>\n",
              "    </tr>\n",
              "    <tr>\n",
              "      <th>mean</th>\n",
              "      <td>122.50</td>\n",
              "      <td>2.57</td>\n",
              "      <td>19.79</td>\n",
              "      <td>3.00</td>\n",
              "    </tr>\n",
              "    <tr>\n",
              "      <th>std</th>\n",
              "      <td>70.58</td>\n",
              "      <td>0.95</td>\n",
              "      <td>8.90</td>\n",
              "      <td>1.38</td>\n",
              "    </tr>\n",
              "    <tr>\n",
              "      <th>min</th>\n",
              "      <td>1.00</td>\n",
              "      <td>1.00</td>\n",
              "      <td>3.07</td>\n",
              "      <td>1.00</td>\n",
              "    </tr>\n",
              "    <tr>\n",
              "      <th>25%</th>\n",
              "      <td>61.75</td>\n",
              "      <td>2.00</td>\n",
              "      <td>13.35</td>\n",
              "      <td>2.00</td>\n",
              "    </tr>\n",
              "    <tr>\n",
              "      <th>50%</th>\n",
              "      <td>122.50</td>\n",
              "      <td>2.00</td>\n",
              "      <td>17.80</td>\n",
              "      <td>2.90</td>\n",
              "    </tr>\n",
              "    <tr>\n",
              "      <th>75%</th>\n",
              "      <td>183.25</td>\n",
              "      <td>3.00</td>\n",
              "      <td>24.13</td>\n",
              "      <td>3.56</td>\n",
              "    </tr>\n",
              "    <tr>\n",
              "      <th>max</th>\n",
              "      <td>244.00</td>\n",
              "      <td>6.00</td>\n",
              "      <td>50.81</td>\n",
              "      <td>10.00</td>\n",
              "    </tr>\n",
              "  </tbody>\n",
              "</table>\n",
              "</div>\n",
              "    <div class=\"colab-df-buttons\">\n",
              "\n",
              "  <div class=\"colab-df-container\">\n",
              "    <button class=\"colab-df-convert\" onclick=\"convertToInteractive('df-51091fce-70df-4aa9-ab4a-be84a683da48')\"\n",
              "            title=\"Convert this dataframe to an interactive table.\"\n",
              "            style=\"display:none;\">\n",
              "\n",
              "  <svg xmlns=\"http://www.w3.org/2000/svg\" height=\"24px\" viewBox=\"0 -960 960 960\">\n",
              "    <path d=\"M120-120v-720h720v720H120Zm60-500h600v-160H180v160Zm220 220h160v-160H400v160Zm0 220h160v-160H400v160ZM180-400h160v-160H180v160Zm440 0h160v-160H620v160ZM180-180h160v-160H180v160Zm440 0h160v-160H620v160Z\"/>\n",
              "  </svg>\n",
              "    </button>\n",
              "\n",
              "  <style>\n",
              "    .colab-df-container {\n",
              "      display:flex;\n",
              "      gap: 12px;\n",
              "    }\n",
              "\n",
              "    .colab-df-convert {\n",
              "      background-color: #E8F0FE;\n",
              "      border: none;\n",
              "      border-radius: 50%;\n",
              "      cursor: pointer;\n",
              "      display: none;\n",
              "      fill: #1967D2;\n",
              "      height: 32px;\n",
              "      padding: 0 0 0 0;\n",
              "      width: 32px;\n",
              "    }\n",
              "\n",
              "    .colab-df-convert:hover {\n",
              "      background-color: #E2EBFA;\n",
              "      box-shadow: 0px 1px 2px rgba(60, 64, 67, 0.3), 0px 1px 3px 1px rgba(60, 64, 67, 0.15);\n",
              "      fill: #174EA6;\n",
              "    }\n",
              "\n",
              "    .colab-df-buttons div {\n",
              "      margin-bottom: 4px;\n",
              "    }\n",
              "\n",
              "    [theme=dark] .colab-df-convert {\n",
              "      background-color: #3B4455;\n",
              "      fill: #D2E3FC;\n",
              "    }\n",
              "\n",
              "    [theme=dark] .colab-df-convert:hover {\n",
              "      background-color: #434B5C;\n",
              "      box-shadow: 0px 1px 3px 1px rgba(0, 0, 0, 0.15);\n",
              "      filter: drop-shadow(0px 1px 2px rgba(0, 0, 0, 0.3));\n",
              "      fill: #FFFFFF;\n",
              "    }\n",
              "  </style>\n",
              "\n",
              "    <script>\n",
              "      const buttonEl =\n",
              "        document.querySelector('#df-51091fce-70df-4aa9-ab4a-be84a683da48 button.colab-df-convert');\n",
              "      buttonEl.style.display =\n",
              "        google.colab.kernel.accessAllowed ? 'block' : 'none';\n",
              "\n",
              "      async function convertToInteractive(key) {\n",
              "        const element = document.querySelector('#df-51091fce-70df-4aa9-ab4a-be84a683da48');\n",
              "        const dataTable =\n",
              "          await google.colab.kernel.invokeFunction('convertToInteractive',\n",
              "                                                    [key], {});\n",
              "        if (!dataTable) return;\n",
              "\n",
              "        const docLinkHtml = 'Like what you see? Visit the ' +\n",
              "          '<a target=\"_blank\" href=https://colab.research.google.com/notebooks/data_table.ipynb>data table notebook</a>'\n",
              "          + ' to learn more about interactive tables.';\n",
              "        element.innerHTML = '';\n",
              "        dataTable['output_type'] = 'display_data';\n",
              "        await google.colab.output.renderOutput(dataTable, element);\n",
              "        const docLink = document.createElement('div');\n",
              "        docLink.innerHTML = docLinkHtml;\n",
              "        element.appendChild(docLink);\n",
              "      }\n",
              "    </script>\n",
              "  </div>\n",
              "\n",
              "\n",
              "<div id=\"df-d18714b3-8ac3-44e2-88ca-1746a603f6ec\">\n",
              "  <button class=\"colab-df-quickchart\" onclick=\"quickchart('df-d18714b3-8ac3-44e2-88ca-1746a603f6ec')\"\n",
              "            title=\"Suggest charts\"\n",
              "            style=\"display:none;\">\n",
              "\n",
              "<svg xmlns=\"http://www.w3.org/2000/svg\" height=\"24px\"viewBox=\"0 0 24 24\"\n",
              "     width=\"24px\">\n",
              "    <g>\n",
              "        <path d=\"M19 3H5c-1.1 0-2 .9-2 2v14c0 1.1.9 2 2 2h14c1.1 0 2-.9 2-2V5c0-1.1-.9-2-2-2zM9 17H7v-7h2v7zm4 0h-2V7h2v10zm4 0h-2v-4h2v4z\"/>\n",
              "    </g>\n",
              "</svg>\n",
              "  </button>\n",
              "\n",
              "<style>\n",
              "  .colab-df-quickchart {\n",
              "      --bg-color: #E8F0FE;\n",
              "      --fill-color: #1967D2;\n",
              "      --hover-bg-color: #E2EBFA;\n",
              "      --hover-fill-color: #174EA6;\n",
              "      --disabled-fill-color: #AAA;\n",
              "      --disabled-bg-color: #DDD;\n",
              "  }\n",
              "\n",
              "  [theme=dark] .colab-df-quickchart {\n",
              "      --bg-color: #3B4455;\n",
              "      --fill-color: #D2E3FC;\n",
              "      --hover-bg-color: #434B5C;\n",
              "      --hover-fill-color: #FFFFFF;\n",
              "      --disabled-bg-color: #3B4455;\n",
              "      --disabled-fill-color: #666;\n",
              "  }\n",
              "\n",
              "  .colab-df-quickchart {\n",
              "    background-color: var(--bg-color);\n",
              "    border: none;\n",
              "    border-radius: 50%;\n",
              "    cursor: pointer;\n",
              "    display: none;\n",
              "    fill: var(--fill-color);\n",
              "    height: 32px;\n",
              "    padding: 0;\n",
              "    width: 32px;\n",
              "  }\n",
              "\n",
              "  .colab-df-quickchart:hover {\n",
              "    background-color: var(--hover-bg-color);\n",
              "    box-shadow: 0 1px 2px rgba(60, 64, 67, 0.3), 0 1px 3px 1px rgba(60, 64, 67, 0.15);\n",
              "    fill: var(--button-hover-fill-color);\n",
              "  }\n",
              "\n",
              "  .colab-df-quickchart-complete:disabled,\n",
              "  .colab-df-quickchart-complete:disabled:hover {\n",
              "    background-color: var(--disabled-bg-color);\n",
              "    fill: var(--disabled-fill-color);\n",
              "    box-shadow: none;\n",
              "  }\n",
              "\n",
              "  .colab-df-spinner {\n",
              "    border: 2px solid var(--fill-color);\n",
              "    border-color: transparent;\n",
              "    border-bottom-color: var(--fill-color);\n",
              "    animation:\n",
              "      spin 1s steps(1) infinite;\n",
              "  }\n",
              "\n",
              "  @keyframes spin {\n",
              "    0% {\n",
              "      border-color: transparent;\n",
              "      border-bottom-color: var(--fill-color);\n",
              "      border-left-color: var(--fill-color);\n",
              "    }\n",
              "    20% {\n",
              "      border-color: transparent;\n",
              "      border-left-color: var(--fill-color);\n",
              "      border-top-color: var(--fill-color);\n",
              "    }\n",
              "    30% {\n",
              "      border-color: transparent;\n",
              "      border-left-color: var(--fill-color);\n",
              "      border-top-color: var(--fill-color);\n",
              "      border-right-color: var(--fill-color);\n",
              "    }\n",
              "    40% {\n",
              "      border-color: transparent;\n",
              "      border-right-color: var(--fill-color);\n",
              "      border-top-color: var(--fill-color);\n",
              "    }\n",
              "    60% {\n",
              "      border-color: transparent;\n",
              "      border-right-color: var(--fill-color);\n",
              "    }\n",
              "    80% {\n",
              "      border-color: transparent;\n",
              "      border-right-color: var(--fill-color);\n",
              "      border-bottom-color: var(--fill-color);\n",
              "    }\n",
              "    90% {\n",
              "      border-color: transparent;\n",
              "      border-bottom-color: var(--fill-color);\n",
              "    }\n",
              "  }\n",
              "</style>\n",
              "\n",
              "  <script>\n",
              "    async function quickchart(key) {\n",
              "      const quickchartButtonEl =\n",
              "        document.querySelector('#' + key + ' button');\n",
              "      quickchartButtonEl.disabled = true;  // To prevent multiple clicks.\n",
              "      quickchartButtonEl.classList.add('colab-df-spinner');\n",
              "      try {\n",
              "        const charts = await google.colab.kernel.invokeFunction(\n",
              "            'suggestCharts', [key], {});\n",
              "      } catch (error) {\n",
              "        console.error('Error during call to suggestCharts:', error);\n",
              "      }\n",
              "      quickchartButtonEl.classList.remove('colab-df-spinner');\n",
              "      quickchartButtonEl.classList.add('colab-df-quickchart-complete');\n",
              "    }\n",
              "    (() => {\n",
              "      let quickchartButtonEl =\n",
              "        document.querySelector('#df-d18714b3-8ac3-44e2-88ca-1746a603f6ec button');\n",
              "      quickchartButtonEl.style.display =\n",
              "        google.colab.kernel.accessAllowed ? 'block' : 'none';\n",
              "    })();\n",
              "  </script>\n",
              "</div>\n",
              "\n",
              "    </div>\n",
              "  </div>\n"
            ],
            "application/vnd.google.colaboratory.intrinsic+json": {
              "type": "dataframe",
              "summary": "{\n  \"name\": \"df\",\n  \"rows\": 8,\n  \"fields\": [\n    {\n      \"column\": \"order_id\",\n      \"properties\": {\n        \"dtype\": \"number\",\n        \"std\": 87.63420522033242,\n        \"min\": 1.0,\n        \"max\": 244.0,\n        \"num_unique_values\": 6,\n        \"samples\": [\n          244.0,\n          122.5,\n          183.25\n        ],\n        \"semantic_type\": \"\",\n        \"description\": \"\"\n      }\n    },\n    {\n      \"column\": \"size\",\n      \"properties\": {\n        \"dtype\": \"number\",\n        \"std\": 85.39686221774683,\n        \"min\": 0.9510998047322344,\n        \"max\": 244.0,\n        \"num_unique_values\": 7,\n        \"samples\": [\n          244.0,\n          2.569672131147541,\n          3.0\n        ],\n        \"semantic_type\": \"\",\n        \"description\": \"\"\n      }\n    },\n    {\n      \"column\": \"total_bill\",\n      \"properties\": {\n        \"dtype\": \"number\",\n        \"std\": 80.57800601480773,\n        \"min\": 3.07,\n        \"max\": 244.0,\n        \"num_unique_values\": 8,\n        \"samples\": [\n          19.78594262295082,\n          17.795,\n          244.0\n        ],\n        \"semantic_type\": \"\",\n        \"description\": \"\"\n      }\n    },\n    {\n      \"column\": \"tip\",\n      \"properties\": {\n        \"dtype\": \"number\",\n        \"std\": 85.10953159599222,\n        \"min\": 1.0,\n        \"max\": 244.0,\n        \"num_unique_values\": 8,\n        \"samples\": [\n          2.99827868852459,\n          2.9,\n          244.0\n        ],\n        \"semantic_type\": \"\",\n        \"description\": \"\"\n      }\n    }\n  ]\n}"
            }
          },
          "metadata": {},
          "execution_count": 39
        }
      ]
    },
    {
      "cell_type": "code",
      "source": [
        "df[df['status']=='Placed'].shape[0]"
      ],
      "metadata": {
        "colab": {
          "base_uri": "https://localhost:8080/",
          "height": 487
        },
        "id": "eSw_374ithcw",
        "outputId": "e8f8ae3f-fa68-4b92-f5a1-02907669be61"
      },
      "execution_count": null,
      "outputs": [
        {
          "output_type": "error",
          "ename": "KeyError",
          "evalue": "'status'",
          "traceback": [
            "\u001b[0;31m---------------------------------------------------------------------------\u001b[0m",
            "\u001b[0;31mKeyError\u001b[0m                                  Traceback (most recent call last)",
            "\u001b[0;32m/usr/local/lib/python3.10/dist-packages/pandas/core/indexes/base.py\u001b[0m in \u001b[0;36mget_loc\u001b[0;34m(self, key)\u001b[0m\n\u001b[1;32m   3652\u001b[0m         \u001b[0;32mtry\u001b[0m\u001b[0;34m:\u001b[0m\u001b[0;34m\u001b[0m\u001b[0;34m\u001b[0m\u001b[0m\n\u001b[0;32m-> 3653\u001b[0;31m             \u001b[0;32mreturn\u001b[0m \u001b[0mself\u001b[0m\u001b[0;34m.\u001b[0m\u001b[0m_engine\u001b[0m\u001b[0;34m.\u001b[0m\u001b[0mget_loc\u001b[0m\u001b[0;34m(\u001b[0m\u001b[0mcasted_key\u001b[0m\u001b[0;34m)\u001b[0m\u001b[0;34m\u001b[0m\u001b[0;34m\u001b[0m\u001b[0m\n\u001b[0m\u001b[1;32m   3654\u001b[0m         \u001b[0;32mexcept\u001b[0m \u001b[0mKeyError\u001b[0m \u001b[0;32mas\u001b[0m \u001b[0merr\u001b[0m\u001b[0;34m:\u001b[0m\u001b[0;34m\u001b[0m\u001b[0;34m\u001b[0m\u001b[0m\n",
            "\u001b[0;32m/usr/local/lib/python3.10/dist-packages/pandas/_libs/index.pyx\u001b[0m in \u001b[0;36mpandas._libs.index.IndexEngine.get_loc\u001b[0;34m()\u001b[0m\n",
            "\u001b[0;32m/usr/local/lib/python3.10/dist-packages/pandas/_libs/index.pyx\u001b[0m in \u001b[0;36mpandas._libs.index.IndexEngine.get_loc\u001b[0;34m()\u001b[0m\n",
            "\u001b[0;32mpandas/_libs/hashtable_class_helper.pxi\u001b[0m in \u001b[0;36mpandas._libs.hashtable.PyObjectHashTable.get_item\u001b[0;34m()\u001b[0m\n",
            "\u001b[0;32mpandas/_libs/hashtable_class_helper.pxi\u001b[0m in \u001b[0;36mpandas._libs.hashtable.PyObjectHashTable.get_item\u001b[0;34m()\u001b[0m\n",
            "\u001b[0;31mKeyError\u001b[0m: 'status'",
            "\nThe above exception was the direct cause of the following exception:\n",
            "\u001b[0;31mKeyError\u001b[0m                                  Traceback (most recent call last)",
            "\u001b[0;32m<ipython-input-40-bb8843df2e5c>\u001b[0m in \u001b[0;36m<cell line: 1>\u001b[0;34m()\u001b[0m\n\u001b[0;32m----> 1\u001b[0;31m \u001b[0mdf\u001b[0m\u001b[0;34m[\u001b[0m\u001b[0mdf\u001b[0m\u001b[0;34m[\u001b[0m\u001b[0;34m'status'\u001b[0m\u001b[0;34m]\u001b[0m\u001b[0;34m==\u001b[0m\u001b[0;34m'Placed'\u001b[0m\u001b[0;34m]\u001b[0m\u001b[0;34m.\u001b[0m\u001b[0mshape\u001b[0m\u001b[0;34m[\u001b[0m\u001b[0;36m0\u001b[0m\u001b[0;34m]\u001b[0m\u001b[0;34m\u001b[0m\u001b[0;34m\u001b[0m\u001b[0m\n\u001b[0m",
            "\u001b[0;32m/usr/local/lib/python3.10/dist-packages/pandas/core/frame.py\u001b[0m in \u001b[0;36m__getitem__\u001b[0;34m(self, key)\u001b[0m\n\u001b[1;32m   3759\u001b[0m             \u001b[0;32mif\u001b[0m \u001b[0mself\u001b[0m\u001b[0;34m.\u001b[0m\u001b[0mcolumns\u001b[0m\u001b[0;34m.\u001b[0m\u001b[0mnlevels\u001b[0m \u001b[0;34m>\u001b[0m \u001b[0;36m1\u001b[0m\u001b[0;34m:\u001b[0m\u001b[0;34m\u001b[0m\u001b[0;34m\u001b[0m\u001b[0m\n\u001b[1;32m   3760\u001b[0m                 \u001b[0;32mreturn\u001b[0m \u001b[0mself\u001b[0m\u001b[0;34m.\u001b[0m\u001b[0m_getitem_multilevel\u001b[0m\u001b[0;34m(\u001b[0m\u001b[0mkey\u001b[0m\u001b[0;34m)\u001b[0m\u001b[0;34m\u001b[0m\u001b[0;34m\u001b[0m\u001b[0m\n\u001b[0;32m-> 3761\u001b[0;31m             \u001b[0mindexer\u001b[0m \u001b[0;34m=\u001b[0m \u001b[0mself\u001b[0m\u001b[0;34m.\u001b[0m\u001b[0mcolumns\u001b[0m\u001b[0;34m.\u001b[0m\u001b[0mget_loc\u001b[0m\u001b[0;34m(\u001b[0m\u001b[0mkey\u001b[0m\u001b[0;34m)\u001b[0m\u001b[0;34m\u001b[0m\u001b[0;34m\u001b[0m\u001b[0m\n\u001b[0m\u001b[1;32m   3762\u001b[0m             \u001b[0;32mif\u001b[0m \u001b[0mis_integer\u001b[0m\u001b[0;34m(\u001b[0m\u001b[0mindexer\u001b[0m\u001b[0;34m)\u001b[0m\u001b[0;34m:\u001b[0m\u001b[0;34m\u001b[0m\u001b[0;34m\u001b[0m\u001b[0m\n\u001b[1;32m   3763\u001b[0m                 \u001b[0mindexer\u001b[0m \u001b[0;34m=\u001b[0m \u001b[0;34m[\u001b[0m\u001b[0mindexer\u001b[0m\u001b[0;34m]\u001b[0m\u001b[0;34m\u001b[0m\u001b[0;34m\u001b[0m\u001b[0m\n",
            "\u001b[0;32m/usr/local/lib/python3.10/dist-packages/pandas/core/indexes/base.py\u001b[0m in \u001b[0;36mget_loc\u001b[0;34m(self, key)\u001b[0m\n\u001b[1;32m   3653\u001b[0m             \u001b[0;32mreturn\u001b[0m \u001b[0mself\u001b[0m\u001b[0;34m.\u001b[0m\u001b[0m_engine\u001b[0m\u001b[0;34m.\u001b[0m\u001b[0mget_loc\u001b[0m\u001b[0;34m(\u001b[0m\u001b[0mcasted_key\u001b[0m\u001b[0;34m)\u001b[0m\u001b[0;34m\u001b[0m\u001b[0;34m\u001b[0m\u001b[0m\n\u001b[1;32m   3654\u001b[0m         \u001b[0;32mexcept\u001b[0m \u001b[0mKeyError\u001b[0m \u001b[0;32mas\u001b[0m \u001b[0merr\u001b[0m\u001b[0;34m:\u001b[0m\u001b[0;34m\u001b[0m\u001b[0;34m\u001b[0m\u001b[0m\n\u001b[0;32m-> 3655\u001b[0;31m             \u001b[0;32mraise\u001b[0m \u001b[0mKeyError\u001b[0m\u001b[0;34m(\u001b[0m\u001b[0mkey\u001b[0m\u001b[0;34m)\u001b[0m \u001b[0;32mfrom\u001b[0m \u001b[0merr\u001b[0m\u001b[0;34m\u001b[0m\u001b[0;34m\u001b[0m\u001b[0m\n\u001b[0m\u001b[1;32m   3656\u001b[0m         \u001b[0;32mexcept\u001b[0m \u001b[0mTypeError\u001b[0m\u001b[0;34m:\u001b[0m\u001b[0;34m\u001b[0m\u001b[0;34m\u001b[0m\u001b[0m\n\u001b[1;32m   3657\u001b[0m             \u001b[0;31m# If we have a listlike key, _check_indexing_error will raise\u001b[0m\u001b[0;34m\u001b[0m\u001b[0;34m\u001b[0m\u001b[0m\n",
            "\u001b[0;31mKeyError\u001b[0m: 'status'"
          ]
        }
      ]
    },
    {
      "cell_type": "code",
      "source": [
        "df['status'].value_counts()"
      ],
      "metadata": {
        "colab": {
          "base_uri": "https://localhost:8080/"
        },
        "id": "aGopTurltwQ7",
        "outputId": "5361c3c8-86c5-4a62-ce58-bb0efdd862fd"
      },
      "execution_count": null,
      "outputs": [
        {
          "output_type": "execute_result",
          "data": {
            "text/plain": [
              "status\n",
              "Placed        148\n",
              "Not Placed     67\n",
              "Name: count, dtype: int64"
            ]
          },
          "metadata": {},
          "execution_count": 22
        }
      ]
    },
    {
      "cell_type": "code",
      "source": [
        "df.describe(percentiles=[.25, .50, .75], include=None, exclude=None).T"
      ],
      "metadata": {
        "colab": {
          "base_uri": "https://localhost:8080/",
          "height": 206
        },
        "id": "Mtr4ltHnCnF4",
        "outputId": "053461c5-7b23-45a5-f521-decc461f332c"
      },
      "execution_count": null,
      "outputs": [
        {
          "output_type": "execute_result",
          "data": {
            "text/plain": [
              "          count  mean   std   min   25%   50%   75%   max\n",
              "ssc_p    215.00 67.30 10.83 40.89 60.60 67.00 75.70 89.40\n",
              "hsc_p    215.00 66.33 10.90 37.00 60.90 65.00 73.00 97.70\n",
              "degree_p 215.00 66.37  7.36 50.00 61.00 66.00 72.00 91.00\n",
              "etest_p  215.00 72.10 13.28 50.00 60.00 71.00 83.50 98.00\n",
              "mba_p    215.00 62.28  5.83 51.21 57.95 62.00 66.25 77.89"
            ],
            "text/html": [
              "\n",
              "  <div id=\"df-354239b4-897e-4099-8f65-9279bc559d68\" class=\"colab-df-container\">\n",
              "    <div>\n",
              "<style scoped>\n",
              "    .dataframe tbody tr th:only-of-type {\n",
              "        vertical-align: middle;\n",
              "    }\n",
              "\n",
              "    .dataframe tbody tr th {\n",
              "        vertical-align: top;\n",
              "    }\n",
              "\n",
              "    .dataframe thead th {\n",
              "        text-align: right;\n",
              "    }\n",
              "</style>\n",
              "<table border=\"1\" class=\"dataframe\">\n",
              "  <thead>\n",
              "    <tr style=\"text-align: right;\">\n",
              "      <th></th>\n",
              "      <th>count</th>\n",
              "      <th>mean</th>\n",
              "      <th>std</th>\n",
              "      <th>min</th>\n",
              "      <th>25%</th>\n",
              "      <th>50%</th>\n",
              "      <th>75%</th>\n",
              "      <th>max</th>\n",
              "    </tr>\n",
              "  </thead>\n",
              "  <tbody>\n",
              "    <tr>\n",
              "      <th>ssc_p</th>\n",
              "      <td>215.00</td>\n",
              "      <td>67.30</td>\n",
              "      <td>10.83</td>\n",
              "      <td>40.89</td>\n",
              "      <td>60.60</td>\n",
              "      <td>67.00</td>\n",
              "      <td>75.70</td>\n",
              "      <td>89.40</td>\n",
              "    </tr>\n",
              "    <tr>\n",
              "      <th>hsc_p</th>\n",
              "      <td>215.00</td>\n",
              "      <td>66.33</td>\n",
              "      <td>10.90</td>\n",
              "      <td>37.00</td>\n",
              "      <td>60.90</td>\n",
              "      <td>65.00</td>\n",
              "      <td>73.00</td>\n",
              "      <td>97.70</td>\n",
              "    </tr>\n",
              "    <tr>\n",
              "      <th>degree_p</th>\n",
              "      <td>215.00</td>\n",
              "      <td>66.37</td>\n",
              "      <td>7.36</td>\n",
              "      <td>50.00</td>\n",
              "      <td>61.00</td>\n",
              "      <td>66.00</td>\n",
              "      <td>72.00</td>\n",
              "      <td>91.00</td>\n",
              "    </tr>\n",
              "    <tr>\n",
              "      <th>etest_p</th>\n",
              "      <td>215.00</td>\n",
              "      <td>72.10</td>\n",
              "      <td>13.28</td>\n",
              "      <td>50.00</td>\n",
              "      <td>60.00</td>\n",
              "      <td>71.00</td>\n",
              "      <td>83.50</td>\n",
              "      <td>98.00</td>\n",
              "    </tr>\n",
              "    <tr>\n",
              "      <th>mba_p</th>\n",
              "      <td>215.00</td>\n",
              "      <td>62.28</td>\n",
              "      <td>5.83</td>\n",
              "      <td>51.21</td>\n",
              "      <td>57.95</td>\n",
              "      <td>62.00</td>\n",
              "      <td>66.25</td>\n",
              "      <td>77.89</td>\n",
              "    </tr>\n",
              "  </tbody>\n",
              "</table>\n",
              "</div>\n",
              "    <div class=\"colab-df-buttons\">\n",
              "\n",
              "  <div class=\"colab-df-container\">\n",
              "    <button class=\"colab-df-convert\" onclick=\"convertToInteractive('df-354239b4-897e-4099-8f65-9279bc559d68')\"\n",
              "            title=\"Convert this dataframe to an interactive table.\"\n",
              "            style=\"display:none;\">\n",
              "\n",
              "  <svg xmlns=\"http://www.w3.org/2000/svg\" height=\"24px\" viewBox=\"0 -960 960 960\">\n",
              "    <path d=\"M120-120v-720h720v720H120Zm60-500h600v-160H180v160Zm220 220h160v-160H400v160Zm0 220h160v-160H400v160ZM180-400h160v-160H180v160Zm440 0h160v-160H620v160ZM180-180h160v-160H180v160Zm440 0h160v-160H620v160Z\"/>\n",
              "  </svg>\n",
              "    </button>\n",
              "\n",
              "  <style>\n",
              "    .colab-df-container {\n",
              "      display:flex;\n",
              "      gap: 12px;\n",
              "    }\n",
              "\n",
              "    .colab-df-convert {\n",
              "      background-color: #E8F0FE;\n",
              "      border: none;\n",
              "      border-radius: 50%;\n",
              "      cursor: pointer;\n",
              "      display: none;\n",
              "      fill: #1967D2;\n",
              "      height: 32px;\n",
              "      padding: 0 0 0 0;\n",
              "      width: 32px;\n",
              "    }\n",
              "\n",
              "    .colab-df-convert:hover {\n",
              "      background-color: #E2EBFA;\n",
              "      box-shadow: 0px 1px 2px rgba(60, 64, 67, 0.3), 0px 1px 3px 1px rgba(60, 64, 67, 0.15);\n",
              "      fill: #174EA6;\n",
              "    }\n",
              "\n",
              "    .colab-df-buttons div {\n",
              "      margin-bottom: 4px;\n",
              "    }\n",
              "\n",
              "    [theme=dark] .colab-df-convert {\n",
              "      background-color: #3B4455;\n",
              "      fill: #D2E3FC;\n",
              "    }\n",
              "\n",
              "    [theme=dark] .colab-df-convert:hover {\n",
              "      background-color: #434B5C;\n",
              "      box-shadow: 0px 1px 3px 1px rgba(0, 0, 0, 0.15);\n",
              "      filter: drop-shadow(0px 1px 2px rgba(0, 0, 0, 0.3));\n",
              "      fill: #FFFFFF;\n",
              "    }\n",
              "  </style>\n",
              "\n",
              "    <script>\n",
              "      const buttonEl =\n",
              "        document.querySelector('#df-354239b4-897e-4099-8f65-9279bc559d68 button.colab-df-convert');\n",
              "      buttonEl.style.display =\n",
              "        google.colab.kernel.accessAllowed ? 'block' : 'none';\n",
              "\n",
              "      async function convertToInteractive(key) {\n",
              "        const element = document.querySelector('#df-354239b4-897e-4099-8f65-9279bc559d68');\n",
              "        const dataTable =\n",
              "          await google.colab.kernel.invokeFunction('convertToInteractive',\n",
              "                                                    [key], {});\n",
              "        if (!dataTable) return;\n",
              "\n",
              "        const docLinkHtml = 'Like what you see? Visit the ' +\n",
              "          '<a target=\"_blank\" href=https://colab.research.google.com/notebooks/data_table.ipynb>data table notebook</a>'\n",
              "          + ' to learn more about interactive tables.';\n",
              "        element.innerHTML = '';\n",
              "        dataTable['output_type'] = 'display_data';\n",
              "        await google.colab.output.renderOutput(dataTable, element);\n",
              "        const docLink = document.createElement('div');\n",
              "        docLink.innerHTML = docLinkHtml;\n",
              "        element.appendChild(docLink);\n",
              "      }\n",
              "    </script>\n",
              "  </div>\n",
              "\n",
              "\n",
              "<div id=\"df-9743e4e5-5102-419a-8037-e0cb0e40de59\">\n",
              "  <button class=\"colab-df-quickchart\" onclick=\"quickchart('df-9743e4e5-5102-419a-8037-e0cb0e40de59')\"\n",
              "            title=\"Suggest charts\"\n",
              "            style=\"display:none;\">\n",
              "\n",
              "<svg xmlns=\"http://www.w3.org/2000/svg\" height=\"24px\"viewBox=\"0 0 24 24\"\n",
              "     width=\"24px\">\n",
              "    <g>\n",
              "        <path d=\"M19 3H5c-1.1 0-2 .9-2 2v14c0 1.1.9 2 2 2h14c1.1 0 2-.9 2-2V5c0-1.1-.9-2-2-2zM9 17H7v-7h2v7zm4 0h-2V7h2v10zm4 0h-2v-4h2v4z\"/>\n",
              "    </g>\n",
              "</svg>\n",
              "  </button>\n",
              "\n",
              "<style>\n",
              "  .colab-df-quickchart {\n",
              "      --bg-color: #E8F0FE;\n",
              "      --fill-color: #1967D2;\n",
              "      --hover-bg-color: #E2EBFA;\n",
              "      --hover-fill-color: #174EA6;\n",
              "      --disabled-fill-color: #AAA;\n",
              "      --disabled-bg-color: #DDD;\n",
              "  }\n",
              "\n",
              "  [theme=dark] .colab-df-quickchart {\n",
              "      --bg-color: #3B4455;\n",
              "      --fill-color: #D2E3FC;\n",
              "      --hover-bg-color: #434B5C;\n",
              "      --hover-fill-color: #FFFFFF;\n",
              "      --disabled-bg-color: #3B4455;\n",
              "      --disabled-fill-color: #666;\n",
              "  }\n",
              "\n",
              "  .colab-df-quickchart {\n",
              "    background-color: var(--bg-color);\n",
              "    border: none;\n",
              "    border-radius: 50%;\n",
              "    cursor: pointer;\n",
              "    display: none;\n",
              "    fill: var(--fill-color);\n",
              "    height: 32px;\n",
              "    padding: 0;\n",
              "    width: 32px;\n",
              "  }\n",
              "\n",
              "  .colab-df-quickchart:hover {\n",
              "    background-color: var(--hover-bg-color);\n",
              "    box-shadow: 0 1px 2px rgba(60, 64, 67, 0.3), 0 1px 3px 1px rgba(60, 64, 67, 0.15);\n",
              "    fill: var(--button-hover-fill-color);\n",
              "  }\n",
              "\n",
              "  .colab-df-quickchart-complete:disabled,\n",
              "  .colab-df-quickchart-complete:disabled:hover {\n",
              "    background-color: var(--disabled-bg-color);\n",
              "    fill: var(--disabled-fill-color);\n",
              "    box-shadow: none;\n",
              "  }\n",
              "\n",
              "  .colab-df-spinner {\n",
              "    border: 2px solid var(--fill-color);\n",
              "    border-color: transparent;\n",
              "    border-bottom-color: var(--fill-color);\n",
              "    animation:\n",
              "      spin 1s steps(1) infinite;\n",
              "  }\n",
              "\n",
              "  @keyframes spin {\n",
              "    0% {\n",
              "      border-color: transparent;\n",
              "      border-bottom-color: var(--fill-color);\n",
              "      border-left-color: var(--fill-color);\n",
              "    }\n",
              "    20% {\n",
              "      border-color: transparent;\n",
              "      border-left-color: var(--fill-color);\n",
              "      border-top-color: var(--fill-color);\n",
              "    }\n",
              "    30% {\n",
              "      border-color: transparent;\n",
              "      border-left-color: var(--fill-color);\n",
              "      border-top-color: var(--fill-color);\n",
              "      border-right-color: var(--fill-color);\n",
              "    }\n",
              "    40% {\n",
              "      border-color: transparent;\n",
              "      border-right-color: var(--fill-color);\n",
              "      border-top-color: var(--fill-color);\n",
              "    }\n",
              "    60% {\n",
              "      border-color: transparent;\n",
              "      border-right-color: var(--fill-color);\n",
              "    }\n",
              "    80% {\n",
              "      border-color: transparent;\n",
              "      border-right-color: var(--fill-color);\n",
              "      border-bottom-color: var(--fill-color);\n",
              "    }\n",
              "    90% {\n",
              "      border-color: transparent;\n",
              "      border-bottom-color: var(--fill-color);\n",
              "    }\n",
              "  }\n",
              "</style>\n",
              "\n",
              "  <script>\n",
              "    async function quickchart(key) {\n",
              "      const quickchartButtonEl =\n",
              "        document.querySelector('#' + key + ' button');\n",
              "      quickchartButtonEl.disabled = true;  // To prevent multiple clicks.\n",
              "      quickchartButtonEl.classList.add('colab-df-spinner');\n",
              "      try {\n",
              "        const charts = await google.colab.kernel.invokeFunction(\n",
              "            'suggestCharts', [key], {});\n",
              "      } catch (error) {\n",
              "        console.error('Error during call to suggestCharts:', error);\n",
              "      }\n",
              "      quickchartButtonEl.classList.remove('colab-df-spinner');\n",
              "      quickchartButtonEl.classList.add('colab-df-quickchart-complete');\n",
              "    }\n",
              "    (() => {\n",
              "      let quickchartButtonEl =\n",
              "        document.querySelector('#df-9743e4e5-5102-419a-8037-e0cb0e40de59 button');\n",
              "      quickchartButtonEl.style.display =\n",
              "        google.colab.kernel.accessAllowed ? 'block' : 'none';\n",
              "    })();\n",
              "  </script>\n",
              "</div>\n",
              "\n",
              "    </div>\n",
              "  </div>\n"
            ],
            "application/vnd.google.colaboratory.intrinsic+json": {
              "type": "dataframe",
              "summary": "{\n  \"name\": \"df\",\n  \"rows\": 5,\n  \"fields\": [\n    {\n      \"column\": \"count\",\n      \"properties\": {\n        \"dtype\": \"number\",\n        \"std\": 0.0,\n        \"min\": 215.0,\n        \"max\": 215.0,\n        \"num_unique_values\": 1,\n        \"samples\": [\n          215.0\n        ],\n        \"semantic_type\": \"\",\n        \"description\": \"\"\n      }\n    },\n    {\n      \"column\": \"mean\",\n      \"properties\": {\n        \"dtype\": \"number\",\n        \"std\": 3.5060334302235763,\n        \"min\": 62.278186046511635,\n        \"max\": 72.10055813953488,\n        \"num_unique_values\": 5,\n        \"samples\": [\n          66.33316279069768\n        ],\n        \"semantic_type\": \"\",\n        \"description\": \"\"\n      }\n    },\n    {\n      \"column\": \"std\",\n      \"properties\": {\n        \"dtype\": \"number\",\n        \"std\": 2.996056060130253,\n        \"min\": 5.833384580683801,\n        \"max\": 13.275956401653833,\n        \"num_unique_values\": 5,\n        \"samples\": [\n          10.89750915750298\n        ],\n        \"semantic_type\": \"\",\n        \"description\": \"\"\n      }\n    },\n    {\n      \"column\": \"min\",\n      \"properties\": {\n        \"dtype\": \"number\",\n        \"std\": 6.443876938613895,\n        \"min\": 37.0,\n        \"max\": 51.21,\n        \"num_unique_values\": 4,\n        \"samples\": [\n          37.0\n        ],\n        \"semantic_type\": \"\",\n        \"description\": \"\"\n      }\n    },\n    {\n      \"column\": \"25%\",\n      \"properties\": {\n        \"dtype\": \"number\",\n        \"std\": 1.2602995675632036,\n        \"min\": 57.945,\n        \"max\": 61.0,\n        \"num_unique_values\": 5,\n        \"samples\": [\n          60.9\n        ],\n        \"semantic_type\": \"\",\n        \"description\": \"\"\n      }\n    },\n    {\n      \"column\": \"50%\",\n      \"properties\": {\n        \"dtype\": \"number\",\n        \"std\": 3.2710854467592254,\n        \"min\": 62.0,\n        \"max\": 71.0,\n        \"num_unique_values\": 5,\n        \"samples\": [\n          65.0\n        ],\n        \"semantic_type\": \"\",\n        \"description\": \"\"\n      }\n    },\n    {\n      \"column\": \"75%\",\n      \"properties\": {\n        \"dtype\": \"number\",\n        \"std\": 6.286565437502422,\n        \"min\": 66.255,\n        \"max\": 83.5,\n        \"num_unique_values\": 5,\n        \"samples\": [\n          73.0\n        ],\n        \"semantic_type\": \"\",\n        \"description\": \"\"\n      }\n    },\n    {\n      \"column\": \"max\",\n      \"properties\": {\n        \"dtype\": \"number\",\n        \"std\": 8.187155794291446,\n        \"min\": 77.89,\n        \"max\": 98.0,\n        \"num_unique_values\": 5,\n        \"samples\": [\n          97.7\n        ],\n        \"semantic_type\": \"\",\n        \"description\": \"\"\n      }\n    }\n  ]\n}"
            }
          },
          "metadata": {},
          "execution_count": 23
        }
      ]
    },
    {
      "cell_type": "markdown",
      "metadata": {
        "id": "6y3Rvun175hM"
      },
      "source": [
        "- The car price ranges from 5118 to 45400 units.\n",
        "- The car weight ranges from 1488 to 4066 units.\n",
        "- The most common car make in the data is of Toyota."
      ]
    },
    {
      "cell_type": "markdown",
      "metadata": {
        "id": "_ZMHhyuU5IuO"
      },
      "source": [
        "## Histogram\n",
        "\n",
        "- A **histogram** is a univariate plot which helps us understand the distribution of a continuous numerical variable.\n",
        "- It breaks the range of the continuous variables into a intervals of equal length and then counts the number of observations in each interval.\n",
        "- We will use the *histplot()* function of seaborn to create histograms."
      ]
    },
    {
      "cell_type": "code",
      "source": [
        "sns.histplot(x='etest_p', data=df)"
      ],
      "metadata": {
        "colab": {
          "base_uri": "https://localhost:8080/",
          "height": 467
        },
        "id": "QimE8V2Bt8pk",
        "outputId": "0108fa03-b95b-4b78-dfb2-9c8f29f07b4c"
      },
      "execution_count": null,
      "outputs": [
        {
          "output_type": "execute_result",
          "data": {
            "text/plain": [
              "<Axes: xlabel='etest_p', ylabel='Count'>"
            ]
          },
          "metadata": {},
          "execution_count": 24
        },
        {
          "output_type": "display_data",
          "data": {
            "text/plain": [
              "<Figure size 640x480 with 1 Axes>"
            ],
            "image/png": "[encoded data removed]"
          },
          "metadata": {}
        }
      ]
    },
    {
      "cell_type": "code",
      "execution_count": null,
      "metadata": {
        "id": "-Jwklh5X5IuP",
        "colab": {
          "base_uri": "https://localhost:8080/",
          "height": 450
        },
        "outputId": "bf4902c2-284a-40dc-f14a-5ef2887668ad"
      },
      "outputs": [
        {
          "output_type": "display_data",
          "data": {
            "text/plain": [
              "<Figure size 640x480 with 1 Axes>"
            ],
            "image/png": "[encoded data removed]"
          },
          "metadata": {}
        }
      ],
      "source": [
        "sns.histplot(data=df, x='hsc_s');"
      ]
    },
    {
      "cell_type": "markdown",
      "metadata": {
        "id": "Gka2S_UAwixj"
      },
      "source": [
        "**Let's see how we can customize a histogram.**"
      ]
    },
    {
      "cell_type": "code",
      "execution_count": null,
      "metadata": {
        "id": "JLJs-6TUwfQs",
        "colab": {
          "base_uri": "https://localhost:8080/",
          "height": 450
        },
        "outputId": "9c3decf4-f712-47ab-ad3d-c175d4575fc6"
      },
      "outputs": [
        {
          "output_type": "display_data",
          "data": {
            "text/plain": [
              "<Figure size 640x480 with 1 Axes>"
            ],
            "image/png": "[encoded data removed]"
          },
          "metadata": {}
        }
      ],
      "source": [
        "df = pd.read_csv('/content/drive/MyDrive/UAT AI MLGL/Python Foundations - Aug 23/Week 3: Python for Visualization/Placement_Data.csv') # Load the dataset\n",
        "\n",
        "sns.histplot(data=df, x='degree_p', hue='status', kde=True);"
      ]
    },
    {
      "cell_type": "markdown",
      "metadata": {
        "id": "bBA_Tspd5IuP"
      },
      "source": [
        "**We can specify the number of intervals (or groups or bins) to create by setting the *bins* parameter.**\n",
        "\n",
        "- If not specified it is passed to [numpy.histogram_bin_edges()](https://numpy.org/doc/stable/reference/generated/numpy.histogram_bin_edges.html#numpy.histogram_bin_edges)"
      ]
    },
    {
      "cell_type": "code",
      "execution_count": null,
      "metadata": {
        "id": "S7FUZDs65IuQ",
        "colab": {
          "base_uri": "https://localhost:8080/",
          "height": 450
        },
        "outputId": "37a3b0ac-10af-4da1-c5e3-f2779061542b"
      },
      "outputs": [
        {
          "output_type": "display_data",
          "data": {
            "text/plain": [
              "<Figure size 640x480 with 1 Axes>"
            ],
            "image/png": "[encoded data removed]"
          },
          "metadata": {}
        }
      ],
      "source": [
        "sns.histplot(data=df, x='degree_p', bins=20, color='orange');"
      ]
    },
    {
      "cell_type": "code",
      "execution_count": null,
      "metadata": {
        "id": "RxGGf9Kg5IuQ",
        "colab": {
          "base_uri": "https://localhost:8080/",
          "height": 450
        },
        "outputId": "fc491877-5c04-4e94-bfc6-56dab0c04991"
      },
      "outputs": [
        {
          "output_type": "display_data",
          "data": {
            "text/plain": [
              "<Figure size 640x480 with 1 Axes>"
            ],
            "image/png": "[encoded data removed]"
          },
          "metadata": {}
        }
      ],
      "source": [
        "sns.histplot(data=df, x='degree_p', binwidth = 10);"
      ]
    },
    {
      "cell_type": "markdown",
      "metadata": {
        "id": "TwjJdJKSeYng"
      },
      "source": [
        "**If we want to specify the width of the intervals (or groups or bins), we can use *binwidth* parameter.**"
      ]
    },
    {
      "cell_type": "code",
      "execution_count": null,
      "metadata": {
        "id": "iKR0iV6ZeYng"
      },
      "outputs": [],
      "source": []
    },
    {
      "cell_type": "code",
      "execution_count": null,
      "metadata": {
        "id": "WfzCaoTheYnh"
      },
      "outputs": [],
      "source": []
    },
    {
      "cell_type": "markdown",
      "metadata": {
        "id": "ykUoSGy7eYnh"
      },
      "source": [
        "**How to find the optimal number of bins: Rule of thumb**\n",
        "\n",
        "- We calculate the bin-width first, using the following formula: $$ binwidth =\\frac{(2 * IQR)}{\\sqrt[3]{n}} $$ where n = number of rows the dataset\n",
        "\n",
        "- Then, we obtain bins using the calculated bin-width. $$ bins =\\frac{Range}{binwidth} $$"
      ]
    },
    {
      "cell_type": "markdown",
      "metadata": {
        "id": "ho0PxE275IuR"
      },
      "source": [
        "**In addition to the bars, we can also add a density estimate by setting the *kde* parameter to *True*.**\n",
        "\n",
        "- **Kernel Density Estimation**, or **KDE**, visualizes the distribution of data over a continuous interval.\n",
        "- The conventional scale for KDE is: **Total frequency of each bin × Probability**"
      ]
    },
    {
      "cell_type": "code",
      "execution_count": null,
      "metadata": {
        "id": "mjny7GLv5IuR",
        "colab": {
          "base_uri": "https://localhost:8080/",
          "height": 450
        },
        "outputId": "c4a54078-e998-482d-c9f8-9615be75ad00"
      },
      "outputs": [
        {
          "output_type": "display_data",
          "data": {
            "text/plain": [
              "<Figure size 640x480 with 1 Axes>"
            ],
            "image/png": "[encoded data removed]"
          },
          "metadata": {}
        }
      ],
      "source": [
        "sns.histplot(data = df, x='degree_p', kde=True);"
      ]
    },
    {
      "cell_type": "code",
      "execution_count": null,
      "metadata": {
        "id": "hr_E-_lv5IuS"
      },
      "outputs": [],
      "source": [
        "sns.histplot(data=df, x='price', bins=700, kde=True);"
      ]
    },
    {
      "cell_type": "markdown",
      "metadata": {
        "id": "K8odvDwSeYni"
      },
      "source": [
        "Clearly, if we increase the number of bins, it reduces the frequency count in each group (bin). Since the scale of KDE depends on the total frequency of each bin (group), the above code gives us a flattened KDE plot."
      ]
    },
    {
      "cell_type": "markdown",
      "metadata": {
        "id": "YrNe76c55IuS"
      },
      "source": [
        "**Let's check out the histograms for a few more attributes in the data.**"
      ]
    },
    {
      "cell_type": "code",
      "execution_count": null,
      "metadata": {
        "id": "lvkFthd_5IuS",
        "colab": {
          "base_uri": "https://localhost:8080/",
          "height": 292
        },
        "outputId": "4950f0ec-d00d-4f82-83b4-3ca563be98c7"
      },
      "outputs": [
        {
          "output_type": "error",
          "ename": "ValueError",
          "evalue": "Could not interpret value `curb_weight` for `x`. An entry with this name does not appear in `data`.",
          "traceback": [
            "\u001b[0;31m---------------------------------------------------------------------------\u001b[0m",
            "\u001b[0;31mValueError\u001b[0m                                Traceback (most recent call last)",
            "\u001b[0;32m<ipython-input-33-a32839c65198>\u001b[0m in \u001b[0;36m<cell line: 1>\u001b[0;34m()\u001b[0m\n\u001b[0;32m----> 1\u001b[0;31m \u001b[0msns\u001b[0m\u001b[0;34m.\u001b[0m\u001b[0mhistplot\u001b[0m\u001b[0;34m(\u001b[0m\u001b[0mdata\u001b[0m\u001b[0;34m=\u001b[0m\u001b[0mdf\u001b[0m\u001b[0;34m,\u001b[0m \u001b[0mx\u001b[0m\u001b[0;34m=\u001b[0m\u001b[0;34m'curb_weight'\u001b[0m\u001b[0;34m,\u001b[0m \u001b[0mkde\u001b[0m\u001b[0;34m=\u001b[0m\u001b[0;32mTrue\u001b[0m\u001b[0;34m)\u001b[0m\u001b[0;34m;\u001b[0m\u001b[0;34m\u001b[0m\u001b[0;34m\u001b[0m\u001b[0m\n\u001b[0m",
            "\u001b[0;32m/usr/local/lib/python3.10/dist-packages/seaborn/distributions.py\u001b[0m in \u001b[0;36mhistplot\u001b[0;34m(data, x, y, hue, weights, stat, bins, binwidth, binrange, discrete, cumulative, common_bins, common_norm, multiple, element, fill, shrink, kde, kde_kws, line_kws, thresh, pthresh, pmax, cbar, cbar_ax, cbar_kws, palette, hue_order, hue_norm, color, log_scale, legend, ax, **kwargs)\u001b[0m\n\u001b[1;32m   1377\u001b[0m ):\n\u001b[1;32m   1378\u001b[0m \u001b[0;34m\u001b[0m\u001b[0m\n\u001b[0;32m-> 1379\u001b[0;31m     p = _DistributionPlotter(\n\u001b[0m\u001b[1;32m   1380\u001b[0m         \u001b[0mdata\u001b[0m\u001b[0;34m=\u001b[0m\u001b[0mdata\u001b[0m\u001b[0;34m,\u001b[0m\u001b[0;34m\u001b[0m\u001b[0;34m\u001b[0m\u001b[0m\n\u001b[1;32m   1381\u001b[0m         \u001b[0mvariables\u001b[0m\u001b[0;34m=\u001b[0m\u001b[0mdict\u001b[0m\u001b[0;34m(\u001b[0m\u001b[0mx\u001b[0m\u001b[0;34m=\u001b[0m\u001b[0mx\u001b[0m\u001b[0;34m,\u001b[0m \u001b[0my\u001b[0m\u001b[0;34m=\u001b[0m\u001b[0my\u001b[0m\u001b[0;34m,\u001b[0m \u001b[0mhue\u001b[0m\u001b[0;34m=\u001b[0m\u001b[0mhue\u001b[0m\u001b[0;34m,\u001b[0m \u001b[0mweights\u001b[0m\u001b[0;34m=\u001b[0m\u001b[0mweights\u001b[0m\u001b[0;34m)\u001b[0m\u001b[0;34m,\u001b[0m\u001b[0;34m\u001b[0m\u001b[0;34m\u001b[0m\u001b[0m\n",
            "\u001b[0;32m/usr/local/lib/python3.10/dist-packages/seaborn/distributions.py\u001b[0m in \u001b[0;36m__init__\u001b[0;34m(self, data, variables)\u001b[0m\n\u001b[1;32m    108\u001b[0m     ):\n\u001b[1;32m    109\u001b[0m \u001b[0;34m\u001b[0m\u001b[0m\n\u001b[0;32m--> 110\u001b[0;31m         \u001b[0msuper\u001b[0m\u001b[0;34m(\u001b[0m\u001b[0;34m)\u001b[0m\u001b[0;34m.\u001b[0m\u001b[0m__init__\u001b[0m\u001b[0;34m(\u001b[0m\u001b[0mdata\u001b[0m\u001b[0;34m=\u001b[0m\u001b[0mdata\u001b[0m\u001b[0;34m,\u001b[0m \u001b[0mvariables\u001b[0m\u001b[0;34m=\u001b[0m\u001b[0mvariables\u001b[0m\u001b[0;34m)\u001b[0m\u001b[0;34m\u001b[0m\u001b[0;34m\u001b[0m\u001b[0m\n\u001b[0m\u001b[1;32m    111\u001b[0m \u001b[0;34m\u001b[0m\u001b[0m\n\u001b[1;32m    112\u001b[0m     \u001b[0;34m@\u001b[0m\u001b[0mproperty\u001b[0m\u001b[0;34m\u001b[0m\u001b[0;34m\u001b[0m\u001b[0m\n",
            "\u001b[0;32m/usr/local/lib/python3.10/dist-packages/seaborn/_base.py\u001b[0m in \u001b[0;36m__init__\u001b[0;34m(self, data, variables)\u001b[0m\n\u001b[1;32m    632\u001b[0m         \u001b[0;31m# information for numeric axes would be information about log scales.\u001b[0m\u001b[0;34m\u001b[0m\u001b[0;34m\u001b[0m\u001b[0m\n\u001b[1;32m    633\u001b[0m         \u001b[0mself\u001b[0m\u001b[0;34m.\u001b[0m\u001b[0m_var_ordered\u001b[0m \u001b[0;34m=\u001b[0m \u001b[0;34m{\u001b[0m\u001b[0;34m\"x\"\u001b[0m\u001b[0;34m:\u001b[0m \u001b[0;32mFalse\u001b[0m\u001b[0;34m,\u001b[0m \u001b[0;34m\"y\"\u001b[0m\u001b[0;34m:\u001b[0m \u001b[0;32mFalse\u001b[0m\u001b[0;34m}\u001b[0m  \u001b[0;31m# alt., used DefaultDict\u001b[0m\u001b[0;34m\u001b[0m\u001b[0;34m\u001b[0m\u001b[0m\n\u001b[0;32m--> 634\u001b[0;31m         \u001b[0mself\u001b[0m\u001b[0;34m.\u001b[0m\u001b[0massign_variables\u001b[0m\u001b[0;34m(\u001b[0m\u001b[0mdata\u001b[0m\u001b[0;34m,\u001b[0m \u001b[0mvariables\u001b[0m\u001b[0;34m)\u001b[0m\u001b[0;34m\u001b[0m\u001b[0;34m\u001b[0m\u001b[0m\n\u001b[0m\u001b[1;32m    635\u001b[0m \u001b[0;34m\u001b[0m\u001b[0m\n\u001b[1;32m    636\u001b[0m         \u001b[0;31m# TODO Lots of tests assume that these are called to initialize the\u001b[0m\u001b[0;34m\u001b[0m\u001b[0;34m\u001b[0m\u001b[0m\n",
            "\u001b[0;32m/usr/local/lib/python3.10/dist-packages/seaborn/_base.py\u001b[0m in \u001b[0;36massign_variables\u001b[0;34m(self, data, variables)\u001b[0m\n\u001b[1;32m    677\u001b[0m             \u001b[0;31m# to centralize / standardize data consumption logic.\u001b[0m\u001b[0;34m\u001b[0m\u001b[0;34m\u001b[0m\u001b[0m\n\u001b[1;32m    678\u001b[0m             \u001b[0mself\u001b[0m\u001b[0;34m.\u001b[0m\u001b[0minput_format\u001b[0m \u001b[0;34m=\u001b[0m \u001b[0;34m\"long\"\u001b[0m\u001b[0;34m\u001b[0m\u001b[0;34m\u001b[0m\u001b[0m\n\u001b[0;32m--> 679\u001b[0;31m             \u001b[0mplot_data\u001b[0m \u001b[0;34m=\u001b[0m \u001b[0mPlotData\u001b[0m\u001b[0;34m(\u001b[0m\u001b[0mdata\u001b[0m\u001b[0;34m,\u001b[0m \u001b[0mvariables\u001b[0m\u001b[0;34m)\u001b[0m\u001b[0;34m\u001b[0m\u001b[0;34m\u001b[0m\u001b[0m\n\u001b[0m\u001b[1;32m    680\u001b[0m             \u001b[0mframe\u001b[0m \u001b[0;34m=\u001b[0m \u001b[0mplot_data\u001b[0m\u001b[0;34m.\u001b[0m\u001b[0mframe\u001b[0m\u001b[0;34m\u001b[0m\u001b[0;34m\u001b[0m\u001b[0m\n\u001b[1;32m    681\u001b[0m             \u001b[0mnames\u001b[0m \u001b[0;34m=\u001b[0m \u001b[0mplot_data\u001b[0m\u001b[0;34m.\u001b[0m\u001b[0mnames\u001b[0m\u001b[0;34m\u001b[0m\u001b[0;34m\u001b[0m\u001b[0m\n",
            "\u001b[0;32m/usr/local/lib/python3.10/dist-packages/seaborn/_core/data.py\u001b[0m in \u001b[0;36m__init__\u001b[0;34m(self, data, variables)\u001b[0m\n\u001b[1;32m     56\u001b[0m \u001b[0;34m\u001b[0m\u001b[0m\n\u001b[1;32m     57\u001b[0m         \u001b[0mdata\u001b[0m \u001b[0;34m=\u001b[0m \u001b[0mhandle_data_source\u001b[0m\u001b[0;34m(\u001b[0m\u001b[0mdata\u001b[0m\u001b[0;34m)\u001b[0m\u001b[0;34m\u001b[0m\u001b[0;34m\u001b[0m\u001b[0m\n\u001b[0;32m---> 58\u001b[0;31m         \u001b[0mframe\u001b[0m\u001b[0;34m,\u001b[0m \u001b[0mnames\u001b[0m\u001b[0;34m,\u001b[0m \u001b[0mids\u001b[0m \u001b[0;34m=\u001b[0m \u001b[0mself\u001b[0m\u001b[0;34m.\u001b[0m\u001b[0m_assign_variables\u001b[0m\u001b[0;34m(\u001b[0m\u001b[0mdata\u001b[0m\u001b[0;34m,\u001b[0m \u001b[0mvariables\u001b[0m\u001b[0;34m)\u001b[0m\u001b[0;34m\u001b[0m\u001b[0;34m\u001b[0m\u001b[0m\n\u001b[0m\u001b[1;32m     59\u001b[0m \u001b[0;34m\u001b[0m\u001b[0m\n\u001b[1;32m     60\u001b[0m         \u001b[0mself\u001b[0m\u001b[0;34m.\u001b[0m\u001b[0mframe\u001b[0m \u001b[0;34m=\u001b[0m \u001b[0mframe\u001b[0m\u001b[0;34m\u001b[0m\u001b[0;34m\u001b[0m\u001b[0m\n",
            "\u001b[0;32m/usr/local/lib/python3.10/dist-packages/seaborn/_core/data.py\u001b[0m in \u001b[0;36m_assign_variables\u001b[0;34m(self, data, variables)\u001b[0m\n\u001b[1;32m    230\u001b[0m                 \u001b[0;32melse\u001b[0m\u001b[0;34m:\u001b[0m\u001b[0;34m\u001b[0m\u001b[0;34m\u001b[0m\u001b[0m\n\u001b[1;32m    231\u001b[0m                     \u001b[0merr\u001b[0m \u001b[0;34m+=\u001b[0m \u001b[0;34m\"An entry with this name does not appear in `data`.\"\u001b[0m\u001b[0;34m\u001b[0m\u001b[0;34m\u001b[0m\u001b[0m\n\u001b[0;32m--> 232\u001b[0;31m                 \u001b[0;32mraise\u001b[0m \u001b[0mValueError\u001b[0m\u001b[0;34m(\u001b[0m\u001b[0merr\u001b[0m\u001b[0;34m)\u001b[0m\u001b[0;34m\u001b[0m\u001b[0;34m\u001b[0m\u001b[0m\n\u001b[0m\u001b[1;32m    233\u001b[0m \u001b[0;34m\u001b[0m\u001b[0m\n\u001b[1;32m    234\u001b[0m             \u001b[0;32melse\u001b[0m\u001b[0;34m:\u001b[0m\u001b[0;34m\u001b[0m\u001b[0;34m\u001b[0m\u001b[0m\n",
            "\u001b[0;31mValueError\u001b[0m: Could not interpret value `curb_weight` for `x`. An entry with this name does not appear in `data`."
          ]
        }
      ],
      "source": [
        "sns.histplot(data=df, x='curb_weight', kde=True);"
      ]
    },
    {
      "cell_type": "markdown",
      "metadata": {
        "id": "hU64jtH-eYnj"
      },
      "source": [
        "- A histogram is said to be **symmetric** if the left-hand and right-hand sides resemble mirror images of each other when the histogram is cut down the middle."
      ]
    },
    {
      "cell_type": "code",
      "execution_count": null,
      "metadata": {
        "id": "EPGmJKGO5IuS"
      },
      "outputs": [],
      "source": [
        "sns.histplot(data=df, x='horsepower', kde=True);"
      ]
    },
    {
      "cell_type": "markdown",
      "metadata": {
        "id": "T2Nu0xFSeYnj"
      },
      "source": [
        "- The tallest clusters of bars, i.e., peaks, in a histogram represent the **modes** of the data.\n",
        "- A histogram **skewed to the right** has a large number of occurrences on the left side of the plot and a few on the right side of the plot.\n",
        "- Similarly, a histogram **skewed to the left** has a large number of occurrences on the right side of the plot and few on the left side of the plot."
      ]
    },
    {
      "cell_type": "markdown",
      "metadata": {
        "id": "CVpitoKleYnk"
      },
      "source": [
        "**Histograms are intuitive but it is hardly a good choice when we want to compare the distributions of several groups. For example,**"
      ]
    },
    {
      "cell_type": "code",
      "execution_count": null,
      "metadata": {
        "id": "U8G-kAWGeYnk"
      },
      "outputs": [],
      "source": [
        "sn = sns.histplot(data=df, x='price', hue='body_style', kde=True);\n"
      ]
    },
    {
      "cell_type": "markdown",
      "metadata": {
        "id": "KcZRBLmN--tA"
      },
      "source": [
        "It might be better to use subplots!"
      ]
    },
    {
      "cell_type": "code",
      "execution_count": null,
      "metadata": {
        "id": "z1Z1dl-6BVMA"
      },
      "outputs": [],
      "source": [
        "g = sns.FacetGrid(df, col=\"body_style\")\n",
        "g.map(sns.histplot, 'price',kde = True);"
      ]
    },
    {
      "cell_type": "markdown",
      "metadata": {
        "id": "fzYXN1-a75hP"
      },
      "source": [
        "In such cases, we can use **boxplots**. Boxplots, or box-and-whiskers plots, are an excellent way to visualize differences among groups."
      ]
    },
    {
      "cell_type": "markdown",
      "metadata": {
        "id": "vEInLWSo5IuU"
      },
      "source": [
        "## Boxplot\n",
        "\n",
        "- A **boxplot**, or a **box-and-whisker plot**, shows the distribution of numerical data and skewness through displaying the data quartiles\n",
        "- It is also called a **five-number summary plot**, where the five-number summary includes the minimum value, first quartile, median, third quartile, and the maximum value.\n",
        "- The *boxplot()* function of seaborn can be used to create a boxplot."
      ]
    },
    {
      "cell_type": "code",
      "execution_count": null,
      "metadata": {
        "id": "YU3g9wFTeYnu"
      },
      "outputs": [],
      "source": [
        "#Image('/content/drive/MyDrive/Great Learning - UAT AI ML/M1 - Aug 23 - Sep 2023/Week 3: Python for Visualization/boxplot.png')\n",
        "from IPython.display import Image\n",
        "Image('/content/drive/MyDrive/Great Learning - UAT AI ML/M1 - Aug 23 - Sep 2023/Week 3: Python for Visualization/boxplot.png')"
      ]
    },
    {
      "cell_type": "code",
      "execution_count": null,
      "metadata": {
        "id": "0KpRGUH15IuU"
      },
      "outputs": [],
      "source": [
        "# creating a boxplot with seaborn\n",
        "sns.boxplot(data=df, x='degree_p');"
      ]
    },
    {
      "cell_type": "markdown",
      "metadata": {
        "id": "EKK6WXds9hWw"
      },
      "source": [
        "**Let's see how we can customize a boxplot.**"
      ]
    },
    {
      "cell_type": "code",
      "execution_count": null,
      "metadata": {
        "id": "-mQ93PiW9m0r"
      },
      "outputs": [],
      "source": [
        "plt.title('Boxplot: Horsepower')\n",
        "plt.xlim(30,300)\n",
        "plt.xlabel('Horsepower')\n",
        "sns.axes_style('whitegrid')\n",
        "sns.boxplot(data=df, x='degree_p', color='green');"
      ]
    },
    {
      "cell_type": "markdown",
      "metadata": {
        "id": "0gNIxAvL-tJ-"
      },
      "source": [
        "- In a boxplot, when the median is closer to the left of the box and the whisker is shorter on the left end of the box, we say that the distribution is **positively skewed (skewed right)**.\n",
        "- Similarly, when the median is closer to the right of the box and the whisker is shorter on the right end of the box, we say that the distribution is **negatively skewed (skewed left)**."
      ]
    },
    {
      "cell_type": "code",
      "execution_count": null,
      "metadata": {
        "id": "rh73sV5iBdnB"
      },
      "outputs": [],
      "source": [
        "\n",
        "#Image('/location on your computer/skew_box.png')\n",
        "Image('/content/drive/MyDrive/Great Learning - UAT AI ML/M1 - Aug 23 - Sep 2023/Week 3: Python for Visualization/skew_box.png')"
      ]
    },
    {
      "cell_type": "markdown",
      "metadata": {
        "id": "8eLH2ULT5vo9"
      },
      "source": [
        "**For example,**"
      ]
    },
    {
      "cell_type": "code",
      "execution_count": null,
      "metadata": {
        "id": "-5Ta38rV5IuU"
      },
      "outputs": [],
      "source": [
        "sns.boxplot(data=df, x='price');"
      ]
    },
    {
      "cell_type": "markdown",
      "metadata": {
        "id": "rP4KARhjBnn4"
      },
      "source": [
        "From the above plot, we can see that the distribution of `price` is positively skewed."
      ]
    },
    {
      "cell_type": "markdown",
      "metadata": {
        "id": "WV0AVUY1Ho5q"
      },
      "source": [
        "**Let's see how we can compare groups with boxplots.**"
      ]
    },
    {
      "cell_type": "code",
      "execution_count": null,
      "metadata": {
        "id": "qsuosVXAIBjO"
      },
      "outputs": [],
      "source": [
        "plt.figure(figsize=(10,7))\n",
        "sns.boxplot(data = df, x='degree_p', hue='hsc_p');"
      ]
    },
    {
      "cell_type": "code",
      "source": [
        "df.boxplot(column=['degree_p'], by=['hsc_s'], figsize=(8,6))\n",
        "#plt.title(\"Box plot of degree percentage by specialization in Higher Secondary Education\")\n",
        "#plt.suptitle(\"\")\n",
        "#plt.xlabel(\"Specialization in Higher Secondary Education\")\n",
        "#plt.ylabel(\"Degree Percentage\")\n",
        "sns.boxplot(y=df[\"degree_p\"], x=df[\"hsc_s\"], orient='v')\n",
        "plt.show()\n",
        "\n"
      ],
      "metadata": {
        "id": "B_hLGT9XVoUZ"
      },
      "execution_count": null,
      "outputs": []
    },
    {
      "cell_type": "markdown",
      "metadata": {
        "id": "HNwpY-9ceYnw"
      },
      "source": [
        "**Though boxplot visually summarizes variation in large datasets, it is unable to show multimodality and clusters.**"
      ]
    },
    {
      "cell_type": "code",
      "execution_count": null,
      "metadata": {
        "id": "s6w1YYNaeYnw"
      },
      "outputs": [],
      "source": [
        "sns.boxplot(data=df, x='etest_p');"
      ]
    },
    {
      "cell_type": "markdown",
      "metadata": {
        "id": "exW4UuCReYnw"
      },
      "source": [
        "- From the above boxplot we can not tell if the data is bimodal or not, but it is clearly visible in the following histogram."
      ]
    },
    {
      "cell_type": "code",
      "execution_count": null,
      "metadata": {
        "id": "7w7iE4BVeYnw"
      },
      "outputs": [],
      "source": [
        "sns.histplot(data=df, x='hsc_p', kde = True)"
      ]
    },
    {
      "cell_type": "markdown",
      "metadata": {
        "id": "iVf003Gs5IuV"
      },
      "source": [
        "## Bar Graph\n",
        "\n",
        "- A bar graph is generally used to show the counts of observations in each bin (or level or group) of categorical variable using bars.\n",
        "- We can use the *countplot()* function of seaborn to plot a bar graph."
      ]
    },
    {
      "cell_type": "code",
      "source": [
        "sns.countplot(data=df, x='hsc_p')"
      ],
      "metadata": {
        "id": "hQOzW6xyyXEp"
      },
      "execution_count": null,
      "outputs": []
    },
    {
      "cell_type": "code",
      "execution_count": null,
      "metadata": {
        "id": "dVO4Q56f5IuV"
      },
      "outputs": [],
      "source": [
        "sns.countplot(data=df, x='ssc_p', hue='status');"
      ]
    },
    {
      "cell_type": "markdown",
      "metadata": {
        "id": "4n0v6DcQ5IuV"
      },
      "source": [
        "**We can also make the plot more granular by specifying the *hue* parameter to display counts for subgroups.**"
      ]
    },
    {
      "cell_type": "code",
      "execution_count": null,
      "metadata": {
        "id": "xTHnIIKy5IuV"
      },
      "outputs": [],
      "source": [
        "sns.countplot(data=df, x='ssc_p');"
      ]
    },
    {
      "cell_type": "markdown",
      "metadata": {
        "id": "vmDOlVCT5IuV"
      },
      "source": [
        "**Let's check out the bar graphs for a few more attributes in the data.**"
      ]
    },
    {
      "cell_type": "code",
      "execution_count": null,
      "metadata": {
        "id": "qHcjy0Fv5IuV"
      },
      "outputs": [],
      "source": [
        "plt.figure(figsize=(20,7))\n",
        "sns.countplot(data=df, x='make');"
      ]
    },
    {
      "cell_type": "markdown",
      "metadata": {
        "id": "HkLgJzv75IuW"
      },
      "source": [
        "- This plot looks a little messy and congested.\n",
        "- Let's increase the size of the plot to make it look better."
      ]
    },
    {
      "cell_type": "code",
      "execution_count": null,
      "metadata": {
        "id": "DUhQ71Xc5IuW"
      },
      "outputs": [],
      "source": [
        "plt.figure(figsize=(20,7))\n",
        "sns.countplot(data=df, x='make');"
      ]
    },
    {
      "cell_type": "markdown",
      "metadata": {
        "id": "yVK2igls5IuW"
      },
      "source": [
        "- Some of the tick marks on the x-axis are overlapping with each other.\n",
        "- Let's rotate the tick marks to make it look better."
      ]
    },
    {
      "cell_type": "code",
      "execution_count": null,
      "metadata": {
        "id": "hGSTXceH5IuW"
      },
      "outputs": [],
      "source": [
        "plt.figure(figsize=(20,7))\n",
        "sns.countplot(data=df, x='make')\n",
        "plt.xticks(rotation=300)\n",
        "plt.show()"
      ]
    },
    {
      "cell_type": "markdown",
      "metadata": {
        "id": "Ea22q-uo5IuW"
      },
      "source": [
        "- A lot of plot-specific text has shown up in the output.\n",
        "- Let's see how we can get rid of those."
      ]
    },
    {
      "cell_type": "code",
      "execution_count": null,
      "metadata": {
        "id": "fSHdavFm5IuW"
      },
      "outputs": [],
      "source": [
        "# this will ensure that the plot is displayed without the text\n",
        "plt.figure(figsize=(10,7))\n",
        "plt.title('Barplot: Engine-Type')\n",
        "plt.ylim(0,180)\n",
        "\n",
        "sns.countplot(data=df, x='ssc_p', hue='status');\n",
        "plt.xlabel('hsc_p')"
      ]
    },
    {
      "cell_type": "markdown",
      "metadata": {
        "id": "kkLBjFcbEgtg"
      },
      "source": [
        "**Here are some common ways to customize a barplot.**"
      ]
    },
    {
      "cell_type": "code",
      "execution_count": null,
      "metadata": {
        "id": "4q223RFD5IuW"
      },
      "outputs": [],
      "source": [
        "plt.figure(figsize=(10,7))\n",
        "plt.title('Barplot: Engine-type')\n",
        "plt.ylim(0,180)\n",
        "sns.countplot(data=df, x='ssc_p', hue='status')\n",
        "plt.xlabel('hsc_p');"
      ]
    },
    {
      "cell_type": "markdown",
      "metadata": {
        "id": "3y_u5xZv5IuW"
      },
      "source": [
        "## Lineplot\n",
        "\n",
        "Suppose, your dataset has multiple y values for each x value.  A lineplot is a great way to visualize this.  This type of data often shows up when we have data that evolves over time, for example, when we have monthly data over several years.  If we want to compare the individual months, then a line plot is a great option.  This is sometimes called seasonality analysis.\n",
        "\n"
      ]
    },
    {
      "cell_type": "code",
      "execution_count": null,
      "metadata": {
        "id": "AVLSppnef9Ks"
      },
      "outputs": [],
      "source": [
        "from IPython.display import Image\n",
        "Image('/content/drive/MyDrive/Great Learning - UAT AI ML/M1 - Aug 23 - Sep 2023/Week 3: Python for Visualization/Line_plot.png')\n",
        "#Image('/content/drive/MyDrive/Great Learning - UAT AI ML/M1 - Aug 23 - Sep 2023/Week 3: Python for Visualization/Line_plot.png')"
      ]
    },
    {
      "cell_type": "markdown",
      "metadata": {
        "id": "ddvSSLq9OxKy"
      },
      "source": [
        "- A **line plot** uses straight lines to connect individual data points to display a trend or pattern in the data.\n",
        "    - For example, seasonal effects and large changes over time.\n",
        "\n",
        "- The *lineplot()* function of seaborn, by default, aggregates over multiple y values at each value of x and uses an estimate of the central tendency for the plot.\n",
        "\n",
        "- *lineplot()* assumes that you are most often trying to draw y as a function of x. So, by default, it sorts the data by the x values before plotting."
      ]
    },
    {
      "cell_type": "code",
      "execution_count": null,
      "metadata": {
        "id": "PYEci6FO5IuW"
      },
      "outputs": [],
      "source": [
        "# loading one of the example datasets available in seaborn\n",
        "flights = sns.load_dataset('flights')\n",
        "\n",
        "# creating a line plot\n",
        "sns.lineplot(data=flights, x='month', y='passengers');"
      ]
    },
    {
      "cell_type": "markdown",
      "metadata": {
        "id": "MEfKsJUflDzJ"
      },
      "source": [
        "- The light blue shaded area is actually the '**confidence interval**' of the y-value estimates for each x-axis value.\n",
        "\n",
        "- The **confidence interval** is a range of values around that estimate that are believed to contain the true value of that estimate with a certain probability."
      ]
    },
    {
      "cell_type": "markdown",
      "metadata": {
        "id": "Qta0NdaV5IuW"
      },
      "source": [
        "**We can switch off the confidence intervals by setting the *ci* parameter to *'False'*.**"
      ]
    },
    {
      "cell_type": "code",
      "execution_count": null,
      "metadata": {
        "id": "QC4Bl2dz5IuW"
      },
      "outputs": [],
      "source": [
        "sns.lineplot(data = flights, x='month', y='passengers', errorbar=('ci', False));"
      ]
    },
    {
      "cell_type": "markdown",
      "metadata": {
        "id": "I5j3we4V5IuX"
      },
      "source": [
        "**We can also check the relationship between two variables for different categories by specifying the *hue* parameter.**"
      ]
    },
    {
      "cell_type": "code",
      "execution_count": null,
      "metadata": {
        "id": "Cn-ki_Cb5IuX"
      },
      "outputs": [],
      "source": [
        "sns.lineplot(data=flights, x = 'month', y = 'passengers', errorbar=('ci', False), hue='year');"
      ]
    },
    {
      "cell_type": "markdown",
      "metadata": {
        "id": "AsHYYzFnrhh9"
      },
      "source": [
        "**We can change the style of the lines by adding 'style' parameter to the function.**"
      ]
    },
    {
      "cell_type": "code",
      "execution_count": null,
      "metadata": {
        "id": "H2EvcdWB5IuX"
      },
      "outputs": [],
      "source": [
        "# loading one of the example datasets available in seaborn\n",
        "fmri = sns.load_dataset('fmri')\n",
        "\n",
        "# creating the line plot\n",
        "sns.lineplot(data = fmri, x='timepoint', y = 'signal', hue='region', style='region', errorbar=('ci', False));"
      ]
    },
    {
      "cell_type": "markdown",
      "metadata": {
        "id": "l2QreA4ls8pk"
      },
      "source": [
        "**We can also add markers at each observation to identify groups in a better way.**"
      ]
    },
    {
      "cell_type": "code",
      "execution_count": null,
      "metadata": {
        "id": "eI-U5TIfsuXF"
      },
      "outputs": [],
      "source": [
        "sns.lineplot(data = df, x='hsc_p', y='ssc_p', hue='status', style='status', errorbar=('ci', False), markers = True);"
      ]
    },
    {
      "cell_type": "markdown",
      "metadata": {
        "id": "LITD773h5IuX"
      },
      "source": [
        "**Let's customize the lineplot for a better visualization.**"
      ]
    },
    {
      "cell_type": "code",
      "execution_count": null,
      "metadata": {
        "id": "QU06o0KM5IuX"
      },
      "outputs": [],
      "source": [
        "plt.figure(figsize=(15,7))\n",
        "sns.lineplot(data = flights, x='month', y='passengers', hue='year')\n",
        "plt.ylabel('Number of Passengers')\n",
        "#another way to change the legend's location in the plot\n",
        "plt.legend(bbox_to_anchor=[1,1]);"
      ]
    },
    {
      "cell_type": "markdown",
      "metadata": {
        "id": "CHjHKurcxv5K"
      },
      "source": [
        "- Note that, unlike barplots and histograms, line plots may not include a zero baseline.\n",
        "- We create a line chart is to emphasize changes in value, rather than the magnitude of the values themselves, and hence, a zero line is not meaningful."
      ]
    },
    {
      "cell_type": "markdown",
      "metadata": {
        "id": "2I1yAy1n5IuX"
      },
      "source": [
        "## Scatterplot\n",
        "\n",
        "Sometimes we want to know if two variables mean something when put together, whether a small change in one variable affects the other variable. In such cases, plotting a **scatterplot**, or **scatter-diagram**, with our data points can help us to check whether there is a potential relationship between them."
      ]
    },
    {
      "cell_type": "markdown",
      "metadata": {
        "id": "cwreKVcrzwpH"
      },
      "source": [
        "- A **scatterplot** is the simplest mode of a diagrammatic representation of two variables.\n",
        "- It takes two perpendicular axes of coordinates, one for x and one for y.\n",
        "- Unlike the lineplot, it directly plots each pair of values as a point on the 2D space.\n",
        "- The *scatterplot()* function of seaborn can be used to make a scatterplot."
      ]
    },
    {
      "cell_type": "code",
      "execution_count": null,
      "metadata": {
        "id": "Q7Y25sHm5IuX"
      },
      "outputs": [],
      "source": [
        "sns.scatterplot(data = df, x='engine_size', y='horsepower')"
      ]
    },
    {
      "cell_type": "markdown",
      "metadata": {
        "id": "Y4BpkiMy5IuX"
      },
      "source": [
        "**We can also check the relationship between two variables for different categories by specifying the *hue* parameter.**"
      ]
    },
    {
      "cell_type": "code",
      "execution_count": null,
      "metadata": {
        "id": "A--g5LGm5IuX"
      },
      "outputs": [],
      "source": [
        "sns.scatterplot(data=df, x='engine_size', y='horsepower', hue='fuel_type');"
      ]
    },
    {
      "cell_type": "markdown",
      "metadata": {
        "id": "nt4Ou1mPKBqq"
      },
      "source": [
        "**We can assign the same variable as *hue* to another parameter *style* which will vary the markers and create a more readable plot.**"
      ]
    },
    {
      "cell_type": "code",
      "execution_count": null,
      "metadata": {
        "id": "6nAcr_rQKQN9"
      },
      "outputs": [],
      "source": [
        "sns.scatterplot(data=df, x='engine_size', y='horsepower', style='fuel_type', hue='fuel_type');"
      ]
    },
    {
      "cell_type": "markdown",
      "metadata": {
        "id": "qUGTRzhO5IuX"
      },
      "source": [
        "**Correlation**\n",
        "\n",
        "Correlation means association. More precisely, it expresses the extent to which two variables change together at a constant rate.\n",
        "\n",
        "- In a scatter plot when the y variable tends to increase as the x variable increases, we say there is a **positive correlation** between the variables.\n",
        "- Again, when the y variable tends to decrease as the x variable increases, we say there is a **negative correlation** between the variables.\n",
        "- If the points on the scatter plot seem to be scattered randomly, we say that there is **no correlation** between the variables.\n",
        "\n",
        "**Let's check out the relationship between a few more variables using scatter plots.**"
      ]
    },
    {
      "cell_type": "code",
      "execution_count": null,
      "metadata": {
        "id": "hmi7wg7I5IuY"
      },
      "outputs": [],
      "source": [
        "sns.scatterplot(data=df, x='etest_p', y='mba_p');"
      ]
    },
    {
      "cell_type": "code",
      "source": [
        "sns.scatterplot(data=df, x='ssc_p', y='degree_p');"
      ],
      "metadata": {
        "id": "wjl463hdSWar"
      },
      "execution_count": null,
      "outputs": []
    },
    {
      "cell_type": "code",
      "source": [
        "sns.scatterplot(data=df, x='hsc_p', y='ssc_p');"
      ],
      "metadata": {
        "id": "U22cMPpZSWs2"
      },
      "execution_count": null,
      "outputs": []
    },
    {
      "cell_type": "code",
      "source": [
        "sns.scatterplot(data=df, x='ssc_p', y='degree_p');"
      ],
      "metadata": {
        "id": "8hYu8k2LSW51"
      },
      "execution_count": null,
      "outputs": []
    },
    {
      "cell_type": "markdown",
      "metadata": {
        "id": "rLjFCIXTJILW"
      },
      "source": [
        "From the above plot, we can say that these variables are *positively correlated.*"
      ]
    },
    {
      "cell_type": "code",
      "execution_count": null,
      "metadata": {
        "id": "uteVal3Q5IuY"
      },
      "outputs": [],
      "source": [
        "sns.scatterplot(data=df, x='bore', y='stroke');"
      ]
    },
    {
      "cell_type": "markdown",
      "metadata": {
        "id": "MGaL-lfpJbnC"
      },
      "source": [
        "- From the above plot, it is clear that the variables have no correlation.\n",
        "\n",
        "**Note:**\n",
        "1. A strong correlation will have data points close together, while a weak correlation will have data points that are further apart.\n",
        "2. We can not measure the relationship quantitatively using a scatter plot. It just gives an expression for the relative change between the variables."
      ]
    },
    {
      "cell_type": "markdown",
      "metadata": {
        "id": "rQrkio9KkNB6"
      },
      "source": [
        "We can see from the scatterplot of `engine_size` vs `horsepower` that there is a positive correlation between the two variables. Now, we want to measure the relationship between these two variables quantitatively and try to predict the '**horsepower**' based on '**engine size**'. This can be easily done by fitting a linear model. Here comes the seaborn ***lmplot()*** function to help us with that."
      ]
    },
    {
      "cell_type": "markdown",
      "metadata": {
        "id": "3rcx8yyM5IuY"
      },
      "source": [
        "## lmplot\n",
        "\n",
        "- The *lmplot()* function plots a scatterplot and also fit a linear model with a confidence interval for the fitted model."
      ]
    },
    {
      "cell_type": "code",
      "execution_count": null,
      "metadata": {
        "id": "G9YVMZBU5IuY"
      },
      "outputs": [],
      "source": [
        "sns.lmplot(data=df, x='curb_weight', y='horsepower');"
      ]
    },
    {
      "cell_type": "markdown",
      "metadata": {
        "id": "CNf18zOA5IuY"
      },
      "source": [
        "**We can also check the relationship between two variables for different categories by specifying the *hue* parameter.**"
      ]
    },
    {
      "cell_type": "code",
      "execution_count": null,
      "metadata": {
        "id": "pJJB8Gh35IuY"
      },
      "outputs": [],
      "source": [
        "sns.lmplot(data=df, x='curb_weight', y='horsepower', hue='fuel_type', ci=False)"
      ]
    },
    {
      "cell_type": "markdown",
      "metadata": {
        "id": "A8fsEnG85IuY"
      },
      "source": [
        "**We can also disable the 95% confidence interval and just keep the regression model fit by setting the *ci* parameter to *False*.**"
      ]
    },
    {
      "cell_type": "code",
      "execution_count": null,
      "metadata": {
        "id": "a5aD2wjl5IuY"
      },
      "outputs": [],
      "source": [
        "sns.lmplot(data=df, x='curb_weight', y='horsepower', ci=False)"
      ]
    },
    {
      "cell_type": "markdown",
      "metadata": {
        "id": "SnVjQ4Yu5IuY"
      },
      "source": [
        "**We can also plot the levels of the third variable across different plots.**"
      ]
    },
    {
      "cell_type": "code",
      "execution_count": null,
      "metadata": {
        "id": "f5o7WKp85IuY"
      },
      "outputs": [],
      "source": [
        "sns.lmplot(data=df, x='curb_weight', y='horsepower', col='fuel_type', ci=False);"
      ]
    },
    {
      "cell_type": "markdown",
      "metadata": {
        "id": "qlSP-V945IuY"
      },
      "source": [
        "**Let's check out the relationship between a few more variables using *lmplot()*.**"
      ]
    },
    {
      "cell_type": "code",
      "execution_count": null,
      "metadata": {
        "id": "hSVOgvhj5IuY"
      },
      "outputs": [],
      "source": [
        "sns.lmplot(data=df, x='etest_p', y='engine_size', ci=False);"
      ]
    },
    {
      "cell_type": "code",
      "execution_count": null,
      "metadata": {
        "id": "Xs0GAgSO5IuZ"
      },
      "outputs": [],
      "source": [
        "sns.lmplot(data=df, x='etest_p', y='price', ci=False);"
      ]
    },
    {
      "cell_type": "markdown",
      "metadata": {
        "id": "gj01MSxVtzzz"
      },
      "source": [
        "We have seen that histograms help us understand the distribution of individual variables and scatterplots help us identify the relationship between two variables. While we can view and analyze these plots separately, having them together in a single visualization would allow us to capture a lot more information in a concise manner. That's where a **jointplot** comes to our aid."
      ]
    },
    {
      "cell_type": "markdown",
      "metadata": {
        "id": "JjWlKXnTJGr9"
      },
      "source": [
        "## Joint plot\n",
        "\n",
        "* A jointplot helps to quickly visualize the bivariate and univariate profiles on the same plot.\n",
        "* It comprises three plots - one displays the relationship between two variables while the other two show the individual distribution of each variable in the margins.\n",
        "* The *jointplot()* function of seaborn can be used to create a jointplot."
      ]
    },
    {
      "cell_type": "code",
      "execution_count": null,
      "metadata": {
        "id": "q1qFBMH_J2u4"
      },
      "outputs": [],
      "source": [
        "sns.jointplot(data=df, x='etest_p', y='horsepower');"
      ]
    },
    {
      "cell_type": "markdown",
      "metadata": {
        "id": "2KFtsOhTeYn3"
      },
      "source": [
        "- By default, *jointplot()* creates a scatter plot to show the relationship between two variables and individual histograms are created in x and y axis margins for each of the variables."
      ]
    },
    {
      "cell_type": "markdown",
      "metadata": {
        "id": "BR_sgdskwoyd"
      },
      "source": [
        "One of the drawbacks of **scatterplots** is the overlapping of points. When we have large volumes of data to plot, the data points in the plot overlap with each other, making it difficult to interpret the data.\n",
        "\n",
        "In such cases, we can *divide the entire plot into bins using different shapes (square, triangle, hexagon, etc.)* and then try to see the number of data points falling within each of the bins.\n",
        "\n",
        "seaborn's *jointplot()* provides a '**hex**' kind to plot the data in above-mentioned way."
      ]
    },
    {
      "cell_type": "markdown",
      "metadata": {
        "id": "17yDXHd5eYn4"
      },
      "source": [
        "**We can create a hexbin plot by setting *kind=\"hex\"*.**\n",
        "\n",
        "- It actually splits the plotting window into several hexagons and the colour of each hexagon denotes the number of data points in it."
      ]
    },
    {
      "cell_type": "code",
      "execution_count": null,
      "metadata": {
        "id": "J1Bz3wuFeYn4"
      },
      "outputs": [],
      "source": [
        "sns.jointplot(data=df, x='degree_p', y='ssc_p', kind='hex');\n",
        " # adds a separate axis indicating the color scale in this plot"
      ]
    },
    {
      "cell_type": "markdown",
      "metadata": {
        "id": "jZkVXs6TuQA8"
      },
      "source": [
        "**We can also create a kde plot by setting *kind=\"kde\"*.**.\n",
        "\n",
        "- A KDE jointplot also uses color to determine where observations are the most dense.\n",
        "- It creates a continuous plot using probabilities of new data should be introduced."
      ]
    },
    {
      "cell_type": "code",
      "execution_count": null,
      "metadata": {
        "id": "NVwnM4t3u8a-"
      },
      "outputs": [],
      "source": [
        "sns.jointplot(data=df, x='engine_size', y='horsepower', kind='kde', fill=True)"
      ]
    },
    {
      "cell_type": "markdown",
      "metadata": {
        "id": "pd_DFA3deYn4"
      },
      "source": [
        "**Let's check out the joint plots for a few more attributes in the data.**\n",
        "- By using **kind = \"reg\"**, we can use the joint point to find the best line or curve that fits the plot."
      ]
    },
    {
      "cell_type": "code",
      "execution_count": null,
      "metadata": {
        "id": "PWMwPK1PeYn4"
      },
      "outputs": [],
      "source": [
        "sns.jointplot(data=df, x='hsc_p', y='ssc_p', kind='reg')"
      ]
    },
    {
      "cell_type": "markdown",
      "metadata": {
        "id": "WyEI358GeYn5"
      },
      "source": [
        "## Violin Plot\n",
        "\n",
        "* A **violin plot** allows us to visualize the distribution of a numeric variable for several groups.\n",
        "* It is similar to **boxplot** but with a rotated plot on each side, giving more information about the density estimate on the y-axis.\n",
        "* The *violinplot()* function of seaborn can be used to make a violin plot."
      ]
    },
    {
      "cell_type": "code",
      "execution_count": null,
      "metadata": {
        "id": "Eb8i04_teYn5"
      },
      "outputs": [],
      "source": [
        "sns.violinplot(data=df, x='horsepower');"
      ]
    },
    {
      "cell_type": "markdown",
      "metadata": {
        "id": "5BnaH-umeYn5"
      },
      "source": [
        "- The white dot in the plot represents the **median**.\n",
        "- The thick gray bar in the center represents the **interquartile range**.\n",
        "- The wider section of the violin plot represents a higher probability and the skinnier sections represent a lower probability for the given value."
      ]
    },
    {
      "cell_type": "markdown",
      "metadata": {
        "id": "TuLaxfKseYn5"
      },
      "source": [
        "**We can get a vertical plot by setting *orient* parameter to *'v'* and assigning a numeric variable to the y-axis.**"
      ]
    },
    {
      "cell_type": "code",
      "execution_count": null,
      "metadata": {
        "id": "gOn27pNIeYn6"
      },
      "outputs": [],
      "source": [
        "sns.violinplot(data=df, x='fuel_type', y='horsepower', orient='v');"
      ]
    },
    {
      "cell_type": "markdown",
      "metadata": {
        "id": "_-Ve6XzNeYn6"
      },
      "source": [
        "**Let's check out the violinplots for a few more attributes in the data.**"
      ]
    },
    {
      "cell_type": "code",
      "execution_count": null,
      "metadata": {
        "id": "WtDzN7zeeYn6"
      },
      "outputs": [],
      "source": [
        "sns.violinplot(data=df, x='degree_p', y='specialisation');"
      ]
    },
    {
      "cell_type": "markdown",
      "metadata": {
        "id": "VXHeG4ONeYn6"
      },
      "source": [
        "**We can use the *palette* parameter to change the colour palette.**\n",
        "\n",
        "- seaborn has six variations of it - deep, muted, pastel, bright, dark, colorblind."
      ]
    },
    {
      "cell_type": "code",
      "execution_count": null,
      "metadata": {
        "id": "_liFDJGteYn8"
      },
      "outputs": [],
      "source": [
        "sns.violinplot(data=df, x='body_style', y='engine_size', palette='bright');"
      ]
    },
    {
      "cell_type": "code",
      "execution_count": null,
      "metadata": {
        "id": "_wPymXZReYn8"
      },
      "outputs": [],
      "source": [
        "sns.violinplot(data=df, x='engine_location', y='price', palette='colorblind');"
      ]
    },
    {
      "cell_type": "markdown",
      "metadata": {
        "id": "CTJu7b038AK1"
      },
      "source": [
        "Histograms and other distribution plots are typically preferred for larger data sets. When we have a small dataset and we want to visualize the frequency distribution, a **strip plot** can be used."
      ]
    },
    {
      "cell_type": "markdown",
      "metadata": {
        "id": "PkrTT17beYn8"
      },
      "source": [
        "## Strip Plot\n",
        "\n",
        "* A strip plot is basically a scatter plot that differentiates different categories.\n",
        "* The *stripplot()* function of seaborn can be used to make a strip plot."
      ]
    },
    {
      "cell_type": "code",
      "execution_count": null,
      "metadata": {
        "id": "STKc6cO785Pn"
      },
      "outputs": [],
      "source": [
        "sns.stripplot(data=df, x='engine_size');"
      ]
    },
    {
      "cell_type": "markdown",
      "metadata": {
        "id": "MqB31jjI-fhf"
      },
      "source": [
        "Strip plots are considered a good alternative to a box plot or a violin plot for comparing data distributions when we have fewer data points."
      ]
    },
    {
      "cell_type": "code",
      "execution_count": null,
      "metadata": {
        "id": "4xvVm2xneYn9"
      },
      "outputs": [],
      "source": [
        "plt.figure(figsize=(15,7))\n",
        "sns.stripplot(data=df, x='body_style', y='engine_size');"
      ]
    },
    {
      "cell_type": "markdown",
      "metadata": {
        "id": "To6mbpuweYn9"
      },
      "source": [
        "**Strip plots are more useful when we add random noise called \"jitter\" to avoid overlapping of data points with same values.**"
      ]
    },
    {
      "cell_type": "code",
      "execution_count": null,
      "metadata": {
        "id": "I4-U5XxVeYn9"
      },
      "outputs": [],
      "source": [
        "plt.figure(figsize=(20,7))\n",
        "sns.stripplot(data=df, x='body_style', y='engine_size', jitter=True);"
      ]
    },
    {
      "cell_type": "markdown",
      "metadata": {
        "id": "0aSgB8EVeYn9"
      },
      "source": [
        "**We can set the *hue* parameter to display observations for subgroups.**"
      ]
    },
    {
      "cell_type": "code",
      "execution_count": null,
      "metadata": {
        "id": "9YEXLrHveYn9"
      },
      "outputs": [],
      "source": [
        "plt.figure(figsize=(10, 7))\n",
        "sns.stripplot(data=df, x='fuel_type', y='engine_size', hue='number_of_doors', jitter=True);"
      ]
    },
    {
      "cell_type": "markdown",
      "metadata": {
        "id": "Oz_fkYA8eYn9"
      },
      "source": [
        "**Let's check out the strip plots for a few more attributes in the data.**"
      ]
    },
    {
      "cell_type": "code",
      "execution_count": null,
      "metadata": {
        "id": "Veh5lHaJeYn9"
      },
      "outputs": [],
      "source": [
        "plt.figure(figsize=(10, 7))\n",
        "sns.stripplot(data=df, x=\"number_of_doors\", y='price', jitter=True);"
      ]
    },
    {
      "cell_type": "code",
      "execution_count": null,
      "metadata": {
        "id": "Cb45rNzzeYn-"
      },
      "outputs": [],
      "source": [
        "plt.figure(figsize=(10, 7))\n",
        "sns.stripplot(data=df, x='number_of_doors', y='horsepower', jitter=True);"
      ]
    },
    {
      "cell_type": "markdown",
      "metadata": {
        "id": "YtaZxsyCeYn-"
      },
      "source": [
        "In a strip plot, dots are randomly arranged in vertical direction, which means we can not use the width to estimate distribution. This can be easily done by **swarm plots**."
      ]
    },
    {
      "cell_type": "markdown",
      "metadata": {
        "id": "tdiUa4JHeYn-"
      },
      "source": [
        "## Swarm Plot\n",
        "\n",
        "* A **swarm plot** is very similar to the strip plot, but it avoids the overlapping of points.\n",
        "* The *swarmplot( )* function of seaborn can be used to create such a graph for categorical values."
      ]
    },
    {
      "cell_type": "code",
      "execution_count": null,
      "metadata": {
        "id": "dW9npMceeYn-"
      },
      "outputs": [],
      "source": [
        "sns.swarmplot(data=df, x='number_of_doors', y='price');"
      ]
    },
    {
      "cell_type": "markdown",
      "metadata": {
        "id": "HED4pVrXeYn-"
      },
      "source": [
        "- In a swarm plot, dots are arranged in vertical columns.\n",
        "- So, we can estimate the distribution of our data by looking at the width of the plot."
      ]
    },
    {
      "cell_type": "markdown",
      "metadata": {
        "id": "cA1IIpOTeYn-"
      },
      "source": [
        "**We can add the *hue* parameter to *swarmplot()* and separate the categories.**"
      ]
    },
    {
      "cell_type": "code",
      "execution_count": null,
      "metadata": {
        "id": "oJcc1KB5eYn-"
      },
      "outputs": [],
      "source": [
        "sns.swarmplot(data=df, x='fuel_type', y='price', hue='number_of_doors');"
      ]
    },
    {
      "cell_type": "markdown",
      "metadata": {
        "id": "NR-3LzPgeYn-"
      },
      "source": [
        "**We can split the two products setting the *dodge* argument to *True*.**"
      ]
    },
    {
      "cell_type": "code",
      "execution_count": null,
      "metadata": {
        "id": "izw1gwC7eYn-"
      },
      "outputs": [],
      "source": [
        "sns.swarmplot(data=df, x='fuel_type', y='price', hue='number_of_doors', dodge=True);"
      ]
    },
    {
      "cell_type": "markdown",
      "metadata": {
        "id": "UBxgsBmQeYn-"
      },
      "source": [
        "## Catplot\n",
        "\n",
        "* The *catplot()* function provides a new framework giving access to several types of plots that show relationship between numerical variable and one or more categorical variables.\n",
        "* Catplots supports 8 different plots including *stripplot()*, *swarmplot()*, *boxplot()* and more, with the default kind being 'strip'."
      ]
    },
    {
      "cell_type": "code",
      "execution_count": null,
      "metadata": {
        "id": "oJYSXs2oeYn_"
      },
      "outputs": [],
      "source": [
        "sns.catplot(data=df, x='fuel_type', y='horsepower');"
      ]
    },
    {
      "cell_type": "markdown",
      "metadata": {
        "id": "bm9T28uieYn_"
      },
      "source": [
        "**We can set *kind='point'* to create a pointplot using the *catplot()* function.**\n",
        "\n",
        "- A pointplot helps us to see how the main relationship is changing as a function of the second variable."
      ]
    },
    {
      "cell_type": "code",
      "execution_count": null,
      "metadata": {
        "id": "PBBJM3wqeYn_"
      },
      "outputs": [],
      "source": [
        "sns.catplot(data=df, x='body_style', y='horsepower', hue='fuel_type', kind='point');"
      ]
    },
    {
      "cell_type": "markdown",
      "metadata": {
        "id": "9-gsxIXLeYn_"
      },
      "source": [
        "**Catplot is very useful to draw categorical plots onto a FacetGrid by assigning a third variable to the *col* parameter.**"
      ]
    },
    {
      "cell_type": "code",
      "execution_count": null,
      "metadata": {
        "id": "ChpMUcuxeYn_"
      },
      "outputs": [],
      "source": [
        "sns.catplot(data=df, x='fuel_type', y='horsepower', hue='number_of_doors', col='drive_wheels', kind='bar', palette='pastel');"
      ]
    },
    {
      "cell_type": "markdown",
      "metadata": {
        "id": "KOGMFhMheYn_"
      },
      "source": [
        "**Let's check out the *catplot()* function for a few more attributes in the data.**"
      ]
    },
    {
      "cell_type": "code",
      "execution_count": null,
      "metadata": {
        "id": "HRX0eooMeYoA"
      },
      "outputs": [],
      "source": [
        "sns.catplot(data=df, x='fuel_type', y='engine_size', hue='body_style', col='number_of_doors', kind='box', palette='bright');"
      ]
    },
    {
      "cell_type": "code",
      "execution_count": null,
      "metadata": {
        "id": "4nWsUDnTeYoA"
      },
      "outputs": [],
      "source": [
        "sns.catplot(data=df, x='number_of_doors', y='price', hue='body_style', col='fuel_type', kind='swarm', palette='muted');"
      ]
    },
    {
      "cell_type": "markdown",
      "metadata": {
        "id": "T-nlv5e4eYoA"
      },
      "source": [
        "## Pair Plot\n",
        "\n",
        "* A **pairplot** shows the relationship between two numeric variables for each pair of columns in the dataset.\n",
        "* It creates a grid of axes such that each variable in data will be shared in the y-axis across a single row and in the x-axis across a single column.\n",
        "* The *pairplot()* function of seaborn can be used to create such a plot."
      ]
    },
    {
      "cell_type": "code",
      "execution_count": null,
      "metadata": {
        "id": "buECcXugeYoA"
      },
      "outputs": [],
      "source": [
        "sns.pairplot(data=df[['normalized_losses', 'wheel_base', 'curb_weight', 'engine_size', 'price', 'peak_rpm']])"
      ]
    },
    {
      "cell_type": "markdown",
      "metadata": {
        "id": "fvE6niNjeYoA"
      },
      "source": [
        "**We can add the *hue* parameter in pairplot to create a semantic mapping.**\n",
        "\n",
        "- It changes the default marginal plot to a layered kde plot.\n",
        "\n",
        "**Also, we can add *vars* parameter to assign a list of variables from the dataset for which we want to create the pairplot.**"
      ]
    },
    {
      "cell_type": "code",
      "execution_count": null,
      "metadata": {
        "id": "I1lkcQQoeYoA"
      },
      "outputs": [],
      "source": [
        "sns.pairplot(data=df, vars=['wheel_base', 'curb_weight', 'engine_size', 'price'], hue='number_of_doors');"
      ]
    },
    {
      "cell_type": "markdown",
      "metadata": {
        "id": "Dg3A6Di4eYoA"
      },
      "source": [
        "**We can set *corner=True* to plot only the lower triangle of a pairplot.**"
      ]
    },
    {
      "cell_type": "code",
      "execution_count": null,
      "metadata": {
        "id": "7ilNWCEBeYoA"
      },
      "outputs": [],
      "source": [
        "sns.pairplot(data=df, vars=['wheel_base', 'curb_weight', 'engine_size', 'price'], corner=True);"
      ]
    },
    {
      "cell_type": "markdown",
      "metadata": {
        "id": "-dBmPwyZeYoA"
      },
      "source": [
        "## Heatmap\n",
        "\n",
        "* A **heatmap** is a graphical representation of data as a color-encoded matrix.\n",
        "* It is a great way of representing  the correlation for each pair of columns in the data.\n",
        "* The *heatmap()* function of seaborn helps us to create such a plot."
      ]
    },
    {
      "cell_type": "code",
      "execution_count": null,
      "metadata": {
        "id": "wqr2KKEjeYoB"
      },
      "outputs": [],
      "source": [
        "sns.heatmap(data=df[['wheel_base', 'curb_weight', 'engine_size', 'price']].corr());"
      ]
    },
    {
      "cell_type": "markdown",
      "metadata": {
        "id": "IAjsxnq-eYoB"
      },
      "source": [
        "**We can set the *annot* parameter to *True* for displaying the numeric value in each cell.**\n",
        "\n",
        "- To remove the color bar, the *cbar* parameter can be set to *False*."
      ]
    },
    {
      "cell_type": "code",
      "execution_count": null,
      "metadata": {
        "id": "weuD2UBeeYoB"
      },
      "outputs": [],
      "source": [
        "sns.heatmap(data=df[['wheel_base', 'curb_weight', 'engine_size', 'price']].corr(), annot=True, cbar=False);"
      ]
    },
    {
      "cell_type": "markdown",
      "metadata": {
        "id": "LkBbtwdKeYoB"
      },
      "source": [
        "**We can apply a different colormap with the *cmap* parameter for better visual appeal.**"
      ]
    },
    {
      "cell_type": "code",
      "execution_count": null,
      "metadata": {
        "id": "zx-CQ-OheYoB"
      },
      "outputs": [],
      "source": [
        "sns.heatmap(data=df[['wheel_base', 'curb_weight', 'engine_size', 'price']].corr(), annot=True, cmap='YlGnBu');"
      ]
    },
    {
      "cell_type": "markdown",
      "metadata": {
        "id": "0J8SBLp0eYoB"
      },
      "source": [
        "## Plotly\n",
        "\n",
        "- **Plotly** is an open-source Python graphing library for building beautiful and interactive visualizations."
      ]
    },
    {
      "cell_type": "code",
      "execution_count": null,
      "metadata": {
        "id": "NIQHWyb-75he"
      },
      "outputs": [],
      "source": [
        "# let's start by installing plotly\n",
        "!pip install plotly"
      ]
    },
    {
      "cell_type": "code",
      "execution_count": null,
      "metadata": {
        "id": "D9Dizr8teYoB"
      },
      "outputs": [],
      "source": [
        "# importing plotly\n",
        "import plotly.express as px"
      ]
    },
    {
      "cell_type": "markdown",
      "metadata": {
        "id": "sw3mphuneYoB"
      },
      "source": [
        "### Histogram"
      ]
    },
    {
      "cell_type": "code",
      "execution_count": null,
      "metadata": {
        "id": "txhySVjCeYoB",
        "scrolled": false
      },
      "outputs": [],
      "source": [
        "his = px.histogram(df, x='price')\n",
        "his.show()"
      ]
    },
    {
      "cell_type": "markdown",
      "metadata": {
        "id": "IlCahLQxeYoB"
      },
      "source": [
        "### Bar Plot"
      ]
    },
    {
      "cell_type": "code",
      "execution_count": null,
      "metadata": {
        "collapsed": true,
        "id": "uOgSYmUqeYoB"
      },
      "outputs": [],
      "source": [
        "bar = px.bar(df, x='peak_rpm', y='horsepower')\n",
        "bar.show()"
      ]
    },
    {
      "cell_type": "markdown",
      "metadata": {
        "id": "UhC25KmOeYoC"
      },
      "source": [
        "### Scatter Plot"
      ]
    },
    {
      "cell_type": "code",
      "execution_count": null,
      "metadata": {
        "id": "wWE4FkNKeYoC",
        "scrolled": false
      },
      "outputs": [],
      "source": [
        "scat=px.scatter(df, x='price', y='engine_size')\n",
        "scat.show()"
      ]
    },
    {
      "cell_type": "markdown",
      "metadata": {
        "id": "c1aNBulPeYoC"
      },
      "source": [
        "### Boxplot with underlying data"
      ]
    },
    {
      "cell_type": "code",
      "source": [
        "fig = px.box(df, x='fuel_type', y='horsepower', points='all')\n",
        "fig.show()"
      ],
      "metadata": {
        "id": "Mkiqe_A1ZgIB"
      },
      "execution_count": null,
      "outputs": []
    },
    {
      "cell_type": "markdown",
      "metadata": {
        "id": "JZpdvqaMeYoC"
      },
      "source": [
        "### 3D Scatter Plot"
      ]
    },
    {
      "cell_type": "code",
      "source": [
        "fig_3d = px.scatter_3d(df, x='fuel_type', y='horsepower', z='price', color='horsepower')\n",
        "fig_3d.show()"
      ],
      "metadata": {
        "id": "s5TIb4ejZX1D"
      },
      "execution_count": null,
      "outputs": []
    },
    {
      "cell_type": "code",
      "source": [
        "fig_3d.write_html('scatter_3d.html')"
      ],
      "metadata": {
        "id": "ir7NguVaaLHZ"
      },
      "execution_count": null,
      "outputs": []
    },
    {
      "cell_type": "markdown",
      "metadata": {
        "id": "u1JDHv5HGHlk"
      },
      "source": [
        "***"
      ]
    },
    {
      "cell_type": "markdown",
      "metadata": {
        "id": "vabRDMbAU5Wi"
      },
      "source": [
        "## Customizing plots\n",
        "\n",
        "- In this section we will see how we can customize  plots by using different matplotlib and seaborn functions."
      ]
    },
    {
      "cell_type": "markdown",
      "metadata": {
        "id": "PWBp8W5rZ__D"
      },
      "source": [
        "To change the axis scales of a plot:\n",
        "\n",
        "```\n",
        "    plt.xlim(left, right)   # here left and right indicates the min and the max limits of  x-axis respectively\n",
        "    plt.ylim(bottom, top)   # here bottom and top indicates the min and the max limits of  y-axis respectively\n",
        "```"
      ]
    },
    {
      "cell_type": "markdown",
      "metadata": {
        "id": "xC7OYOonbtKj"
      },
      "source": [
        "To change the plot title and axis labels:\n",
        "\n",
        "```\n",
        "    plt.title()\n",
        "    plt.xlabel()   # for x_axis labels\n",
        "    plt.ylabel()   # for y_axis labels\n",
        "```"
      ]
    },
    {
      "cell_type": "markdown",
      "metadata": {
        "id": "uQdwXg3C75hT"
      },
      "source": [
        "To show the grid lines of a plot:\n",
        "\n",
        "```\n",
        "    sns.set(style=\"darkgrid\")\n",
        "    sns.set(style=\"whitegrid\")\n",
        "    sns.set(style=\"white\")\n",
        "```"
      ]
    },
    {
      "cell_type": "markdown",
      "metadata": {
        "id": "8YBShOtQdDkA"
      },
      "source": [
        "To hide the axes of a plot:\n",
        "\n",
        "```\n",
        "    plt.axis('off')   # it will hide both the x-axis and y-axis\n",
        "```"
      ]
    },
    {
      "cell_type": "markdown",
      "metadata": {
        "id": "3jD1WhQajLLa"
      },
      "source": [
        "To customize labels of the plot legend:\n",
        "\n",
        "```\n",
        "    ax.legend([])   # takes list of the legend values\n",
        "```"
      ]
    },
    {
      "cell_type": "markdown",
      "metadata": {
        "id": "Gaa2M7Ie75hT"
      },
      "source": [
        "To change the position of the plot legend:\n",
        "\n",
        "```\n",
        "    plt.legend(loc=___)\n",
        "```\n",
        "\n",
        "The following values can be added to *loc* to change the location of the legend:\n",
        "- 'upper left', 'upper right', 'lower left', 'lower right', 'center', 'best', [etc.](https://matplotlib.org/stable/api/_as_gen/matplotlib.pyplot.legend.html)"
      ]
    },
    {
      "cell_type": "markdown",
      "metadata": {
        "id": "jgaO84kgAS7B"
      },
      "source": [
        "***"
      ]
    }
  ],
  "metadata": {
    "colab": {
      "collapsed_sections": [
        "_ZMHhyuU5IuO",
        "vEInLWSo5IuU",
        "iVf003Gs5IuV",
        "3y_u5xZv5IuW",
        "2I1yAy1n5IuX",
        "3rcx8yyM5IuY",
        "JjWlKXnTJGr9",
        "WyEI358GeYn5",
        "PkrTT17beYn8",
        "tdiUa4JHeYn-",
        "UBxgsBmQeYn-",
        "T-nlv5e4eYoA",
        "-dBmPwyZeYoA",
        "0J8SBLp0eYoB",
        "vabRDMbAU5Wi"
      ],
      "provenance": [],
      "include_colab_link": true
    },
    "kernelspec": {
      "display_name": "Python 3 (ipykernel)",
      "language": "python",
      "name": "python3"
    },
    "language_info": {
      "codemirror_mode": {
        "name": "ipython",
        "version": 3
      },
      "file_extension": ".py",
      "mimetype": "text/x-python",
      "name": "python",
      "nbconvert_exporter": "python",
      "pygments_lexer": "ipython3",
      "version": "3.8.12"
    }
  },
  "nbformat": 4,
  "nbformat_minor": 0
}